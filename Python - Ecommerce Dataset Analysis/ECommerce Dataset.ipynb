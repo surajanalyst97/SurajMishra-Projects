{
 "cells": [
  {
   "cell_type": "markdown",
   "id": "6a7d5404",
   "metadata": {},
   "source": [
    "<font color='blue'>\n",
    "    <font size = 5>\n",
    "        Business analyst for an E-Commerce company and have been asked to prepare a basic report on the data. \n",
    "    </font>    "
   ]
  },
  {
   "cell_type": "markdown",
   "id": "daf5d935",
   "metadata": {},
   "source": [
    "## Load the necessary libraries. Import and load the dataset with a name ECom_Data ."
   ]
  },
  {
   "cell_type": "code",
   "execution_count": 17,
   "id": "eec2a3b5",
   "metadata": {},
   "outputs": [],
   "source": [
    "import numpy as np\n",
    "import pandas as pd\n",
    "import matplotlib.pyplot as plt\n",
    "import seaborn as sns\n",
    "pd.options.display.max_rows = 10"
   ]
  },
  {
   "cell_type": "code",
   "execution_count": 18,
   "id": "8e1fcc97",
   "metadata": {},
   "outputs": [],
   "source": [
    "# Get the Data\n",
    "\n",
    "ECom_Data=pd.read_csv(\"E-Commerce.csv\")\n"
   ]
  },
  {
   "cell_type": "markdown",
   "id": "2cf5f20f",
   "metadata": {},
   "source": [
    "<font color='blue'>\n",
    "    <font size = 5>\n",
    "        I have read the data and stored the data in \"ECom_Data\" variable </font>"
   ]
  },
  {
   "cell_type": "markdown",
   "id": "a0a4f84a",
   "metadata": {},
   "source": [
    "## Q 1.\tTo get familiar with the data\n",
    "## a)\tPrint out the first 10 and the last 10 records of the data. \n",
    "## b)\tHow many rows and columns are present in the dataset? Use any two different methods to extract this information. \n",
    "## c)\tHow many object data types are there?\n",
    "## d)\tIs there any Boolean data type? \n",
    "\n"
   ]
  },
  {
   "cell_type": "code",
   "execution_count": 3,
   "id": "55ad77c3",
   "metadata": {},
   "outputs": [
    {
     "data": {
      "text/html": [
       "<div>\n",
       "<style scoped>\n",
       "    .dataframe tbody tr th:only-of-type {\n",
       "        vertical-align: middle;\n",
       "    }\n",
       "\n",
       "    .dataframe tbody tr th {\n",
       "        vertical-align: top;\n",
       "    }\n",
       "\n",
       "    .dataframe thead th {\n",
       "        text-align: right;\n",
       "    }\n",
       "</style>\n",
       "<table border=\"1\" class=\"dataframe\">\n",
       "  <thead>\n",
       "    <tr style=\"text-align: right;\">\n",
       "      <th></th>\n",
       "      <th>Customer_uniq_id</th>\n",
       "      <th>Region</th>\n",
       "      <th>Order_Date</th>\n",
       "      <th>Expected_Delivery_Date</th>\n",
       "      <th>Delivered_Date</th>\n",
       "      <th>product_name</th>\n",
       "      <th>product_main_category</th>\n",
       "      <th>product_subcategory</th>\n",
       "      <th>product_category_filter</th>\n",
       "      <th>product_category_subfilter</th>\n",
       "      <th>product_unique ID</th>\n",
       "      <th>retail_price</th>\n",
       "      <th>discounted_price</th>\n",
       "      <th>product_rating</th>\n",
       "      <th>Brand</th>\n",
       "      <th>product_specifications</th>\n",
       "      <th>description</th>\n",
       "    </tr>\n",
       "  </thead>\n",
       "  <tbody>\n",
       "    <tr>\n",
       "      <th>0</th>\n",
       "      <td>e71017e224688489edfe856f2308806d</td>\n",
       "      <td>East</td>\n",
       "      <td>24-10-2021</td>\n",
       "      <td>25-10-2021</td>\n",
       "      <td>25-10-2021</td>\n",
       "      <td>Indcrown Net Embroidered Semi-stitched Lehenga...</td>\n",
       "      <td>Clothing</td>\n",
       "      <td>Women's Clothing</td>\n",
       "      <td>Ethnic Wear</td>\n",
       "      <td>Fabric</td>\n",
       "      <td>FABEJX2NHNKCYHKA</td>\n",
       "      <td>999</td>\n",
       "      <td>699</td>\n",
       "      <td>4.0</td>\n",
       "      <td>INDCROWN</td>\n",
       "      <td>{\"product_specification\"=&gt;[{\"key\"=&gt;\"Fabric\", \"...</td>\n",
       "      <td>Key Features of Indcrown Net Embroidered Semi-...</td>\n",
       "    </tr>\n",
       "    <tr>\n",
       "      <th>1</th>\n",
       "      <td>6286847ee2da18f587503db49511c539</td>\n",
       "      <td>East</td>\n",
       "      <td>24-10-2021</td>\n",
       "      <td>25-10-2021</td>\n",
       "      <td>25-10-2021</td>\n",
       "      <td>Shopmania Music Band A5 Notebook Spiral Bound</td>\n",
       "      <td>Pens &amp; Stationery</td>\n",
       "      <td>Diaries &amp; Notebooks</td>\n",
       "      <td>Notebooks</td>\n",
       "      <td>Designer</td>\n",
       "      <td>DIAEJ6Z8BEDTGGYY</td>\n",
       "      <td>499</td>\n",
       "      <td>275</td>\n",
       "      <td>1.0</td>\n",
       "      <td>SHOPMANIA</td>\n",
       "      <td>{\"product_specification\"=&gt;[{\"key\"=&gt;\"Ruling\", \"...</td>\n",
       "      <td>Specifications of Shopmania Music Band A5 Note...</td>\n",
       "    </tr>\n",
       "    <tr>\n",
       "      <th>2</th>\n",
       "      <td>0686fec9b70e5039583a38119ca0c835</td>\n",
       "      <td>West</td>\n",
       "      <td>24-10-2021</td>\n",
       "      <td>25-10-2021</td>\n",
       "      <td>25-10-2021</td>\n",
       "      <td>Shopmania Music Band A5 Notebook Spiral Bound</td>\n",
       "      <td>Pens &amp; Stationery</td>\n",
       "      <td>Diaries &amp; Notebooks</td>\n",
       "      <td>Notebooks</td>\n",
       "      <td>Designer</td>\n",
       "      <td>DIAEJ6Z8KQFWDEGH</td>\n",
       "      <td>499</td>\n",
       "      <td>275</td>\n",
       "      <td>2.0</td>\n",
       "      <td>SHOPMANIA</td>\n",
       "      <td>{\"product_specification\"=&gt;[{\"key\"=&gt;\"Ruling\", \"...</td>\n",
       "      <td>Specifications of Shopmania Music Band A5 Note...</td>\n",
       "    </tr>\n",
       "    <tr>\n",
       "      <th>3</th>\n",
       "      <td>ea2406dc597bee2abb6b867fa668501f</td>\n",
       "      <td>West</td>\n",
       "      <td>24-10-2021</td>\n",
       "      <td>25-10-2021</td>\n",
       "      <td>25-10-2021</td>\n",
       "      <td>Tiara Diaries 2016-2017 Designer LA Kaarta \"TA...</td>\n",
       "      <td>Pens &amp; Stationery</td>\n",
       "      <td>Diaries &amp; Notebooks</td>\n",
       "      <td>Notebooks</td>\n",
       "      <td>Designer</td>\n",
       "      <td>DIAEJ8FGHZ3K86JU</td>\n",
       "      <td>1000</td>\n",
       "      <td>837</td>\n",
       "      <td>3.0</td>\n",
       "      <td>TIARA DIARIES</td>\n",
       "      <td>{\"product_specification\"=&gt;[{\"key\"=&gt;\"Ruling\", \"...</td>\n",
       "      <td>Specifications of Tiara Diaries 2016-2017 Desi...</td>\n",
       "    </tr>\n",
       "    <tr>\n",
       "      <th>4</th>\n",
       "      <td>5935ed077915347dc695744df68c565c</td>\n",
       "      <td>East</td>\n",
       "      <td>03-09-2021</td>\n",
       "      <td>04-09-2021</td>\n",
       "      <td>04-09-2021</td>\n",
       "      <td>KAJCI Embroidered Women's Waistcoat</td>\n",
       "      <td>Clothing</td>\n",
       "      <td>Women's Clothing</td>\n",
       "      <td>Formal Wear</td>\n",
       "      <td>Waistcoats</td>\n",
       "      <td>WSCEG2FYDYFDSVZ6</td>\n",
       "      <td>1200</td>\n",
       "      <td>699</td>\n",
       "      <td>5.0</td>\n",
       "      <td>KAJCI</td>\n",
       "      <td>{\"product_specification\"=&gt;[{\"key\"=&gt;\"Pattern\", ...</td>\n",
       "      <td>Specifications of KAJCI Embroidered Women's Wa...</td>\n",
       "    </tr>\n",
       "    <tr>\n",
       "      <th>5</th>\n",
       "      <td>89fcdddaad50084e395d0928a7426afe</td>\n",
       "      <td>East</td>\n",
       "      <td>03-09-2021</td>\n",
       "      <td>04-09-2021</td>\n",
       "      <td>04-09-2021</td>\n",
       "      <td>Packman 8 x 10 inches Security Bags Without PO...</td>\n",
       "      <td>Pens &amp; Stationery</td>\n",
       "      <td>Office Supplies</td>\n",
       "      <td>Packaging Security Bags</td>\n",
       "      <td>Packman Packaging Security Bags</td>\n",
       "      <td>PKBEGBTRKKHU26YQ</td>\n",
       "      <td>350</td>\n",
       "      <td>298</td>\n",
       "      <td>4.0</td>\n",
       "      <td>PACKMAN</td>\n",
       "      <td>{\"product_specification\"=&gt;[{\"key\"=&gt;\"Bubble Wra...</td>\n",
       "      <td>Key Features of Packman 8 x 10 inches Security...</td>\n",
       "    </tr>\n",
       "    <tr>\n",
       "      <th>6</th>\n",
       "      <td>b9b183aa18d3a721d2ac23e7184525b0</td>\n",
       "      <td>East</td>\n",
       "      <td>03-09-2021</td>\n",
       "      <td>04-09-2021</td>\n",
       "      <td>04-09-2021</td>\n",
       "      <td>Pick Pocket Embroidered Women's Waistcoat</td>\n",
       "      <td>Clothing</td>\n",
       "      <td>Women's Clothing</td>\n",
       "      <td>Formal Wear</td>\n",
       "      <td>Waistcoats</td>\n",
       "      <td>WSCEFUV4TVWT73ZB</td>\n",
       "      <td>899</td>\n",
       "      <td>899</td>\n",
       "      <td>1.0</td>\n",
       "      <td>PICK POCKET</td>\n",
       "      <td>{\"product_specification\"=&gt;[{\"key\"=&gt;\"Pattern\", ...</td>\n",
       "      <td>Specifications of Pick Pocket Embroidered Wome...</td>\n",
       "    </tr>\n",
       "    <tr>\n",
       "      <th>7</th>\n",
       "      <td>dee64864c0419bec80fbbb94d19bc40d</td>\n",
       "      <td>East</td>\n",
       "      <td>03-09-2021</td>\n",
       "      <td>04-09-2021</td>\n",
       "      <td>04-09-2021</td>\n",
       "      <td>Angelfish Silk Potali Potli</td>\n",
       "      <td>Bags, Wallets &amp; Belts</td>\n",
       "      <td>Bags</td>\n",
       "      <td>Pouches and Potlis</td>\n",
       "      <td>Angelfish Pouches and Potlis</td>\n",
       "      <td>PPSEGFYAGD8FYUXV</td>\n",
       "      <td>999</td>\n",
       "      <td>399</td>\n",
       "      <td>4.0</td>\n",
       "      <td>ANGELFISH</td>\n",
       "      <td>{\"product_specification\"=&gt;[{\"key\"=&gt;\"Closure\", ...</td>\n",
       "      <td>Angelfish Silk Potali Potli (Multicolor) Price...</td>\n",
       "    </tr>\n",
       "    <tr>\n",
       "      <th>8</th>\n",
       "      <td>595f55f2c1293f07ea9ec9fa2bb39f46</td>\n",
       "      <td>East</td>\n",
       "      <td>03-09-2021</td>\n",
       "      <td>04-09-2021</td>\n",
       "      <td>04-09-2021</td>\n",
       "      <td>Oye Boy's Dungaree</td>\n",
       "      <td>Clothing</td>\n",
       "      <td>Kids' Clothing</td>\n",
       "      <td>Boys Wear</td>\n",
       "      <td>Dungarees &amp; Jumpsuits</td>\n",
       "      <td>DRPEF2XSFBAP4SUZ</td>\n",
       "      <td>899</td>\n",
       "      <td>764</td>\n",
       "      <td>1.0</td>\n",
       "      <td>OYE</td>\n",
       "      <td>{\"product_specification\"=&gt;[{\"key\"=&gt;\"Number of ...</td>\n",
       "      <td>Specifications of Oye Boy's Dungaree Top Detai...</td>\n",
       "    </tr>\n",
       "    <tr>\n",
       "      <th>9</th>\n",
       "      <td>547b6585272473ae006bcfbdb47b6ae0</td>\n",
       "      <td>West</td>\n",
       "      <td>26-08-2021</td>\n",
       "      <td>27-08-2021</td>\n",
       "      <td>27-08-2021</td>\n",
       "      <td>Nuride Canvas Shoes</td>\n",
       "      <td>Footwear</td>\n",
       "      <td>Women's Footwear</td>\n",
       "      <td>Casual Shoes</td>\n",
       "      <td>Canvas</td>\n",
       "      <td>SHOEGVQCT2ZSGUHY</td>\n",
       "      <td>1999</td>\n",
       "      <td>1349</td>\n",
       "      <td>2.0</td>\n",
       "      <td>NURIDE</td>\n",
       "      <td>{\"product_specification\"=&gt;[{\"key\"=&gt;\"Occasion\",...</td>\n",
       "      <td>Key Features of Nuride Canvas Shoes Material: ...</td>\n",
       "    </tr>\n",
       "  </tbody>\n",
       "</table>\n",
       "</div>"
      ],
      "text/plain": [
       "                   Customer_uniq_id Region  Order_Date Expected_Delivery_Date  \\\n",
       "0  e71017e224688489edfe856f2308806d  East   24-10-2021             25-10-2021   \n",
       "1  6286847ee2da18f587503db49511c539  East   24-10-2021             25-10-2021   \n",
       "2  0686fec9b70e5039583a38119ca0c835   West  24-10-2021             25-10-2021   \n",
       "3  ea2406dc597bee2abb6b867fa668501f   West  24-10-2021             25-10-2021   \n",
       "4  5935ed077915347dc695744df68c565c  East   03-09-2021             04-09-2021   \n",
       "5  89fcdddaad50084e395d0928a7426afe  East   03-09-2021             04-09-2021   \n",
       "6  b9b183aa18d3a721d2ac23e7184525b0  East   03-09-2021             04-09-2021   \n",
       "7  dee64864c0419bec80fbbb94d19bc40d  East   03-09-2021             04-09-2021   \n",
       "8  595f55f2c1293f07ea9ec9fa2bb39f46  East   03-09-2021             04-09-2021   \n",
       "9  547b6585272473ae006bcfbdb47b6ae0   West  26-08-2021             27-08-2021   \n",
       "\n",
       "  Delivered_Date                                       product_name  \\\n",
       "0     25-10-2021  Indcrown Net Embroidered Semi-stitched Lehenga...   \n",
       "1     25-10-2021      Shopmania Music Band A5 Notebook Spiral Bound   \n",
       "2     25-10-2021      Shopmania Music Band A5 Notebook Spiral Bound   \n",
       "3     25-10-2021  Tiara Diaries 2016-2017 Designer LA Kaarta \"TA...   \n",
       "4     04-09-2021                KAJCI Embroidered Women's Waistcoat   \n",
       "5     04-09-2021  Packman 8 x 10 inches Security Bags Without PO...   \n",
       "6     04-09-2021          Pick Pocket Embroidered Women's Waistcoat   \n",
       "7     04-09-2021                        Angelfish Silk Potali Potli   \n",
       "8     04-09-2021                                 Oye Boy's Dungaree   \n",
       "9     27-08-2021                                Nuride Canvas Shoes   \n",
       "\n",
       "    product_main_category    product_subcategory    product_category_filter  \\\n",
       "0               Clothing       Women's Clothing                Ethnic Wear    \n",
       "1      Pens & Stationery    Diaries & Notebooks                  Notebooks    \n",
       "2      Pens & Stationery    Diaries & Notebooks                  Notebooks    \n",
       "3      Pens & Stationery    Diaries & Notebooks                  Notebooks    \n",
       "4               Clothing       Women's Clothing                Formal Wear    \n",
       "5      Pens & Stationery        Office Supplies    Packaging Security Bags    \n",
       "6               Clothing       Women's Clothing                Formal Wear    \n",
       "7  Bags, Wallets & Belts                   Bags         Pouches and Potlis    \n",
       "8               Clothing         Kids' Clothing                  Boys Wear    \n",
       "9               Footwear       Women's Footwear               Casual Shoes    \n",
       "\n",
       "          product_category_subfilter product_unique ID  retail_price  \\\n",
       "0                            Fabric   FABEJX2NHNKCYHKA           999   \n",
       "1                          Designer   DIAEJ6Z8BEDTGGYY           499   \n",
       "2                          Designer   DIAEJ6Z8KQFWDEGH           499   \n",
       "3                          Designer   DIAEJ8FGHZ3K86JU          1000   \n",
       "4                        Waistcoats   WSCEG2FYDYFDSVZ6          1200   \n",
       "5   Packman Packaging Security Bags   PKBEGBTRKKHU26YQ           350   \n",
       "6                        Waistcoats   WSCEFUV4TVWT73ZB           899   \n",
       "7      Angelfish Pouches and Potlis   PPSEGFYAGD8FYUXV           999   \n",
       "8             Dungarees & Jumpsuits   DRPEF2XSFBAP4SUZ           899   \n",
       "9                            Canvas   SHOEGVQCT2ZSGUHY          1999   \n",
       "\n",
       "   discounted_price  product_rating          Brand  \\\n",
       "0               699             4.0       INDCROWN   \n",
       "1               275             1.0      SHOPMANIA   \n",
       "2               275             2.0      SHOPMANIA   \n",
       "3               837             3.0  TIARA DIARIES   \n",
       "4               699             5.0          KAJCI   \n",
       "5               298             4.0        PACKMAN   \n",
       "6               899             1.0    PICK POCKET   \n",
       "7               399             4.0      ANGELFISH   \n",
       "8               764             1.0            OYE   \n",
       "9              1349             2.0         NURIDE   \n",
       "\n",
       "                              product_specifications  \\\n",
       "0  {\"product_specification\"=>[{\"key\"=>\"Fabric\", \"...   \n",
       "1  {\"product_specification\"=>[{\"key\"=>\"Ruling\", \"...   \n",
       "2  {\"product_specification\"=>[{\"key\"=>\"Ruling\", \"...   \n",
       "3  {\"product_specification\"=>[{\"key\"=>\"Ruling\", \"...   \n",
       "4  {\"product_specification\"=>[{\"key\"=>\"Pattern\", ...   \n",
       "5  {\"product_specification\"=>[{\"key\"=>\"Bubble Wra...   \n",
       "6  {\"product_specification\"=>[{\"key\"=>\"Pattern\", ...   \n",
       "7  {\"product_specification\"=>[{\"key\"=>\"Closure\", ...   \n",
       "8  {\"product_specification\"=>[{\"key\"=>\"Number of ...   \n",
       "9  {\"product_specification\"=>[{\"key\"=>\"Occasion\",...   \n",
       "\n",
       "                                         description  \n",
       "0  Key Features of Indcrown Net Embroidered Semi-...  \n",
       "1  Specifications of Shopmania Music Band A5 Note...  \n",
       "2  Specifications of Shopmania Music Band A5 Note...  \n",
       "3  Specifications of Tiara Diaries 2016-2017 Desi...  \n",
       "4  Specifications of KAJCI Embroidered Women's Wa...  \n",
       "5  Key Features of Packman 8 x 10 inches Security...  \n",
       "6  Specifications of Pick Pocket Embroidered Wome...  \n",
       "7  Angelfish Silk Potali Potli (Multicolor) Price...  \n",
       "8  Specifications of Oye Boy's Dungaree Top Detai...  \n",
       "9  Key Features of Nuride Canvas Shoes Material: ...  "
      ]
     },
     "execution_count": 3,
     "metadata": {},
     "output_type": "execute_result"
    }
   ],
   "source": [
    "# Print First 10 Rows of the table \n",
    "\n",
    "ECom_Data.head(10)"
   ]
  },
  {
   "cell_type": "code",
   "execution_count": 51,
   "id": "6684f5a1",
   "metadata": {},
   "outputs": [
    {
     "data": {
      "text/html": [
       "<div>\n",
       "<style scoped>\n",
       "    .dataframe tbody tr th:only-of-type {\n",
       "        vertical-align: middle;\n",
       "    }\n",
       "\n",
       "    .dataframe tbody tr th {\n",
       "        vertical-align: top;\n",
       "    }\n",
       "\n",
       "    .dataframe thead th {\n",
       "        text-align: right;\n",
       "    }\n",
       "</style>\n",
       "<table border=\"1\" class=\"dataframe\">\n",
       "  <thead>\n",
       "    <tr style=\"text-align: right;\">\n",
       "      <th></th>\n",
       "      <th>Customer_uniq_id</th>\n",
       "      <th>Region</th>\n",
       "      <th>Order_Date</th>\n",
       "      <th>Expected_Delivery_Date</th>\n",
       "      <th>Delivered_Date</th>\n",
       "      <th>product_name</th>\n",
       "      <th>product_main_category</th>\n",
       "      <th>product_subcategory</th>\n",
       "      <th>product_category_filter</th>\n",
       "      <th>product_category_subfilter</th>\n",
       "      <th>product_unique ID</th>\n",
       "      <th>retail_price</th>\n",
       "      <th>discounted_price</th>\n",
       "      <th>product_rating</th>\n",
       "      <th>Brand</th>\n",
       "    </tr>\n",
       "  </thead>\n",
       "  <tbody>\n",
       "    <tr>\n",
       "      <th>8896</th>\n",
       "      <td>4db03bc4ccbe216cf151b2f2b904ba3f</td>\n",
       "      <td>East</td>\n",
       "      <td>01-12-2020</td>\n",
       "      <td>04-12-2020</td>\n",
       "      <td>04-12-2020</td>\n",
       "      <td>Luca Fashion Girls Heels</td>\n",
       "      <td>Footwear</td>\n",
       "      <td>Kids' &amp; Infant Footwear</td>\n",
       "      <td>For Girls</td>\n",
       "      <td>Sandals</td>\n",
       "      <td>SNDEHG3DNVBFGAT5</td>\n",
       "      <td>999</td>\n",
       "      <td>499</td>\n",
       "      <td>4.0</td>\n",
       "      <td>LUCA FASHION</td>\n",
       "    </tr>\n",
       "    <tr>\n",
       "      <th>8897</th>\n",
       "      <td>4d4d6aeb13fa253499d0dd45a5abd87e</td>\n",
       "      <td>West</td>\n",
       "      <td>01-12-2020</td>\n",
       "      <td>04-12-2020</td>\n",
       "      <td>04-12-2020</td>\n",
       "      <td>Shoetopia Girls Sandals</td>\n",
       "      <td>Footwear</td>\n",
       "      <td>Kids' &amp; Infant Footwear</td>\n",
       "      <td>For Girls</td>\n",
       "      <td>Sandals</td>\n",
       "      <td>SNDEG7DRWSX8HFXZ</td>\n",
       "      <td>499</td>\n",
       "      <td>399</td>\n",
       "      <td>4.0</td>\n",
       "      <td>SHOETOPIA</td>\n",
       "    </tr>\n",
       "    <tr>\n",
       "      <th>8898</th>\n",
       "      <td>ea19e7ef703293d3f6c799ca9db4642d</td>\n",
       "      <td>West</td>\n",
       "      <td>01-12-2020</td>\n",
       "      <td>04-12-2020</td>\n",
       "      <td>04-12-2020</td>\n",
       "      <td>SMART TRADERS Girls Sandals</td>\n",
       "      <td>Footwear</td>\n",
       "      <td>Kids' &amp; Infant Footwear</td>\n",
       "      <td>For Girls</td>\n",
       "      <td>Sandals</td>\n",
       "      <td>SNDEG7MZHHKZ58D2</td>\n",
       "      <td>999</td>\n",
       "      <td>499</td>\n",
       "      <td>5.0</td>\n",
       "      <td>SMART TRADERS</td>\n",
       "    </tr>\n",
       "    <tr>\n",
       "      <th>8899</th>\n",
       "      <td>19a53a958992fb575acffb5d41e7ef9e</td>\n",
       "      <td>East</td>\n",
       "      <td>01-12-2020</td>\n",
       "      <td>04-12-2020</td>\n",
       "      <td>04-12-2020</td>\n",
       "      <td>Beanz Girls Flats</td>\n",
       "      <td>Footwear</td>\n",
       "      <td>Kids' &amp; Infant Footwear</td>\n",
       "      <td>For Girls</td>\n",
       "      <td>Sandals</td>\n",
       "      <td>SNDEG7DYVFWHZBC4</td>\n",
       "      <td>1299</td>\n",
       "      <td>1299</td>\n",
       "      <td>3.0</td>\n",
       "      <td>BEANZ</td>\n",
       "    </tr>\n",
       "    <tr>\n",
       "      <th>8900</th>\n",
       "      <td>09abab80c8dfdc6f268e0a6f05a0be11</td>\n",
       "      <td>North</td>\n",
       "      <td>01-12-2020</td>\n",
       "      <td>04-12-2020</td>\n",
       "      <td>04-12-2020</td>\n",
       "      <td>Nova KT 728S Electric Kettle</td>\n",
       "      <td>Home &amp; Kitchen</td>\n",
       "      <td>Kitchen Appliances</td>\n",
       "      <td>Electric Jug(heater)/Travel Kettles</td>\n",
       "      <td>Nova Electric Jug(heater)/Travel Kettles</td>\n",
       "      <td>EKTDG5C5QSADZZ8J</td>\n",
       "      <td>3195</td>\n",
       "      <td>699</td>\n",
       "      <td>3.6</td>\n",
       "      <td>NOVA</td>\n",
       "    </tr>\n",
       "    <tr>\n",
       "      <th>8901</th>\n",
       "      <td>90d30478255e23621e8929ed15c2f6e4</td>\n",
       "      <td>South</td>\n",
       "      <td>01-12-2020</td>\n",
       "      <td>04-12-2020</td>\n",
       "      <td>04-12-2020</td>\n",
       "      <td>Sinina Chanderi Embroidered Salwar Suit Dupatt...</td>\n",
       "      <td>Clothing</td>\n",
       "      <td>Women's Clothing</td>\n",
       "      <td>Ethnic Wear</td>\n",
       "      <td>Fabric</td>\n",
       "      <td>FABEGGHHDFMY8BZU</td>\n",
       "      <td>2980</td>\n",
       "      <td>1490</td>\n",
       "      <td>3.0</td>\n",
       "      <td>SININA</td>\n",
       "    </tr>\n",
       "    <tr>\n",
       "      <th>8902</th>\n",
       "      <td>20a73e3f41490a73ceeba5f17658db8f</td>\n",
       "      <td>West</td>\n",
       "      <td>01-12-2020</td>\n",
       "      <td>04-12-2020</td>\n",
       "      <td>04-12-2020</td>\n",
       "      <td>Aarushi Fashion Chanderi Embroidered Salwar Su...</td>\n",
       "      <td>Clothing</td>\n",
       "      <td>Women's Clothing</td>\n",
       "      <td>Ethnic Wear</td>\n",
       "      <td>Fabric</td>\n",
       "      <td>FABEG8GFDUWRSNU3</td>\n",
       "      <td>2600</td>\n",
       "      <td>1300</td>\n",
       "      <td>1.0</td>\n",
       "      <td>AARUSHI FASHION</td>\n",
       "    </tr>\n",
       "    <tr>\n",
       "      <th>8903</th>\n",
       "      <td>5c1554cd45f9d538c2c6947dbdd59c75</td>\n",
       "      <td>East</td>\n",
       "      <td>01-12-2020</td>\n",
       "      <td>04-12-2020</td>\n",
       "      <td>04-12-2020</td>\n",
       "      <td>Ambika Lahenga Embroidered Lehenga, Choli and ...</td>\n",
       "      <td>Clothing</td>\n",
       "      <td>Women's Clothing</td>\n",
       "      <td>Ethnic Wear</td>\n",
       "      <td>Lehenga Cholis</td>\n",
       "      <td>LEHEGGEHYN4G2RPW</td>\n",
       "      <td>39992</td>\n",
       "      <td>24995</td>\n",
       "      <td>1.0</td>\n",
       "      <td>AMBIKA LAHENGA</td>\n",
       "    </tr>\n",
       "    <tr>\n",
       "      <th>8904</th>\n",
       "      <td>6b737a4deca1ed0e56c179e66036e994</td>\n",
       "      <td>West</td>\n",
       "      <td>01-12-2020</td>\n",
       "      <td>04-12-2020</td>\n",
       "      <td>04-12-2020</td>\n",
       "      <td>Sinina Chanderi Embroidered Salwar Suit Dupatt...</td>\n",
       "      <td>Clothing</td>\n",
       "      <td>Women's Clothing</td>\n",
       "      <td>Ethnic Wear</td>\n",
       "      <td>Fabric</td>\n",
       "      <td>FABEGGHHGSVCHGFV</td>\n",
       "      <td>2000</td>\n",
       "      <td>1000</td>\n",
       "      <td>3.0</td>\n",
       "      <td>SININA</td>\n",
       "    </tr>\n",
       "    <tr>\n",
       "      <th>8905</th>\n",
       "      <td>a5235ac28d3d5487f54025f9d6b57433</td>\n",
       "      <td>North</td>\n",
       "      <td>01-12-2020</td>\n",
       "      <td>04-12-2020</td>\n",
       "      <td>04-12-2020</td>\n",
       "      <td>Aarushi Fashion Silk Striped Salwar Suit Dupat...</td>\n",
       "      <td>Clothing</td>\n",
       "      <td>Women's Clothing</td>\n",
       "      <td>Ethnic Wear</td>\n",
       "      <td>Fabric</td>\n",
       "      <td>FABEG8GYDAABECZH</td>\n",
       "      <td>2800</td>\n",
       "      <td>1350</td>\n",
       "      <td>4.0</td>\n",
       "      <td>AARUSHI FASHION</td>\n",
       "    </tr>\n",
       "  </tbody>\n",
       "</table>\n",
       "</div>"
      ],
      "text/plain": [
       "                      Customer_uniq_id Region  Order_Date  \\\n",
       "8896  4db03bc4ccbe216cf151b2f2b904ba3f  East   01-12-2020   \n",
       "8897  4d4d6aeb13fa253499d0dd45a5abd87e   West  01-12-2020   \n",
       "8898  ea19e7ef703293d3f6c799ca9db4642d   West  01-12-2020   \n",
       "8899  19a53a958992fb575acffb5d41e7ef9e  East   01-12-2020   \n",
       "8900  09abab80c8dfdc6f268e0a6f05a0be11  North  01-12-2020   \n",
       "8901  90d30478255e23621e8929ed15c2f6e4  South  01-12-2020   \n",
       "8902  20a73e3f41490a73ceeba5f17658db8f   West  01-12-2020   \n",
       "8903  5c1554cd45f9d538c2c6947dbdd59c75  East   01-12-2020   \n",
       "8904  6b737a4deca1ed0e56c179e66036e994   West  01-12-2020   \n",
       "8905  a5235ac28d3d5487f54025f9d6b57433  North  01-12-2020   \n",
       "\n",
       "     Expected_Delivery_Date Delivered_Date  \\\n",
       "8896             04-12-2020     04-12-2020   \n",
       "8897             04-12-2020     04-12-2020   \n",
       "8898             04-12-2020     04-12-2020   \n",
       "8899             04-12-2020     04-12-2020   \n",
       "8900             04-12-2020     04-12-2020   \n",
       "8901             04-12-2020     04-12-2020   \n",
       "8902             04-12-2020     04-12-2020   \n",
       "8903             04-12-2020     04-12-2020   \n",
       "8904             04-12-2020     04-12-2020   \n",
       "8905             04-12-2020     04-12-2020   \n",
       "\n",
       "                                           product_name product_main_category  \\\n",
       "8896                           Luca Fashion Girls Heels             Footwear    \n",
       "8897                            Shoetopia Girls Sandals             Footwear    \n",
       "8898                        SMART TRADERS Girls Sandals             Footwear    \n",
       "8899                                  Beanz Girls Flats             Footwear    \n",
       "8900                       Nova KT 728S Electric Kettle       Home & Kitchen    \n",
       "8901  Sinina Chanderi Embroidered Salwar Suit Dupatt...             Clothing    \n",
       "8902  Aarushi Fashion Chanderi Embroidered Salwar Su...             Clothing    \n",
       "8903  Ambika Lahenga Embroidered Lehenga, Choli and ...             Clothing    \n",
       "8904  Sinina Chanderi Embroidered Salwar Suit Dupatt...             Clothing    \n",
       "8905  Aarushi Fashion Silk Striped Salwar Suit Dupat...             Clothing    \n",
       "\n",
       "            product_subcategory                product_category_filter  \\\n",
       "8896   Kids' & Infant Footwear                              For Girls    \n",
       "8897   Kids' & Infant Footwear                              For Girls    \n",
       "8898   Kids' & Infant Footwear                              For Girls    \n",
       "8899   Kids' & Infant Footwear                              For Girls    \n",
       "8900        Kitchen Appliances    Electric Jug(heater)/Travel Kettles    \n",
       "8901          Women's Clothing                            Ethnic Wear    \n",
       "8902          Women's Clothing                            Ethnic Wear    \n",
       "8903          Women's Clothing                            Ethnic Wear    \n",
       "8904          Women's Clothing                            Ethnic Wear    \n",
       "8905          Women's Clothing                            Ethnic Wear    \n",
       "\n",
       "                      product_category_subfilter product_unique ID  \\\n",
       "8896                                    Sandals   SNDEHG3DNVBFGAT5   \n",
       "8897                                    Sandals   SNDEG7DRWSX8HFXZ   \n",
       "8898                                    Sandals   SNDEG7MZHHKZ58D2   \n",
       "8899                                    Sandals   SNDEG7DYVFWHZBC4   \n",
       "8900   Nova Electric Jug(heater)/Travel Kettles   EKTDG5C5QSADZZ8J   \n",
       "8901                                     Fabric   FABEGGHHDFMY8BZU   \n",
       "8902                                     Fabric   FABEG8GFDUWRSNU3   \n",
       "8903                             Lehenga Cholis   LEHEGGEHYN4G2RPW   \n",
       "8904                                     Fabric   FABEGGHHGSVCHGFV   \n",
       "8905                                     Fabric   FABEG8GYDAABECZH   \n",
       "\n",
       "      retail_price  discounted_price  product_rating            Brand  \n",
       "8896           999               499             4.0     LUCA FASHION  \n",
       "8897           499               399             4.0        SHOETOPIA  \n",
       "8898           999               499             5.0    SMART TRADERS  \n",
       "8899          1299              1299             3.0            BEANZ  \n",
       "8900          3195               699             3.6             NOVA  \n",
       "8901          2980              1490             3.0           SININA  \n",
       "8902          2600              1300             1.0  AARUSHI FASHION  \n",
       "8903         39992             24995             1.0   AMBIKA LAHENGA  \n",
       "8904          2000              1000             3.0           SININA  \n",
       "8905          2800              1350             4.0  AARUSHI FASHION  "
      ]
     },
     "execution_count": 51,
     "metadata": {},
     "output_type": "execute_result"
    }
   ],
   "source": [
    "#Print last 10 Records of the Data \n",
    "\n",
    "ECom_Data.tail(10)"
   ]
  },
  {
   "cell_type": "markdown",
   "id": "48baeda6",
   "metadata": {},
   "source": [
    "#### Ans 1 b)"
   ]
  },
  {
   "cell_type": "code",
   "execution_count": 60,
   "id": "0ac3ef5d",
   "metadata": {},
   "outputs": [
    {
     "name": "stdout",
     "output_type": "stream",
     "text": [
      "Number of rows is: 8906\n",
      "Number of columns is: 17\n"
     ]
    }
   ],
   "source": [
    "# Method 1 Using .shape attribute \n",
    "\n",
    "ECom_Data.shape\n",
    "\n",
    "print(f\"Number of rows is: {ECom_Data.shape[0]}\")\n",
    "print(f\"Number of columns is: {ECom_Data.shape[1]}\")\n"
   ]
  },
  {
   "cell_type": "code",
   "execution_count": 61,
   "id": "529bf560",
   "metadata": {},
   "outputs": [
    {
     "name": "stdout",
     "output_type": "stream",
     "text": [
      "Number of rows: 8906\n",
      "Number of columns:17\n"
     ]
    }
   ],
   "source": [
    "# Method 2 Using len and columns attribute \n",
    "\n",
    "num_rows = len(ECom_Data)\n",
    "num_columns = len(ECom_Data.columns)\n",
    "\n",
    "print(f\"Number of rows: {num_rows}\")\n",
    "print(f\"Number of columns:{num_columns}\")"
   ]
  },
  {
   "cell_type": "markdown",
   "id": "4fe16c99",
   "metadata": {},
   "source": [
    "## Both methods provide number of rows and columns in the dataset"
   ]
  },
  {
   "cell_type": "markdown",
   "id": "6aaa54a0",
   "metadata": {},
   "source": [
    "#### Ans  1 c)"
   ]
  },
  {
   "cell_type": "code",
   "execution_count": 62,
   "id": "115627b2",
   "metadata": {},
   "outputs": [
    {
     "name": "stdout",
     "output_type": "stream",
     "text": [
      "Number of object data type columns :14\n"
     ]
    }
   ],
   "source": [
    "# Numbers of columns with \"Object\" Data types is\n",
    "\n",
    "Num_object = len(ECom_Data.select_dtypes(include = 'object').columns)\n",
    "print(f\"Number of object data type columns :{Num_object}\")"
   ]
  },
  {
   "cell_type": "markdown",
   "id": "ad4d52b7",
   "metadata": {},
   "source": [
    "## In the Dataset comprising 17 columns ,it is observed that 14 columns are 'charcterized' by the 'object' data type."
   ]
  },
  {
   "cell_type": "markdown",
   "id": "5e63573c",
   "metadata": {},
   "source": [
    "### Ans 1 d)"
   ]
  },
  {
   "cell_type": "code",
   "execution_count": 63,
   "id": "2b96d5be",
   "metadata": {},
   "outputs": [
    {
     "name": "stdout",
     "output_type": "stream",
     "text": [
      "<class 'pandas.core.frame.DataFrame'>\n",
      "RangeIndex: 8906 entries, 0 to 8905\n",
      "Data columns (total 17 columns):\n",
      " #   Column                      Non-Null Count  Dtype  \n",
      "---  ------                      --------------  -----  \n",
      " 0   Customer_uniq_id            8906 non-null   object \n",
      " 1   Region                      8906 non-null   object \n",
      " 2   Order_Date                  8906 non-null   object \n",
      " 3   Expected_Delivery_Date      8906 non-null   object \n",
      " 4   Delivered_Date              8906 non-null   object \n",
      " 5   product_name                8906 non-null   object \n",
      " 6   product_main_category       8906 non-null   object \n",
      " 7   product_subcategory         8906 non-null   object \n",
      " 8   product_category_filter     8906 non-null   object \n",
      " 9   product_category_subfilter  8906 non-null   object \n",
      " 10  product_unique ID           8906 non-null   object \n",
      " 11  retail_price                8906 non-null   int64  \n",
      " 12  discounted_price            8906 non-null   int64  \n",
      " 13  product_rating              8906 non-null   float64\n",
      " 14  Brand                       8906 non-null   object \n",
      " 15  product_specifications      8906 non-null   object \n",
      " 16  description                 8906 non-null   object \n",
      "dtypes: float64(1), int64(2), object(14)\n",
      "memory usage: 1.2+ MB\n",
      "No columns with the Boolean data type found.\n"
     ]
    }
   ],
   "source": [
    "# Find Boolean data type \n",
    "\n",
    "ECom_Data.info()\n",
    "boolean_columns = ECom_Data.select_dtypes(include='bool').columns.tolist()\n",
    "\n",
    "\n",
    "\n",
    "if boolean_columns:\n",
    "    print(f\"Columns with Boolean data type:{boolean_columns}\")\n",
    "else:\n",
    "    print(\"No columns with the Boolean data type found.\")"
   ]
  },
  {
   "cell_type": "markdown",
   "id": "cc5d76f1",
   "metadata": {},
   "source": [
    "<font color='blue'>\n",
    "    <font size = 5>\n",
    "Not all features are of use to you and you may want to delete the non-informative features (columns)</font>"
   ]
  },
  {
   "cell_type": "markdown",
   "id": "90db65ce",
   "metadata": {},
   "source": [
    "## Q 2.\tEliminating the non-informative columns.\n",
    "## a)\tDrop the columns product_specifications and description.\n",
    "## b)\tWhich method or function is used to permanently delete the columns mentioned in part (a)?\n",
    "\n"
   ]
  },
  {
   "cell_type": "markdown",
   "id": "e0e7e762",
   "metadata": {},
   "source": [
    "### Ans 2 a)"
   ]
  },
  {
   "cell_type": "code",
   "execution_count": 64,
   "id": "35ad0821",
   "metadata": {},
   "outputs": [
    {
     "data": {
      "text/html": [
       "<div>\n",
       "<style scoped>\n",
       "    .dataframe tbody tr th:only-of-type {\n",
       "        vertical-align: middle;\n",
       "    }\n",
       "\n",
       "    .dataframe tbody tr th {\n",
       "        vertical-align: top;\n",
       "    }\n",
       "\n",
       "    .dataframe thead th {\n",
       "        text-align: right;\n",
       "    }\n",
       "</style>\n",
       "<table border=\"1\" class=\"dataframe\">\n",
       "  <thead>\n",
       "    <tr style=\"text-align: right;\">\n",
       "      <th></th>\n",
       "      <th>Customer_uniq_id</th>\n",
       "      <th>Region</th>\n",
       "      <th>Order_Date</th>\n",
       "      <th>Expected_Delivery_Date</th>\n",
       "      <th>Delivered_Date</th>\n",
       "      <th>product_name</th>\n",
       "      <th>product_main_category</th>\n",
       "      <th>product_subcategory</th>\n",
       "      <th>product_category_filter</th>\n",
       "      <th>product_category_subfilter</th>\n",
       "      <th>product_unique ID</th>\n",
       "      <th>retail_price</th>\n",
       "      <th>discounted_price</th>\n",
       "      <th>product_rating</th>\n",
       "      <th>Brand</th>\n",
       "    </tr>\n",
       "  </thead>\n",
       "  <tbody>\n",
       "    <tr>\n",
       "      <th>0</th>\n",
       "      <td>e71017e224688489edfe856f2308806d</td>\n",
       "      <td>East</td>\n",
       "      <td>24-10-2021</td>\n",
       "      <td>25-10-2021</td>\n",
       "      <td>25-10-2021</td>\n",
       "      <td>Indcrown Net Embroidered Semi-stitched Lehenga...</td>\n",
       "      <td>Clothing</td>\n",
       "      <td>Women's Clothing</td>\n",
       "      <td>Ethnic Wear</td>\n",
       "      <td>Fabric</td>\n",
       "      <td>FABEJX2NHNKCYHKA</td>\n",
       "      <td>999</td>\n",
       "      <td>699</td>\n",
       "      <td>4.0</td>\n",
       "      <td>INDCROWN</td>\n",
       "    </tr>\n",
       "    <tr>\n",
       "      <th>1</th>\n",
       "      <td>6286847ee2da18f587503db49511c539</td>\n",
       "      <td>East</td>\n",
       "      <td>24-10-2021</td>\n",
       "      <td>25-10-2021</td>\n",
       "      <td>25-10-2021</td>\n",
       "      <td>Shopmania Music Band A5 Notebook Spiral Bound</td>\n",
       "      <td>Pens &amp; Stationery</td>\n",
       "      <td>Diaries &amp; Notebooks</td>\n",
       "      <td>Notebooks</td>\n",
       "      <td>Designer</td>\n",
       "      <td>DIAEJ6Z8BEDTGGYY</td>\n",
       "      <td>499</td>\n",
       "      <td>275</td>\n",
       "      <td>1.0</td>\n",
       "      <td>SHOPMANIA</td>\n",
       "    </tr>\n",
       "    <tr>\n",
       "      <th>2</th>\n",
       "      <td>0686fec9b70e5039583a38119ca0c835</td>\n",
       "      <td>West</td>\n",
       "      <td>24-10-2021</td>\n",
       "      <td>25-10-2021</td>\n",
       "      <td>25-10-2021</td>\n",
       "      <td>Shopmania Music Band A5 Notebook Spiral Bound</td>\n",
       "      <td>Pens &amp; Stationery</td>\n",
       "      <td>Diaries &amp; Notebooks</td>\n",
       "      <td>Notebooks</td>\n",
       "      <td>Designer</td>\n",
       "      <td>DIAEJ6Z8KQFWDEGH</td>\n",
       "      <td>499</td>\n",
       "      <td>275</td>\n",
       "      <td>2.0</td>\n",
       "      <td>SHOPMANIA</td>\n",
       "    </tr>\n",
       "    <tr>\n",
       "      <th>3</th>\n",
       "      <td>ea2406dc597bee2abb6b867fa668501f</td>\n",
       "      <td>West</td>\n",
       "      <td>24-10-2021</td>\n",
       "      <td>25-10-2021</td>\n",
       "      <td>25-10-2021</td>\n",
       "      <td>Tiara Diaries 2016-2017 Designer LA Kaarta \"TA...</td>\n",
       "      <td>Pens &amp; Stationery</td>\n",
       "      <td>Diaries &amp; Notebooks</td>\n",
       "      <td>Notebooks</td>\n",
       "      <td>Designer</td>\n",
       "      <td>DIAEJ8FGHZ3K86JU</td>\n",
       "      <td>1000</td>\n",
       "      <td>837</td>\n",
       "      <td>3.0</td>\n",
       "      <td>TIARA DIARIES</td>\n",
       "    </tr>\n",
       "    <tr>\n",
       "      <th>4</th>\n",
       "      <td>5935ed077915347dc695744df68c565c</td>\n",
       "      <td>East</td>\n",
       "      <td>03-09-2021</td>\n",
       "      <td>04-09-2021</td>\n",
       "      <td>04-09-2021</td>\n",
       "      <td>KAJCI Embroidered Women's Waistcoat</td>\n",
       "      <td>Clothing</td>\n",
       "      <td>Women's Clothing</td>\n",
       "      <td>Formal Wear</td>\n",
       "      <td>Waistcoats</td>\n",
       "      <td>WSCEG2FYDYFDSVZ6</td>\n",
       "      <td>1200</td>\n",
       "      <td>699</td>\n",
       "      <td>5.0</td>\n",
       "      <td>KAJCI</td>\n",
       "    </tr>\n",
       "    <tr>\n",
       "      <th>...</th>\n",
       "      <td>...</td>\n",
       "      <td>...</td>\n",
       "      <td>...</td>\n",
       "      <td>...</td>\n",
       "      <td>...</td>\n",
       "      <td>...</td>\n",
       "      <td>...</td>\n",
       "      <td>...</td>\n",
       "      <td>...</td>\n",
       "      <td>...</td>\n",
       "      <td>...</td>\n",
       "      <td>...</td>\n",
       "      <td>...</td>\n",
       "      <td>...</td>\n",
       "      <td>...</td>\n",
       "    </tr>\n",
       "    <tr>\n",
       "      <th>8901</th>\n",
       "      <td>90d30478255e23621e8929ed15c2f6e4</td>\n",
       "      <td>South</td>\n",
       "      <td>01-12-2020</td>\n",
       "      <td>04-12-2020</td>\n",
       "      <td>04-12-2020</td>\n",
       "      <td>Sinina Chanderi Embroidered Salwar Suit Dupatt...</td>\n",
       "      <td>Clothing</td>\n",
       "      <td>Women's Clothing</td>\n",
       "      <td>Ethnic Wear</td>\n",
       "      <td>Fabric</td>\n",
       "      <td>FABEGGHHDFMY8BZU</td>\n",
       "      <td>2980</td>\n",
       "      <td>1490</td>\n",
       "      <td>3.0</td>\n",
       "      <td>SININA</td>\n",
       "    </tr>\n",
       "    <tr>\n",
       "      <th>8902</th>\n",
       "      <td>20a73e3f41490a73ceeba5f17658db8f</td>\n",
       "      <td>West</td>\n",
       "      <td>01-12-2020</td>\n",
       "      <td>04-12-2020</td>\n",
       "      <td>04-12-2020</td>\n",
       "      <td>Aarushi Fashion Chanderi Embroidered Salwar Su...</td>\n",
       "      <td>Clothing</td>\n",
       "      <td>Women's Clothing</td>\n",
       "      <td>Ethnic Wear</td>\n",
       "      <td>Fabric</td>\n",
       "      <td>FABEG8GFDUWRSNU3</td>\n",
       "      <td>2600</td>\n",
       "      <td>1300</td>\n",
       "      <td>1.0</td>\n",
       "      <td>AARUSHI FASHION</td>\n",
       "    </tr>\n",
       "    <tr>\n",
       "      <th>8903</th>\n",
       "      <td>5c1554cd45f9d538c2c6947dbdd59c75</td>\n",
       "      <td>East</td>\n",
       "      <td>01-12-2020</td>\n",
       "      <td>04-12-2020</td>\n",
       "      <td>04-12-2020</td>\n",
       "      <td>Ambika Lahenga Embroidered Lehenga, Choli and ...</td>\n",
       "      <td>Clothing</td>\n",
       "      <td>Women's Clothing</td>\n",
       "      <td>Ethnic Wear</td>\n",
       "      <td>Lehenga Cholis</td>\n",
       "      <td>LEHEGGEHYN4G2RPW</td>\n",
       "      <td>39992</td>\n",
       "      <td>24995</td>\n",
       "      <td>1.0</td>\n",
       "      <td>AMBIKA LAHENGA</td>\n",
       "    </tr>\n",
       "    <tr>\n",
       "      <th>8904</th>\n",
       "      <td>6b737a4deca1ed0e56c179e66036e994</td>\n",
       "      <td>West</td>\n",
       "      <td>01-12-2020</td>\n",
       "      <td>04-12-2020</td>\n",
       "      <td>04-12-2020</td>\n",
       "      <td>Sinina Chanderi Embroidered Salwar Suit Dupatt...</td>\n",
       "      <td>Clothing</td>\n",
       "      <td>Women's Clothing</td>\n",
       "      <td>Ethnic Wear</td>\n",
       "      <td>Fabric</td>\n",
       "      <td>FABEGGHHGSVCHGFV</td>\n",
       "      <td>2000</td>\n",
       "      <td>1000</td>\n",
       "      <td>3.0</td>\n",
       "      <td>SININA</td>\n",
       "    </tr>\n",
       "    <tr>\n",
       "      <th>8905</th>\n",
       "      <td>a5235ac28d3d5487f54025f9d6b57433</td>\n",
       "      <td>North</td>\n",
       "      <td>01-12-2020</td>\n",
       "      <td>04-12-2020</td>\n",
       "      <td>04-12-2020</td>\n",
       "      <td>Aarushi Fashion Silk Striped Salwar Suit Dupat...</td>\n",
       "      <td>Clothing</td>\n",
       "      <td>Women's Clothing</td>\n",
       "      <td>Ethnic Wear</td>\n",
       "      <td>Fabric</td>\n",
       "      <td>FABEG8GYDAABECZH</td>\n",
       "      <td>2800</td>\n",
       "      <td>1350</td>\n",
       "      <td>4.0</td>\n",
       "      <td>AARUSHI FASHION</td>\n",
       "    </tr>\n",
       "  </tbody>\n",
       "</table>\n",
       "<p>8906 rows × 15 columns</p>\n",
       "</div>"
      ],
      "text/plain": [
       "                      Customer_uniq_id Region  Order_Date  \\\n",
       "0     e71017e224688489edfe856f2308806d  East   24-10-2021   \n",
       "1     6286847ee2da18f587503db49511c539  East   24-10-2021   \n",
       "2     0686fec9b70e5039583a38119ca0c835   West  24-10-2021   \n",
       "3     ea2406dc597bee2abb6b867fa668501f   West  24-10-2021   \n",
       "4     5935ed077915347dc695744df68c565c  East   03-09-2021   \n",
       "...                                ...    ...         ...   \n",
       "8901  90d30478255e23621e8929ed15c2f6e4  South  01-12-2020   \n",
       "8902  20a73e3f41490a73ceeba5f17658db8f   West  01-12-2020   \n",
       "8903  5c1554cd45f9d538c2c6947dbdd59c75  East   01-12-2020   \n",
       "8904  6b737a4deca1ed0e56c179e66036e994   West  01-12-2020   \n",
       "8905  a5235ac28d3d5487f54025f9d6b57433  North  01-12-2020   \n",
       "\n",
       "     Expected_Delivery_Date Delivered_Date  \\\n",
       "0                25-10-2021     25-10-2021   \n",
       "1                25-10-2021     25-10-2021   \n",
       "2                25-10-2021     25-10-2021   \n",
       "3                25-10-2021     25-10-2021   \n",
       "4                04-09-2021     04-09-2021   \n",
       "...                     ...            ...   \n",
       "8901             04-12-2020     04-12-2020   \n",
       "8902             04-12-2020     04-12-2020   \n",
       "8903             04-12-2020     04-12-2020   \n",
       "8904             04-12-2020     04-12-2020   \n",
       "8905             04-12-2020     04-12-2020   \n",
       "\n",
       "                                           product_name product_main_category  \\\n",
       "0     Indcrown Net Embroidered Semi-stitched Lehenga...             Clothing    \n",
       "1         Shopmania Music Band A5 Notebook Spiral Bound    Pens & Stationery    \n",
       "2         Shopmania Music Band A5 Notebook Spiral Bound    Pens & Stationery    \n",
       "3     Tiara Diaries 2016-2017 Designer LA Kaarta \"TA...    Pens & Stationery    \n",
       "4                   KAJCI Embroidered Women's Waistcoat             Clothing    \n",
       "...                                                 ...                   ...   \n",
       "8901  Sinina Chanderi Embroidered Salwar Suit Dupatt...             Clothing    \n",
       "8902  Aarushi Fashion Chanderi Embroidered Salwar Su...             Clothing    \n",
       "8903  Ambika Lahenga Embroidered Lehenga, Choli and ...             Clothing    \n",
       "8904  Sinina Chanderi Embroidered Salwar Suit Dupatt...             Clothing    \n",
       "8905  Aarushi Fashion Silk Striped Salwar Suit Dupat...             Clothing    \n",
       "\n",
       "        product_subcategory product_category_filter  \\\n",
       "0         Women's Clothing             Ethnic Wear    \n",
       "1      Diaries & Notebooks               Notebooks    \n",
       "2      Diaries & Notebooks               Notebooks    \n",
       "3      Diaries & Notebooks               Notebooks    \n",
       "4         Women's Clothing             Formal Wear    \n",
       "...                     ...                     ...   \n",
       "8901      Women's Clothing             Ethnic Wear    \n",
       "8902      Women's Clothing             Ethnic Wear    \n",
       "8903      Women's Clothing             Ethnic Wear    \n",
       "8904      Women's Clothing             Ethnic Wear    \n",
       "8905      Women's Clothing             Ethnic Wear    \n",
       "\n",
       "     product_category_subfilter product_unique ID  retail_price  \\\n",
       "0                       Fabric   FABEJX2NHNKCYHKA           999   \n",
       "1                     Designer   DIAEJ6Z8BEDTGGYY           499   \n",
       "2                     Designer   DIAEJ6Z8KQFWDEGH           499   \n",
       "3                     Designer   DIAEJ8FGHZ3K86JU          1000   \n",
       "4                   Waistcoats   WSCEG2FYDYFDSVZ6          1200   \n",
       "...                         ...               ...           ...   \n",
       "8901                    Fabric   FABEGGHHDFMY8BZU          2980   \n",
       "8902                    Fabric   FABEG8GFDUWRSNU3          2600   \n",
       "8903            Lehenga Cholis   LEHEGGEHYN4G2RPW         39992   \n",
       "8904                    Fabric   FABEGGHHGSVCHGFV          2000   \n",
       "8905                    Fabric   FABEG8GYDAABECZH          2800   \n",
       "\n",
       "      discounted_price  product_rating            Brand  \n",
       "0                  699             4.0         INDCROWN  \n",
       "1                  275             1.0        SHOPMANIA  \n",
       "2                  275             2.0        SHOPMANIA  \n",
       "3                  837             3.0    TIARA DIARIES  \n",
       "4                  699             5.0            KAJCI  \n",
       "...                ...             ...              ...  \n",
       "8901              1490             3.0           SININA  \n",
       "8902              1300             1.0  AARUSHI FASHION  \n",
       "8903             24995             1.0   AMBIKA LAHENGA  \n",
       "8904              1000             3.0           SININA  \n",
       "8905              1350             4.0  AARUSHI FASHION  \n",
       "\n",
       "[8906 rows x 15 columns]"
      ]
     },
     "execution_count": 64,
     "metadata": {},
     "output_type": "execute_result"
    }
   ],
   "source": [
    "#To drop the columns prodcut_specifications and description \n",
    "ECom_Data.drop(['product_specifications','description'],axis = 1)"
   ]
  },
  {
   "cell_type": "markdown",
   "id": "7390834e",
   "metadata": {},
   "source": [
    "## With the drop function product_specifications and description has been removed  from the dataframe Ecom_Data , While axis=1 tells pandas to target columns only "
   ]
  },
  {
   "cell_type": "markdown",
   "id": "e6159f6a",
   "metadata": {},
   "source": [
    "### Ans 2 b)"
   ]
  },
  {
   "cell_type": "code",
   "execution_count": 66,
   "id": "47a63265",
   "metadata": {},
   "outputs": [],
   "source": [
    "# To delete permanently the columns (product_specifications and description)\n",
    "\n",
    "ECom_Data.drop(['product_specifications','description'],axis = 1,inplace = True )"
   ]
  },
  {
   "cell_type": "markdown",
   "id": "870a3f0b",
   "metadata": {},
   "source": [
    "## To delete permanently any columns by using (inplace = True ) ,it ensures that data changes directly to dataframe "
   ]
  },
  {
   "cell_type": "markdown",
   "id": "cde421e0",
   "metadata": {},
   "source": [
    "<font color='blue'>\n",
    "    <font size = 5>\n",
    "        The next steps in this project involves summarization of data at various levels and visualization. Apparently, such simple steps are very useful to get an overall sense of the data.\n",
    "    </font>"
   ]
  },
  {
   "cell_type": "markdown",
   "id": "41c30ad7",
   "metadata": {},
   "source": [
    "## Q 3. Here we summarize the data at Brand level.\n",
    "## a) How many unique Brand are there? (2 marks)\n",
    "## b) Note that each Brand contains multiple products. Show the average product_rating within each Brand (2 marks)\n"
   ]
  },
  {
   "cell_type": "markdown",
   "id": "beb3f83f",
   "metadata": {},
   "source": [
    "### Ans 3 a)"
   ]
  },
  {
   "cell_type": "code",
   "execution_count": 68,
   "id": "41dcb79f",
   "metadata": {},
   "outputs": [
    {
     "name": "stdout",
     "output_type": "stream",
     "text": [
      " Number of Unique Brands is : 2484\n"
     ]
    }
   ],
   "source": [
    "#Unique Brand \n",
    "\n",
    "num_unique_brand = ECom_Data['Brand'].nunique()\n",
    "\n",
    "print(f\" Number of Unique Brands is : {num_unique_brand}\")"
   ]
  },
  {
   "cell_type": "markdown",
   "id": "5083d866",
   "metadata": {},
   "source": [
    "### Ans 3 b)"
   ]
  },
  {
   "cell_type": "code",
   "execution_count": 71,
   "id": "10018c2c",
   "metadata": {},
   "outputs": [
    {
     "name": "stdout",
     "output_type": "stream",
     "text": [
      "Brand\n",
      "1OAK           1.500000\n",
      "3A AUTOCARE    3.268293\n",
      "3D MAT         3.000000\n",
      "3KFACTORY      2.000000\n",
      "4D             3.600000\n",
      "                 ...   \n",
      "ZORDEN         4.000000\n",
      "ZOSIGN         3.400000\n",
      "ZRESTHA        1.000000\n",
      "ZYXEL          3.333333\n",
      " TARKAN        5.000000\n",
      "Name: product_rating, Length: 2484, dtype: float64\n"
     ]
    }
   ],
   "source": [
    "# To compute average product_rating with each brand ,group_by() and mean() can be used together \n",
    "\n",
    "average_rating_perbrand = ECom_Data.groupby('Brand')['product_rating'].mean()\n",
    "\n",
    "print(average_rating_perbrand)"
   ]
  },
  {
   "cell_type": "markdown",
   "id": "bbf162af",
   "metadata": {},
   "source": [
    "## Q 4. Next we study the main categories of the products.\n",
    "\n",
    "## a) Create an appropriate plot to show the count of items ordered for each product_main_category. \n",
    "\n",
    "### Hint: Create a bar chart titled \"Product Category type\" where product_main_category are on x-axis and counts are on y-axis.\n",
    "\n",
    "### Note: Both axis labels, i.e. the names of the product_main_category and counts must be clearly legible. \n",
    "\n",
    "## b) From the plot identify for which two product_main_category(s)  maximum and minimum orders were placed.\n",
    "\n",
    "## c) Write code to print out the top 5 product_main_category(s)  in descending order?"
   ]
  },
  {
   "cell_type": "markdown",
   "id": "36c72928",
   "metadata": {},
   "source": [
    "### Ans 4 a)"
   ]
  },
  {
   "cell_type": "code",
   "execution_count": 16,
   "id": "5c65c13f",
   "metadata": {},
   "outputs": [
    {
     "data": {
      "image/png": "[encoded data removed]",
      "text/plain": [
       "<Figure size 1000x600 with 1 Axes>"
      ]
     },
     "metadata": {},
     "output_type": "display_data"
    }
   ],
   "source": [
    "# Grouping data by 'Product Category type' and counting the items in each category ordered\n",
    "Category_counts = ECom_Data['product_main_category'].value_counts()\n",
    "\n",
    "# Creating the bar plot \n",
    "plt.figure(figsize=(10,6))\n",
    "Category_counts.plot(kind='bar',color='skyblue')\n",
    "\n",
    "# Titles and labels\n",
    "plt.title('Product Category type')\n",
    "plt.xlabel('product_main_category')\n",
    "plt.ylabel('Counts')\n",
    "\n",
    "# Xasis labels for better readability \n",
    "plt.xticks(rotation=90)\n",
    "\n",
    "\n",
    "plt.tight_layout()\n",
    "plt.show()\n"
   ]
  },
  {
   "cell_type": "markdown",
   "id": "b86839da",
   "metadata": {},
   "source": [
    "## a) Higher sales in Clothing and Mobiles & Accessories suggest strong preferences or market trends favoring these categories \n",
    "\n",
    "## b) Categories such as Computer and Home Decor & Festive Needs show moderate sales presenting opportunities for growth "
   ]
  },
  {
   "cell_type": "markdown",
   "id": "13a5b355",
   "metadata": {},
   "source": [
    "### Ans 4 b)"
   ]
  },
  {
   "cell_type": "code",
   "execution_count": 25,
   "id": "24d3f75c",
   "metadata": {},
   "outputs": [
    {
     "name": "stdout",
     "output_type": "stream",
     "text": [
      "For maximun orders: Clothing  (2943 orders)\n",
      "For minimum orders: Wearable Smart Devices  (1 orders)\n"
     ]
    }
   ],
   "source": [
    "# Category with the maximum orders \n",
    "max_order_category = Category_counts.idxmax()\n",
    "max_order_count = Category_counts.max()\n",
    "\n",
    "# Category with the minimum orders\n",
    "min_order_category = Category_counts.idxmin()\n",
    "min_order_count = Category_counts.min()\n",
    "\n",
    "print(f\"For maximun orders: {max_order_category} ({max_order_count} orders)\")\n",
    "print(f\"For minimum orders: {min_order_category} ({min_order_count} orders)\")"
   ]
  },
  {
   "cell_type": "markdown",
   "id": "322def43",
   "metadata": {},
   "source": [
    "## From the plotted bar chart ,it's shows Clothing has recorded maximum number of orders that is 2943 orders and Wearable Smart Devices show the fewest orders that is 1 order only among the listed categories"
   ]
  },
  {
   "cell_type": "markdown",
   "id": "4ea60c92",
   "metadata": {},
   "source": [
    "### Ans 4 c)"
   ]
  },
  {
   "cell_type": "code",
   "execution_count": 26,
   "id": "7f704116",
   "metadata": {},
   "outputs": [
    {
     "name": "stdout",
     "output_type": "stream",
     "text": [
      "Clothing                       2943\n",
      "Mobiles & Accessories          1084\n",
      "Automotive                     1001\n",
      "Home Decor & Festive Needs      727\n",
      "Computers                       558\n",
      "Name: product_main_category, dtype: int64\n"
     ]
    }
   ],
   "source": [
    "# Top 5 product_main_category in descending order \n",
    "\n",
    "top_categories = ECom_Data['product_main_category'].value_counts().head(5)\n",
    "print(top_categories)"
   ]
  },
  {
   "cell_type": "markdown",
   "id": "7c1d65bc",
   "metadata": {},
   "source": [
    "## This shows there is strong demand for Clothing items and shows a substantial number of orders,reflecting a significant interest in Mobile Devices and Related accessories"
   ]
  },
  {
   "cell_type": "markdown",
   "id": "a9f81605",
   "metadata": {},
   "source": [
    "<font color='blue'>\n",
    "    <font size = 5>\n",
    "    In E-commerce, both the retailers (here brands) and the company have to make profit to sustain in the business. \n",
    "    The E-Commerce company has the following rule for computing their own revenue: </font> \n",
    "    \n",
    "####     The company charges  \n",
    "####  (i) 25% on the orders having final price (discounted price) greater than 600\n",
    "\n",
    "#### (ii) 15% on the orders having final price (discounted price) greater than 350 but less than or equal to 600\n",
    "\n",
    "#### (iii) 10% on the orders having final price (discounted price) greater than 100 but less than or equal to 350\n",
    "\n",
    "#### (iv) Otherwise, 5% on the final price (discounted price)    </font> "
   ]
  },
  {
   "cell_type": "markdown",
   "id": "0f255fea",
   "metadata": {},
   "source": [
    "## Q 5. Find the Total Revenue generated by the E-Commerce company over all orders placed. \n",
    "\n",
    "#### Hint: Calculate revenue of E-commerce company using the conditions mentioned above and then do the total (sum) of all to get total Revenue. "
   ]
  },
  {
   "cell_type": "markdown",
   "id": "1f6b8028",
   "metadata": {},
   "source": [
    "### Ans 5"
   ]
  },
  {
   "cell_type": "code",
   "execution_count": 86,
   "id": "c62d888f",
   "metadata": {},
   "outputs": [
    {
     "name": "stdout",
     "output_type": "stream",
     "text": [
      "The Total Revenue generated by the E-Commerce company is: 2217486.85\n"
     ]
    }
   ],
   "source": [
    "# Apply conditions to compute revenue for each order\n",
    "\n",
    "def calculate_revenue(discounted_price):\n",
    "    if discounted_price > 600:\n",
    "        return discounted_price * 0.25\n",
    "    elif 350 < discounted_price <= 600:\n",
    "        return discounted_price * 0.15\n",
    "    elif 100 <= discounted_price <=350:\n",
    "        return discounted_price * 0.1\n",
    "    else:\n",
    "        return discounted_price * 0.05\n",
    "    \n",
    "#Calculate revenue for each order \n",
    "ECom_Data['revenue'] = ECom_Data['discounted_price'].apply(calculate_revenue)\n",
    "\n",
    "# Calculate total revenue \n",
    "total_revenue = ECom_Data[\"revenue\"].sum()\n",
    "\n",
    "print(f'The Total Revenue generated by the E-Commerce company is: {total_revenue}')"
   ]
  },
  {
   "cell_type": "markdown",
   "id": "9161ca8c",
   "metadata": {},
   "source": [
    "<font color='blue'>\n",
    "    <font size = 5>\n",
    "    Now you need to find the revenue for each retailer (Brand)\n",
    "    </font>"
   ]
  },
  {
   "cell_type": "markdown",
   "id": "73dd23c3",
   "metadata": {},
   "source": [
    "## Q6.Calculate the total BrandRevenue and list the top 10 Brand having maximum revenue in descending order\n",
    "#### Hint: Total BrandRevenue is BrandRevenue which is generated after all the deductions. Also, BrandRevenue is different from the E-Commerce company's revenue.\n",
    "#### Brand Revenue is the discounted price minus the Revenue (generated using the conditions given above Q5)\n"
   ]
  },
  {
   "cell_type": "markdown",
   "id": "3514fa79",
   "metadata": {},
   "source": [
    "### Ans 6"
   ]
  },
  {
   "cell_type": "code",
   "execution_count": 37,
   "id": "437c69b5",
   "metadata": {},
   "outputs": [
    {
     "name": "stdout",
     "output_type": "stream",
     "text": [
      "The total brand revenue is :7522992.15\n",
      "\n",
      " Top 10 brands with maximum revenue:\n",
      "Brand\n",
      "ALLURE AUTO     498464.25\n",
      "GAGA            237390.00\n",
      "SLIM            212062.60\n",
      "DAILYOBJECTS    181980.00\n",
      "DIVINITI        143115.00\n",
      "THELOSTPUPPY    127287.50\n",
      "REGULAR         126536.50\n",
      "ENTHOPIA        123146.25\n",
      "ASUS             99241.50\n",
      "SPRINGWEL        88978.50\n",
      "Name: brand_revenue, dtype: float64\n"
     ]
    }
   ],
   "source": [
    "# First of all calculate Brand Revenue \n",
    "\n",
    "def calculate_brand_revenue(row):\n",
    "    discounted_price = row['discounted_price']\n",
    "    revenue = calculate_revenue(discounted_price)\n",
    "    brand_revenue = discounted_price - revenue\n",
    "    return brand_revenue\n",
    "\n",
    "#Apply the condition to calculate Brand Revenue for each brand \n",
    "ECom_Data['brand_revenue'] = ECom_Data.apply(calculate_brand_revenue, axis=1)\n",
    "\n",
    "#Total brand revenue \n",
    "total_brand_revenue = ECom_Data['brand_revenue'].sum()\n",
    "\n",
    "#Group by brand and sum the brand revenue for each brand\n",
    "brandwise_revenue = ECom_Data.groupby('Brand')['brand_revenue'].sum().sort_values(ascending=False)\n",
    "\n",
    "#Top 10 brands with maximum revenue \n",
    "top_10_brands = brandwise_revenue.head(10)\n",
    "\n",
    "\n",
    "print(f'The total brand revenue is :{total_brand_revenue}')\n",
    "print(\"\\n Top 10 brands with maximum revenue:\")\n",
    "print(top_10_brands)"
   ]
  },
  {
   "cell_type": "markdown",
   "id": "2a2bbd83",
   "metadata": {},
   "source": [
    "<font color='blue'>\n",
    "    <font size = 5>\n",
    "Let us now investigate multiple features for each product to determine any pattern.\n",
    "</font>"
   ]
  },
  {
   "cell_type": "markdown",
   "id": "1aa1834b",
   "metadata": {},
   "source": [
    "## Q 7. Compare prices for each product.\n",
    "\n",
    "## a)\tDraw boxplots of retail_price & discounted_price. \n",
    "\n",
    "## b)\t Are there any outliers? (Yes/No) \n",
    "\n",
    "## c)\tCreate a scatterplot of retail_price (x-axis) and discounted_price (y-axis)"
   ]
  },
  {
   "cell_type": "markdown",
   "id": "d5aae861",
   "metadata": {},
   "source": [
    "### Ans 7 a)"
   ]
  },
  {
   "cell_type": "code",
   "execution_count": 9,
   "id": "510fd4d0",
   "metadata": {},
   "outputs": [
    {
     "data": {
      "image/png": "[encoded data removed]",
      "text/plain": [
       "<Figure size 1600x700 with 2 Axes>"
      ]
     },
     "metadata": {},
     "output_type": "display_data"
    }
   ],
   "source": [
    "# Draw Box plots of retail_price and discounted_price\n",
    "plt.figure(figsize=(16,7))\n",
    "\n",
    "#Boxplot for retail_price\n",
    "plt.subplot(1,2,1)\n",
    "sns.boxplot(y='retail_price',data = ECom_Data,whis= 1.5, showfliers = False)\n",
    "plt.title('Boxplot of Retail Price')\n",
    "\n",
    "\n",
    "#Box plot of Discounted_price\n",
    "plt.subplot(1,2,2)\n",
    "sns.boxplot(y='discounted_price',data = ECom_Data,whis = 1.5 , showfliers = False)\n",
    "plt.title('Boxplot of Discounted_price')\n",
    "\n",
    "plt.show()"
   ]
  },
  {
   "cell_type": "markdown",
   "id": "78b92e7c",
   "metadata": {},
   "source": [
    "### Ans 7 b)"
   ]
  },
  {
   "cell_type": "code",
   "execution_count": 10,
   "id": "0af7c034",
   "metadata": {},
   "outputs": [
    {
     "name": "stdout",
     "output_type": "stream",
     "text": [
      "a) Are there any outliers ? True\n"
     ]
    }
   ],
   "source": [
    "# Are there are Outliers and to find these \n",
    "\n",
    "outliers_retail_price = ECom_Data['retail_price'].quantile(0.75) + 1.5 * (ECom_Data['retail_price'].quantile(0.75)-ECom_Data['retail_price'].quantile(0.25))\n",
    "outliers_discounted_price = ECom_Data['discounted_price'].quantile(0.75)+1.5 * (ECom_Data['discounted_price'].quantile(0.75)-ECom_Data['discounted_price'].quantile(0.25))\n",
    "\n",
    "\n",
    "are_there_outliers = (ECom_Data['retail_price']>outliers_retail_price) | (ECom_Data['discounted_price'] > outliers_discounted_price)\n",
    "\n",
    "\n",
    "print(f'a) Are there any outliers ? {are_there_outliers.any()}')"
   ]
  },
  {
   "cell_type": "markdown",
   "id": "eca3429d",
   "metadata": {},
   "source": [
    "## The calculated threshold for identifying outliers using the IQR method is 4402.5 for retail_price and 2472.5 for discounted_price"
   ]
  },
  {
   "cell_type": "markdown",
   "id": "0389c9b8",
   "metadata": {},
   "source": [
    "### Ans 7 c)"
   ]
  },
  {
   "cell_type": "code",
   "execution_count": 12,
   "id": "d8c44be9",
   "metadata": {},
   "outputs": [
    {
     "data": {
      "text/plain": [
       "<function matplotlib.pyplot.show(close=None, block=None)>"
      ]
     },
     "execution_count": 12,
     "metadata": {},
     "output_type": "execute_result"
    },
    {
     "data": {
      "image/png": "[encoded data removed]",
      "text/plain": [
       "<Figure size 800x600 with 1 Axes>"
      ]
     },
     "metadata": {},
     "output_type": "display_data"
    }
   ],
   "source": [
    "# Create a scatterplot of retail_price(x_axis) and discounted_price(y_axis)\n",
    "\n",
    "plt.figure(figsize = (8,6))\n",
    "sns.scatterplot(x='retail_price' , y='discounted_price',data=ECom_Data)\n",
    "plt.title('Scatterplot of Retail Price vs Discounted Price')\n",
    "plt.xlabel('Retail Price')\n",
    "plt.ylabel('Discounted Price')\n",
    "plt.show"
   ]
  },
  {
   "cell_type": "markdown",
   "id": "9129ede8",
   "metadata": {},
   "source": [
    "# This scatterplot shows the negative correlation between the variables "
   ]
  },
  {
   "cell_type": "markdown",
   "id": "3bc47f55",
   "metadata": {},
   "source": [
    "<font color='blue'>\n",
    "    <font size = 5>\n",
    "    The next steps will enable to study brand-level information.\n",
    "    </font>"
   ]
  },
  {
   "cell_type": "markdown",
   "id": "b9bd00f7",
   "metadata": {},
   "source": [
    "## Q 8. Create a new dataframe to include the Brand specific information as stated:\n",
    "## i.\ttotal number of orders placed per Brand\n",
    "## ii.\ttotal retail_price per Brand\n",
    "## iii.\ttotal discounted_price per Brand, and \n",
    "## iv.\ttotal BrandRevenue generated per Brand. \n",
    "\n",
    "## Also, draw a pairplot using these four features. (6 marks)\n"
   ]
  },
  {
   "cell_type": "markdown",
   "id": "8f83cea9",
   "metadata": {},
   "source": [
    "### Ans 8"
   ]
  },
  {
   "cell_type": "code",
   "execution_count": 57,
   "id": "ae749847",
   "metadata": {},
   "outputs": [
    {
     "data": {
      "image/png": "[encoded data removed]",
      "text/plain": [
       "<Figure size 1000x1000 with 20 Axes>"
      ]
     },
     "metadata": {},
     "output_type": "display_data"
    },
    {
     "name": "stdout",
     "output_type": "stream",
     "text": [
      "            Brand  Customer_uniq_id  retail_price  discounted_price  \\\n",
      "0            1OAK                 2          1698              1274   \n",
      "1     3A AUTOCARE                41        107059             74134   \n",
      "2          3D MAT                 1          7250              6999   \n",
      "3       3KFACTORY                 1           399               174   \n",
      "4              4D                 5         17500              7948   \n",
      "...           ...               ...           ...               ...   \n",
      "2479       ZORDEN                 1          3999              2799   \n",
      "2480       ZOSIGN                 5          6995              6995   \n",
      "2481      ZRESTHA                 1          1999               899   \n",
      "2482        ZYXEL                 9         64742             35392   \n",
      "2483       TARKAN                 1          1999               349   \n",
      "\n",
      "      Brand_Revenue  \n",
      "0            258.60  \n",
      "1          18486.10  \n",
      "2           1749.75  \n",
      "3             17.40  \n",
      "4           1987.00  \n",
      "...             ...  \n",
      "2479         699.75  \n",
      "2480        1748.75  \n",
      "2481         224.75  \n",
      "2482        8848.00  \n",
      "2483          52.35  \n",
      "\n",
      "[2484 rows x 5 columns]\n"
     ]
    }
   ],
   "source": [
    "# Group by Brand and calculate aggregate values \n",
    "\n",
    "\n",
    "# Calculate Brand Revenue based on conditions\n",
    "ECom_Data['Brand_Revenue'] = ECom_Data['discounted_price'].apply(\n",
    "    lambda x: x * 0.25 if x > 600 else (x * 0.15 if 250 < x <= 600 else (x * 0.10 if 100 < x <= 350 else x * 0.05)))\n",
    "\n",
    "\n",
    "brand_info = ECom_Data.groupby('Brand').agg({\n",
    "    'Customer_uniq_id' : 'nunique',\n",
    "    'retail_price' : 'sum',\n",
    "    'discounted_price' : 'sum',\n",
    "    'Brand_Revenue': 'sum',\n",
    "}).reset_index()\n",
    "\n",
    "\n",
    "# Pairplot\n",
    "sns.pairplot(brand_info, diag_kind = 'kde')\n",
    "plt.suptitle('Pairplot of Brand-specific Information')\n",
    "plt.show()\n",
    "\n",
    "\n",
    "#New dataframe\n",
    "print(brand_info)"
   ]
  },
  {
   "cell_type": "markdown",
   "id": "ecec83f4",
   "metadata": {},
   "source": [
    "<font color='blue'>\n",
    "    <font size = 5>\n",
    "    The E-Commerce company operate in multiple regions. It is important to understand its performance in each region.\n",
    "    </font>"
   ]
  },
  {
   "cell_type": "markdown",
   "id": "dd09b8aa",
   "metadata": {},
   "source": [
    "## Q 9.Compare performance regionwise\n",
    "\n",
    "## a)\tDraw a lineplot for the monthly Revenue of E-Commerce Company for each region separately.  \n",
    "\n",
    "## b)\tIdentify the best and the worst performing months for each region. \n",
    "\n",
    "#### Note: Only those days with actual orders(Order_Date) placed are present in the dataset. Assuming there were no orders on other days. Also, show Month and Year on x-axis."
   ]
  },
  {
   "cell_type": "markdown",
   "id": "e6d64aea",
   "metadata": {},
   "source": [
    "### Ans 9 a)"
   ]
  },
  {
   "cell_type": "code",
   "execution_count": 58,
   "id": "2bfba1e3",
   "metadata": {},
   "outputs": [],
   "source": [
    "#Converts Order_Date data type\n",
    "ECom_Data['Order_Date']=pd.to_datetime(ECom_Data['Order_Date'],dayfirst=True)"
   ]
  },
  {
   "cell_type": "code",
   "execution_count": 94,
   "id": "a4eda209",
   "metadata": {},
   "outputs": [
    {
     "data": {
      "text/plain": [
       "Month\n",
       "1     823622.70\n",
       "2      64534.00\n",
       "3     242478.80\n",
       "4     218994.55\n",
       "5      38525.25\n",
       "        ...    \n",
       "8       2492.20\n",
       "9      14563.25\n",
       "10     21608.45\n",
       "11     58336.05\n",
       "12    371653.70\n",
       "Name: revenue, Length: 12, dtype: float64"
      ]
     },
     "execution_count": 94,
     "metadata": {},
     "output_type": "execute_result"
    }
   ],
   "source": [
    "#Creats a month column using the orderdates\n",
    "\n",
    "ECom_Data['Month']=ECom_Data['Order_Date'].dt.month\n",
    "ECom_Data['Order_Date'].dt.month\n",
    "\n",
    "ECom_Data.groupby('Month')['revenue'].sum()"
   ]
  },
  {
   "cell_type": "code",
   "execution_count": 92,
   "id": "fa60d307",
   "metadata": {},
   "outputs": [
    {
     "data": {
      "image/png": "[encoded data removed]",
      "text/plain": [
       "<Figure size 1000x500 with 1 Axes>"
      ]
     },
     "metadata": {},
     "output_type": "display_data"
    }
   ],
   "source": [
    "# Convert 'Order_Date' column to datetime\n",
    "ECom_Data['Order_Date'] = pd.to_datetime(ECom_Data['Order_Date'], dayfirst = True)\n",
    "\n",
    "# Extract the month from 'Order_Date'\n",
    "ECom_Data['Month'] = ECom_Data['Order_Date'].dt.month\n",
    "\n",
    "#Create a line plot for the monthly revenue of each region \n",
    "plt.figure(figsize=(10,5))\n",
    "sns.lineplot(data=ECom_Data, x='Month', y='revenue',hue = 'Region')\n",
    "plt.title('Monthly Revenue by Region')\n",
    "plt.xlabel('Month')\n",
    "plt.ylabel('revenue')\n",
    "plt.xticks(range(1, 13))\n",
    "plt.show()"
   ]
  },
  {
   "cell_type": "markdown",
   "id": "dac59dc4",
   "metadata": {},
   "source": [
    "### Ans 9 b)"
   ]
  },
  {
   "cell_type": "code",
   "execution_count": 68,
   "id": "c4a56e60",
   "metadata": {},
   "outputs": [
    {
     "data": {
      "text/plain": [
       "Month\n",
       "1     823622.70\n",
       "2      64534.00\n",
       "3     242478.80\n",
       "4     218994.55\n",
       "5      38525.25\n",
       "        ...    \n",
       "8       2492.20\n",
       "9      14563.25\n",
       "10     21608.45\n",
       "11     58336.05\n",
       "12    371653.70\n",
       "Name: revenue, Length: 12, dtype: float64"
      ]
     },
     "execution_count": 68,
     "metadata": {},
     "output_type": "execute_result"
    }
   ],
   "source": []
  },
  {
   "cell_type": "code",
   "execution_count": 107,
   "id": "e4da5634",
   "metadata": {},
   "outputs": [
    {
     "name": "stdout",
     "output_type": "stream",
     "text": [
      "Best Performing Months by Region:\n",
      "   Region Order_Date    revenue\n",
      "0   East  2020-01-31  241836.30\n",
      "17  North 2020-01-31  140183.95\n",
      "37  South 2020-12-31   47473.45\n",
      "50   West 2020-01-31  196726.80\n",
      "\n",
      "Worst Performing Months by Region:\n",
      "   Region Order_Date  revenue\n",
      "12  East  2021-08-31   892.10\n",
      "29  North 2021-08-31   442.10\n",
      "45  South 2021-08-31   421.25\n",
      "62   West 2021-08-31   736.75\n"
     ]
    }
   ],
   "source": [
    "#Calculate the monthly revenue for each region\n",
    "monthly_revenue = ECom_Data.groupby(['Region', pd.Grouper(key='Order_Date', freq='M')])['revenue'].sum().reset_index()\n",
    "\n",
    "# Find the best and worst performing months for each region\n",
    "best_months = monthly_revenue.groupby('Region')['revenue'].idxmax()\n",
    "worst_months = monthly_revenue.groupby('Region')['revenue'].idxmin()\n",
    "\n",
    "best_performance = monthly_revenue.loc[best_months, ['Region', 'Order_Date', 'revenue']]\n",
    "worst_performance = monthly_revenue.loc[worst_months, ['Region', 'Order_Date', 'revenue']]\n",
    "\n",
    "print(\"Best Performing Months by Region:\")\n",
    "print(best_performance)\n",
    "print(\"\\nWorst Performing Months by Region:\")\n",
    "print(worst_performance)"
   ]
  },
  {
   "cell_type": "markdown",
   "id": "dcb8d39f",
   "metadata": {},
   "source": []
  }
 ],
 "metadata": {
  "kernelspec": {
   "display_name": "Python 3",
   "language": "python",
   "name": "python3"
  },
  "language_info": {
   "codemirror_mode": {
    "name": "ipython",
    "version": 3
   },
   "file_extension": ".py",
   "mimetype": "text/x-python",
   "name": "python",
   "nbconvert_exporter": "python",
   "pygments_lexer": "ipython3",
   "version": "3.11.4"
  }
 },
 "nbformat": 4,
 "nbformat_minor": 5
}
