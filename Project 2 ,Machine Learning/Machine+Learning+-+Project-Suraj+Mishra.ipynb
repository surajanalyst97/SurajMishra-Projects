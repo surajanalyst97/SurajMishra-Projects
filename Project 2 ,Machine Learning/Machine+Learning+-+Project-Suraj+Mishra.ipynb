{
 "cells": [
  {
   "cell_type": "markdown",
   "id": "95201dd9",
   "metadata": {},
   "source": [
    "## Machine Learning -1 Graded Project"
   ]
  },
  {
   "cell_type": "markdown",
   "id": "bbaabc02",
   "metadata": {},
   "source": [
    "### Clustering:\n",
    "\n",
    "Digital Ads Data:\n",
    "\n",
    "The ads24x7 is a Digital Marketing company which has now got seed funding of $10 Million. They are expanding their wings in Marketing Analytics. They collected data from their Marketing Intelligence team and now wants you (their newly appointed data analyst) to segment type of ads based on the features provided. Use Clustering procedure to segment ads into homogeneous groups."
   ]
  },
  {
   "cell_type": "markdown",
   "id": "d3501f50",
   "metadata": {},
   "source": [
    "### The following three features are commonly used in digital marketing:\n",
    "\n",
    "CPM = (Total Campaign Spend / Number of Impressions) * 1,000. Note that the Total Campaign Spend refers to the 'Spend' Column in the dataset and the Number of Impressions refers to the 'Impressions' Column in the dataset. \n",
    "\n",
    "CPC = Total Cost (spend) / Number of Clicks.  Note that the Total Cost (spend) refers to the 'Spend' Column in the dataset and the Number of Clicks refers to the 'Clicks' Column in the dataset. \n",
    "\n",
    "CTR = Total Measured Clicks / Total Measured Ad Impressions x 100. Note that the Total Measured Clicks refers to the 'Clicks' Column in the dataset and the Total Measured Ad Impressions refers to the 'Impressions' Column in the dataset. "
   ]
  },
  {
   "cell_type": "code",
   "execution_count": 52,
   "id": "5fe54e46",
   "metadata": {},
   "outputs": [],
   "source": [
    "## Import Libraries and load data \n",
    " \n",
    "import pandas as pd \n",
    "from sklearn.cluster import KMeans\n",
    "import matplotlib.pyplot as plt \n",
    "import seaborn as sns\n",
    "import numpy as np"
   ]
  },
  {
   "cell_type": "markdown",
   "id": "c5bffee0",
   "metadata": {},
   "source": [
    "## Read the data and perform basic analysis such as printing a few rows (head and tail), info, data summary, null values duplicate values, etc."
   ]
  },
  {
   "cell_type": "code",
   "execution_count": 53,
   "id": "c3605443",
   "metadata": {},
   "outputs": [],
   "source": [
    "data = pd.read_excel(\"Clustering+Clean+Ads_Data.xlsx\")\n"
   ]
  },
  {
   "cell_type": "code",
   "execution_count": 54,
   "id": "22ca601a",
   "metadata": {},
   "outputs": [
    {
     "data": {
      "text/html": [
       "<div>\n",
       "<style scoped>\n",
       "    .dataframe tbody tr th:only-of-type {\n",
       "        vertical-align: middle;\n",
       "    }\n",
       "\n",
       "    .dataframe tbody tr th {\n",
       "        vertical-align: top;\n",
       "    }\n",
       "\n",
       "    .dataframe thead th {\n",
       "        text-align: right;\n",
       "    }\n",
       "</style>\n",
       "<table border=\"1\" class=\"dataframe\">\n",
       "  <thead>\n",
       "    <tr style=\"text-align: right;\">\n",
       "      <th></th>\n",
       "      <th>Timestamp</th>\n",
       "      <th>InventoryType</th>\n",
       "      <th>Ad - Length</th>\n",
       "      <th>Ad- Width</th>\n",
       "      <th>Ad Size</th>\n",
       "      <th>Ad Type</th>\n",
       "      <th>Platform</th>\n",
       "      <th>Device Type</th>\n",
       "      <th>Format</th>\n",
       "      <th>Available_Impressions</th>\n",
       "      <th>Matched_Queries</th>\n",
       "      <th>Impressions</th>\n",
       "      <th>Clicks</th>\n",
       "      <th>Spend</th>\n",
       "      <th>Fee</th>\n",
       "      <th>Revenue</th>\n",
       "      <th>CTR</th>\n",
       "      <th>CPM</th>\n",
       "      <th>CPC</th>\n",
       "    </tr>\n",
       "  </thead>\n",
       "  <tbody>\n",
       "    <tr>\n",
       "      <th>0</th>\n",
       "      <td>2020-9-2-17</td>\n",
       "      <td>Format1</td>\n",
       "      <td>300</td>\n",
       "      <td>250</td>\n",
       "      <td>75000</td>\n",
       "      <td>Inter222</td>\n",
       "      <td>Video</td>\n",
       "      <td>Desktop</td>\n",
       "      <td>Display</td>\n",
       "      <td>1806</td>\n",
       "      <td>325</td>\n",
       "      <td>323</td>\n",
       "      <td>1</td>\n",
       "      <td>0.0</td>\n",
       "      <td>0.35</td>\n",
       "      <td>0.0</td>\n",
       "      <td>0.0031</td>\n",
       "      <td>0.0</td>\n",
       "      <td>0.0</td>\n",
       "    </tr>\n",
       "    <tr>\n",
       "      <th>1</th>\n",
       "      <td>2020-9-2-10</td>\n",
       "      <td>Format1</td>\n",
       "      <td>300</td>\n",
       "      <td>250</td>\n",
       "      <td>75000</td>\n",
       "      <td>Inter227</td>\n",
       "      <td>App</td>\n",
       "      <td>Mobile</td>\n",
       "      <td>Video</td>\n",
       "      <td>1780</td>\n",
       "      <td>285</td>\n",
       "      <td>285</td>\n",
       "      <td>1</td>\n",
       "      <td>0.0</td>\n",
       "      <td>0.35</td>\n",
       "      <td>0.0</td>\n",
       "      <td>0.0035</td>\n",
       "      <td>0.0</td>\n",
       "      <td>0.0</td>\n",
       "    </tr>\n",
       "    <tr>\n",
       "      <th>2</th>\n",
       "      <td>2020-9-1-22</td>\n",
       "      <td>Format1</td>\n",
       "      <td>300</td>\n",
       "      <td>250</td>\n",
       "      <td>75000</td>\n",
       "      <td>Inter222</td>\n",
       "      <td>Video</td>\n",
       "      <td>Desktop</td>\n",
       "      <td>Display</td>\n",
       "      <td>2727</td>\n",
       "      <td>356</td>\n",
       "      <td>355</td>\n",
       "      <td>1</td>\n",
       "      <td>0.0</td>\n",
       "      <td>0.35</td>\n",
       "      <td>0.0</td>\n",
       "      <td>0.0028</td>\n",
       "      <td>0.0</td>\n",
       "      <td>0.0</td>\n",
       "    </tr>\n",
       "    <tr>\n",
       "      <th>3</th>\n",
       "      <td>2020-9-3-20</td>\n",
       "      <td>Format1</td>\n",
       "      <td>300</td>\n",
       "      <td>250</td>\n",
       "      <td>75000</td>\n",
       "      <td>Inter228</td>\n",
       "      <td>Video</td>\n",
       "      <td>Mobile</td>\n",
       "      <td>Video</td>\n",
       "      <td>2430</td>\n",
       "      <td>497</td>\n",
       "      <td>495</td>\n",
       "      <td>1</td>\n",
       "      <td>0.0</td>\n",
       "      <td>0.35</td>\n",
       "      <td>0.0</td>\n",
       "      <td>0.0020</td>\n",
       "      <td>0.0</td>\n",
       "      <td>0.0</td>\n",
       "    </tr>\n",
       "    <tr>\n",
       "      <th>4</th>\n",
       "      <td>2020-9-4-15</td>\n",
       "      <td>Format1</td>\n",
       "      <td>300</td>\n",
       "      <td>250</td>\n",
       "      <td>75000</td>\n",
       "      <td>Inter217</td>\n",
       "      <td>Web</td>\n",
       "      <td>Desktop</td>\n",
       "      <td>Video</td>\n",
       "      <td>1218</td>\n",
       "      <td>242</td>\n",
       "      <td>242</td>\n",
       "      <td>1</td>\n",
       "      <td>0.0</td>\n",
       "      <td>0.35</td>\n",
       "      <td>0.0</td>\n",
       "      <td>0.0041</td>\n",
       "      <td>0.0</td>\n",
       "      <td>0.0</td>\n",
       "    </tr>\n",
       "  </tbody>\n",
       "</table>\n",
       "</div>"
      ],
      "text/plain": [
       "     Timestamp InventoryType  Ad - Length  Ad- Width  Ad Size   Ad Type  \\\n",
       "0  2020-9-2-17       Format1          300        250    75000  Inter222   \n",
       "1  2020-9-2-10       Format1          300        250    75000  Inter227   \n",
       "2  2020-9-1-22       Format1          300        250    75000  Inter222   \n",
       "3  2020-9-3-20       Format1          300        250    75000  Inter228   \n",
       "4  2020-9-4-15       Format1          300        250    75000  Inter217   \n",
       "\n",
       "  Platform Device Type   Format  Available_Impressions  Matched_Queries  \\\n",
       "0    Video     Desktop  Display                   1806              325   \n",
       "1      App      Mobile    Video                   1780              285   \n",
       "2    Video     Desktop  Display                   2727              356   \n",
       "3    Video      Mobile    Video                   2430              497   \n",
       "4      Web     Desktop    Video                   1218              242   \n",
       "\n",
       "   Impressions  Clicks  Spend   Fee  Revenue     CTR  CPM  CPC  \n",
       "0          323       1    0.0  0.35      0.0  0.0031  0.0  0.0  \n",
       "1          285       1    0.0  0.35      0.0  0.0035  0.0  0.0  \n",
       "2          355       1    0.0  0.35      0.0  0.0028  0.0  0.0  \n",
       "3          495       1    0.0  0.35      0.0  0.0020  0.0  0.0  \n",
       "4          242       1    0.0  0.35      0.0  0.0041  0.0  0.0  "
      ]
     },
     "execution_count": 54,
     "metadata": {},
     "output_type": "execute_result"
    }
   ],
   "source": [
    "data.head(5)"
   ]
  },
  {
   "cell_type": "code",
   "execution_count": 55,
   "id": "821a3a8a",
   "metadata": {},
   "outputs": [
    {
     "data": {
      "text/html": [
       "<div>\n",
       "<style scoped>\n",
       "    .dataframe tbody tr th:only-of-type {\n",
       "        vertical-align: middle;\n",
       "    }\n",
       "\n",
       "    .dataframe tbody tr th {\n",
       "        vertical-align: top;\n",
       "    }\n",
       "\n",
       "    .dataframe thead th {\n",
       "        text-align: right;\n",
       "    }\n",
       "</style>\n",
       "<table border=\"1\" class=\"dataframe\">\n",
       "  <thead>\n",
       "    <tr style=\"text-align: right;\">\n",
       "      <th></th>\n",
       "      <th>Timestamp</th>\n",
       "      <th>InventoryType</th>\n",
       "      <th>Ad - Length</th>\n",
       "      <th>Ad- Width</th>\n",
       "      <th>Ad Size</th>\n",
       "      <th>Ad Type</th>\n",
       "      <th>Platform</th>\n",
       "      <th>Device Type</th>\n",
       "      <th>Format</th>\n",
       "      <th>Available_Impressions</th>\n",
       "      <th>Matched_Queries</th>\n",
       "      <th>Impressions</th>\n",
       "      <th>Clicks</th>\n",
       "      <th>Spend</th>\n",
       "      <th>Fee</th>\n",
       "      <th>Revenue</th>\n",
       "      <th>CTR</th>\n",
       "      <th>CPM</th>\n",
       "      <th>CPC</th>\n",
       "    </tr>\n",
       "  </thead>\n",
       "  <tbody>\n",
       "    <tr>\n",
       "      <th>23061</th>\n",
       "      <td>2020-9-13-7</td>\n",
       "      <td>Format5</td>\n",
       "      <td>720</td>\n",
       "      <td>300</td>\n",
       "      <td>216000</td>\n",
       "      <td>Inter220</td>\n",
       "      <td>Web</td>\n",
       "      <td>Mobile</td>\n",
       "      <td>Video</td>\n",
       "      <td>1</td>\n",
       "      <td>1</td>\n",
       "      <td>1</td>\n",
       "      <td>1</td>\n",
       "      <td>0.07</td>\n",
       "      <td>0.35</td>\n",
       "      <td>0.0455</td>\n",
       "      <td>NaN</td>\n",
       "      <td>NaN</td>\n",
       "      <td>NaN</td>\n",
       "    </tr>\n",
       "    <tr>\n",
       "      <th>23062</th>\n",
       "      <td>2020-11-2-7</td>\n",
       "      <td>Format5</td>\n",
       "      <td>720</td>\n",
       "      <td>300</td>\n",
       "      <td>216000</td>\n",
       "      <td>Inter224</td>\n",
       "      <td>Web</td>\n",
       "      <td>Desktop</td>\n",
       "      <td>Video</td>\n",
       "      <td>3</td>\n",
       "      <td>2</td>\n",
       "      <td>2</td>\n",
       "      <td>1</td>\n",
       "      <td>0.04</td>\n",
       "      <td>0.35</td>\n",
       "      <td>0.0260</td>\n",
       "      <td>NaN</td>\n",
       "      <td>NaN</td>\n",
       "      <td>NaN</td>\n",
       "    </tr>\n",
       "    <tr>\n",
       "      <th>23063</th>\n",
       "      <td>2020-9-14-22</td>\n",
       "      <td>Format5</td>\n",
       "      <td>720</td>\n",
       "      <td>300</td>\n",
       "      <td>216000</td>\n",
       "      <td>Inter218</td>\n",
       "      <td>App</td>\n",
       "      <td>Mobile</td>\n",
       "      <td>Video</td>\n",
       "      <td>2</td>\n",
       "      <td>1</td>\n",
       "      <td>1</td>\n",
       "      <td>1</td>\n",
       "      <td>0.05</td>\n",
       "      <td>0.35</td>\n",
       "      <td>0.0325</td>\n",
       "      <td>NaN</td>\n",
       "      <td>NaN</td>\n",
       "      <td>NaN</td>\n",
       "    </tr>\n",
       "    <tr>\n",
       "      <th>23064</th>\n",
       "      <td>2020-11-18-2</td>\n",
       "      <td>Format4</td>\n",
       "      <td>120</td>\n",
       "      <td>600</td>\n",
       "      <td>72000</td>\n",
       "      <td>inter230</td>\n",
       "      <td>Video</td>\n",
       "      <td>Mobile</td>\n",
       "      <td>Video</td>\n",
       "      <td>7</td>\n",
       "      <td>1</td>\n",
       "      <td>1</td>\n",
       "      <td>1</td>\n",
       "      <td>0.07</td>\n",
       "      <td>0.35</td>\n",
       "      <td>0.0455</td>\n",
       "      <td>NaN</td>\n",
       "      <td>NaN</td>\n",
       "      <td>NaN</td>\n",
       "    </tr>\n",
       "    <tr>\n",
       "      <th>23065</th>\n",
       "      <td>2020-9-14-0</td>\n",
       "      <td>Format5</td>\n",
       "      <td>720</td>\n",
       "      <td>300</td>\n",
       "      <td>216000</td>\n",
       "      <td>Inter221</td>\n",
       "      <td>App</td>\n",
       "      <td>Mobile</td>\n",
       "      <td>Video</td>\n",
       "      <td>2</td>\n",
       "      <td>2</td>\n",
       "      <td>2</td>\n",
       "      <td>1</td>\n",
       "      <td>0.09</td>\n",
       "      <td>0.35</td>\n",
       "      <td>0.0585</td>\n",
       "      <td>NaN</td>\n",
       "      <td>NaN</td>\n",
       "      <td>NaN</td>\n",
       "    </tr>\n",
       "  </tbody>\n",
       "</table>\n",
       "</div>"
      ],
      "text/plain": [
       "          Timestamp InventoryType  Ad - Length  Ad- Width  Ad Size   Ad Type  \\\n",
       "23061   2020-9-13-7       Format5          720        300   216000  Inter220   \n",
       "23062   2020-11-2-7       Format5          720        300   216000  Inter224   \n",
       "23063  2020-9-14-22       Format5          720        300   216000  Inter218   \n",
       "23064  2020-11-18-2       Format4          120        600    72000  inter230   \n",
       "23065   2020-9-14-0       Format5          720        300   216000  Inter221   \n",
       "\n",
       "      Platform Device Type Format  Available_Impressions  Matched_Queries  \\\n",
       "23061      Web      Mobile  Video                      1                1   \n",
       "23062      Web     Desktop  Video                      3                2   \n",
       "23063      App      Mobile  Video                      2                1   \n",
       "23064    Video      Mobile  Video                      7                1   \n",
       "23065      App      Mobile  Video                      2                2   \n",
       "\n",
       "       Impressions  Clicks  Spend   Fee  Revenue  CTR  CPM  CPC  \n",
       "23061            1       1   0.07  0.35   0.0455  NaN  NaN  NaN  \n",
       "23062            2       1   0.04  0.35   0.0260  NaN  NaN  NaN  \n",
       "23063            1       1   0.05  0.35   0.0325  NaN  NaN  NaN  \n",
       "23064            1       1   0.07  0.35   0.0455  NaN  NaN  NaN  \n",
       "23065            2       1   0.09  0.35   0.0585  NaN  NaN  NaN  "
      ]
     },
     "execution_count": 55,
     "metadata": {},
     "output_type": "execute_result"
    }
   ],
   "source": [
    "data.tail()"
   ]
  },
  {
   "cell_type": "code",
   "execution_count": 56,
   "id": "f601d584",
   "metadata": {},
   "outputs": [
    {
     "name": "stdout",
     "output_type": "stream",
     "text": [
      "<class 'pandas.core.frame.DataFrame'>\n",
      "RangeIndex: 23066 entries, 0 to 23065\n",
      "Data columns (total 19 columns):\n",
      " #   Column                 Non-Null Count  Dtype  \n",
      "---  ------                 --------------  -----  \n",
      " 0   Timestamp              23066 non-null  object \n",
      " 1   InventoryType          23066 non-null  object \n",
      " 2   Ad - Length            23066 non-null  int64  \n",
      " 3   Ad- Width              23066 non-null  int64  \n",
      " 4   Ad Size                23066 non-null  int64  \n",
      " 5   Ad Type                23066 non-null  object \n",
      " 6   Platform               23066 non-null  object \n",
      " 7   Device Type            23066 non-null  object \n",
      " 8   Format                 23066 non-null  object \n",
      " 9   Available_Impressions  23066 non-null  int64  \n",
      " 10  Matched_Queries        23066 non-null  int64  \n",
      " 11  Impressions            23066 non-null  int64  \n",
      " 12  Clicks                 23066 non-null  int64  \n",
      " 13  Spend                  23066 non-null  float64\n",
      " 14  Fee                    23066 non-null  float64\n",
      " 15  Revenue                23066 non-null  float64\n",
      " 16  CTR                    18330 non-null  float64\n",
      " 17  CPM                    18330 non-null  float64\n",
      " 18  CPC                    18330 non-null  float64\n",
      "dtypes: float64(6), int64(7), object(6)\n",
      "memory usage: 3.3+ MB\n"
     ]
    }
   ],
   "source": [
    "data.info()"
   ]
  },
  {
   "cell_type": "markdown",
   "id": "9e7994f8",
   "metadata": {},
   "source": [
    "### Checking for Summary Statistic"
   ]
  },
  {
   "cell_type": "code",
   "execution_count": 57,
   "id": "c86898f6",
   "metadata": {},
   "outputs": [
    {
     "data": {
      "text/html": [
       "<div>\n",
       "<style scoped>\n",
       "    .dataframe tbody tr th:only-of-type {\n",
       "        vertical-align: middle;\n",
       "    }\n",
       "\n",
       "    .dataframe tbody tr th {\n",
       "        vertical-align: top;\n",
       "    }\n",
       "\n",
       "    .dataframe thead th {\n",
       "        text-align: right;\n",
       "    }\n",
       "</style>\n",
       "<table border=\"1\" class=\"dataframe\">\n",
       "  <thead>\n",
       "    <tr style=\"text-align: right;\">\n",
       "      <th></th>\n",
       "      <th>Ad - Length</th>\n",
       "      <th>Ad- Width</th>\n",
       "      <th>Ad Size</th>\n",
       "      <th>Available_Impressions</th>\n",
       "      <th>Matched_Queries</th>\n",
       "      <th>Impressions</th>\n",
       "      <th>Clicks</th>\n",
       "      <th>Spend</th>\n",
       "      <th>Fee</th>\n",
       "      <th>Revenue</th>\n",
       "      <th>CTR</th>\n",
       "      <th>CPM</th>\n",
       "      <th>CPC</th>\n",
       "    </tr>\n",
       "  </thead>\n",
       "  <tbody>\n",
       "    <tr>\n",
       "      <th>count</th>\n",
       "      <td>23066.000000</td>\n",
       "      <td>23066.000000</td>\n",
       "      <td>23066.000000</td>\n",
       "      <td>2.306600e+04</td>\n",
       "      <td>2.306600e+04</td>\n",
       "      <td>2.306600e+04</td>\n",
       "      <td>23066.000000</td>\n",
       "      <td>23066.000000</td>\n",
       "      <td>23066.000000</td>\n",
       "      <td>23066.000000</td>\n",
       "      <td>18330.000000</td>\n",
       "      <td>18330.000000</td>\n",
       "      <td>18330.000000</td>\n",
       "    </tr>\n",
       "    <tr>\n",
       "      <th>mean</th>\n",
       "      <td>385.163097</td>\n",
       "      <td>337.896037</td>\n",
       "      <td>96674.468048</td>\n",
       "      <td>2.432044e+06</td>\n",
       "      <td>1.295099e+06</td>\n",
       "      <td>1.241520e+06</td>\n",
       "      <td>10678.518816</td>\n",
       "      <td>2706.625689</td>\n",
       "      <td>0.335123</td>\n",
       "      <td>1924.252331</td>\n",
       "      <td>0.073661</td>\n",
       "      <td>7.672045</td>\n",
       "      <td>0.351061</td>\n",
       "    </tr>\n",
       "    <tr>\n",
       "      <th>std</th>\n",
       "      <td>233.651434</td>\n",
       "      <td>203.092885</td>\n",
       "      <td>61538.329557</td>\n",
       "      <td>4.742888e+06</td>\n",
       "      <td>2.512970e+06</td>\n",
       "      <td>2.429400e+06</td>\n",
       "      <td>17353.409363</td>\n",
       "      <td>4067.927273</td>\n",
       "      <td>0.031963</td>\n",
       "      <td>3105.238410</td>\n",
       "      <td>0.075160</td>\n",
       "      <td>6.481391</td>\n",
       "      <td>0.343334</td>\n",
       "    </tr>\n",
       "    <tr>\n",
       "      <th>min</th>\n",
       "      <td>120.000000</td>\n",
       "      <td>70.000000</td>\n",
       "      <td>33600.000000</td>\n",
       "      <td>1.000000e+00</td>\n",
       "      <td>1.000000e+00</td>\n",
       "      <td>1.000000e+00</td>\n",
       "      <td>1.000000</td>\n",
       "      <td>0.000000</td>\n",
       "      <td>0.210000</td>\n",
       "      <td>0.000000</td>\n",
       "      <td>0.000100</td>\n",
       "      <td>0.000000</td>\n",
       "      <td>0.000000</td>\n",
       "    </tr>\n",
       "    <tr>\n",
       "      <th>25%</th>\n",
       "      <td>120.000000</td>\n",
       "      <td>250.000000</td>\n",
       "      <td>72000.000000</td>\n",
       "      <td>3.367225e+04</td>\n",
       "      <td>1.828250e+04</td>\n",
       "      <td>7.990500e+03</td>\n",
       "      <td>710.000000</td>\n",
       "      <td>85.180000</td>\n",
       "      <td>0.330000</td>\n",
       "      <td>55.365375</td>\n",
       "      <td>0.002600</td>\n",
       "      <td>1.710000</td>\n",
       "      <td>0.090000</td>\n",
       "    </tr>\n",
       "    <tr>\n",
       "      <th>50%</th>\n",
       "      <td>300.000000</td>\n",
       "      <td>300.000000</td>\n",
       "      <td>72000.000000</td>\n",
       "      <td>4.837710e+05</td>\n",
       "      <td>2.580875e+05</td>\n",
       "      <td>2.252900e+05</td>\n",
       "      <td>4425.000000</td>\n",
       "      <td>1425.125000</td>\n",
       "      <td>0.350000</td>\n",
       "      <td>926.335000</td>\n",
       "      <td>0.082550</td>\n",
       "      <td>7.660000</td>\n",
       "      <td>0.160000</td>\n",
       "    </tr>\n",
       "    <tr>\n",
       "      <th>75%</th>\n",
       "      <td>720.000000</td>\n",
       "      <td>600.000000</td>\n",
       "      <td>84000.000000</td>\n",
       "      <td>2.527712e+06</td>\n",
       "      <td>1.180700e+06</td>\n",
       "      <td>1.112428e+06</td>\n",
       "      <td>12793.750000</td>\n",
       "      <td>3121.400000</td>\n",
       "      <td>0.350000</td>\n",
       "      <td>2091.338150</td>\n",
       "      <td>0.130000</td>\n",
       "      <td>12.510000</td>\n",
       "      <td>0.570000</td>\n",
       "    </tr>\n",
       "    <tr>\n",
       "      <th>max</th>\n",
       "      <td>728.000000</td>\n",
       "      <td>600.000000</td>\n",
       "      <td>216000.000000</td>\n",
       "      <td>2.759286e+07</td>\n",
       "      <td>1.470202e+07</td>\n",
       "      <td>1.419477e+07</td>\n",
       "      <td>143049.000000</td>\n",
       "      <td>26931.870000</td>\n",
       "      <td>0.350000</td>\n",
       "      <td>21276.180000</td>\n",
       "      <td>1.000000</td>\n",
       "      <td>81.560000</td>\n",
       "      <td>7.260000</td>\n",
       "    </tr>\n",
       "  </tbody>\n",
       "</table>\n",
       "</div>"
      ],
      "text/plain": [
       "        Ad - Length     Ad- Width        Ad Size  Available_Impressions  \\\n",
       "count  23066.000000  23066.000000   23066.000000           2.306600e+04   \n",
       "mean     385.163097    337.896037   96674.468048           2.432044e+06   \n",
       "std      233.651434    203.092885   61538.329557           4.742888e+06   \n",
       "min      120.000000     70.000000   33600.000000           1.000000e+00   \n",
       "25%      120.000000    250.000000   72000.000000           3.367225e+04   \n",
       "50%      300.000000    300.000000   72000.000000           4.837710e+05   \n",
       "75%      720.000000    600.000000   84000.000000           2.527712e+06   \n",
       "max      728.000000    600.000000  216000.000000           2.759286e+07   \n",
       "\n",
       "       Matched_Queries   Impressions         Clicks         Spend  \\\n",
       "count     2.306600e+04  2.306600e+04   23066.000000  23066.000000   \n",
       "mean      1.295099e+06  1.241520e+06   10678.518816   2706.625689   \n",
       "std       2.512970e+06  2.429400e+06   17353.409363   4067.927273   \n",
       "min       1.000000e+00  1.000000e+00       1.000000      0.000000   \n",
       "25%       1.828250e+04  7.990500e+03     710.000000     85.180000   \n",
       "50%       2.580875e+05  2.252900e+05    4425.000000   1425.125000   \n",
       "75%       1.180700e+06  1.112428e+06   12793.750000   3121.400000   \n",
       "max       1.470202e+07  1.419477e+07  143049.000000  26931.870000   \n",
       "\n",
       "                Fee       Revenue           CTR           CPM           CPC  \n",
       "count  23066.000000  23066.000000  18330.000000  18330.000000  18330.000000  \n",
       "mean       0.335123   1924.252331      0.073661      7.672045      0.351061  \n",
       "std        0.031963   3105.238410      0.075160      6.481391      0.343334  \n",
       "min        0.210000      0.000000      0.000100      0.000000      0.000000  \n",
       "25%        0.330000     55.365375      0.002600      1.710000      0.090000  \n",
       "50%        0.350000    926.335000      0.082550      7.660000      0.160000  \n",
       "75%        0.350000   2091.338150      0.130000     12.510000      0.570000  \n",
       "max        0.350000  21276.180000      1.000000     81.560000      7.260000  "
      ]
     },
     "execution_count": 57,
     "metadata": {},
     "output_type": "execute_result"
    }
   ],
   "source": [
    "data.describe()"
   ]
  },
  {
   "cell_type": "markdown",
   "id": "0b56f294",
   "metadata": {},
   "source": [
    "### Checking for null values"
   ]
  },
  {
   "cell_type": "code",
   "execution_count": 58,
   "id": "5a41cca7",
   "metadata": {},
   "outputs": [
    {
     "data": {
      "text/plain": [
       "Timestamp                   0\n",
       "InventoryType               0\n",
       "Ad - Length                 0\n",
       "Ad- Width                   0\n",
       "Ad Size                     0\n",
       "Ad Type                     0\n",
       "Platform                    0\n",
       "Device Type                 0\n",
       "Format                      0\n",
       "Available_Impressions       0\n",
       "Matched_Queries             0\n",
       "Impressions                 0\n",
       "Clicks                      0\n",
       "Spend                       0\n",
       "Fee                         0\n",
       "Revenue                     0\n",
       "CTR                      4736\n",
       "CPM                      4736\n",
       "CPC                      4736\n",
       "dtype: int64"
      ]
     },
     "execution_count": 58,
     "metadata": {},
     "output_type": "execute_result"
    }
   ],
   "source": [
    "data.isnull().sum()"
   ]
  },
  {
   "cell_type": "markdown",
   "id": "778d4f26",
   "metadata": {},
   "source": [
    "### Checking for duplicates "
   ]
  },
  {
   "cell_type": "code",
   "execution_count": 59,
   "id": "609b48cb",
   "metadata": {},
   "outputs": [
    {
     "data": {
      "text/plain": [
       "0"
      ]
     },
     "execution_count": 59,
     "metadata": {},
     "output_type": "execute_result"
    }
   ],
   "source": [
    "data.duplicated().sum()"
   ]
  },
  {
   "cell_type": "markdown",
   "id": "a1978544",
   "metadata": {},
   "source": [
    "### Treating missing values in CPC, CTR and CPM "
   ]
  },
  {
   "cell_type": "code",
   "execution_count": 60,
   "id": "613f318a",
   "metadata": {},
   "outputs": [],
   "source": [
    "def calculate_mis_ctr(ctr):\n",
    "\n",
    "    IMP=data.Impressions\n",
    "    CLI=data.Clicks\n",
    "    SPE=data.Spend\n",
    "\n",
    "    a=CLI/IMP*100\n",
    "    b=(SPE/IMP)*1000\n",
    "    c=SPE/CLI\n",
    "\n",
    "    return a\n",
    "\n",
    "def calculate_mis_cpm(cpm):\n",
    "\n",
    "    IMP=data.Impressions\n",
    "    CLI=data.Clicks\n",
    "    SPE=data.Spend\n",
    "\n",
    "    a=CLI/IMP*100\n",
    "    b=(SPE/IMP)*1000\n",
    "    c=SPE/CLI\n",
    "\n",
    "    return b\n",
    "\n",
    "def calculate_mis_cpc(cpc):\n",
    "\n",
    "    IMP=data.Impressions\n",
    "    CLI=data.Clicks\n",
    "    SPE=data.Spend\n",
    "\n",
    "    a=CLI/IMP*100\n",
    "    b=(SPE/IMP)*1000\n",
    "    c=SPE/CLI\n",
    "\n",
    "    return c"
   ]
  },
  {
   "cell_type": "code",
   "execution_count": 61,
   "id": "f9d014da",
   "metadata": {},
   "outputs": [],
   "source": [
    "data['CTR'] =data[['CTR']].apply(lambda ctr: calculate_mis_ctr(ctr))"
   ]
  },
  {
   "cell_type": "code",
   "execution_count": 62,
   "id": "a718d984",
   "metadata": {},
   "outputs": [],
   "source": [
    "data['CPM'] =data[['CPM']].apply(lambda cpm: calculate_mis_cpm(cpm))"
   ]
  },
  {
   "cell_type": "code",
   "execution_count": 63,
   "id": "ba8ac08c",
   "metadata": {},
   "outputs": [],
   "source": [
    "data['CPC'] =data[['CPC']].apply(lambda cpc: calculate_mis_cpc(cpc))"
   ]
  },
  {
   "cell_type": "code",
   "execution_count": 64,
   "id": "2808f355",
   "metadata": {},
   "outputs": [
    {
     "data": {
      "text/plain": [
       "Timestamp                0\n",
       "InventoryType            0\n",
       "Ad - Length              0\n",
       "Ad- Width                0\n",
       "Ad Size                  0\n",
       "Ad Type                  0\n",
       "Platform                 0\n",
       "Device Type              0\n",
       "Format                   0\n",
       "Available_Impressions    0\n",
       "Matched_Queries          0\n",
       "Impressions              0\n",
       "Clicks                   0\n",
       "Spend                    0\n",
       "Fee                      0\n",
       "Revenue                  0\n",
       "CTR                      0\n",
       "CPM                      0\n",
       "CPC                      0\n",
       "dtype: int64"
      ]
     },
     "execution_count": 64,
     "metadata": {},
     "output_type": "execute_result"
    }
   ],
   "source": [
    "data.isnull().sum()"
   ]
  },
  {
   "cell_type": "markdown",
   "id": "d4144077",
   "metadata": {},
   "source": [
    "### There is no null values now"
   ]
  },
  {
   "cell_type": "code",
   "execution_count": 65,
   "id": "c3f34fe9",
   "metadata": {},
   "outputs": [
    {
     "data": {
      "text/html": [
       "<div>\n",
       "<style scoped>\n",
       "    .dataframe tbody tr th:only-of-type {\n",
       "        vertical-align: middle;\n",
       "    }\n",
       "\n",
       "    .dataframe tbody tr th {\n",
       "        vertical-align: top;\n",
       "    }\n",
       "\n",
       "    .dataframe thead th {\n",
       "        text-align: right;\n",
       "    }\n",
       "</style>\n",
       "<table border=\"1\" class=\"dataframe\">\n",
       "  <thead>\n",
       "    <tr style=\"text-align: right;\">\n",
       "      <th></th>\n",
       "      <th>Timestamp</th>\n",
       "      <th>InventoryType</th>\n",
       "      <th>Ad - Length</th>\n",
       "      <th>Ad- Width</th>\n",
       "      <th>Ad Size</th>\n",
       "      <th>Ad Type</th>\n",
       "      <th>Platform</th>\n",
       "      <th>Device Type</th>\n",
       "      <th>Format</th>\n",
       "      <th>Available_Impressions</th>\n",
       "      <th>Matched_Queries</th>\n",
       "      <th>Impressions</th>\n",
       "      <th>Clicks</th>\n",
       "      <th>Spend</th>\n",
       "      <th>Fee</th>\n",
       "      <th>Revenue</th>\n",
       "      <th>CTR</th>\n",
       "      <th>CPM</th>\n",
       "      <th>CPC</th>\n",
       "    </tr>\n",
       "  </thead>\n",
       "  <tbody>\n",
       "    <tr>\n",
       "      <th>0</th>\n",
       "      <td>2020-9-2-17</td>\n",
       "      <td>Format1</td>\n",
       "      <td>300</td>\n",
       "      <td>250</td>\n",
       "      <td>75000</td>\n",
       "      <td>Inter222</td>\n",
       "      <td>Video</td>\n",
       "      <td>Desktop</td>\n",
       "      <td>Display</td>\n",
       "      <td>1806</td>\n",
       "      <td>325</td>\n",
       "      <td>323</td>\n",
       "      <td>1</td>\n",
       "      <td>0.0</td>\n",
       "      <td>0.35</td>\n",
       "      <td>0.0</td>\n",
       "      <td>0.309598</td>\n",
       "      <td>0.0</td>\n",
       "      <td>0.0</td>\n",
       "    </tr>\n",
       "    <tr>\n",
       "      <th>1</th>\n",
       "      <td>2020-9-2-10</td>\n",
       "      <td>Format1</td>\n",
       "      <td>300</td>\n",
       "      <td>250</td>\n",
       "      <td>75000</td>\n",
       "      <td>Inter227</td>\n",
       "      <td>App</td>\n",
       "      <td>Mobile</td>\n",
       "      <td>Video</td>\n",
       "      <td>1780</td>\n",
       "      <td>285</td>\n",
       "      <td>285</td>\n",
       "      <td>1</td>\n",
       "      <td>0.0</td>\n",
       "      <td>0.35</td>\n",
       "      <td>0.0</td>\n",
       "      <td>0.350877</td>\n",
       "      <td>0.0</td>\n",
       "      <td>0.0</td>\n",
       "    </tr>\n",
       "    <tr>\n",
       "      <th>2</th>\n",
       "      <td>2020-9-1-22</td>\n",
       "      <td>Format1</td>\n",
       "      <td>300</td>\n",
       "      <td>250</td>\n",
       "      <td>75000</td>\n",
       "      <td>Inter222</td>\n",
       "      <td>Video</td>\n",
       "      <td>Desktop</td>\n",
       "      <td>Display</td>\n",
       "      <td>2727</td>\n",
       "      <td>356</td>\n",
       "      <td>355</td>\n",
       "      <td>1</td>\n",
       "      <td>0.0</td>\n",
       "      <td>0.35</td>\n",
       "      <td>0.0</td>\n",
       "      <td>0.281690</td>\n",
       "      <td>0.0</td>\n",
       "      <td>0.0</td>\n",
       "    </tr>\n",
       "    <tr>\n",
       "      <th>3</th>\n",
       "      <td>2020-9-3-20</td>\n",
       "      <td>Format1</td>\n",
       "      <td>300</td>\n",
       "      <td>250</td>\n",
       "      <td>75000</td>\n",
       "      <td>Inter228</td>\n",
       "      <td>Video</td>\n",
       "      <td>Mobile</td>\n",
       "      <td>Video</td>\n",
       "      <td>2430</td>\n",
       "      <td>497</td>\n",
       "      <td>495</td>\n",
       "      <td>1</td>\n",
       "      <td>0.0</td>\n",
       "      <td>0.35</td>\n",
       "      <td>0.0</td>\n",
       "      <td>0.202020</td>\n",
       "      <td>0.0</td>\n",
       "      <td>0.0</td>\n",
       "    </tr>\n",
       "    <tr>\n",
       "      <th>4</th>\n",
       "      <td>2020-9-4-15</td>\n",
       "      <td>Format1</td>\n",
       "      <td>300</td>\n",
       "      <td>250</td>\n",
       "      <td>75000</td>\n",
       "      <td>Inter217</td>\n",
       "      <td>Web</td>\n",
       "      <td>Desktop</td>\n",
       "      <td>Video</td>\n",
       "      <td>1218</td>\n",
       "      <td>242</td>\n",
       "      <td>242</td>\n",
       "      <td>1</td>\n",
       "      <td>0.0</td>\n",
       "      <td>0.35</td>\n",
       "      <td>0.0</td>\n",
       "      <td>0.413223</td>\n",
       "      <td>0.0</td>\n",
       "      <td>0.0</td>\n",
       "    </tr>\n",
       "  </tbody>\n",
       "</table>\n",
       "</div>"
      ],
      "text/plain": [
       "     Timestamp InventoryType  Ad - Length  Ad- Width  Ad Size   Ad Type  \\\n",
       "0  2020-9-2-17       Format1          300        250    75000  Inter222   \n",
       "1  2020-9-2-10       Format1          300        250    75000  Inter227   \n",
       "2  2020-9-1-22       Format1          300        250    75000  Inter222   \n",
       "3  2020-9-3-20       Format1          300        250    75000  Inter228   \n",
       "4  2020-9-4-15       Format1          300        250    75000  Inter217   \n",
       "\n",
       "  Platform Device Type   Format  Available_Impressions  Matched_Queries  \\\n",
       "0    Video     Desktop  Display                   1806              325   \n",
       "1      App      Mobile    Video                   1780              285   \n",
       "2    Video     Desktop  Display                   2727              356   \n",
       "3    Video      Mobile    Video                   2430              497   \n",
       "4      Web     Desktop    Video                   1218              242   \n",
       "\n",
       "   Impressions  Clicks  Spend   Fee  Revenue       CTR  CPM  CPC  \n",
       "0          323       1    0.0  0.35      0.0  0.309598  0.0  0.0  \n",
       "1          285       1    0.0  0.35      0.0  0.350877  0.0  0.0  \n",
       "2          355       1    0.0  0.35      0.0  0.281690  0.0  0.0  \n",
       "3          495       1    0.0  0.35      0.0  0.202020  0.0  0.0  \n",
       "4          242       1    0.0  0.35      0.0  0.413223  0.0  0.0  "
      ]
     },
     "execution_count": 65,
     "metadata": {},
     "output_type": "execute_result"
    }
   ],
   "source": [
    "data.head()"
   ]
  },
  {
   "cell_type": "markdown",
   "id": "2b5b9e48",
   "metadata": {},
   "source": [
    "### Categorical Values "
   ]
  },
  {
   "cell_type": "code",
   "execution_count": 66,
   "id": "fe73ac53",
   "metadata": {},
   "outputs": [
    {
     "data": {
      "text/plain": [
       "Format4    7165\n",
       "Format5    4249\n",
       "Format1    3814\n",
       "Format3    3540\n",
       "Format6    1850\n",
       "Format2    1789\n",
       "Format7     659\n",
       "Name: InventoryType, dtype: int64"
      ]
     },
     "execution_count": 66,
     "metadata": {},
     "output_type": "execute_result"
    }
   ],
   "source": [
    " data['InventoryType'].value_counts()"
   ]
  },
  {
   "cell_type": "code",
   "execution_count": 67,
   "id": "52819a17",
   "metadata": {},
   "outputs": [],
   "source": [
    "#numerical \n",
    "#check the numerical data distribution\n",
    "\n",
    "num=data[[\"Ad - Length\",\"Ad- Width\",\"Ad Size\",\"Available_Impressions\",\"Matched_Queries\",\"Impressions\",\"Clicks\",\"Spend\",\"Fee\",\"Revenue\",\"CTR\",\"CPM\",\"CPC\"]]"
   ]
  },
  {
   "cell_type": "code",
   "execution_count": 68,
   "id": "f2386b22",
   "metadata": {},
   "outputs": [],
   "source": [
    "#categorical \n",
    "#check the categorical datas distribution\n",
    "\n",
    "cat=data[[\"InventoryType\",\"Ad Type\",\"Platform\",\"Device Type\",\"Format\"]]"
   ]
  },
  {
   "cell_type": "code",
   "execution_count": 69,
   "id": "641bf467",
   "metadata": {},
   "outputs": [
    {
     "data": {
      "text/html": [
       "<div>\n",
       "<style scoped>\n",
       "    .dataframe tbody tr th:only-of-type {\n",
       "        vertical-align: middle;\n",
       "    }\n",
       "\n",
       "    .dataframe tbody tr th {\n",
       "        vertical-align: top;\n",
       "    }\n",
       "\n",
       "    .dataframe thead th {\n",
       "        text-align: right;\n",
       "    }\n",
       "</style>\n",
       "<table border=\"1\" class=\"dataframe\">\n",
       "  <thead>\n",
       "    <tr style=\"text-align: right;\">\n",
       "      <th></th>\n",
       "      <th>InventoryType</th>\n",
       "      <th>Ad Type</th>\n",
       "      <th>Platform</th>\n",
       "      <th>Device Type</th>\n",
       "      <th>Format</th>\n",
       "    </tr>\n",
       "  </thead>\n",
       "  <tbody>\n",
       "    <tr>\n",
       "      <th>0</th>\n",
       "      <td>Format1</td>\n",
       "      <td>Inter222</td>\n",
       "      <td>Video</td>\n",
       "      <td>Desktop</td>\n",
       "      <td>Display</td>\n",
       "    </tr>\n",
       "    <tr>\n",
       "      <th>1</th>\n",
       "      <td>Format1</td>\n",
       "      <td>Inter227</td>\n",
       "      <td>App</td>\n",
       "      <td>Mobile</td>\n",
       "      <td>Video</td>\n",
       "    </tr>\n",
       "    <tr>\n",
       "      <th>2</th>\n",
       "      <td>Format1</td>\n",
       "      <td>Inter222</td>\n",
       "      <td>Video</td>\n",
       "      <td>Desktop</td>\n",
       "      <td>Display</td>\n",
       "    </tr>\n",
       "    <tr>\n",
       "      <th>3</th>\n",
       "      <td>Format1</td>\n",
       "      <td>Inter228</td>\n",
       "      <td>Video</td>\n",
       "      <td>Mobile</td>\n",
       "      <td>Video</td>\n",
       "    </tr>\n",
       "    <tr>\n",
       "      <th>4</th>\n",
       "      <td>Format1</td>\n",
       "      <td>Inter217</td>\n",
       "      <td>Web</td>\n",
       "      <td>Desktop</td>\n",
       "      <td>Video</td>\n",
       "    </tr>\n",
       "  </tbody>\n",
       "</table>\n",
       "</div>"
      ],
      "text/plain": [
       "  InventoryType   Ad Type Platform Device Type   Format\n",
       "0       Format1  Inter222    Video     Desktop  Display\n",
       "1       Format1  Inter227      App      Mobile    Video\n",
       "2       Format1  Inter222    Video     Desktop  Display\n",
       "3       Format1  Inter228    Video      Mobile    Video\n",
       "4       Format1  Inter217      Web     Desktop    Video"
      ]
     },
     "execution_count": 69,
     "metadata": {},
     "output_type": "execute_result"
    }
   ],
   "source": [
    "cat.head(5)"
   ]
  },
  {
   "cell_type": "code",
   "execution_count": 70,
   "id": "baae34a4",
   "metadata": {},
   "outputs": [
    {
     "data": {
      "text/html": [
       "<div>\n",
       "<style scoped>\n",
       "    .dataframe tbody tr th:only-of-type {\n",
       "        vertical-align: middle;\n",
       "    }\n",
       "\n",
       "    .dataframe tbody tr th {\n",
       "        vertical-align: top;\n",
       "    }\n",
       "\n",
       "    .dataframe thead th {\n",
       "        text-align: right;\n",
       "    }\n",
       "</style>\n",
       "<table border=\"1\" class=\"dataframe\">\n",
       "  <thead>\n",
       "    <tr style=\"text-align: right;\">\n",
       "      <th></th>\n",
       "      <th>Ad - Length</th>\n",
       "      <th>Ad- Width</th>\n",
       "      <th>Ad Size</th>\n",
       "      <th>Available_Impressions</th>\n",
       "      <th>Matched_Queries</th>\n",
       "      <th>Impressions</th>\n",
       "      <th>Clicks</th>\n",
       "      <th>Spend</th>\n",
       "      <th>Fee</th>\n",
       "      <th>Revenue</th>\n",
       "      <th>CTR</th>\n",
       "      <th>CPM</th>\n",
       "      <th>CPC</th>\n",
       "    </tr>\n",
       "  </thead>\n",
       "  <tbody>\n",
       "    <tr>\n",
       "      <th>0</th>\n",
       "      <td>300</td>\n",
       "      <td>250</td>\n",
       "      <td>75000</td>\n",
       "      <td>1806</td>\n",
       "      <td>325</td>\n",
       "      <td>323</td>\n",
       "      <td>1</td>\n",
       "      <td>0.0</td>\n",
       "      <td>0.35</td>\n",
       "      <td>0.0</td>\n",
       "      <td>0.309598</td>\n",
       "      <td>0.0</td>\n",
       "      <td>0.0</td>\n",
       "    </tr>\n",
       "    <tr>\n",
       "      <th>1</th>\n",
       "      <td>300</td>\n",
       "      <td>250</td>\n",
       "      <td>75000</td>\n",
       "      <td>1780</td>\n",
       "      <td>285</td>\n",
       "      <td>285</td>\n",
       "      <td>1</td>\n",
       "      <td>0.0</td>\n",
       "      <td>0.35</td>\n",
       "      <td>0.0</td>\n",
       "      <td>0.350877</td>\n",
       "      <td>0.0</td>\n",
       "      <td>0.0</td>\n",
       "    </tr>\n",
       "    <tr>\n",
       "      <th>2</th>\n",
       "      <td>300</td>\n",
       "      <td>250</td>\n",
       "      <td>75000</td>\n",
       "      <td>2727</td>\n",
       "      <td>356</td>\n",
       "      <td>355</td>\n",
       "      <td>1</td>\n",
       "      <td>0.0</td>\n",
       "      <td>0.35</td>\n",
       "      <td>0.0</td>\n",
       "      <td>0.281690</td>\n",
       "      <td>0.0</td>\n",
       "      <td>0.0</td>\n",
       "    </tr>\n",
       "    <tr>\n",
       "      <th>3</th>\n",
       "      <td>300</td>\n",
       "      <td>250</td>\n",
       "      <td>75000</td>\n",
       "      <td>2430</td>\n",
       "      <td>497</td>\n",
       "      <td>495</td>\n",
       "      <td>1</td>\n",
       "      <td>0.0</td>\n",
       "      <td>0.35</td>\n",
       "      <td>0.0</td>\n",
       "      <td>0.202020</td>\n",
       "      <td>0.0</td>\n",
       "      <td>0.0</td>\n",
       "    </tr>\n",
       "    <tr>\n",
       "      <th>4</th>\n",
       "      <td>300</td>\n",
       "      <td>250</td>\n",
       "      <td>75000</td>\n",
       "      <td>1218</td>\n",
       "      <td>242</td>\n",
       "      <td>242</td>\n",
       "      <td>1</td>\n",
       "      <td>0.0</td>\n",
       "      <td>0.35</td>\n",
       "      <td>0.0</td>\n",
       "      <td>0.413223</td>\n",
       "      <td>0.0</td>\n",
       "      <td>0.0</td>\n",
       "    </tr>\n",
       "  </tbody>\n",
       "</table>\n",
       "</div>"
      ],
      "text/plain": [
       "   Ad - Length  Ad- Width  Ad Size  Available_Impressions  Matched_Queries  \\\n",
       "0          300        250    75000                   1806              325   \n",
       "1          300        250    75000                   1780              285   \n",
       "2          300        250    75000                   2727              356   \n",
       "3          300        250    75000                   2430              497   \n",
       "4          300        250    75000                   1218              242   \n",
       "\n",
       "   Impressions  Clicks  Spend   Fee  Revenue       CTR  CPM  CPC  \n",
       "0          323       1    0.0  0.35      0.0  0.309598  0.0  0.0  \n",
       "1          285       1    0.0  0.35      0.0  0.350877  0.0  0.0  \n",
       "2          355       1    0.0  0.35      0.0  0.281690  0.0  0.0  \n",
       "3          495       1    0.0  0.35      0.0  0.202020  0.0  0.0  \n",
       "4          242       1    0.0  0.35      0.0  0.413223  0.0  0.0  "
      ]
     },
     "execution_count": 70,
     "metadata": {},
     "output_type": "execute_result"
    }
   ],
   "source": [
    "num.head(5)"
   ]
  },
  {
   "cell_type": "markdown",
   "id": "de073f45",
   "metadata": {},
   "source": [
    "### Outlier Treatment"
   ]
  },
  {
   "cell_type": "code",
   "execution_count": 71,
   "id": "808758d2",
   "metadata": {},
   "outputs": [
    {
     "data": {
      "image/png": "[encoded data removed]",
      "text/plain": [
       "<Figure size 1200x800 with 16 Axes>"
      ]
     },
     "metadata": {},
     "output_type": "display_data"
    }
   ],
   "source": [
    "feature_list = num.columns\n",
    "\n",
    "#Create the subplot grid\n",
    "fig,axs = plt.subplots(4,4,figsize = (12,8))\n",
    "axs = axs.flatten()\n",
    "\n",
    "for i, feature in enumerate(feature_list):\n",
    "    sns.boxplot(y=num[feature], ax=axs[i])\n",
    "    axs[i].set_title(f'Boxplot of {feature}')\n",
    "    axs[i].set_ylabel('Values')\n",
    "    \n",
    "for j in range(i+1,len(axs)):\n",
    "    axs[j].axis('off')\n",
    "    \n",
    "plt.tight_layout()\n",
    "plt.show()"
   ]
  },
  {
   "cell_type": "markdown",
   "id": "8df5cec8",
   "metadata": {},
   "source": [
    "### all the Columns are have outliers so we need to reduse the outliers for the calculations using IQR"
   ]
  },
  {
   "cell_type": "code",
   "execution_count": 72,
   "id": "f63caffd",
   "metadata": {},
   "outputs": [],
   "source": [
    "##USING IQR \n",
    "def remove_outlier(col):\n",
    "    Q1,Q3 = col.quantile([0.25,0.75])\n",
    "    IQR = Q3-Q1\n",
    "    lower_range = Q1-(1.5 * IQR)\n",
    "    upper_range = Q3+(1.5 * IQR)\n",
    "    return lower_range,upper_range"
   ]
  },
  {
   "cell_type": "code",
   "execution_count": 73,
   "id": "9f92a79c",
   "metadata": {},
   "outputs": [],
   "source": [
    "def remove_outlier(data):\n",
    "    Q1 = data.quantile(0.25)\n",
    "    Q3 = data.quantile(0.75)\n",
    "    IQR = Q3 - Q1\n",
    "    lower_limit = Q1 - 1.5 * IQR\n",
    "    upper_limit = Q3 + 1.5 * IQR\n",
    "    return lower_limit, upper_limit\n",
    "\n",
    "# Iterate over each feature in the feature list\n",
    "for feature in feature_list:\n",
    "    lower_limit, upper_limit = remove_outlier(num[feature])\n",
    "    num.loc[num[feature] > upper_limit, feature] = upper_limit\n",
    "    num.loc[num[feature] < lower_limit, feature] = lower_limit\n"
   ]
  },
  {
   "cell_type": "code",
   "execution_count": 74,
   "id": "49349873",
   "metadata": {},
   "outputs": [
    {
     "data": {
      "image/png": "[encoded data removed]",
      "text/plain": [
       "<Figure size 1200x800 with 16 Axes>"
      ]
     },
     "metadata": {},
     "output_type": "display_data"
    }
   ],
   "source": [
    "feature_list = num.columns\n",
    "\n",
    "#Create the subplot grid\n",
    "fig,axs = plt.subplots(4,4,figsize = (12,8))\n",
    "axs = axs.flatten()\n",
    "\n",
    "for i, feature in enumerate(feature_list):\n",
    "    sns.boxplot(y=num[feature], ax=axs[i])\n",
    "    axs[i].set_title(f'Boxplot of {feature}')\n",
    "    axs[i].set_ylabel('Values')\n",
    "    \n",
    "for j in range(i+1,len(axs)):\n",
    "    axs[j].axis('off')\n",
    "    \n",
    "plt.tight_layout()\n",
    "plt.show()"
   ]
  },
  {
   "cell_type": "code",
   "execution_count": 75,
   "id": "696bd4f8",
   "metadata": {},
   "outputs": [
    {
     "data": {
      "text/html": [
       "<div>\n",
       "<style scoped>\n",
       "    .dataframe tbody tr th:only-of-type {\n",
       "        vertical-align: middle;\n",
       "    }\n",
       "\n",
       "    .dataframe tbody tr th {\n",
       "        vertical-align: top;\n",
       "    }\n",
       "\n",
       "    .dataframe thead th {\n",
       "        text-align: right;\n",
       "    }\n",
       "</style>\n",
       "<table border=\"1\" class=\"dataframe\">\n",
       "  <thead>\n",
       "    <tr style=\"text-align: right;\">\n",
       "      <th></th>\n",
       "      <th>Ad - Length</th>\n",
       "      <th>Ad- Width</th>\n",
       "      <th>Ad Size</th>\n",
       "      <th>Available_Impressions</th>\n",
       "      <th>Matched_Queries</th>\n",
       "      <th>Impressions</th>\n",
       "      <th>Clicks</th>\n",
       "      <th>Spend</th>\n",
       "      <th>Fee</th>\n",
       "      <th>Revenue</th>\n",
       "      <th>CTR</th>\n",
       "      <th>CPM</th>\n",
       "      <th>CPC</th>\n",
       "    </tr>\n",
       "  </thead>\n",
       "  <tbody>\n",
       "    <tr>\n",
       "      <th>23061</th>\n",
       "      <td>720</td>\n",
       "      <td>300</td>\n",
       "      <td>102000</td>\n",
       "      <td>1</td>\n",
       "      <td>1.0</td>\n",
       "      <td>1.0</td>\n",
       "      <td>1.0</td>\n",
       "      <td>0.07</td>\n",
       "      <td>0.35</td>\n",
       "      <td>0.0455</td>\n",
       "      <td>33.278766</td>\n",
       "      <td>29.981418</td>\n",
       "      <td>0.07</td>\n",
       "    </tr>\n",
       "    <tr>\n",
       "      <th>23062</th>\n",
       "      <td>720</td>\n",
       "      <td>300</td>\n",
       "      <td>102000</td>\n",
       "      <td>3</td>\n",
       "      <td>2.0</td>\n",
       "      <td>2.0</td>\n",
       "      <td>1.0</td>\n",
       "      <td>0.04</td>\n",
       "      <td>0.35</td>\n",
       "      <td>0.0260</td>\n",
       "      <td>33.278766</td>\n",
       "      <td>20.000000</td>\n",
       "      <td>0.04</td>\n",
       "    </tr>\n",
       "    <tr>\n",
       "      <th>23063</th>\n",
       "      <td>720</td>\n",
       "      <td>300</td>\n",
       "      <td>102000</td>\n",
       "      <td>2</td>\n",
       "      <td>1.0</td>\n",
       "      <td>1.0</td>\n",
       "      <td>1.0</td>\n",
       "      <td>0.05</td>\n",
       "      <td>0.35</td>\n",
       "      <td>0.0325</td>\n",
       "      <td>33.278766</td>\n",
       "      <td>29.981418</td>\n",
       "      <td>0.05</td>\n",
       "    </tr>\n",
       "    <tr>\n",
       "      <th>23064</th>\n",
       "      <td>120</td>\n",
       "      <td>600</td>\n",
       "      <td>72000</td>\n",
       "      <td>7</td>\n",
       "      <td>1.0</td>\n",
       "      <td>1.0</td>\n",
       "      <td>1.0</td>\n",
       "      <td>0.07</td>\n",
       "      <td>0.35</td>\n",
       "      <td>0.0455</td>\n",
       "      <td>33.278766</td>\n",
       "      <td>29.981418</td>\n",
       "      <td>0.07</td>\n",
       "    </tr>\n",
       "    <tr>\n",
       "      <th>23065</th>\n",
       "      <td>720</td>\n",
       "      <td>300</td>\n",
       "      <td>102000</td>\n",
       "      <td>2</td>\n",
       "      <td>2.0</td>\n",
       "      <td>2.0</td>\n",
       "      <td>1.0</td>\n",
       "      <td>0.09</td>\n",
       "      <td>0.35</td>\n",
       "      <td>0.0585</td>\n",
       "      <td>33.278766</td>\n",
       "      <td>29.981418</td>\n",
       "      <td>0.09</td>\n",
       "    </tr>\n",
       "  </tbody>\n",
       "</table>\n",
       "</div>"
      ],
      "text/plain": [
       "       Ad - Length  Ad- Width  Ad Size  Available_Impressions  \\\n",
       "23061          720        300   102000                      1   \n",
       "23062          720        300   102000                      3   \n",
       "23063          720        300   102000                      2   \n",
       "23064          120        600    72000                      7   \n",
       "23065          720        300   102000                      2   \n",
       "\n",
       "       Matched_Queries  Impressions  Clicks  Spend   Fee  Revenue        CTR  \\\n",
       "23061              1.0          1.0     1.0   0.07  0.35   0.0455  33.278766   \n",
       "23062              2.0          2.0     1.0   0.04  0.35   0.0260  33.278766   \n",
       "23063              1.0          1.0     1.0   0.05  0.35   0.0325  33.278766   \n",
       "23064              1.0          1.0     1.0   0.07  0.35   0.0455  33.278766   \n",
       "23065              2.0          2.0     1.0   0.09  0.35   0.0585  33.278766   \n",
       "\n",
       "             CPM   CPC  \n",
       "23061  29.981418  0.07  \n",
       "23062  20.000000  0.04  \n",
       "23063  29.981418  0.05  \n",
       "23064  29.981418  0.07  \n",
       "23065  29.981418  0.09  "
      ]
     },
     "execution_count": 75,
     "metadata": {},
     "output_type": "execute_result"
    }
   ],
   "source": [
    "num.tail()"
   ]
  },
  {
   "cell_type": "code",
   "execution_count": 76,
   "id": "c23fd66d",
   "metadata": {},
   "outputs": [],
   "source": [
    "num=num.astype(float)"
   ]
  },
  {
   "cell_type": "code",
   "execution_count": 77,
   "id": "b581c43d",
   "metadata": {},
   "outputs": [
    {
     "name": "stdout",
     "output_type": "stream",
     "text": [
      "<class 'pandas.core.frame.DataFrame'>\n",
      "RangeIndex: 23066 entries, 0 to 23065\n",
      "Data columns (total 13 columns):\n",
      " #   Column                 Non-Null Count  Dtype  \n",
      "---  ------                 --------------  -----  \n",
      " 0   Ad - Length            23066 non-null  float64\n",
      " 1   Ad- Width              23066 non-null  float64\n",
      " 2   Ad Size                23066 non-null  float64\n",
      " 3   Available_Impressions  23066 non-null  float64\n",
      " 4   Matched_Queries        23066 non-null  float64\n",
      " 5   Impressions            23066 non-null  float64\n",
      " 6   Clicks                 23066 non-null  float64\n",
      " 7   Spend                  23066 non-null  float64\n",
      " 8   Fee                    23066 non-null  float64\n",
      " 9   Revenue                23066 non-null  float64\n",
      " 10  CTR                    23066 non-null  float64\n",
      " 11  CPM                    23066 non-null  float64\n",
      " 12  CPC                    23066 non-null  float64\n",
      "dtypes: float64(13)\n",
      "memory usage: 2.3 MB\n"
     ]
    }
   ],
   "source": [
    "num.info()"
   ]
  },
  {
   "cell_type": "markdown",
   "id": "318d7e03",
   "metadata": {},
   "source": [
    "## Scaling the data"
   ]
  },
  {
   "cell_type": "code",
   "execution_count": 78,
   "id": "f971ab41",
   "metadata": {},
   "outputs": [],
   "source": [
    "# importing Standard Scaler\n",
    "from sklearn.preprocessing import StandardScaler\n",
    "\n",
    "X = StandardScaler()\n",
    "\n",
    "scaled_df = X.fit_transform(num)"
   ]
  },
  {
   "cell_type": "code",
   "execution_count": 79,
   "id": "d28e7486",
   "metadata": {},
   "outputs": [
    {
     "data": {
      "text/plain": [
       "array([[-0.3644957 , -0.43279676, -0.10251846, ..., -0.95883633,\n",
       "        -1.19449791, -1.04256138],\n",
       "       [-0.3644957 , -0.43279676, -0.10251846, ..., -0.95383476,\n",
       "        -1.19449791, -1.04256138],\n",
       "       [-0.3644957 , -0.43279676, -0.10251846, ..., -0.96221767,\n",
       "        -1.19449791, -1.04256138],\n",
       "       ...,\n",
       "       [ 1.43309269, -0.18659865,  1.65289551, ...,  3.03580766,\n",
       "         3.16271759, -0.88461411],\n",
       "       [-1.13489073,  1.29058999, -0.29756446, ...,  3.03580766,\n",
       "         3.16271759, -0.82143521],\n",
       "       [ 1.43309269, -0.18659865,  1.65289551, ...,  3.03580766,\n",
       "         3.16271759, -0.7582563 ]])"
      ]
     },
     "execution_count": 79,
     "metadata": {},
     "output_type": "execute_result"
    }
   ],
   "source": [
    "scaled_df"
   ]
  },
  {
   "cell_type": "markdown",
   "id": "46231d13",
   "metadata": {},
   "source": [
    "# Hierarchical Clustering"
   ]
  },
  {
   "cell_type": "code",
   "execution_count": 80,
   "id": "90188904",
   "metadata": {},
   "outputs": [
    {
     "data": {
      "image/png": "[encoded data removed]",
      "text/plain": [
       "<Figure size 640x480 with 1 Axes>"
      ]
     },
     "metadata": {},
     "output_type": "display_data"
    }
   ],
   "source": [
    "from scipy.cluster.hierarchy import dendrogram, linkage\n",
    "\n",
    "# Compute the linkage matrix using Ward's method\n",
    "Z = linkage(scaled_df, method='ward')\n",
    "\n",
    "# Generate the dendrogram\n",
    "dend = dendrogram(Z)\n"
   ]
  },
  {
   "cell_type": "code",
   "execution_count": 81,
   "id": "c3e074fe",
   "metadata": {},
   "outputs": [
    {
     "data": {
      "image/png": "[encoded data removed]",
      "text/plain": [
       "<Figure size 640x480 with 1 Axes>"
      ]
     },
     "metadata": {},
     "output_type": "display_data"
    }
   ],
   "source": [
    "from scipy.cluster.hierarchy import dendrogram, linkage\n",
    "\n",
    "# Assuming 'scaled_df' is your scaled dataset and 'p' is the number of clusters to display\n",
    "wardlink = linkage(scaled_df, method='ward')\n",
    "\n",
    "# Create the dendrogram\n",
    "dend = dendrogram(wardlink, truncate_mode='lastp', p=10)\n",
    "\n",
    "# Show the dendrogram\n",
    "plt.show()\n"
   ]
  },
  {
   "cell_type": "markdown",
   "id": "f27c822e",
   "metadata": {},
   "source": [
    "## K-means Clustering"
   ]
  },
  {
   "cell_type": "code",
   "execution_count": 82,
   "id": "fe1f93fe",
   "metadata": {},
   "outputs": [],
   "source": [
    "#import the library\n",
    "from sklearn.cluster import KMeans"
   ]
  },
  {
   "cell_type": "code",
   "execution_count": 83,
   "id": "eac1ae77",
   "metadata": {},
   "outputs": [
    {
     "name": "stderr",
     "output_type": "stream",
     "text": [
      "C:\\Users\\suraj\\anaconda3\\Lib\\site-packages\\sklearn\\cluster\\_kmeans.py:1412: FutureWarning: The default value of `n_init` will change from 10 to 'auto' in 1.4. Set the value of `n_init` explicitly to suppress the warning\n",
      "  super()._check_params_vs_input(X, default_n_init=10)\n"
     ]
    },
    {
     "data": {
      "text/html": [
       "<style>#sk-container-id-2 {color: black;}#sk-container-id-2 pre{padding: 0;}#sk-container-id-2 div.sk-toggleable {background-color: white;}#sk-container-id-2 label.sk-toggleable__label {cursor: pointer;display: block;width: 100%;margin-bottom: 0;padding: 0.3em;box-sizing: border-box;text-align: center;}#sk-container-id-2 label.sk-toggleable__label-arrow:before {content: \"▸\";float: left;margin-right: 0.25em;color: #696969;}#sk-container-id-2 label.sk-toggleable__label-arrow:hover:before {color: black;}#sk-container-id-2 div.sk-estimator:hover label.sk-toggleable__label-arrow:before {color: black;}#sk-container-id-2 div.sk-toggleable__content {max-height: 0;max-width: 0;overflow: hidden;text-align: left;background-color: #f0f8ff;}#sk-container-id-2 div.sk-toggleable__content pre {margin: 0.2em;color: black;border-radius: 0.25em;background-color: #f0f8ff;}#sk-container-id-2 input.sk-toggleable__control:checked~div.sk-toggleable__content {max-height: 200px;max-width: 100%;overflow: auto;}#sk-container-id-2 input.sk-toggleable__control:checked~label.sk-toggleable__label-arrow:before {content: \"▾\";}#sk-container-id-2 div.sk-estimator input.sk-toggleable__control:checked~label.sk-toggleable__label {background-color: #d4ebff;}#sk-container-id-2 div.sk-label input.sk-toggleable__control:checked~label.sk-toggleable__label {background-color: #d4ebff;}#sk-container-id-2 input.sk-hidden--visually {border: 0;clip: rect(1px 1px 1px 1px);clip: rect(1px, 1px, 1px, 1px);height: 1px;margin: -1px;overflow: hidden;padding: 0;position: absolute;width: 1px;}#sk-container-id-2 div.sk-estimator {font-family: monospace;background-color: #f0f8ff;border: 1px dotted black;border-radius: 0.25em;box-sizing: border-box;margin-bottom: 0.5em;}#sk-container-id-2 div.sk-estimator:hover {background-color: #d4ebff;}#sk-container-id-2 div.sk-parallel-item::after {content: \"\";width: 100%;border-bottom: 1px solid gray;flex-grow: 1;}#sk-container-id-2 div.sk-label:hover label.sk-toggleable__label {background-color: #d4ebff;}#sk-container-id-2 div.sk-serial::before {content: \"\";position: absolute;border-left: 1px solid gray;box-sizing: border-box;top: 0;bottom: 0;left: 50%;z-index: 0;}#sk-container-id-2 div.sk-serial {display: flex;flex-direction: column;align-items: center;background-color: white;padding-right: 0.2em;padding-left: 0.2em;position: relative;}#sk-container-id-2 div.sk-item {position: relative;z-index: 1;}#sk-container-id-2 div.sk-parallel {display: flex;align-items: stretch;justify-content: center;background-color: white;position: relative;}#sk-container-id-2 div.sk-item::before, #sk-container-id-2 div.sk-parallel-item::before {content: \"\";position: absolute;border-left: 1px solid gray;box-sizing: border-box;top: 0;bottom: 0;left: 50%;z-index: -1;}#sk-container-id-2 div.sk-parallel-item {display: flex;flex-direction: column;z-index: 1;position: relative;background-color: white;}#sk-container-id-2 div.sk-parallel-item:first-child::after {align-self: flex-end;width: 50%;}#sk-container-id-2 div.sk-parallel-item:last-child::after {align-self: flex-start;width: 50%;}#sk-container-id-2 div.sk-parallel-item:only-child::after {width: 0;}#sk-container-id-2 div.sk-dashed-wrapped {border: 1px dashed gray;margin: 0 0.4em 0.5em 0.4em;box-sizing: border-box;padding-bottom: 0.4em;background-color: white;}#sk-container-id-2 div.sk-label label {font-family: monospace;font-weight: bold;display: inline-block;line-height: 1.2em;}#sk-container-id-2 div.sk-label-container {text-align: center;}#sk-container-id-2 div.sk-container {/* jupyter's `normalize.less` sets `[hidden] { display: none; }` but bootstrap.min.css set `[hidden] { display: none !important; }` so we also need the `!important` here to be able to override the default hidden behavior on the sphinx rendered scikit-learn.org. See: https://github.com/scikit-learn/scikit-learn/issues/21755 */display: inline-block !important;position: relative;}#sk-container-id-2 div.sk-text-repr-fallback {display: none;}</style><div id=\"sk-container-id-2\" class=\"sk-top-container\"><div class=\"sk-text-repr-fallback\"><pre>KMeans(n_clusters=2)</pre><b>In a Jupyter environment, please rerun this cell to show the HTML representation or trust the notebook. <br />On GitHub, the HTML representation is unable to render, please try loading this page with nbviewer.org.</b></div><div class=\"sk-container\" hidden><div class=\"sk-item\"><div class=\"sk-estimator sk-toggleable\"><input class=\"sk-toggleable__control sk-hidden--visually\" id=\"sk-estimator-id-2\" type=\"checkbox\" checked><label for=\"sk-estimator-id-2\" class=\"sk-toggleable__label sk-toggleable__label-arrow\">KMeans</label><div class=\"sk-toggleable__content\"><pre>KMeans(n_clusters=2)</pre></div></div></div></div></div>"
      ],
      "text/plain": [
       "KMeans(n_clusters=2)"
      ]
     },
     "execution_count": 83,
     "metadata": {},
     "output_type": "execute_result"
    }
   ],
   "source": [
    "k_means = KMeans(n_clusters = 2)\n",
    "k_means.fit(scaled_df)\n"
   ]
  },
  {
   "cell_type": "code",
   "execution_count": 84,
   "id": "881f33e9",
   "metadata": {},
   "outputs": [
    {
     "data": {
      "text/plain": [
       "array([1, 1, 1, ..., 1, 1, 1])"
      ]
     },
     "execution_count": 84,
     "metadata": {},
     "output_type": "execute_result"
    }
   ],
   "source": [
    "k_means.labels_"
   ]
  },
  {
   "cell_type": "code",
   "execution_count": 85,
   "id": "e00f5af6",
   "metadata": {},
   "outputs": [
    {
     "data": {
      "text/plain": [
       "183349.10202886089"
      ]
     },
     "execution_count": 85,
     "metadata": {},
     "output_type": "execute_result"
    }
   ],
   "source": [
    "k_means.inertia_\n"
   ]
  },
  {
   "cell_type": "code",
   "execution_count": 86,
   "id": "e84e522c",
   "metadata": {},
   "outputs": [],
   "source": [
    "wss=[]"
   ]
  },
  {
   "cell_type": "code",
   "execution_count": 35,
   "id": "85df96ef",
   "metadata": {},
   "outputs": [],
   "source": [
    "for i in range(1, 10):\n",
    "    KM = KMeans(n_clusters=i, n_init=10)  # Explicitly setting n_init to suppress the warning\n",
    "    KM.fit(scaled_df)\n",
    "    wss.append(KM.inertia_)\n"
   ]
  },
  {
   "cell_type": "code",
   "execution_count": 36,
   "id": "d7d4fb11",
   "metadata": {},
   "outputs": [
    {
     "data": {
      "text/plain": [
       "[299858.0000000003,\n",
       " 183349.1043840474,\n",
       " 130878.35494264905,\n",
       " 95133.93066619671,\n",
       " 61539.18919785387,\n",
       " 51676.89230709958,\n",
       " 44598.26211613907,\n",
       " 39597.96169127755,\n",
       " 36061.73282990739]"
      ]
     },
     "execution_count": 36,
     "metadata": {},
     "output_type": "execute_result"
    }
   ],
   "source": [
    "wss"
   ]
  },
  {
   "cell_type": "markdown",
   "id": "87ee6c08",
   "metadata": {},
   "source": [
    "## Plotting the Elbow Curve "
   ]
  },
  {
   "cell_type": "code",
   "execution_count": 47,
   "id": "84339cd7",
   "metadata": {},
   "outputs": [],
   "source": [
    "a=[1,2,3,4,5,6,7,8,9,10]"
   ]
  },
  {
   "cell_type": "code",
   "execution_count": 48,
   "id": "818e706f",
   "metadata": {},
   "outputs": [
    {
     "data": {
      "image/png": "[encoded data removed]",
      "text/plain": [
       "<Figure size 640x480 with 1 Axes>"
      ]
     },
     "metadata": {},
     "output_type": "display_data"
    }
   ],
   "source": [
    "import seaborn as sns\n",
    "import matplotlib.pyplot as plt\n",
    "\n",
    "wss = [299857.99999999866,\n",
    " 183349.10202886112,\n",
    " 130878.34788742894,\n",
    " 95133.93066619692,\n",
    " 61539.18919785395,\n",
    " 51676.92090805334,\n",
    " 44598.25849746805,\n",
    " 39597.84955874646,\n",
    " 36101.29702477825]\n",
    "\n",
    "a = list(range(1, len(wss) + 1))  # Number of clusters\n",
    "\n",
    "plt.plot(a, wss, marker='o')\n",
    "plt.xlabel('Number of Clusters')\n",
    "plt.ylabel('Within-cluster Sum of Squares')\n",
    "plt.title('Elbow Curve')\n",
    "plt.show()\n"
   ]
  },
  {
   "cell_type": "code",
   "execution_count": 37,
   "id": "7d046e31",
   "metadata": {},
   "outputs": [
    {
     "data": {
      "image/png": "[encoded data removed]",
      "text/plain": [
       "<Figure size 640x480 with 1 Axes>"
      ]
     },
     "metadata": {},
     "output_type": "display_data"
    }
   ],
   "source": [
    "import matplotlib.pyplot as plt\n",
    "\n",
    "plt.title(\"Plot Elbow curve\")\n",
    "plt.plot(range(1, 10), wss)  # Range adjusted to match the length of wss\n",
    "plt.xlabel(\"Number of Clusters\")\n",
    "plt.ylabel(\"Within-cluster Sum of Squares (WSS)\")\n",
    "plt.show()\n"
   ]
  },
  {
   "cell_type": "code",
   "execution_count": null,
   "id": "e9d0d5fb",
   "metadata": {},
   "outputs": [],
   "source": []
  },
  {
   "cell_type": "markdown",
   "id": "c7b962c5",
   "metadata": {},
   "source": [
    "## Silhouette Analysis"
   ]
  },
  {
   "cell_type": "code",
   "execution_count": 43,
   "id": "81db2c05",
   "metadata": {},
   "outputs": [],
   "source": [
    "#import the library\n",
    "from sklearn.metrics import silhouette_samples, silhouette_score"
   ]
  },
  {
   "cell_type": "code",
   "execution_count": 44,
   "id": "915b74c8",
   "metadata": {},
   "outputs": [
    {
     "name": "stderr",
     "output_type": "stream",
     "text": [
      "C:\\Users\\suraj\\anaconda3\\Lib\\site-packages\\sklearn\\cluster\\_kmeans.py:1412: FutureWarning: The default value of `n_init` will change from 10 to 'auto' in 1.4. Set the value of `n_init` explicitly to suppress the warning\n",
      "  super()._check_params_vs_input(X, default_n_init=10)\n"
     ]
    }
   ],
   "source": [
    "k_means = KMeans(n_clusters = 4,random_state=1)\n",
    "k_means.fit(scaled_df)\n",
    "labels = k_means.labels_"
   ]
  },
  {
   "cell_type": "code",
   "execution_count": 45,
   "id": "796dfd96",
   "metadata": {},
   "outputs": [
    {
     "data": {
      "text/plain": [
       "array([2, 2, 2, ..., 0, 0, 0])"
      ]
     },
     "execution_count": 45,
     "metadata": {},
     "output_type": "execute_result"
    }
   ],
   "source": [
    "labels"
   ]
  },
  {
   "cell_type": "code",
   "execution_count": 46,
   "id": "7fcd0f97",
   "metadata": {},
   "outputs": [
    {
     "data": {
      "text/plain": [
       "0.44534519247649795"
      ]
     },
     "execution_count": 46,
     "metadata": {},
     "output_type": "execute_result"
    }
   ],
   "source": [
    "silhouette_score(scaled_df,labels,random_state=1)"
   ]
  },
  {
   "cell_type": "code",
   "execution_count": 79,
   "id": "7e05b77c",
   "metadata": {},
   "outputs": [
    {
     "data": {
      "text/plain": [
       "0.5240956940501831"
      ]
     },
     "execution_count": 79,
     "metadata": {},
     "output_type": "execute_result"
    }
   ],
   "source": [
    "# Kmeans = 5\n",
    "\n",
    "k_means = KMeans(n_clusters = 5)\n",
    "k_means.fit(scaled_df)\n",
    "labels = k_means.labels_\n",
    "silhouette_score(scaled_df,labels)"
   ]
  },
  {
   "cell_type": "code",
   "execution_count": 82,
   "id": "4afda699",
   "metadata": {},
   "outputs": [],
   "source": [
    "sil_width = silhouette_samples(scaled_df,labels)"
   ]
  },
  {
   "cell_type": "markdown",
   "id": "46f00258",
   "metadata": {},
   "source": [
    "## Silhouette Analysis \n",
    "\n",
    "Find Silhouette Score for the Values of K from 2 to 10"
   ]
  },
  {
   "cell_type": "code",
   "execution_count": 87,
   "id": "9eac62fd",
   "metadata": {},
   "outputs": [
    {
     "name": "stdout",
     "output_type": "stream",
     "text": [
      "For n_clusters = 2, the silhouette score is 0.3857\n",
      "For n_clusters = 3, the silhouette score is 0.3825\n",
      "For n_clusters = 4, the silhouette score is 0.4453\n",
      "For n_clusters = 5, the silhouette score is 0.5241\n",
      "For n_clusters = 6, the silhouette score is 0.5221\n",
      "For n_clusters = 7, the silhouette score is 0.5166\n",
      "For n_clusters = 8, the silhouette score is 0.4797\n",
      "For n_clusters = 9, the silhouette score is 0.4306\n",
      "For n_clusters = 10, the silhouette score is 0.4281\n"
     ]
    }
   ],
   "source": [
    "from sklearn.cluster import KMeans\n",
    "from sklearn.metrics import silhouette_score\n",
    "\n",
    "range_n_clusters = [2, 3, 4, 5, 6, 7, 8, 9, 10]\n",
    "for num_clusters in range_n_clusters:\n",
    "    # Initialize KMeans with n_init parameter explicitly set\n",
    "    kmeans = KMeans(n_clusters=num_clusters, max_iter=50, n_init=10)\n",
    "    kmeans.fit(scaled_df)\n",
    "    cluster_labels = kmeans.labels_\n",
    "    # Calculate Silhouette Score\n",
    "    silhouette_avg = silhouette_score(scaled_df, cluster_labels)\n",
    "    print(\"For n_clusters = {}, the silhouette score is {:.4f}\".format(num_clusters, silhouette_avg))\n"
   ]
  },
  {
   "cell_type": "code",
   "execution_count": 89,
   "id": "3e149f35",
   "metadata": {},
   "outputs": [
    {
     "name": "stdout",
     "output_type": "stream",
     "text": [
      "     Timestamp InventoryType  Ad - Length  Ad- Width  Ad Size   Ad Type  \\\n",
      "0  2020-9-2-17       Format1          300        250    75000  Inter222   \n",
      "1  2020-9-2-10       Format1          300        250    75000  Inter227   \n",
      "2  2020-9-1-22       Format1          300        250    75000  Inter222   \n",
      "3  2020-9-3-20       Format1          300        250    75000  Inter228   \n",
      "4  2020-9-4-15       Format1          300        250    75000  Inter217   \n",
      "\n",
      "  Platform Device Type   Format  Available_Impressions  ...  Impressions  \\\n",
      "0    Video     Desktop  Display                   1806  ...          323   \n",
      "1      App      Mobile    Video                   1780  ...          285   \n",
      "2    Video     Desktop  Display                   2727  ...          355   \n",
      "3    Video      Mobile    Video                   2430  ...          495   \n",
      "4      Web     Desktop    Video                   1218  ...          242   \n",
      "\n",
      "   Clicks  Spend   Fee  Revenue       CTR  CPM  CPC  Clus_kmeans  \\\n",
      "0       1    0.0  0.35      0.0  0.309598  0.0  0.0            2   \n",
      "1       1    0.0  0.35      0.0  0.350877  0.0  0.0            2   \n",
      "2       1    0.0  0.35      0.0  0.281690  0.0  0.0            2   \n",
      "3       1    0.0  0.35      0.0  0.202020  0.0  0.0            2   \n",
      "4       1    0.0  0.35      0.0  0.413223  0.0  0.0            2   \n",
      "\n",
      "   silhouette_score  \n",
      "0          0.428149  \n",
      "1          0.428149  \n",
      "2          0.428149  \n",
      "3          0.428149  \n",
      "4          0.428149  \n",
      "\n",
      "[5 rows x 21 columns]\n"
     ]
    }
   ],
   "source": [
    "# Insert the cluster values and silhouette scores into the dataset\n",
    "data[\"Clus_kmeans\"] = cluster_labels\n",
    "data[\"silhouette_score\"] = silhouette_avg\n",
    "\n",
    "# Display the first 5 rows of the updated dataset\n",
    "print(data.head(5))\n"
   ]
  },
  {
   "cell_type": "code",
   "execution_count": 92,
   "id": "0b3a18ff",
   "metadata": {},
   "outputs": [
    {
     "data": {
      "image/png": "[encoded data removed]",
      "text/plain": [
       "<Figure size 640x480 with 1 Axes>"
      ]
     },
     "metadata": {},
     "output_type": "display_data"
    }
   ],
   "source": [
    "# Group the ads by cluster\n",
    "clustered_ads = data.groupby('Clus_kmeans')\n",
    "\n",
    "# Calculate the sum or mean of clicks, spend, revenue, CPM, CTR, and CPC based on device type\n",
    "cluster_profiles = clustered_ads.agg({'Clicks': 'sum', 'Spend': 'sum', 'Revenue': 'sum', \n",
    "                                      'CPM': 'mean', 'CTR': 'mean', 'CPC': 'mean'})\n",
    "\n",
    "# Create a bar plot of the cluster profiles\n",
    "cluster_profiles.plot(kind='bar')\n",
    "plt.xlabel('Cluster')\n",
    "plt.ylabel('Metric value')\n",
    "plt.title('Cluster profiles')\n",
    "plt.show()\n"
   ]
  },
  {
   "cell_type": "markdown",
   "id": "c3f47ae9",
   "metadata": {},
   "source": [
    "# Problem 2 "
   ]
  },
  {
   "cell_type": "markdown",
   "id": "f8c4a10b",
   "metadata": {},
   "source": [
    "### PCA:\n",
    "\n",
    "PCA FH (FT): Primary census abstract for female headed households excluding institutional households (India & States/UTs - District Level), Scheduled tribes - 2011 PCA for Female Headed Household Excluding Institutional Household. The Indian Census has the reputation of being one of the best in the world. The first Census in India was conducted in the year 1872. This was conducted at different points of time in different parts of the country. In 1881 a Census was taken for the entire country simultaneously. Since then, Census has been conducted every ten years, without a break. Thus, the Census of India 2011 was the fifteenth in this unbroken series since 1872, the seventh after independence and the second census of the third millennium and twenty first century. The census has been uninterruptedly continued despite of several adversities like wars, epidemics, natural calamities, political unrest, etc. The Census of India is conducted under the provisions of the Census Act 1948 and the Census Rules, 1990. The Primary Census Abstract which is important publication of 2011 Census gives basic information on Area, Total Number of Households, Total Population, Scheduled Castes, Scheduled Tribes Population, Population in the age group 0-6, Literates, Main Workers and Marginal Workers classified by the four broad industrial categories, namely, (i) Cultivators, (ii) Agricultural Laborers, (iii) Household Industry Workers, and (iv) Other Workers and also Non-Workers. The characteristics of the Total Population include Scheduled Castes, Scheduled Tribes, Institutional and Houseless Population and are presented by sex and rural-urban residence. Census 2011 covered 35 States/Union Territories, 640 districts, 5,924 sub-districts, 7,935 Towns and 6,40,867 Villages.\n",
    "The data collected has so many variables thus making it difficult to find useful details without using Data Science Techniques. You are tasked to perform detailed EDA and identify Optimum Principal Components that explains the most variance in data. Use Sklearn only."
   ]
  },
  {
   "cell_type": "code",
   "execution_count": 93,
   "id": "1800ffe1",
   "metadata": {},
   "outputs": [
    {
     "data": {
      "text/html": [
       "<div>\n",
       "<style scoped>\n",
       "    .dataframe tbody tr th:only-of-type {\n",
       "        vertical-align: middle;\n",
       "    }\n",
       "\n",
       "    .dataframe tbody tr th {\n",
       "        vertical-align: top;\n",
       "    }\n",
       "\n",
       "    .dataframe thead th {\n",
       "        text-align: right;\n",
       "    }\n",
       "</style>\n",
       "<table border=\"1\" class=\"dataframe\">\n",
       "  <thead>\n",
       "    <tr style=\"text-align: right;\">\n",
       "      <th></th>\n",
       "      <th>State Code</th>\n",
       "      <th>Dist.Code</th>\n",
       "      <th>State</th>\n",
       "      <th>Area Name</th>\n",
       "      <th>No_HH</th>\n",
       "      <th>TOT_M</th>\n",
       "      <th>TOT_F</th>\n",
       "      <th>M_06</th>\n",
       "      <th>F_06</th>\n",
       "      <th>M_SC</th>\n",
       "      <th>...</th>\n",
       "      <th>MARG_CL_0_3_M</th>\n",
       "      <th>MARG_CL_0_3_F</th>\n",
       "      <th>MARG_AL_0_3_M</th>\n",
       "      <th>MARG_AL_0_3_F</th>\n",
       "      <th>MARG_HH_0_3_M</th>\n",
       "      <th>MARG_HH_0_3_F</th>\n",
       "      <th>MARG_OT_0_3_M</th>\n",
       "      <th>MARG_OT_0_3_F</th>\n",
       "      <th>NON_WORK_M</th>\n",
       "      <th>NON_WORK_F</th>\n",
       "    </tr>\n",
       "  </thead>\n",
       "  <tbody>\n",
       "    <tr>\n",
       "      <th>0</th>\n",
       "      <td>1</td>\n",
       "      <td>1</td>\n",
       "      <td>Jammu &amp; Kashmir</td>\n",
       "      <td>Kupwara</td>\n",
       "      <td>7707</td>\n",
       "      <td>23388</td>\n",
       "      <td>29796</td>\n",
       "      <td>5862</td>\n",
       "      <td>6196</td>\n",
       "      <td>3</td>\n",
       "      <td>...</td>\n",
       "      <td>1150</td>\n",
       "      <td>749</td>\n",
       "      <td>180</td>\n",
       "      <td>237</td>\n",
       "      <td>680</td>\n",
       "      <td>252</td>\n",
       "      <td>32</td>\n",
       "      <td>46</td>\n",
       "      <td>258</td>\n",
       "      <td>214</td>\n",
       "    </tr>\n",
       "    <tr>\n",
       "      <th>1</th>\n",
       "      <td>1</td>\n",
       "      <td>2</td>\n",
       "      <td>Jammu &amp; Kashmir</td>\n",
       "      <td>Badgam</td>\n",
       "      <td>6218</td>\n",
       "      <td>19585</td>\n",
       "      <td>23102</td>\n",
       "      <td>4482</td>\n",
       "      <td>3733</td>\n",
       "      <td>7</td>\n",
       "      <td>...</td>\n",
       "      <td>525</td>\n",
       "      <td>715</td>\n",
       "      <td>123</td>\n",
       "      <td>229</td>\n",
       "      <td>186</td>\n",
       "      <td>148</td>\n",
       "      <td>76</td>\n",
       "      <td>178</td>\n",
       "      <td>140</td>\n",
       "      <td>160</td>\n",
       "    </tr>\n",
       "    <tr>\n",
       "      <th>2</th>\n",
       "      <td>1</td>\n",
       "      <td>3</td>\n",
       "      <td>Jammu &amp; Kashmir</td>\n",
       "      <td>Leh(Ladakh)</td>\n",
       "      <td>4452</td>\n",
       "      <td>6546</td>\n",
       "      <td>10964</td>\n",
       "      <td>1082</td>\n",
       "      <td>1018</td>\n",
       "      <td>3</td>\n",
       "      <td>...</td>\n",
       "      <td>114</td>\n",
       "      <td>188</td>\n",
       "      <td>44</td>\n",
       "      <td>89</td>\n",
       "      <td>3</td>\n",
       "      <td>34</td>\n",
       "      <td>0</td>\n",
       "      <td>4</td>\n",
       "      <td>67</td>\n",
       "      <td>61</td>\n",
       "    </tr>\n",
       "    <tr>\n",
       "      <th>3</th>\n",
       "      <td>1</td>\n",
       "      <td>4</td>\n",
       "      <td>Jammu &amp; Kashmir</td>\n",
       "      <td>Kargil</td>\n",
       "      <td>1320</td>\n",
       "      <td>2784</td>\n",
       "      <td>4206</td>\n",
       "      <td>563</td>\n",
       "      <td>677</td>\n",
       "      <td>0</td>\n",
       "      <td>...</td>\n",
       "      <td>194</td>\n",
       "      <td>247</td>\n",
       "      <td>61</td>\n",
       "      <td>128</td>\n",
       "      <td>13</td>\n",
       "      <td>50</td>\n",
       "      <td>4</td>\n",
       "      <td>10</td>\n",
       "      <td>116</td>\n",
       "      <td>59</td>\n",
       "    </tr>\n",
       "    <tr>\n",
       "      <th>4</th>\n",
       "      <td>1</td>\n",
       "      <td>5</td>\n",
       "      <td>Jammu &amp; Kashmir</td>\n",
       "      <td>Punch</td>\n",
       "      <td>11654</td>\n",
       "      <td>20591</td>\n",
       "      <td>29981</td>\n",
       "      <td>5157</td>\n",
       "      <td>4587</td>\n",
       "      <td>20</td>\n",
       "      <td>...</td>\n",
       "      <td>874</td>\n",
       "      <td>1928</td>\n",
       "      <td>465</td>\n",
       "      <td>1043</td>\n",
       "      <td>205</td>\n",
       "      <td>302</td>\n",
       "      <td>24</td>\n",
       "      <td>105</td>\n",
       "      <td>180</td>\n",
       "      <td>478</td>\n",
       "    </tr>\n",
       "  </tbody>\n",
       "</table>\n",
       "<p>5 rows × 61 columns</p>\n",
       "</div>"
      ],
      "text/plain": [
       "   State Code  Dist.Code            State    Area Name  No_HH  TOT_M  TOT_F  \\\n",
       "0           1          1  Jammu & Kashmir      Kupwara   7707  23388  29796   \n",
       "1           1          2  Jammu & Kashmir       Badgam   6218  19585  23102   \n",
       "2           1          3  Jammu & Kashmir  Leh(Ladakh)   4452   6546  10964   \n",
       "3           1          4  Jammu & Kashmir       Kargil   1320   2784   4206   \n",
       "4           1          5  Jammu & Kashmir        Punch  11654  20591  29981   \n",
       "\n",
       "   M_06  F_06  M_SC  ...  MARG_CL_0_3_M  MARG_CL_0_3_F  MARG_AL_0_3_M  \\\n",
       "0  5862  6196     3  ...           1150            749            180   \n",
       "1  4482  3733     7  ...            525            715            123   \n",
       "2  1082  1018     3  ...            114            188             44   \n",
       "3   563   677     0  ...            194            247             61   \n",
       "4  5157  4587    20  ...            874           1928            465   \n",
       "\n",
       "   MARG_AL_0_3_F  MARG_HH_0_3_M  MARG_HH_0_3_F  MARG_OT_0_3_M  MARG_OT_0_3_F  \\\n",
       "0            237            680            252             32             46   \n",
       "1            229            186            148             76            178   \n",
       "2             89              3             34              0              4   \n",
       "3            128             13             50              4             10   \n",
       "4           1043            205            302             24            105   \n",
       "\n",
       "   NON_WORK_M  NON_WORK_F  \n",
       "0         258         214  \n",
       "1         140         160  \n",
       "2          67          61  \n",
       "3         116          59  \n",
       "4         180         478  \n",
       "\n",
       "[5 rows x 61 columns]"
      ]
     },
     "execution_count": 93,
     "metadata": {},
     "output_type": "execute_result"
    }
   ],
   "source": [
    "import pandas as pd\n",
    "data = pd.read_excel('PCA+India+Data_Census.xlsx')\n",
    "data.head()"
   ]
  },
  {
   "cell_type": "code",
   "execution_count": 95,
   "id": "d8df904f",
   "metadata": {},
   "outputs": [
    {
     "data": {
      "text/html": [
       "<div>\n",
       "<style scoped>\n",
       "    .dataframe tbody tr th:only-of-type {\n",
       "        vertical-align: middle;\n",
       "    }\n",
       "\n",
       "    .dataframe tbody tr th {\n",
       "        vertical-align: top;\n",
       "    }\n",
       "\n",
       "    .dataframe thead th {\n",
       "        text-align: right;\n",
       "    }\n",
       "</style>\n",
       "<table border=\"1\" class=\"dataframe\">\n",
       "  <thead>\n",
       "    <tr style=\"text-align: right;\">\n",
       "      <th></th>\n",
       "      <th>State Code</th>\n",
       "      <th>Dist.Code</th>\n",
       "      <th>State</th>\n",
       "      <th>Area Name</th>\n",
       "      <th>No_HH</th>\n",
       "      <th>TOT_M</th>\n",
       "      <th>TOT_F</th>\n",
       "      <th>M_06</th>\n",
       "      <th>F_06</th>\n",
       "      <th>M_SC</th>\n",
       "      <th>...</th>\n",
       "      <th>MARG_CL_0_3_M</th>\n",
       "      <th>MARG_CL_0_3_F</th>\n",
       "      <th>MARG_AL_0_3_M</th>\n",
       "      <th>MARG_AL_0_3_F</th>\n",
       "      <th>MARG_HH_0_3_M</th>\n",
       "      <th>MARG_HH_0_3_F</th>\n",
       "      <th>MARG_OT_0_3_M</th>\n",
       "      <th>MARG_OT_0_3_F</th>\n",
       "      <th>NON_WORK_M</th>\n",
       "      <th>NON_WORK_F</th>\n",
       "    </tr>\n",
       "  </thead>\n",
       "  <tbody>\n",
       "    <tr>\n",
       "      <th>635</th>\n",
       "      <td>34</td>\n",
       "      <td>636</td>\n",
       "      <td>Puducherry</td>\n",
       "      <td>Mahe</td>\n",
       "      <td>3333</td>\n",
       "      <td>8154</td>\n",
       "      <td>11781</td>\n",
       "      <td>1146</td>\n",
       "      <td>1203</td>\n",
       "      <td>21</td>\n",
       "      <td>...</td>\n",
       "      <td>32</td>\n",
       "      <td>47</td>\n",
       "      <td>0</td>\n",
       "      <td>0</td>\n",
       "      <td>0</td>\n",
       "      <td>0</td>\n",
       "      <td>0</td>\n",
       "      <td>0</td>\n",
       "      <td>32</td>\n",
       "      <td>47</td>\n",
       "    </tr>\n",
       "    <tr>\n",
       "      <th>636</th>\n",
       "      <td>34</td>\n",
       "      <td>637</td>\n",
       "      <td>Puducherry</td>\n",
       "      <td>Karaikal</td>\n",
       "      <td>10612</td>\n",
       "      <td>12346</td>\n",
       "      <td>21691</td>\n",
       "      <td>1544</td>\n",
       "      <td>1533</td>\n",
       "      <td>2234</td>\n",
       "      <td>...</td>\n",
       "      <td>155</td>\n",
       "      <td>337</td>\n",
       "      <td>3</td>\n",
       "      <td>14</td>\n",
       "      <td>38</td>\n",
       "      <td>130</td>\n",
       "      <td>4</td>\n",
       "      <td>23</td>\n",
       "      <td>110</td>\n",
       "      <td>170</td>\n",
       "    </tr>\n",
       "    <tr>\n",
       "      <th>637</th>\n",
       "      <td>35</td>\n",
       "      <td>638</td>\n",
       "      <td>Andaman &amp; Nicobar Island</td>\n",
       "      <td>Nicobars</td>\n",
       "      <td>1275</td>\n",
       "      <td>1549</td>\n",
       "      <td>2630</td>\n",
       "      <td>227</td>\n",
       "      <td>225</td>\n",
       "      <td>0</td>\n",
       "      <td>...</td>\n",
       "      <td>104</td>\n",
       "      <td>134</td>\n",
       "      <td>9</td>\n",
       "      <td>4</td>\n",
       "      <td>2</td>\n",
       "      <td>6</td>\n",
       "      <td>17</td>\n",
       "      <td>47</td>\n",
       "      <td>76</td>\n",
       "      <td>77</td>\n",
       "    </tr>\n",
       "    <tr>\n",
       "      <th>638</th>\n",
       "      <td>35</td>\n",
       "      <td>639</td>\n",
       "      <td>Andaman &amp; Nicobar Island</td>\n",
       "      <td>North  &amp; Middle Andaman</td>\n",
       "      <td>3762</td>\n",
       "      <td>5200</td>\n",
       "      <td>8012</td>\n",
       "      <td>723</td>\n",
       "      <td>664</td>\n",
       "      <td>0</td>\n",
       "      <td>...</td>\n",
       "      <td>136</td>\n",
       "      <td>172</td>\n",
       "      <td>24</td>\n",
       "      <td>44</td>\n",
       "      <td>11</td>\n",
       "      <td>21</td>\n",
       "      <td>1</td>\n",
       "      <td>4</td>\n",
       "      <td>100</td>\n",
       "      <td>103</td>\n",
       "    </tr>\n",
       "    <tr>\n",
       "      <th>639</th>\n",
       "      <td>35</td>\n",
       "      <td>640</td>\n",
       "      <td>Andaman &amp; Nicobar Island</td>\n",
       "      <td>South Andaman</td>\n",
       "      <td>7975</td>\n",
       "      <td>11977</td>\n",
       "      <td>18049</td>\n",
       "      <td>1470</td>\n",
       "      <td>1358</td>\n",
       "      <td>0</td>\n",
       "      <td>...</td>\n",
       "      <td>173</td>\n",
       "      <td>122</td>\n",
       "      <td>6</td>\n",
       "      <td>2</td>\n",
       "      <td>17</td>\n",
       "      <td>17</td>\n",
       "      <td>2</td>\n",
       "      <td>4</td>\n",
       "      <td>148</td>\n",
       "      <td>99</td>\n",
       "    </tr>\n",
       "  </tbody>\n",
       "</table>\n",
       "<p>5 rows × 61 columns</p>\n",
       "</div>"
      ],
      "text/plain": [
       "     State Code  Dist.Code                     State                Area Name  \\\n",
       "635          34        636                Puducherry                     Mahe   \n",
       "636          34        637                Puducherry                 Karaikal   \n",
       "637          35        638  Andaman & Nicobar Island                 Nicobars   \n",
       "638          35        639  Andaman & Nicobar Island  North  & Middle Andaman   \n",
       "639          35        640  Andaman & Nicobar Island            South Andaman   \n",
       "\n",
       "     No_HH  TOT_M  TOT_F  M_06  F_06  M_SC  ...  MARG_CL_0_3_M  MARG_CL_0_3_F  \\\n",
       "635   3333   8154  11781  1146  1203    21  ...             32             47   \n",
       "636  10612  12346  21691  1544  1533  2234  ...            155            337   \n",
       "637   1275   1549   2630   227   225     0  ...            104            134   \n",
       "638   3762   5200   8012   723   664     0  ...            136            172   \n",
       "639   7975  11977  18049  1470  1358     0  ...            173            122   \n",
       "\n",
       "     MARG_AL_0_3_M  MARG_AL_0_3_F  MARG_HH_0_3_M  MARG_HH_0_3_F  \\\n",
       "635              0              0              0              0   \n",
       "636              3             14             38            130   \n",
       "637              9              4              2              6   \n",
       "638             24             44             11             21   \n",
       "639              6              2             17             17   \n",
       "\n",
       "     MARG_OT_0_3_M  MARG_OT_0_3_F  NON_WORK_M  NON_WORK_F  \n",
       "635              0              0          32          47  \n",
       "636              4             23         110         170  \n",
       "637             17             47          76          77  \n",
       "638              1              4         100         103  \n",
       "639              2              4         148          99  \n",
       "\n",
       "[5 rows x 61 columns]"
      ]
     },
     "execution_count": 95,
     "metadata": {},
     "output_type": "execute_result"
    }
   ],
   "source": [
    "data.tail()"
   ]
  },
  {
   "cell_type": "code",
   "execution_count": 2,
   "id": "e3554e6b",
   "metadata": {},
   "outputs": [
    {
     "data": {
      "text/plain": [
       "(640, 61)"
      ]
     },
     "execution_count": 2,
     "metadata": {},
     "output_type": "execute_result"
    }
   ],
   "source": [
    "df.shape"
   ]
  },
  {
   "cell_type": "code",
   "execution_count": 96,
   "id": "4a27dafa",
   "metadata": {
    "scrolled": false
   },
   "outputs": [
    {
     "name": "stdout",
     "output_type": "stream",
     "text": [
      "<class 'pandas.core.frame.DataFrame'>\n",
      "RangeIndex: 640 entries, 0 to 639\n",
      "Data columns (total 61 columns):\n",
      " #   Column          Non-Null Count  Dtype \n",
      "---  ------          --------------  ----- \n",
      " 0   State Code      640 non-null    int64 \n",
      " 1   Dist.Code       640 non-null    int64 \n",
      " 2   State           640 non-null    object\n",
      " 3   Area Name       640 non-null    object\n",
      " 4   No_HH           640 non-null    int64 \n",
      " 5   TOT_M           640 non-null    int64 \n",
      " 6   TOT_F           640 non-null    int64 \n",
      " 7   M_06            640 non-null    int64 \n",
      " 8   F_06            640 non-null    int64 \n",
      " 9   M_SC            640 non-null    int64 \n",
      " 10  F_SC            640 non-null    int64 \n",
      " 11  M_ST            640 non-null    int64 \n",
      " 12  F_ST            640 non-null    int64 \n",
      " 13  M_LIT           640 non-null    int64 \n",
      " 14  F_LIT           640 non-null    int64 \n",
      " 15  M_ILL           640 non-null    int64 \n",
      " 16  F_ILL           640 non-null    int64 \n",
      " 17  TOT_WORK_M      640 non-null    int64 \n",
      " 18  TOT_WORK_F      640 non-null    int64 \n",
      " 19  MAINWORK_M      640 non-null    int64 \n",
      " 20  MAINWORK_F      640 non-null    int64 \n",
      " 21  MAIN_CL_M       640 non-null    int64 \n",
      " 22  MAIN_CL_F       640 non-null    int64 \n",
      " 23  MAIN_AL_M       640 non-null    int64 \n",
      " 24  MAIN_AL_F       640 non-null    int64 \n",
      " 25  MAIN_HH_M       640 non-null    int64 \n",
      " 26  MAIN_HH_F       640 non-null    int64 \n",
      " 27  MAIN_OT_M       640 non-null    int64 \n",
      " 28  MAIN_OT_F       640 non-null    int64 \n",
      " 29  MARGWORK_M      640 non-null    int64 \n",
      " 30  MARGWORK_F      640 non-null    int64 \n",
      " 31  MARG_CL_M       640 non-null    int64 \n",
      " 32  MARG_CL_F       640 non-null    int64 \n",
      " 33  MARG_AL_M       640 non-null    int64 \n",
      " 34  MARG_AL_F       640 non-null    int64 \n",
      " 35  MARG_HH_M       640 non-null    int64 \n",
      " 36  MARG_HH_F       640 non-null    int64 \n",
      " 37  MARG_OT_M       640 non-null    int64 \n",
      " 38  MARG_OT_F       640 non-null    int64 \n",
      " 39  MARGWORK_3_6_M  640 non-null    int64 \n",
      " 40  MARGWORK_3_6_F  640 non-null    int64 \n",
      " 41  MARG_CL_3_6_M   640 non-null    int64 \n",
      " 42  MARG_CL_3_6_F   640 non-null    int64 \n",
      " 43  MARG_AL_3_6_M   640 non-null    int64 \n",
      " 44  MARG_AL_3_6_F   640 non-null    int64 \n",
      " 45  MARG_HH_3_6_M   640 non-null    int64 \n",
      " 46  MARG_HH_3_6_F   640 non-null    int64 \n",
      " 47  MARG_OT_3_6_M   640 non-null    int64 \n",
      " 48  MARG_OT_3_6_F   640 non-null    int64 \n",
      " 49  MARGWORK_0_3_M  640 non-null    int64 \n",
      " 50  MARGWORK_0_3_F  640 non-null    int64 \n",
      " 51  MARG_CL_0_3_M   640 non-null    int64 \n",
      " 52  MARG_CL_0_3_F   640 non-null    int64 \n",
      " 53  MARG_AL_0_3_M   640 non-null    int64 \n",
      " 54  MARG_AL_0_3_F   640 non-null    int64 \n",
      " 55  MARG_HH_0_3_M   640 non-null    int64 \n",
      " 56  MARG_HH_0_3_F   640 non-null    int64 \n",
      " 57  MARG_OT_0_3_M   640 non-null    int64 \n",
      " 58  MARG_OT_0_3_F   640 non-null    int64 \n",
      " 59  NON_WORK_M      640 non-null    int64 \n",
      " 60  NON_WORK_F      640 non-null    int64 \n",
      "dtypes: int64(59), object(2)\n",
      "memory usage: 305.1+ KB\n"
     ]
    }
   ],
   "source": [
    "data.info()"
   ]
  },
  {
   "cell_type": "code",
   "execution_count": 5,
   "id": "0227c630",
   "metadata": {},
   "outputs": [
    {
     "name": "stdout",
     "output_type": "stream",
     "text": [
      "Shape of the dataset: (640, 61)\n",
      "\n",
      "Data types:\n",
      "State Code        int64\n",
      "Dist.Code         int64\n",
      "State            object\n",
      "Area Name        object\n",
      "No_HH             int64\n",
      "                  ...  \n",
      "MARG_HH_0_3_F     int64\n",
      "MARG_OT_0_3_M     int64\n",
      "MARG_OT_0_3_F     int64\n",
      "NON_WORK_M        int64\n",
      "NON_WORK_F        int64\n",
      "Length: 61, dtype: object\n",
      "\n",
      "Statistical summary:\n",
      "       State Code   Dist.Code          No_HH          TOT_M          TOT_F  \\\n",
      "count  640.000000  640.000000     640.000000     640.000000     640.000000   \n",
      "mean    17.114062  320.500000   51222.871875   79940.576563  122372.084375   \n",
      "std      9.426486  184.896367   48135.405475   73384.511114  113600.717282   \n",
      "min      1.000000    1.000000     350.000000     391.000000     698.000000   \n",
      "25%      9.000000  160.750000   19484.000000   30228.000000   46517.750000   \n",
      "50%     18.000000  320.500000   35837.000000   58339.000000   87724.500000   \n",
      "75%     24.000000  480.250000   68892.000000  107918.500000  164251.750000   \n",
      "max     35.000000  640.000000  310450.000000  485417.000000  750392.000000   \n",
      "\n",
      "               M_06          F_06           M_SC           F_SC          M_ST  \\\n",
      "count    640.000000    640.000000     640.000000     640.000000    640.000000   \n",
      "mean   12309.098438  11942.300000   13820.946875   20778.392188   6191.807813   \n",
      "std    11500.906881  11326.294567   14426.373130   21727.887713   9912.668948   \n",
      "min       56.000000     56.000000       0.000000       0.000000      0.000000   \n",
      "25%     4733.750000   4672.250000    3466.250000    5603.250000    293.750000   \n",
      "50%     9159.000000   8663.000000    9591.500000   13709.000000   2333.500000   \n",
      "75%    16520.250000  15902.250000   19429.750000   29180.000000   7658.000000   \n",
      "max    96223.000000  95129.000000  103307.000000  156429.000000  96785.000000   \n",
      "\n",
      "       ...  MARG_CL_0_3_M  MARG_CL_0_3_F  MARG_AL_0_3_M  MARG_AL_0_3_F  \\\n",
      "count  ...     640.000000     640.000000     640.000000     640.000000   \n",
      "mean   ...    1392.973438    2757.050000     250.889062     558.098438   \n",
      "std    ...    1489.707052    2788.776676     453.336594    1117.642748   \n",
      "min    ...       4.000000      30.000000       0.000000       0.000000   \n",
      "25%    ...     489.500000     957.250000      47.000000     109.000000   \n",
      "50%    ...     949.000000    1928.000000     114.500000     247.500000   \n",
      "75%    ...    1714.000000    3599.750000     270.750000     568.750000   \n",
      "max    ...    9875.000000   21611.000000    5775.000000   17153.000000   \n",
      "\n",
      "       MARG_HH_0_3_M  MARG_HH_0_3_F  MARG_OT_0_3_M  MARG_OT_0_3_F  \\\n",
      "count     640.000000     640.000000     640.000000     640.000000   \n",
      "mean      560.690625    1293.431250      71.379688     200.742188   \n",
      "std       762.578991    1585.377936     107.897627     309.740854   \n",
      "min         0.000000       0.000000       0.000000       0.000000   \n",
      "25%       136.500000     298.000000      14.000000      43.000000   \n",
      "50%       308.000000     717.000000      35.000000     113.000000   \n",
      "75%       642.000000    1710.750000      79.000000     240.000000   \n",
      "max      6116.000000   13714.000000     895.000000    3354.000000   \n",
      "\n",
      "        NON_WORK_M    NON_WORK_F  \n",
      "count   640.000000    640.000000  \n",
      "mean    510.014063    704.778125  \n",
      "std     610.603187    910.209225  \n",
      "min       0.000000      5.000000  \n",
      "25%     161.000000    220.500000  \n",
      "50%     326.000000    464.500000  \n",
      "75%     604.500000    853.500000  \n",
      "max    6456.000000  10533.000000  \n",
      "\n",
      "[8 rows x 59 columns]\n"
     ]
    }
   ],
   "source": [
    "# Step 1: Check shape, data types, and statistical summary\n",
    "print(\"Shape of the dataset:\", data.shape)\n",
    "print(\"\\nData types:\")\n",
    "print(data.dtypes)\n",
    "print(\"\\nStatistical summary:\")\n",
    "print(data.describe())"
   ]
  },
  {
   "cell_type": "markdown",
   "id": "718f2a3e",
   "metadata": {},
   "source": [
    "### Pick 5 variables out of the given 24 variables below for EDA: No_HH, TOT_M, TOT_F, M_06, F_06, M_SC, F_SC, M_ST, F_ST, M_LIT, F_LIT, M_ILL, F_ILL, TOT_WORK_M, TOT_WORK_F, MAINWORK_M, MAINWORK_F, MAIN_CL_M, MAIN_CL_F, MAIN_AL_M, MAIN_AL_F, MAIN_HH_M, MAIN_HH_F, MAIN_OT_M, MAIN_OT_F"
   ]
  },
  {
   "cell_type": "code",
   "execution_count": 98,
   "id": "2d16a9cb",
   "metadata": {},
   "outputs": [],
   "source": [
    "# Step 2: Select 5 variables for analysis\n",
    "selected_variables = ['State', 'Area Name', 'No_HH', 'TOT_M', 'TOT_F']\n",
    "\n",
    "# Step 3: Analyze the selected variables\n",
    "selected_data = data[selected_variables]"
   ]
  },
  {
   "cell_type": "markdown",
   "id": "490f1d57",
   "metadata": {},
   "source": [
    "## Which state has the highest gender ratio and which has the lowest?"
   ]
  },
  {
   "cell_type": "code",
   "execution_count": 99,
   "id": "6c835c14",
   "metadata": {},
   "outputs": [
    {
     "name": "stdout",
     "output_type": "stream",
     "text": [
      "\n",
      "State with the highest gender ratio: Lakshadweep\n",
      "State with the lowest gender ratio: Andhra Pradesh\n"
     ]
    },
    {
     "data": {
      "image/png": "[encoded data removed]",
      "text/plain": [
       "<Figure size 1000x600 with 1 Axes>"
      ]
     },
     "metadata": {},
     "output_type": "display_data"
    }
   ],
   "source": [
    "# Calculate gender ratio for all states\n",
    "gender_ratio = selected_data['TOT_M'] / selected_data['TOT_F']\n",
    "\n",
    "# Find state with the highest and lowest gender ratio\n",
    "state_highest_ratio = selected_data.loc[gender_ratio.idxmax(), 'State']\n",
    "state_lowest_ratio = selected_data.loc[gender_ratio.idxmin(), 'State']\n",
    "\n",
    "print(\"\\nState with the highest gender ratio:\", state_highest_ratio)\n",
    "print(\"State with the lowest gender ratio:\", state_lowest_ratio)\n",
    "\n",
    "# Plotting the gender ratio for all states\n",
    "plt.figure(figsize=(10, 6))\n",
    "plt.bar(selected_data['State'], gender_ratio)\n",
    "plt.xlabel('State')\n",
    "plt.ylabel('Gender Ratio')\n",
    "plt.title('Gender Ratio Across States')\n",
    "plt.xticks(rotation=90)\n",
    "plt.show()\n"
   ]
  },
  {
   "cell_type": "markdown",
   "id": "44ddd6d2",
   "metadata": {},
   "source": [
    "## Which district has the highest & lowest gender ratio? "
   ]
  },
  {
   "cell_type": "code",
   "execution_count": 102,
   "id": "4f1b663c",
   "metadata": {},
   "outputs": [
    {
     "name": "stdout",
     "output_type": "stream",
     "text": [
      "\n",
      "District with the highest gender ratio: Lakshadweep\n",
      "District with the lowest gender ratio: Krishna\n"
     ]
    }
   ],
   "source": [
    "district_gender_ratio = selected_data['TOT_M'] / selected_data['TOT_F']\n",
    "district_highest_ratio = selected_data.loc[district_gender_ratio.idxmax(), 'Area Name']\n",
    "district_lowest_ratio = selected_data.loc[district_gender_ratio.idxmin(), 'Area Name']\n",
    "print(\"\\nDistrict with the highest gender ratio:\", district_highest_ratio)\n",
    "print(\"District with the lowest gender ratio:\", district_lowest_ratio)"
   ]
  },
  {
   "cell_type": "markdown",
   "id": "00672078",
   "metadata": {},
   "source": [
    "## Problem 2 - Data Preprocessing "
   ]
  },
  {
   "cell_type": "markdown",
   "id": "90cff576",
   "metadata": {},
   "source": [
    "## - Check for and treat (if needed) missing values - Check for and treat (if needed) data irregularities - Scale the Data using the z-score method - Visualize the data before and after scaling and comment on the impact on outliers "
   ]
  },
  {
   "cell_type": "code",
   "execution_count": 16,
   "id": "e4a3a310",
   "metadata": {},
   "outputs": [
    {
     "name": "stdout",
     "output_type": "stream",
     "text": [
      "Missing values:\n",
      " State Code       0\n",
      "Dist.Code        0\n",
      "State            0\n",
      "Area Name        0\n",
      "No_HH            0\n",
      "                ..\n",
      "MARG_HH_0_3_F    0\n",
      "MARG_OT_0_3_M    0\n",
      "MARG_OT_0_3_F    0\n",
      "NON_WORK_M       0\n",
      "NON_WORK_F       0\n",
      "Length: 61, dtype: int64\n"
     ]
    }
   ],
   "source": [
    "import pandas as pd\n",
    "import matplotlib.pyplot as plt\n",
    "import seaborn as sns\n",
    "from sklearn.preprocessing import StandardScaler\n",
    "\n",
    "\n",
    "# Step 1: Check for missing values\n",
    "missing_values = data.isnull().sum()\n",
    "print(\"Missing values:\\n\", missing_values)\n",
    "\n"
   ]
  },
  {
   "cell_type": "code",
   "execution_count": 17,
   "id": "fa688960",
   "metadata": {},
   "outputs": [
    {
     "name": "stdout",
     "output_type": "stream",
     "text": [
      "\n",
      "Data types:\n",
      " State Code        int64\n",
      "Dist.Code         int64\n",
      "State            object\n",
      "Area Name        object\n",
      "No_HH             int64\n",
      "                  ...  \n",
      "MARG_HH_0_3_F     int64\n",
      "MARG_OT_0_3_M     int64\n",
      "MARG_OT_0_3_F     int64\n",
      "NON_WORK_M        int64\n",
      "NON_WORK_F        int64\n",
      "Length: 61, dtype: object\n"
     ]
    }
   ],
   "source": [
    "# Step 2: Check for data irregularities (if needed)\n",
    "# Example: Check data types\n",
    "print(\"\\nData types:\\n\", data.dtypes)\n",
    "\n"
   ]
  },
  {
   "cell_type": "code",
   "execution_count": 19,
   "id": "5a4a5faf",
   "metadata": {},
   "outputs": [
    {
     "data": {
      "text/html": [
       "<div>\n",
       "<style scoped>\n",
       "    .dataframe tbody tr th:only-of-type {\n",
       "        vertical-align: middle;\n",
       "    }\n",
       "\n",
       "    .dataframe tbody tr th {\n",
       "        vertical-align: top;\n",
       "    }\n",
       "\n",
       "    .dataframe thead th {\n",
       "        text-align: right;\n",
       "    }\n",
       "</style>\n",
       "<table border=\"1\" class=\"dataframe\">\n",
       "  <thead>\n",
       "    <tr style=\"text-align: right;\">\n",
       "      <th></th>\n",
       "      <th>No_HH</th>\n",
       "      <th>TOT_M</th>\n",
       "      <th>TOT_F</th>\n",
       "      <th>M_06</th>\n",
       "      <th>F_06</th>\n",
       "    </tr>\n",
       "  </thead>\n",
       "  <tbody>\n",
       "    <tr>\n",
       "      <th>0</th>\n",
       "      <td>-0.904738</td>\n",
       "      <td>-0.771236</td>\n",
       "      <td>-0.815563</td>\n",
       "      <td>-0.561012</td>\n",
       "      <td>-0.507738</td>\n",
       "    </tr>\n",
       "    <tr>\n",
       "      <th>1</th>\n",
       "      <td>-0.935695</td>\n",
       "      <td>-0.823100</td>\n",
       "      <td>-0.874534</td>\n",
       "      <td>-0.681096</td>\n",
       "      <td>-0.725367</td>\n",
       "    </tr>\n",
       "    <tr>\n",
       "      <th>2</th>\n",
       "      <td>-0.972412</td>\n",
       "      <td>-1.000919</td>\n",
       "      <td>-0.981466</td>\n",
       "      <td>-0.976956</td>\n",
       "      <td>-0.965262</td>\n",
       "    </tr>\n",
       "    <tr>\n",
       "      <th>3</th>\n",
       "      <td>-1.037530</td>\n",
       "      <td>-1.052224</td>\n",
       "      <td>-1.041001</td>\n",
       "      <td>-1.022118</td>\n",
       "      <td>-0.995393</td>\n",
       "    </tr>\n",
       "    <tr>\n",
       "      <th>4</th>\n",
       "      <td>-0.822676</td>\n",
       "      <td>-0.809381</td>\n",
       "      <td>-0.813933</td>\n",
       "      <td>-0.622359</td>\n",
       "      <td>-0.649908</td>\n",
       "    </tr>\n",
       "    <tr>\n",
       "      <th>...</th>\n",
       "      <td>...</td>\n",
       "      <td>...</td>\n",
       "      <td>...</td>\n",
       "      <td>...</td>\n",
       "      <td>...</td>\n",
       "    </tr>\n",
       "    <tr>\n",
       "      <th>635</th>\n",
       "      <td>-0.995677</td>\n",
       "      <td>-0.978990</td>\n",
       "      <td>-0.974268</td>\n",
       "      <td>-0.971387</td>\n",
       "      <td>-0.948916</td>\n",
       "    </tr>\n",
       "    <tr>\n",
       "      <th>636</th>\n",
       "      <td>-0.844340</td>\n",
       "      <td>-0.921822</td>\n",
       "      <td>-0.886965</td>\n",
       "      <td>-0.936754</td>\n",
       "      <td>-0.919757</td>\n",
       "    </tr>\n",
       "    <tr>\n",
       "      <th>637</th>\n",
       "      <td>-1.038465</td>\n",
       "      <td>-1.069066</td>\n",
       "      <td>-1.054885</td>\n",
       "      <td>-1.051356</td>\n",
       "      <td>-1.035331</td>\n",
       "    </tr>\n",
       "    <tr>\n",
       "      <th>638</th>\n",
       "      <td>-0.986758</td>\n",
       "      <td>-1.019276</td>\n",
       "      <td>-1.007472</td>\n",
       "      <td>-1.008195</td>\n",
       "      <td>-0.996541</td>\n",
       "    </tr>\n",
       "    <tr>\n",
       "      <th>639</th>\n",
       "      <td>-0.899166</td>\n",
       "      <td>-0.926854</td>\n",
       "      <td>-0.919050</td>\n",
       "      <td>-0.943193</td>\n",
       "      <td>-0.935220</td>\n",
       "    </tr>\n",
       "  </tbody>\n",
       "</table>\n",
       "<p>640 rows × 5 columns</p>\n",
       "</div>"
      ],
      "text/plain": [
       "        No_HH     TOT_M     TOT_F      M_06      F_06\n",
       "0   -0.904738 -0.771236 -0.815563 -0.561012 -0.507738\n",
       "1   -0.935695 -0.823100 -0.874534 -0.681096 -0.725367\n",
       "2   -0.972412 -1.000919 -0.981466 -0.976956 -0.965262\n",
       "3   -1.037530 -1.052224 -1.041001 -1.022118 -0.995393\n",
       "4   -0.822676 -0.809381 -0.813933 -0.622359 -0.649908\n",
       "..        ...       ...       ...       ...       ...\n",
       "635 -0.995677 -0.978990 -0.974268 -0.971387 -0.948916\n",
       "636 -0.844340 -0.921822 -0.886965 -0.936754 -0.919757\n",
       "637 -1.038465 -1.069066 -1.054885 -1.051356 -1.035331\n",
       "638 -0.986758 -1.019276 -1.007472 -1.008195 -0.996541\n",
       "639 -0.899166 -0.926854 -0.919050 -0.943193 -0.935220\n",
       "\n",
       "[640 rows x 5 columns]"
      ]
     },
     "execution_count": 19,
     "metadata": {},
     "output_type": "execute_result"
    }
   ],
   "source": [
    "# Step 3: Scale the data using z-score method\n",
    "# Select numerical columns to scale\n",
    "numerical_columns = ['No_HH', 'TOT_M', 'TOT_F', 'M_06', 'F_06']  # Example columns\n",
    "\n",
    "# Apply z-score scaling\n",
    "scaler = StandardScaler()\n",
    "scaled_data = scaler.fit_transform(data[numerical_columns])\n",
    "\n",
    "# Convert scaled data back to DataFrame\n",
    "scaled_df = pd.DataFrame(scaled_data, columns=numerical_columns)\n",
    "\n",
    "scaled_df"
   ]
  },
  {
   "cell_type": "code",
   "execution_count": 20,
   "id": "a6e77c68",
   "metadata": {},
   "outputs": [
    {
     "data": {
      "image/png": "[encoded data removed]",
      "text/plain": [
       "<Figure size 1200x600 with 2 Axes>"
      ]
     },
     "metadata": {},
     "output_type": "display_data"
    }
   ],
   "source": [
    "# Step 4: Visualize the data before and after scaling\n",
    "plt.figure(figsize=(12, 6))\n",
    "plt.subplot(1, 2, 1)\n",
    "sns.boxplot(data=data[numerical_columns])\n",
    "plt.title('Before Scaling')\n",
    "\n",
    "plt.subplot(1, 2, 2)\n",
    "sns.boxplot(data=scaled_df)\n",
    "plt.title('After Scaling')\n",
    "\n",
    "plt.tight_layout()\n",
    "plt.show()\n"
   ]
  },
  {
   "cell_type": "markdown",
   "id": "b506a0b2",
   "metadata": {},
   "source": [
    "## Problem 2 - PCA\n",
    "- Create the covariance matrix - Get eigen values and eigen vectors - Identify the optimum number of PCs - Show Scree plot - Compare PCs with Actual Columns and identify which is explaining most variance - Write inferences about all the PCs in terms of actual variables - Write linear equation for first PC Note: For the scope of this project, take at least 90% explained variance."
   ]
  },
  {
   "cell_type": "code",
   "execution_count": 103,
   "id": "1e7db91f",
   "metadata": {},
   "outputs": [],
   "source": [
    "from sklearn.decomposition import PCA\n",
    "import numpy as np\n",
    "import matplotlib.pyplot as plt\n",
    "\n",
    "# Step 1: Create the covariance matrix\n",
    "cov_matrix = np.cov(scaled_df.T)\n",
    "\n",
    "# Step 2: Get eigenvalues and eigenvectors\n",
    "eigenvalues, eigenvectors = np.linalg.eig(cov_matrix)\n",
    "\n",
    "# Step 3: Identify the optimum number of PCs\n",
    "total_variance = sum(eigenvalues)\n",
    "explained_variance_ratio = eigenvalues / total_variance\n",
    "cumulative_variance_ratio = np.cumsum(explained_variance_ratio)\n",
    "\n"
   ]
  },
  {
   "cell_type": "code",
   "execution_count": 104,
   "id": "48d261a5",
   "metadata": {},
   "outputs": [
    {
     "name": "stdout",
     "output_type": "stream",
     "text": [
      "Eigenvalues:\n",
      "[6.95495130e+00 2.60273066e+00 1.61839101e+00 6.93356489e-01\n",
      " 4.32367815e-01 3.14770773e-01 1.60098486e-01 1.13701628e-01\n",
      " 6.98689613e-02 2.94153034e-02 1.05869964e-02 1.94454700e-04\n",
      " 1.29742820e-04]\n",
      "\n",
      "Eigenvectors:\n",
      "[[ 1.18809362e-01 -2.31809100e-01 -1.14317007e-01  3.57325084e-01\n",
      "   3.60815462e-01  3.59724633e-01  1.13798016e-01  3.16716970e-01\n",
      "  -2.79473590e-01  3.15381633e-01 -2.80450757e-01 -2.66069848e-01\n",
      "   3.02544530e-01]\n",
      " [-1.06216001e-01  3.28710634e-01  2.18224473e-01 -1.55363769e-02\n",
      "   2.96038999e-03 -6.05222833e-03  4.71780611e-01  3.27743391e-01\n",
      "  -3.61187974e-01  3.31901073e-01  3.14065521e-01  3.49184688e-01\n",
      "  -2.03921405e-01]\n",
      " [ 7.00418360e-01 -3.55305351e-01  5.18121342e-01 -7.09716301e-02\n",
      "  -8.13653182e-02 -8.33065035e-02  2.74906529e-01 -1.28065095e-02\n",
      "   1.16961648e-01 -1.94174397e-02 -1.28094435e-03 -3.93706350e-02\n",
      "  -6.91294781e-02]\n",
      " [-4.20850029e-02  3.01578365e-01  6.30133860e-01  2.60696934e-01\n",
      "   2.87852922e-01  2.99833815e-01 -4.22439570e-01 -1.19998226e-01\n",
      "   3.49067501e-02 -1.17193947e-01  1.68601546e-01  9.42587687e-02\n",
      "   1.56106645e-01]\n",
      " [ 3.39392922e-01 -2.79635051e-01 -3.74282405e-01  8.35797771e-02\n",
      "   5.54866113e-02  5.66745388e-02 -2.93545538e-01  1.01335228e-02\n",
      "  -1.14566538e-01  1.09630243e-02  5.05133198e-01  5.15040792e-01\n",
      "   1.82507812e-01]\n",
      " [ 1.14112592e-02  1.49824042e-01  1.45785411e-01 -3.62088807e-01\n",
      "  -2.45371671e-01 -2.39847422e-01 -6.61872639e-02  1.08484706e-01\n",
      "  -1.32871863e-01  1.09005178e-01 -1.83168840e-01  1.21765680e-01\n",
      "   7.83110692e-01]\n",
      " [-1.60761994e-01 -4.69111492e-03 -7.02742286e-02  1.30278350e-01\n",
      "   1.61824488e-01  1.70126199e-01  4.93069871e-01 -2.91773354e-02\n",
      "   6.82227502e-01 -6.57539208e-02  2.66360991e-02  2.93601712e-01\n",
      "   3.10570389e-01]\n",
      " [ 2.82556843e-02  1.22847559e-01 -7.38621664e-02 -4.86898147e-02\n",
      "  -1.97363201e-02 -1.73770082e-02  1.49409390e-01 -1.46151293e-02\n",
      "   5.10733238e-02 -1.95909267e-02  6.82615392e-01 -6.51994967e-01\n",
      "   2.42903325e-01]\n",
      " [-5.74968689e-01 -7.08409935e-01  3.09570285e-01 -1.53897329e-01\n",
      "  -1.09253093e-02  3.03514003e-03 -2.89894282e-02  3.63763311e-02\n",
      "  -7.52864810e-02  5.29914084e-02  1.90651222e-01  1.31914026e-02\n",
      "   2.75314051e-02]\n",
      " [-4.91647437e-02 -3.73789581e-02 -2.06544385e-02  1.86838635e-01\n",
      "   1.82635841e-02  1.60731808e-02  3.88850077e-01 -5.33513891e-01\n",
      "  -5.15077508e-01 -4.71507311e-01 -4.33192575e-02  7.20045096e-02\n",
      "   1.72429141e-01]\n",
      " [-8.49281581e-02 -4.43965895e-02  7.59791599e-02  7.63173392e-01\n",
      "  -4.12070144e-01 -4.51945703e-01 -4.88053973e-02  1.00846450e-01\n",
      "   6.91225268e-02  7.27170968e-02  2.58505875e-02 -9.47026736e-03\n",
      "   7.19538562e-02]\n",
      " [ 5.16447220e-03  4.64241384e-03 -1.44582362e-03  4.82625578e-03\n",
      "   2.02959155e-01 -2.05406110e-01 -4.35586878e-03 -6.56740986e-01\n",
      "   4.34691790e-02  6.95202047e-01  1.98444917e-03  2.74751909e-06\n",
      "   3.90053158e-03]\n",
      " [ 6.26629453e-03  5.61173825e-03 -4.60579188e-03  2.43007993e-02\n",
      "  -6.92108350e-01  6.61077490e-01  2.78675348e-03 -1.93223891e-01\n",
      "   8.69436459e-03  2.14088883e-01 -1.35454462e-03 -6.91316592e-04\n",
      "  -4.98912009e-03]]\n"
     ]
    }
   ],
   "source": [
    "from sklearn.decomposition import PCA\n",
    "import numpy as np\n",
    "\n",
    "# Step 1: Create the PCA object\n",
    "pca = PCA()\n",
    "\n",
    "# Step 2: Fit the PCA model to the scaled data\n",
    "pca.fit(scaled_df)\n",
    "\n",
    "# Step 3: Print the eigenvalues and eigenvectors\n",
    "print(\"Eigenvalues:\")\n",
    "print(pca.explained_variance_)\n",
    "print(\"\\nEigenvectors:\")\n",
    "print(pca.components_)\n"
   ]
  },
  {
   "cell_type": "code",
   "execution_count": 23,
   "id": "68ee0677",
   "metadata": {},
   "outputs": [
    {
     "data": {
      "image/png": "[encoded data removed]",
      "text/plain": [
       "<Figure size 1000x600 with 1 Axes>"
      ]
     },
     "metadata": {},
     "output_type": "display_data"
    }
   ],
   "source": [
    "# Find the number of components needed to explain at least 90% variance\n",
    "num_components_90 = np.argmax(cumulative_variance_ratio >= 0.9) + 1\n",
    "\n",
    "# Step 4: Show Scree plot\n",
    "plt.figure(figsize=(10, 6))\n",
    "plt.plot(range(1, len(explained_variance_ratio) + 1), explained_variance_ratio, marker='o', linestyle='-')\n",
    "plt.xlabel('Number of Components')\n",
    "plt.ylabel('Explained Variance Ratio')\n",
    "plt.title('Scree Plot')\n",
    "plt.axvline(x=num_components_90, color='r', linestyle='--', label=f'{num_components_90} components (90% variance)')\n",
    "plt.legend()\n",
    "plt.grid(True)\n",
    "plt.show()\n",
    "\n"
   ]
  },
  {
   "cell_type": "code",
   "execution_count": 25,
   "id": "0d9f20c4",
   "metadata": {},
   "outputs": [
    {
     "name": "stdout",
     "output_type": "stream",
     "text": [
      "Principal Component 1:\n",
      "  No_HH: 0.42857823607763434\n",
      "  TOT_M: 0.4593623855765384\n",
      "  TOT_F: 0.45632420259992235\n",
      "  M_06: 0.44584832674987984\n",
      "  F_06: 0.4453025779555879\n"
     ]
    }
   ],
   "source": [
    "# Step 5: Compare PCs with Actual Columns\n",
    "pca = PCA(n_components=num_components_90)\n",
    "pca.fit(scaled_df)\n",
    "loadings = pca.components_\n",
    "\n",
    "# Step 6: Write inferences about all the PCs in terms of actual variables\n",
    "for i, pc in enumerate(loadings, start=1):\n",
    "    print(f\"Principal Component {i}:\")\n",
    "    for j, col in enumerate(scaled_df.columns):\n",
    "        print(f\"  {col}: {pc[j]}\")\n",
    "\n",
    "\n"
   ]
  },
  {
   "cell_type": "code",
   "execution_count": 26,
   "id": "0ec1fe77",
   "metadata": {},
   "outputs": [
    {
     "name": "stdout",
     "output_type": "stream",
     "text": [
      "\n",
      "Linear equation for the first PC:\n",
      "0.43 * No_HH + 0.46 * TOT_M + 0.46 * TOT_F + 0.45 * M_06 + 0.45 * F_06\n"
     ]
    }
   ],
   "source": [
    "# Step 7: Write linear equation for the first PC\n",
    "first_pc = loadings[0]\n",
    "linear_equation = ' + '.join([f'{first_pc[i]:.2f} * {col}' for i, col in enumerate(scaled_df.columns)])\n",
    "print(\"\\nLinear equation for the first PC:\")\n",
    "print(linear_equation)"
   ]
  },
  {
   "cell_type": "code",
   "execution_count": null,
   "id": "f8f5aea3",
   "metadata": {},
   "outputs": [],
   "source": []
  }
 ],
 "metadata": {
  "kernelspec": {
   "display_name": "Python 3",
   "language": "python",
   "name": "python3"
  },
  "language_info": {
   "codemirror_mode": {
    "name": "ipython",
    "version": 3
   },
   "file_extension": ".py",
   "mimetype": "text/x-python",
   "name": "python",
   "nbconvert_exporter": "python",
   "pygments_lexer": "ipython3",
   "version": "3.11.4"
  }
 },
 "nbformat": 4,
 "nbformat_minor": 5
}
