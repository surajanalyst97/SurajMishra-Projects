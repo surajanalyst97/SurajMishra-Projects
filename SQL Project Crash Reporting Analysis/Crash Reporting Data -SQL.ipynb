{
    "metadata": {
        "kernelspec": {
            "name": "SQL",
            "display_name": "SQL",
            "language": "sql"
        },
        "language_info": {
            "name": "sql",
            "version": ""
        }
    },
    "nbformat_minor": 2,
    "nbformat": 4,
    "cells": [
        {
            "cell_type": "markdown",
            "source": [
                "**Crash-Reporting Drivers Data Analysis** \n",
                "\n",
                "This dataset provides information on motor vehicle operators (drivers) involved in traffic collisions occurring on county and local roadways. The dataset reports details of all traffic collisions occurring on county and local roadways within Montgomery County, as collected via the Automated Crash Reporting System (ACRS) of the Maryland State Police, and reported by the Montgomery County Police, Gaithersburg Police, Rockville Police, or the Maryland-National Capital Park Police. This dataset shows each collision data recorded and the drivers involved.  \n",
                "\n",
                "<span style=\"color: rgb(27, 27, 27); font-family: Lato, Arial, sans-serif;\"><br></span>\n",
                "\n",
                "\"I have downloaded this data from **data.gov**, and it pertains to the **federal government**, specifically the **Montgomery County of Maryland.** I intend to use **SQL** to derive insights from this dataset.\"\n",
                "\n",
                "**Content**\n",
                "\n",
                "**This dataset contains 171420 rows and 40 columns**\n",
                "\n",
                "**Below are the variable descriptions for each of the columns:**\n",
                "\n",
                "**Local Case Number:** A unique identifier for a specific case related to a crash or incident.\n",
                "\n",
                "**Agency Name:** The name or identifier of the agency involved or responsible for handling the case.\n",
                "\n",
                "**ACRS Report Type:** The categorization or type of the Accident Crash Reporting System (ACRS) report.\n",
                "\n",
                "**Crash Date/Time:** The date and time when the crash or incident occurred.\n",
                "\n",
                "**Route Type:** The type or classification of the route where the incident occurred.\n",
                "\n",
                "**Road Name:** The name of the road where the incident occurred.\n",
                "\n",
                "**Cross-Street Type:** The type or classification of the intersecting street.\n",
                "\n",
                "**Cross-Street Name:** The name of the intersecting street.\n",
                "\n",
                "**Off-Road Description:** Description of the location or context, particularly when off the main road.\n",
                "\n",
                "**Municipality:** The local government area or jurisdiction where the incident took place.\n",
                "\n",
                "**Related Non-Motorist:** Information regarding any non-motorists involved in the incident.\n",
                "\n",
                "**Collision Type:** The type or nature of the collision that occurred.\n",
                "\n",
                "**Weather:** Weather conditions prevailing at the time of the incident.\n",
                "\n",
                "**Surface Condition:** Description of the surface condition at the location of the incident.\n",
                "\n",
                "**Light:** Information about lighting conditions during the incident.\n",
                "\n",
                "**Traffic Control:** Details regarding traffic control measures at the location.\n",
                "\n",
                "**Driver Substance Abuse:** Any indication or information about substance abuse by the driver.\n",
                "\n",
                "**Non-Motorist Substance Abuse**: Information about substance abuse by non-motorists involved.\n",
                "\n",
                "**Person ID:** Unique identifier for individuals involved in the incident.\n",
                "\n",
                "**Driver At Fault:** Indicates whether the driver was at fault.\n",
                "\n",
                "**Injury Severity:** Severity of injuries sustained as a result of the incident.\n",
                "\n",
                "**Circumstance:** Circumstances or contextual information related to the incident.\n",
                "\n",
                "**Driver Distracted By:** Details about what the driver was distracted by, if applicable.\n",
                "\n",
                "**Drivers License State:** State of the driver's license.\n",
                "\n",
                "**Vehicle ID:** Unique identifier for the vehicle involved in the incident.\n",
                "\n",
                "**Vehicle Damage Extent:** Extent of damage sustained by the vehicle.\n",
                "\n",
                "**Vehicle First Impact Location:** Location on the vehicle where the first impact occurred.\n",
                "\n",
                "**Vehicle Second Impact Location:** Location on the vehicle where the second impact occurred.\n",
                "\n",
                "**Vehicle Body Type:** Type or classification of the vehicle's body.\n",
                "\n",
                "**Vehicle Movement:** Description of the vehicle's movement at the time of the incident.\n",
                "\n",
                "**Vehicle Continuing Dir:** Direction of the vehicle's continued movement post-incident.\n",
                "\n",
                "**Vehicle Going Dir:** Direction the vehicle was heading at the time of the incident.\n",
                "\n",
                "**Speed Limit:** Speed limit applicable at the incident location.\n",
                "\n",
                "**Driverless Vehicle:** Indicates whether the vehicle was driverless.\n",
                "\n",
                "**Parked Vehicle:** Indicates whether the vehicle was parked.\n",
                "\n",
                "**Vehicle Year:** Year of manufacture of the vehicle.\n",
                "\n",
                "**Vehicle Make:** Manufacturer of the vehicle.\n",
                "\n",
                "**Vehicle Model:** Model of the vehicle.\n",
                "\n",
                "**Equipment Problems:** Information about any equipment-related issues observed."
            ],
            "metadata": {
                "language": "sql",
                "azdata_cell_guid": "2a2cf0d4-87cc-406e-acac-12447b79733c"
            },
            "attachments": {}
        },
        {
            "cell_type": "markdown",
            "source": [
                "### **Importing the Data into PostgreSql**"
            ],
            "metadata": {
                "azdata_cell_guid": "ee19a966-97d7-4437-b599-54fa4121e79f"
            },
            "attachments": {}
        },
        {
            "cell_type": "code",
            "source": [
                "DROP TABLE IF EXISTS Crash_Reporting;\r\n",
                "\r\n",
                "CREATE TABLE Crash_Reporting(\r\n",
                "\t\"Report Number\" VARCHAR,\r\n",
                "\t\"Local Case Number\" VARCHAR,\r\n",
                "\t\"Agency Name\" VARCHAR,\r\n",
                "\t\"ACRS Report Type\" VARCHAR,\r\n",
                "\t\"Crash Date/Time\" VARCHAR,\r\n",
                "\t\"Route Type\" VARCHAR,\r\n",
                "\t\"Road Name\" VARCHAR,\r\n",
                "\t\"Cross-Street Type\" VARCHAR,\r\n",
                "\t\"Cross-Street Name\" VARCHAR,\r\n",
                "\t\"Off-Road Description\" VARCHAR,\r\n",
                "\tMunicipality VARCHAR,\r\n",
                "\t\"Related Non-Motorist\" VARCHAR,\r\n",
                "\t\"Collision Type\" VARCHAR,\r\n",
                "\tWeather VARCHAR,\r\n",
                "\t\"Surface Condition\" VARCHAR,\r\n",
                "\tLight VARCHAR,\r\n",
                "\t\"Traffic Control\" VARCHAR,\r\n",
                "\t\"Driver Substance Abuse\" VARCHAR,\r\n",
                "\t\"Non-Motorist Substance Abuse\" VARCHAR,\r\n",
                "\t\"Person ID\" VARCHAR,\r\n",
                "\t\"Driver At Fault\" VARCHAR,\r\n",
                "\t\"Injury Severity\" VARCHAR,\r\n",
                "\tCircumstance VARCHAR,\r\n",
                "\t\"Driver Distracted By\" VARCHAR,\r\n",
                "\t\"Drivers License State\" VARCHAR,\r\n",
                "\t\"Vehicle ID\" VARCHAR,\r\n",
                "\t\"Vehicle Damage Extent\" VARCHAR,\r\n",
                "\t\"Vehicle First Impact Location\" VARCHAR,\r\n",
                "\t\"Vehicle Second Impact Location\" VARCHAR,\r\n",
                "\t\"Vehicle Body Type\" VARCHAR,\r\n",
                "\t\"Vehicle Movement\" VARCHAR,\r\n",
                "\t\"Vehicle Continuing Dir\" VARCHAR,\r\n",
                "\t\"Vehicle Going Dir\" VARCHAR,\r\n",
                "\t\"Speed Limit\" INT,\r\n",
                "\t\"Driverless Vehicle\" VARCHAR,\r\n",
                "\t\"Parked Vehicle\" VARCHAR,\r\n",
                "\t\"Vehicle Year\" INT,\r\n",
                "\t\"Vehicle Make\" VARCHAR,\r\n",
                "\t\"Vehicle Model\" VARCHAR,\r\n",
                "\t\"Equipment Problems\" VARCHAR\r\n",
                "\t\r\n",
                "\t);\r\n",
                "\t\r\n",
                "\t--Although I have created table as Crash_Reporting ,so further I am using this only"
            ],
            "metadata": {
                "azdata_cell_guid": "2aba53fc-4c03-4469-91cb-446d023aa87e",
                "language": "sql"
            },
            "outputs": [],
            "execution_count": null
        },
        {
            "cell_type": "code",
            "source": [
                "--Look at first few records only \r\n",
                "\r\n",
                "Select *\r\n",
                "from Crash_Reporting \r\n",
                "Limit 10;"
            ],
            "metadata": {
                "azdata_cell_guid": "53200324-dc04-4fb8-ad9b-97ecbfaf4a25",
                "language": "sql"
            },
            "outputs": [
                {
                    "output_type": "display_data",
                    "data": {
                        "text/html": "(10 row(s) affected)"
                    },
                    "metadata": {}
                },
                {
                    "output_type": "display_data",
                    "data": {
                        "text/html": "Total execution time: 00:00:00.010"
                    },
                    "metadata": {}
                },
                {
                    "output_type": "execute_result",
                    "execution_count": 24,
                    "data": {
                        "application/vnd.dataresource+json": {
                            "schema": {
                                "fields": [
                                    {
                                        "name": "Report Number"
                                    },
                                    {
                                        "name": "Local Case Number"
                                    },
                                    {
                                        "name": "Agency Name"
                                    },
                                    {
                                        "name": "ACRS Report Type"
                                    },
                                    {
                                        "name": "Crash Date/Time"
                                    },
                                    {
                                        "name": "Route Type"
                                    },
                                    {
                                        "name": "Road Name"
                                    },
                                    {
                                        "name": "Cross-Street Type"
                                    },
                                    {
                                        "name": "Cross-Street Name"
                                    },
                                    {
                                        "name": "Off-Road Description"
                                    },
                                    {
                                        "name": "municipality"
                                    },
                                    {
                                        "name": "Related Non-Motorist"
                                    },
                                    {
                                        "name": "Collision Type"
                                    },
                                    {
                                        "name": "weather"
                                    },
                                    {
                                        "name": "Surface Condition"
                                    },
                                    {
                                        "name": "light"
                                    },
                                    {
                                        "name": "Traffic Control"
                                    },
                                    {
                                        "name": "Driver Substance Abuse"
                                    },
                                    {
                                        "name": "Non-Motorist Substance Abuse"
                                    },
                                    {
                                        "name": "Person ID"
                                    },
                                    {
                                        "name": "Driver At Fault"
                                    },
                                    {
                                        "name": "Injury Severity"
                                    },
                                    {
                                        "name": "circumstance"
                                    },
                                    {
                                        "name": "Driver Distracted By"
                                    },
                                    {
                                        "name": "Drivers License State"
                                    },
                                    {
                                        "name": "Vehicle ID"
                                    },
                                    {
                                        "name": "Vehicle Damage Extent"
                                    },
                                    {
                                        "name": "Vehicle First Impact Location"
                                    },
                                    {
                                        "name": "Vehicle Second Impact Location"
                                    },
                                    {
                                        "name": "Vehicle Body Type"
                                    },
                                    {
                                        "name": "Vehicle Movement"
                                    },
                                    {
                                        "name": "Vehicle Continuing Dir"
                                    },
                                    {
                                        "name": "Vehicle Going Dir"
                                    },
                                    {
                                        "name": "Speed Limit"
                                    },
                                    {
                                        "name": "Driverless Vehicle"
                                    },
                                    {
                                        "name": "Parked Vehicle"
                                    },
                                    {
                                        "name": "Vehicle Year"
                                    },
                                    {
                                        "name": "Vehicle Make"
                                    },
                                    {
                                        "name": "Vehicle Model"
                                    },
                                    {
                                        "name": "Equipment Problems"
                                    }
                                ]
                            },
                            "data": [
                                {
                                    "Report Number": "MCP3040003N",
                                    "Local Case Number": "190026050",
                                    "Agency Name": "Montgomery County Police",
                                    "ACRS Report Type": "Property Damage Crash",
                                    "Crash Date/Time": "05/31/2019 03:00:00 PM",
                                    "Route Type": "NULL",
                                    "Road Name": "NULL",
                                    "Cross-Street Type": "NULL",
                                    "Cross-Street Name": "NULL",
                                    "Off-Road Description": "PARKING LOT OF 3215 SPARTAN RD",
                                    "municipality": "NULL",
                                    "Related Non-Motorist": "NULL",
                                    "Collision Type": "OTHER",
                                    "weather": "CLEAR",
                                    "Surface Condition": "NULL",
                                    "light": "DAYLIGHT",
                                    "Traffic Control": "N/A",
                                    "Driver Substance Abuse": "UNKNOWN",
                                    "Non-Motorist Substance Abuse": "NULL",
                                    "Person ID": "DE2A24CD-7919-4F8D-BABF-5B75CE12D21E",
                                    "Driver At Fault": "Yes",
                                    "Injury Severity": "NO APPARENT INJURY",
                                    "circumstance": "N/A",
                                    "Driver Distracted By": "UNKNOWN",
                                    "Drivers License State": "NULL",
                                    "Vehicle ID": "165AD539-A8C8-4004-AF73-B7DCAAA8B3CC",
                                    "Vehicle Damage Extent": "SUPERFICIAL",
                                    "Vehicle First Impact Location": "ONE OCLOCK",
                                    "Vehicle Second Impact Location": "ONE OCLOCK",
                                    "Vehicle Body Type": "PASSENGER CAR",
                                    "Vehicle Movement": "PARKING",
                                    "Vehicle Continuing Dir": "North",
                                    "Vehicle Going Dir": "North",
                                    "Speed Limit": "15",
                                    "Driverless Vehicle": "No",
                                    "Parked Vehicle": "No",
                                    "Vehicle Year": "2004",
                                    "Vehicle Make": "HONDA",
                                    "Vehicle Model": "TK",
                                    "Equipment Problems": "UNKNOWN"
                                },
                                {
                                    "Report Number": "EJ78850038",
                                    "Local Case Number": "230034791",
                                    "Agency Name": "Gaithersburg Police Depar",
                                    "ACRS Report Type": "Property Damage Crash",
                                    "Crash Date/Time": "07/21/2023 05:59:00 PM",
                                    "Route Type": "Maryland (State)",
                                    "Road Name": "FREDERICK RD",
                                    "Cross-Street Type": "Unknown",
                                    "Cross-Street Name": "WATKINS MILL RD",
                                    "Off-Road Description": "NULL",
                                    "municipality": "N/A",
                                    "Related Non-Motorist": "NULL",
                                    "Collision Type": "STRAIGHT MOVEMENT ANGLE",
                                    "weather": "CLEAR",
                                    "Surface Condition": "DRY",
                                    "light": "DAYLIGHT",
                                    "Traffic Control": "TRAFFIC SIGNAL",
                                    "Driver Substance Abuse": "NONE DETECTED",
                                    "Non-Motorist Substance Abuse": "NULL",
                                    "Person ID": "E7058A8E-4F18-4D2A-954E-04A099CFED12",
                                    "Driver At Fault": "No",
                                    "Injury Severity": "NO APPARENT INJURY",
                                    "circumstance": "N/A",
                                    "Driver Distracted By": "NOT DISTRACTED",
                                    "Drivers License State": "MD",
                                    "Vehicle ID": "1C3C3E2F-9A23-4ED0-9BB3-B6C370D99C37",
                                    "Vehicle Damage Extent": "DISABLING",
                                    "Vehicle First Impact Location": "THREE OCLOCK",
                                    "Vehicle Second Impact Location": "TWO OCLOCK",
                                    "Vehicle Body Type": "PASSENGER CAR",
                                    "Vehicle Movement": "MAKING LEFT TURN",
                                    "Vehicle Continuing Dir": "East",
                                    "Vehicle Going Dir": "South",
                                    "Speed Limit": "40",
                                    "Driverless Vehicle": "No",
                                    "Parked Vehicle": "No",
                                    "Vehicle Year": "2011",
                                    "Vehicle Make": "GMC",
                                    "Vehicle Model": "TK",
                                    "Equipment Problems": "NO MISUSE"
                                },
                                {
                                    "Report Number": "MCP2009002G",
                                    "Local Case Number": "230034583",
                                    "Agency Name": "Montgomery County Police",
                                    "ACRS Report Type": "Property Damage Crash",
                                    "Crash Date/Time": "07/20/2023 03:10:00 PM",
                                    "Route Type": "Maryland (State)",
                                    "Road Name": "GEORGIA AVE",
                                    "Cross-Street Type": "Maryland (State)",
                                    "Cross-Street Name": "NORBECK RD",
                                    "Off-Road Description": "NULL",
                                    "municipality": "N/A",
                                    "Related Non-Motorist": "NULL",
                                    "Collision Type": "STRAIGHT MOVEMENT ANGLE",
                                    "weather": "CLEAR",
                                    "Surface Condition": "DRY",
                                    "light": "DAYLIGHT",
                                    "Traffic Control": "TRAFFIC SIGNAL",
                                    "Driver Substance Abuse": "NONE DETECTED",
                                    "Non-Motorist Substance Abuse": "NULL",
                                    "Person ID": "2B404D6D-8DB5-4CB6-9E71-9F1B8D0A8925",
                                    "Driver At Fault": "Yes",
                                    "Injury Severity": "NO APPARENT INJURY",
                                    "circumstance": "N/A",
                                    "Driver Distracted By": "NOT DISTRACTED",
                                    "Drivers License State": "MD",
                                    "Vehicle ID": "0483CE47-E0FC-4BCA-BAB0-B7541820FEE6",
                                    "Vehicle Damage Extent": "FUNCTIONAL",
                                    "Vehicle First Impact Location": "TWELVE OCLOCK",
                                    "Vehicle Second Impact Location": "TWELVE OCLOCK",
                                    "Vehicle Body Type": "PICKUP TRUCK",
                                    "Vehicle Movement": "ACCELERATING",
                                    "Vehicle Continuing Dir": "North",
                                    "Vehicle Going Dir": "North",
                                    "Speed Limit": "35",
                                    "Driverless Vehicle": "No",
                                    "Parked Vehicle": "No",
                                    "Vehicle Year": "2019",
                                    "Vehicle Make": "FORD",
                                    "Vehicle Model": "F150",
                                    "Equipment Problems": "NO MISUSE"
                                },
                                {
                                    "Report Number": "MCP3201004C",
                                    "Local Case Number": "230035036",
                                    "Agency Name": "Montgomery County Police",
                                    "ACRS Report Type": "Property Damage Crash",
                                    "Crash Date/Time": "07/23/2023 12:10:00 PM",
                                    "Route Type": "County",
                                    "Road Name": "CRYSTAL ROCK DR",
                                    "Cross-Street Type": "County",
                                    "Cross-Street Name": "WATERS LANDING DR",
                                    "Off-Road Description": "NULL",
                                    "municipality": "N/A",
                                    "Related Non-Motorist": "NULL",
                                    "Collision Type": "STRAIGHT MOVEMENT ANGLE",
                                    "weather": "CLEAR",
                                    "Surface Condition": "DRY",
                                    "light": "DAYLIGHT",
                                    "Traffic Control": "NO CONTROLS",
                                    "Driver Substance Abuse": "NONE DETECTED",
                                    "Non-Motorist Substance Abuse": "NULL",
                                    "Person ID": "637D8107-0381-4B8D-848A-B4A93B4D53CE",
                                    "Driver At Fault": "Yes",
                                    "Injury Severity": "NO APPARENT INJURY",
                                    "circumstance": "N/A",
                                    "Driver Distracted By": "LOOKED BUT DID NOT SEE",
                                    "Drivers License State": "MD",
                                    "Vehicle ID": "4406AA84-07F8-45F4-88A2-09AD89AC9AAF",
                                    "Vehicle Damage Extent": "FUNCTIONAL",
                                    "Vehicle First Impact Location": "TWELVE OCLOCK",
                                    "Vehicle Second Impact Location": "TWELVE OCLOCK",
                                    "Vehicle Body Type": "PASSENGER CAR",
                                    "Vehicle Movement": "STARTING FROM LANE",
                                    "Vehicle Continuing Dir": "East",
                                    "Vehicle Going Dir": "East",
                                    "Speed Limit": "40",
                                    "Driverless Vehicle": "No",
                                    "Parked Vehicle": "No",
                                    "Vehicle Year": "2016",
                                    "Vehicle Make": "KIA",
                                    "Vehicle Model": "SW",
                                    "Equipment Problems": "NO MISUSE"
                                },
                                {
                                    "Report Number": "MCP23290028",
                                    "Local Case Number": "230035152",
                                    "Agency Name": "Montgomery County Police",
                                    "ACRS Report Type": "Property Damage Crash",
                                    "Crash Date/Time": "07/24/2023 06:10:00 AM",
                                    "Route Type": "County",
                                    "Road Name": "MONTGOMERY VILLAGE AVE",
                                    "Cross-Street Type": "County",
                                    "Cross-Street Name": "CENTERWAY RD",
                                    "Off-Road Description": "NULL",
                                    "municipality": "N/A",
                                    "Related Non-Motorist": "NULL",
                                    "Collision Type": "HEAD ON LEFT TURN",
                                    "weather": "CLOUDY",
                                    "Surface Condition": "DRY",
                                    "light": "DAYLIGHT",
                                    "Traffic Control": "TRAFFIC SIGNAL",
                                    "Driver Substance Abuse": "NONE DETECTED",
                                    "Non-Motorist Substance Abuse": "NULL",
                                    "Person ID": "52F904CB-822C-4D8D-9457-0D66B99AD407",
                                    "Driver At Fault": "Yes",
                                    "Injury Severity": "NO APPARENT INJURY",
                                    "circumstance": "N/A",
                                    "Driver Distracted By": "NOT DISTRACTED",
                                    "Drivers License State": "CA",
                                    "Vehicle ID": "148FAA0F-4EBB-43E8-9339-BBED3F245751",
                                    "Vehicle Damage Extent": "FUNCTIONAL",
                                    "Vehicle First Impact Location": "TWELVE OCLOCK",
                                    "Vehicle Second Impact Location": "TWELVE OCLOCK",
                                    "Vehicle Body Type": "(SPORT) UTILITY VEHICLE",
                                    "Vehicle Movement": "MAKING LEFT TURN",
                                    "Vehicle Continuing Dir": "West",
                                    "Vehicle Going Dir": "North",
                                    "Speed Limit": "35",
                                    "Driverless Vehicle": "No",
                                    "Parked Vehicle": "No",
                                    "Vehicle Year": "2016",
                                    "Vehicle Make": "TOYT",
                                    "Vehicle Model": "TK",
                                    "Equipment Problems": "NO MISUSE"
                                },
                                {
                                    "Report Number": "MCP295200DV",
                                    "Local Case Number": "230032956",
                                    "Agency Name": "Montgomery County Police",
                                    "ACRS Report Type": "Property Damage Crash",
                                    "Crash Date/Time": "07-11-2023 07:40:00 AM",
                                    "Route Type": "County",
                                    "Road Name": "WAYNE AVE",
                                    "Cross-Street Type": "County",
                                    "Cross-Street Name": "ALLEY",
                                    "Off-Road Description": "NULL",
                                    "municipality": "N/A",
                                    "Related Non-Motorist": "NULL",
                                    "Collision Type": "SAME DIR REAR END",
                                    "weather": "CLEAR",
                                    "Surface Condition": "DRY",
                                    "light": "DAYLIGHT",
                                    "Traffic Control": "NO CONTROLS",
                                    "Driver Substance Abuse": "NONE DETECTED",
                                    "Non-Motorist Substance Abuse": "NULL",
                                    "Person ID": "800B57CA-3277-4DC5-8C8D-457AF042F683",
                                    "Driver At Fault": "No",
                                    "Injury Severity": "NO APPARENT INJURY",
                                    "circumstance": "N/A",
                                    "Driver Distracted By": "NOT DISTRACTED",
                                    "Drivers License State": "MD",
                                    "Vehicle ID": "E9504EBF-592D-4E6D-B28E-07B8773E2530",
                                    "Vehicle Damage Extent": "FUNCTIONAL",
                                    "Vehicle First Impact Location": "SIX OCLOCK",
                                    "Vehicle Second Impact Location": "SIX OCLOCK",
                                    "Vehicle Body Type": "TRANSIT BUS",
                                    "Vehicle Movement": "STOPPED IN TRAFFIC LANE",
                                    "Vehicle Continuing Dir": "East",
                                    "Vehicle Going Dir": "East",
                                    "Speed Limit": "30",
                                    "Driverless Vehicle": "No",
                                    "Parked Vehicle": "No",
                                    "Vehicle Year": "2016",
                                    "Vehicle Make": "GILL",
                                    "Vehicle Model": "BUS",
                                    "Equipment Problems": "NO MISUSE"
                                },
                                {
                                    "Report Number": "MCP33510013",
                                    "Local Case Number": "230033282",
                                    "Agency Name": "Montgomery County Police",
                                    "ACRS Report Type": "Property Damage Crash",
                                    "Crash Date/Time": "07-12-2023 08:28:00 PM",
                                    "Route Type": "Maryland (State)",
                                    "Road Name": "COLESVILLE RD",
                                    "Cross-Street Type": "US (State)",
                                    "Cross-Street Name": "COLESVILLE RD",
                                    "Off-Road Description": "NULL",
                                    "municipality": "N/A",
                                    "Related Non-Motorist": "NULL",
                                    "Collision Type": "SAME DIR REAR END",
                                    "weather": "CLEAR",
                                    "Surface Condition": "DRY",
                                    "light": "DUSK",
                                    "Traffic Control": "NO CONTROLS",
                                    "Driver Substance Abuse": "NONE DETECTED",
                                    "Non-Motorist Substance Abuse": "NULL",
                                    "Person ID": "3F9D8C7E-6F06-45DC-8250-E30A8ACC5F2A",
                                    "Driver At Fault": "Yes",
                                    "Injury Severity": "NO APPARENT INJURY",
                                    "circumstance": "ANIMAL, N/A",
                                    "Driver Distracted By": "NOT DISTRACTED",
                                    "Drivers License State": "MD",
                                    "Vehicle ID": "870FF895-E20E-41E0-BE96-CC7D86335B37",
                                    "Vehicle Damage Extent": "DISABLING",
                                    "Vehicle First Impact Location": "TWELVE OCLOCK",
                                    "Vehicle Second Impact Location": "TWELVE OCLOCK",
                                    "Vehicle Body Type": "(SPORT) UTILITY VEHICLE",
                                    "Vehicle Movement": "SLOWING OR STOPPING",
                                    "Vehicle Continuing Dir": "South",
                                    "Vehicle Going Dir": "South",
                                    "Speed Limit": "25",
                                    "Driverless Vehicle": "No",
                                    "Parked Vehicle": "No",
                                    "Vehicle Year": "2014",
                                    "Vehicle Make": "SUBA",
                                    "Vehicle Model": "SW",
                                    "Equipment Problems": "NO MISUSE"
                                },
                                {
                                    "Report Number": "EJ7869003F",
                                    "Local Case Number": "230032124",
                                    "Agency Name": "Gaithersburg Police Depar",
                                    "ACRS Report Type": "Injury Crash",
                                    "Crash Date/Time": "07-05-2023 11:25:00 PM",
                                    "Route Type": "Maryland (State)",
                                    "Road Name": "CLOPPER RD",
                                    "Cross-Street Type": "Unknown",
                                    "Cross-Street Name": "STRUC #15093 GREAT SENECA CREEK",
                                    "Off-Road Description": "NULL",
                                    "municipality": "N/A",
                                    "Related Non-Motorist": "NULL",
                                    "Collision Type": "SINGLE VEHICLE",
                                    "weather": "CLEAR",
                                    "Surface Condition": "DRY",
                                    "light": "DARK -- UNKNOWN LIGHTING",
                                    "Traffic Control": "NO CONTROLS",
                                    "Driver Substance Abuse": "ALCOHOL PRESENT",
                                    "Non-Motorist Substance Abuse": "NULL",
                                    "Person ID": "6247C8F6-297F-4E71-B653-B69CBB22804E",
                                    "Driver At Fault": "Yes",
                                    "Injury Severity": "SUSPECTED MINOR INJURY",
                                    "circumstance": "N/A",
                                    "Driver Distracted By": "UNKNOWN",
                                    "Drivers License State": "MD",
                                    "Vehicle ID": "5D60FF00-F6AB-4774-9A87-6D7C62856972",
                                    "Vehicle Damage Extent": "DESTROYED",
                                    "Vehicle First Impact Location": "TWELVE OCLOCK",
                                    "Vehicle Second Impact Location": "FOUR OCLOCK",
                                    "Vehicle Body Type": "PASSENGER CAR",
                                    "Vehicle Movement": "MOVING CONSTANT SPEED",
                                    "Vehicle Continuing Dir": "North",
                                    "Vehicle Going Dir": "North",
                                    "Speed Limit": "35",
                                    "Driverless Vehicle": "No",
                                    "Parked Vehicle": "No",
                                    "Vehicle Year": "2013",
                                    "Vehicle Make": "BMW",
                                    "Vehicle Model": "328I",
                                    "Equipment Problems": "UNKNOWN"
                                },
                                {
                                    "Report Number": "MCP3244002K",
                                    "Local Case Number": "230034697",
                                    "Agency Name": "Montgomery County Police",
                                    "ACRS Report Type": "Property Damage Crash",
                                    "Crash Date/Time": "07/21/2023 07:14:00 AM",
                                    "Route Type": "US (State)",
                                    "Road Name": "GEORGIA AVE",
                                    "Cross-Street Type": "Unknown",
                                    "Cross-Street Name": "NW EASTERN AVE (DC MAINT)",
                                    "Off-Road Description": "NULL",
                                    "municipality": "N/A",
                                    "Related Non-Motorist": "NULL",
                                    "Collision Type": "SAME DIR REAR END",
                                    "weather": "CLEAR",
                                    "Surface Condition": "DRY",
                                    "light": "DAYLIGHT",
                                    "Traffic Control": "TRAFFIC SIGNAL",
                                    "Driver Substance Abuse": "UNKNOWN",
                                    "Non-Motorist Substance Abuse": "NULL",
                                    "Person ID": "41DDE59B-58B1-4A00-8A0E-4C4B9CD7B6E1",
                                    "Driver At Fault": "Yes",
                                    "Injury Severity": "NO APPARENT INJURY",
                                    "circumstance": "N/A",
                                    "Driver Distracted By": "UNKNOWN",
                                    "Drivers License State": "NULL",
                                    "Vehicle ID": "1B98988B-1BBC-4ED4-955B-C48617170157",
                                    "Vehicle Damage Extent": "N/A",
                                    "Vehicle First Impact Location": "TWELVE OCLOCK",
                                    "Vehicle Second Impact Location": "TWELVE OCLOCK",
                                    "Vehicle Body Type": "PASSENGER CAR",
                                    "Vehicle Movement": "STARTING FROM LANE",
                                    "Vehicle Continuing Dir": "South",
                                    "Vehicle Going Dir": "South",
                                    "Speed Limit": "35",
                                    "Driverless Vehicle": "No",
                                    "Parked Vehicle": "No",
                                    "Vehicle Year": "2020",
                                    "Vehicle Make": "HYUNDAI",
                                    "Vehicle Model": "ELENTRA",
                                    "Equipment Problems": "UNKNOWN"
                                },
                                {
                                    "Report Number": "MCP2863002V",
                                    "Local Case Number": "230034445",
                                    "Agency Name": "Montgomery County Police",
                                    "ACRS Report Type": "Property Damage Crash",
                                    "Crash Date/Time": "07/19/2023 07:00:00 PM",
                                    "Route Type": "Maryland (State)",
                                    "Road Name": "WOODFIELD RD",
                                    "Cross-Street Type": "County",
                                    "Cross-Street Name": "MIDCOUNTY HWY",
                                    "Off-Road Description": "NULL",
                                    "municipality": "N/A",
                                    "Related Non-Motorist": "NULL",
                                    "Collision Type": "SAME DIR REAR END",
                                    "weather": "CLEAR",
                                    "Surface Condition": "DRY",
                                    "light": "DAYLIGHT",
                                    "Traffic Control": "OTHER",
                                    "Driver Substance Abuse": "NONE DETECTED",
                                    "Non-Motorist Substance Abuse": "NULL",
                                    "Person ID": "D3E6DAAE-9C30-4FC6-B791-4B21F2B35246",
                                    "Driver At Fault": "Yes",
                                    "Injury Severity": "NO APPARENT INJURY",
                                    "circumstance": "N/A",
                                    "Driver Distracted By": "INATTENTIVE OR LOST IN THOUGHT",
                                    "Drivers License State": "MD",
                                    "Vehicle ID": "ED90B6F6-216F-4C97-BD23-B12D8F2124C9",
                                    "Vehicle Damage Extent": "SUPERFICIAL",
                                    "Vehicle First Impact Location": "TWELVE OCLOCK",
                                    "Vehicle Second Impact Location": "TWELVE OCLOCK",
                                    "Vehicle Body Type": "(SPORT) UTILITY VEHICLE",
                                    "Vehicle Movement": "SLOWING OR STOPPING",
                                    "Vehicle Continuing Dir": "North",
                                    "Vehicle Going Dir": "North",
                                    "Speed Limit": "30",
                                    "Driverless Vehicle": "No",
                                    "Parked Vehicle": "No",
                                    "Vehicle Year": "2022",
                                    "Vehicle Make": "VOLK",
                                    "Vehicle Model": "UT",
                                    "Equipment Problems": "NO MISUSE"
                                }
                            ]
                        },
                        "text/html": "<table><tr><th>Report Number</th><th>Local Case Number</th><th>Agency Name</th><th>ACRS Report Type</th><th>Crash Date/Time</th><th>Route Type</th><th>Road Name</th><th>Cross-Street Type</th><th>Cross-Street Name</th><th>Off-Road Description</th><th>municipality</th><th>Related Non-Motorist</th><th>Collision Type</th><th>weather</th><th>Surface Condition</th><th>light</th><th>Traffic Control</th><th>Driver Substance Abuse</th><th>Non-Motorist Substance Abuse</th><th>Person ID</th><th>Driver At Fault</th><th>Injury Severity</th><th>circumstance</th><th>Driver Distracted By</th><th>Drivers License State</th><th>Vehicle ID</th><th>Vehicle Damage Extent</th><th>Vehicle First Impact Location</th><th>Vehicle Second Impact Location</th><th>Vehicle Body Type</th><th>Vehicle Movement</th><th>Vehicle Continuing Dir</th><th>Vehicle Going Dir</th><th>Speed Limit</th><th>Driverless Vehicle</th><th>Parked Vehicle</th><th>Vehicle Year</th><th>Vehicle Make</th><th>Vehicle Model</th><th>Equipment Problems</th></tr><tr><td>MCP3040003N</td><td>190026050</td><td>Montgomery County Police</td><td>Property Damage Crash</td><td>05/31/2019 03:00:00 PM</td><td>NULL</td><td>NULL</td><td>NULL</td><td>NULL</td><td>PARKING LOT OF 3215 SPARTAN RD</td><td>NULL</td><td>NULL</td><td>OTHER</td><td>CLEAR</td><td>NULL</td><td>DAYLIGHT</td><td>N/A</td><td>UNKNOWN</td><td>NULL</td><td>DE2A24CD-7919-4F8D-BABF-5B75CE12D21E</td><td>Yes</td><td>NO APPARENT INJURY</td><td>N/A</td><td>UNKNOWN</td><td>NULL</td><td>165AD539-A8C8-4004-AF73-B7DCAAA8B3CC</td><td>SUPERFICIAL</td><td>ONE OCLOCK</td><td>ONE OCLOCK</td><td>PASSENGER CAR</td><td>PARKING</td><td>North</td><td>North</td><td>15</td><td>No</td><td>No</td><td>2004</td><td>HONDA</td><td>TK</td><td>UNKNOWN</td></tr><tr><td>EJ78850038</td><td>230034791</td><td>Gaithersburg Police Depar</td><td>Property Damage Crash</td><td>07/21/2023 05:59:00 PM</td><td>Maryland (State)</td><td>FREDERICK RD</td><td>Unknown</td><td>WATKINS MILL RD</td><td>NULL</td><td>N/A</td><td>NULL</td><td>STRAIGHT MOVEMENT ANGLE</td><td>CLEAR</td><td>DRY</td><td>DAYLIGHT</td><td>TRAFFIC SIGNAL</td><td>NONE DETECTED</td><td>NULL</td><td>E7058A8E-4F18-4D2A-954E-04A099CFED12</td><td>No</td><td>NO APPARENT INJURY</td><td>N/A</td><td>NOT DISTRACTED</td><td>MD</td><td>1C3C3E2F-9A23-4ED0-9BB3-B6C370D99C37</td><td>DISABLING</td><td>THREE OCLOCK</td><td>TWO OCLOCK</td><td>PASSENGER CAR</td><td>MAKING LEFT TURN</td><td>East</td><td>South</td><td>40</td><td>No</td><td>No</td><td>2011</td><td>GMC</td><td>TK</td><td>NO MISUSE</td></tr><tr><td>MCP2009002G</td><td>230034583</td><td>Montgomery County Police</td><td>Property Damage Crash</td><td>07/20/2023 03:10:00 PM</td><td>Maryland (State)</td><td>GEORGIA AVE</td><td>Maryland (State)</td><td>NORBECK RD</td><td>NULL</td><td>N/A</td><td>NULL</td><td>STRAIGHT MOVEMENT ANGLE</td><td>CLEAR</td><td>DRY</td><td>DAYLIGHT</td><td>TRAFFIC SIGNAL</td><td>NONE DETECTED</td><td>NULL</td><td>2B404D6D-8DB5-4CB6-9E71-9F1B8D0A8925</td><td>Yes</td><td>NO APPARENT INJURY</td><td>N/A</td><td>NOT DISTRACTED</td><td>MD</td><td>0483CE47-E0FC-4BCA-BAB0-B7541820FEE6</td><td>FUNCTIONAL</td><td>TWELVE OCLOCK</td><td>TWELVE OCLOCK</td><td>PICKUP TRUCK</td><td>ACCELERATING</td><td>North</td><td>North</td><td>35</td><td>No</td><td>No</td><td>2019</td><td>FORD</td><td>F150</td><td>NO MISUSE</td></tr><tr><td>MCP3201004C</td><td>230035036</td><td>Montgomery County Police</td><td>Property Damage Crash</td><td>07/23/2023 12:10:00 PM</td><td>County</td><td>CRYSTAL ROCK DR</td><td>County</td><td>WATERS LANDING DR</td><td>NULL</td><td>N/A</td><td>NULL</td><td>STRAIGHT MOVEMENT ANGLE</td><td>CLEAR</td><td>DRY</td><td>DAYLIGHT</td><td>NO CONTROLS</td><td>NONE DETECTED</td><td>NULL</td><td>637D8107-0381-4B8D-848A-B4A93B4D53CE</td><td>Yes</td><td>NO APPARENT INJURY</td><td>N/A</td><td>LOOKED BUT DID NOT SEE</td><td>MD</td><td>4406AA84-07F8-45F4-88A2-09AD89AC9AAF</td><td>FUNCTIONAL</td><td>TWELVE OCLOCK</td><td>TWELVE OCLOCK</td><td>PASSENGER CAR</td><td>STARTING FROM LANE</td><td>East</td><td>East</td><td>40</td><td>No</td><td>No</td><td>2016</td><td>KIA</td><td>SW</td><td>NO MISUSE</td></tr><tr><td>MCP23290028</td><td>230035152</td><td>Montgomery County Police</td><td>Property Damage Crash</td><td>07/24/2023 06:10:00 AM</td><td>County</td><td>MONTGOMERY VILLAGE AVE</td><td>County</td><td>CENTERWAY RD</td><td>NULL</td><td>N/A</td><td>NULL</td><td>HEAD ON LEFT TURN</td><td>CLOUDY</td><td>DRY</td><td>DAYLIGHT</td><td>TRAFFIC SIGNAL</td><td>NONE DETECTED</td><td>NULL</td><td>52F904CB-822C-4D8D-9457-0D66B99AD407</td><td>Yes</td><td>NO APPARENT INJURY</td><td>N/A</td><td>NOT DISTRACTED</td><td>CA</td><td>148FAA0F-4EBB-43E8-9339-BBED3F245751</td><td>FUNCTIONAL</td><td>TWELVE OCLOCK</td><td>TWELVE OCLOCK</td><td>(SPORT) UTILITY VEHICLE</td><td>MAKING LEFT TURN</td><td>West</td><td>North</td><td>35</td><td>No</td><td>No</td><td>2016</td><td>TOYT</td><td>TK</td><td>NO MISUSE</td></tr><tr><td>MCP295200DV</td><td>230032956</td><td>Montgomery County Police</td><td>Property Damage Crash</td><td>07-11-2023 07:40:00 AM</td><td>County</td><td>WAYNE AVE</td><td>County</td><td>ALLEY</td><td>NULL</td><td>N/A</td><td>NULL</td><td>SAME DIR REAR END</td><td>CLEAR</td><td>DRY</td><td>DAYLIGHT</td><td>NO CONTROLS</td><td>NONE DETECTED</td><td>NULL</td><td>800B57CA-3277-4DC5-8C8D-457AF042F683</td><td>No</td><td>NO APPARENT INJURY</td><td>N/A</td><td>NOT DISTRACTED</td><td>MD</td><td>E9504EBF-592D-4E6D-B28E-07B8773E2530</td><td>FUNCTIONAL</td><td>SIX OCLOCK</td><td>SIX OCLOCK</td><td>TRANSIT BUS</td><td>STOPPED IN TRAFFIC LANE</td><td>East</td><td>East</td><td>30</td><td>No</td><td>No</td><td>2016</td><td>GILL</td><td>BUS</td><td>NO MISUSE</td></tr><tr><td>MCP33510013</td><td>230033282</td><td>Montgomery County Police</td><td>Property Damage Crash</td><td>07-12-2023 08:28:00 PM</td><td>Maryland (State)</td><td>COLESVILLE RD</td><td>US (State)</td><td>COLESVILLE RD</td><td>NULL</td><td>N/A</td><td>NULL</td><td>SAME DIR REAR END</td><td>CLEAR</td><td>DRY</td><td>DUSK</td><td>NO CONTROLS</td><td>NONE DETECTED</td><td>NULL</td><td>3F9D8C7E-6F06-45DC-8250-E30A8ACC5F2A</td><td>Yes</td><td>NO APPARENT INJURY</td><td>ANIMAL, N/A</td><td>NOT DISTRACTED</td><td>MD</td><td>870FF895-E20E-41E0-BE96-CC7D86335B37</td><td>DISABLING</td><td>TWELVE OCLOCK</td><td>TWELVE OCLOCK</td><td>(SPORT) UTILITY VEHICLE</td><td>SLOWING OR STOPPING</td><td>South</td><td>South</td><td>25</td><td>No</td><td>No</td><td>2014</td><td>SUBA</td><td>SW</td><td>NO MISUSE</td></tr><tr><td>EJ7869003F</td><td>230032124</td><td>Gaithersburg Police Depar</td><td>Injury Crash</td><td>07-05-2023 11:25:00 PM</td><td>Maryland (State)</td><td>CLOPPER RD</td><td>Unknown</td><td>STRUC #15093 GREAT SENECA CREEK</td><td>NULL</td><td>N/A</td><td>NULL</td><td>SINGLE VEHICLE</td><td>CLEAR</td><td>DRY</td><td>DARK -- UNKNOWN LIGHTING</td><td>NO CONTROLS</td><td>ALCOHOL PRESENT</td><td>NULL</td><td>6247C8F6-297F-4E71-B653-B69CBB22804E</td><td>Yes</td><td>SUSPECTED MINOR INJURY</td><td>N/A</td><td>UNKNOWN</td><td>MD</td><td>5D60FF00-F6AB-4774-9A87-6D7C62856972</td><td>DESTROYED</td><td>TWELVE OCLOCK</td><td>FOUR OCLOCK</td><td>PASSENGER CAR</td><td>MOVING CONSTANT SPEED</td><td>North</td><td>North</td><td>35</td><td>No</td><td>No</td><td>2013</td><td>BMW</td><td>328I</td><td>UNKNOWN</td></tr><tr><td>MCP3244002K</td><td>230034697</td><td>Montgomery County Police</td><td>Property Damage Crash</td><td>07/21/2023 07:14:00 AM</td><td>US (State)</td><td>GEORGIA AVE</td><td>Unknown</td><td>NW EASTERN AVE (DC MAINT)</td><td>NULL</td><td>N/A</td><td>NULL</td><td>SAME DIR REAR END</td><td>CLEAR</td><td>DRY</td><td>DAYLIGHT</td><td>TRAFFIC SIGNAL</td><td>UNKNOWN</td><td>NULL</td><td>41DDE59B-58B1-4A00-8A0E-4C4B9CD7B6E1</td><td>Yes</td><td>NO APPARENT INJURY</td><td>N/A</td><td>UNKNOWN</td><td>NULL</td><td>1B98988B-1BBC-4ED4-955B-C48617170157</td><td>N/A</td><td>TWELVE OCLOCK</td><td>TWELVE OCLOCK</td><td>PASSENGER CAR</td><td>STARTING FROM LANE</td><td>South</td><td>South</td><td>35</td><td>No</td><td>No</td><td>2020</td><td>HYUNDAI</td><td>ELENTRA</td><td>UNKNOWN</td></tr><tr><td>MCP2863002V</td><td>230034445</td><td>Montgomery County Police</td><td>Property Damage Crash</td><td>07/19/2023 07:00:00 PM</td><td>Maryland (State)</td><td>WOODFIELD RD</td><td>County</td><td>MIDCOUNTY HWY</td><td>NULL</td><td>N/A</td><td>NULL</td><td>SAME DIR REAR END</td><td>CLEAR</td><td>DRY</td><td>DAYLIGHT</td><td>OTHER</td><td>NONE DETECTED</td><td>NULL</td><td>D3E6DAAE-9C30-4FC6-B791-4B21F2B35246</td><td>Yes</td><td>NO APPARENT INJURY</td><td>N/A</td><td>INATTENTIVE OR LOST IN THOUGHT</td><td>MD</td><td>ED90B6F6-216F-4C97-BD23-B12D8F2124C9</td><td>SUPERFICIAL</td><td>TWELVE OCLOCK</td><td>TWELVE OCLOCK</td><td>(SPORT) UTILITY VEHICLE</td><td>SLOWING OR STOPPING</td><td>North</td><td>North</td><td>30</td><td>No</td><td>No</td><td>2022</td><td>VOLK</td><td>UT</td><td>NO MISUSE</td></tr></table>"
                    },
                    "metadata": {}
                }
            ],
            "execution_count": 24
        },
        {
            "cell_type": "markdown",
            "source": [
                "**What is the total count of recorded crashes in the complete dataset ?**"
            ],
            "metadata": {
                "language": "sql",
                "azdata_cell_guid": "a12beaf7-4262-4079-aa4e-6cdcb0d97514"
            },
            "attachments": {}
        },
        {
            "cell_type": "code",
            "source": [
                "Select COUNT(*)\r\n",
                "from Crash_Reporting;"
            ],
            "metadata": {
                "language": "sql",
                "azdata_cell_guid": "ab9ab92b-7748-4070-9880-3e733293b251"
            },
            "outputs": [
                {
                    "output_type": "display_data",
                    "data": {
                        "text/html": "(1 row(s) affected)"
                    },
                    "metadata": {}
                },
                {
                    "output_type": "display_data",
                    "data": {
                        "text/html": "Total execution time: 00:00:00.134"
                    },
                    "metadata": {}
                },
                {
                    "output_type": "execute_result",
                    "execution_count": 25,
                    "data": {
                        "application/vnd.dataresource+json": {
                            "schema": {
                                "fields": [
                                    {
                                        "name": "count"
                                    }
                                ]
                            },
                            "data": [
                                {
                                    "count": "171419"
                                }
                            ]
                        },
                        "text/html": "<table><tr><th>count</th></tr><tr><td>171419</td></tr></table>"
                    },
                    "metadata": {}
                }
            ],
            "execution_count": 25
        },
        {
            "cell_type": "markdown",
            "source": [
                "**What is the earliest and latest date of recorded crashes ?**"
            ],
            "metadata": {
                "language": "sql",
                "azdata_cell_guid": "a5f246d1-ae1f-4214-a037-07c7a29ea9a9"
            },
            "attachments": {}
        },
        {
            "cell_type": "code",
            "source": [
                "SELECT \r\n",
                "    MIN(TO_TIMESTAMP(\"Crash Date/Time\", 'MM-DD-YYYY HH24:MI:SS')) AS Earliest_Date,\r\n",
                "    MAX(TO_TIMESTAMP(\"Crash Date/Time\", 'MM-DD-YYYY HH24:MI:SS')) AS Latest_Date\r\n",
                "FROM \r\n",
                "    Crash_Reporting;\r\n",
                ""
            ],
            "metadata": {
                "language": "sql",
                "azdata_cell_guid": "03ea382f-896c-4976-9a7d-176367172d7e"
            },
            "outputs": [
                {
                    "output_type": "display_data",
                    "data": {
                        "text/html": "(1 row(s) affected)"
                    },
                    "metadata": {}
                },
                {
                    "output_type": "display_data",
                    "data": {
                        "text/html": "Total execution time: 00:00:00.615"
                    },
                    "metadata": {}
                },
                {
                    "output_type": "execute_result",
                    "metadata": {},
                    "execution_count": 18,
                    "data": {
                        "application/vnd.dataresource+json": {
                            "schema": {
                                "fields": [
                                    {
                                        "name": "earliest_date"
                                    },
                                    {
                                        "name": "latest_date"
                                    }
                                ]
                            },
                            "data": [
                                {
                                    "earliest_date": "2015-01-01 01:10:00+05:30",
                                    "latest_date": "2023-12-20 12:21:00+05:30"
                                }
                            ]
                        },
                        "text/html": [
                            "<table>",
                            "<tr><th>earliest_date</th><th>latest_date</th></tr>",
                            "<tr><td>2015-01-01 01:10:00+05:30</td><td>2023-12-20 12:21:00+05:30</td></tr>",
                            "</table>"
                        ]
                    }
                }
            ],
            "execution_count": 18
        },
        {
            "cell_type": "markdown",
            "source": [
                "**What is the number of reported crashes Per Year ?**"
            ],
            "metadata": {
                "language": "sql",
                "azdata_cell_guid": "ef971e3b-61ac-4328-b0ff-8c9b554ea04d"
            },
            "attachments": {}
        },
        {
            "cell_type": "code",
            "source": [
                "SELECT EXTRACT(YEAR FROM TO_TIMESTAMP(\"Crash Date/Time\", 'MM-DD-YYYY HH24:MI:SS')) AS Crash_Year,\r\n",
                "Count(*) as Reported_Crashes\r\n",
                "FROM Crash_Reporting\r\n",
                "GROUP BY EXTRACT(YEAR FROM TO_TIMESTAMP(\"Crash Date/Time\", 'MM-DD-YYYY HH24:MI:SS'))\r\n",
                "ORDER BY Crash_Year;"
            ],
            "metadata": {
                "language": "sql",
                "azdata_cell_guid": "066ed77a-cc7e-4f4f-9bf5-d348f4582080"
            },
            "outputs": [
                {
                    "output_type": "display_data",
                    "data": {
                        "text/html": "(9 row(s) affected)"
                    },
                    "metadata": {}
                },
                {
                    "output_type": "display_data",
                    "data": {
                        "text/html": "Total execution time: 00:00:00.899"
                    },
                    "metadata": {}
                },
                {
                    "output_type": "execute_result",
                    "execution_count": 38,
                    "data": {
                        "application/vnd.dataresource+json": {
                            "schema": {
                                "fields": [
                                    {
                                        "name": "crash_year"
                                    },
                                    {
                                        "name": "reported_crashes"
                                    }
                                ]
                            },
                            "data": [
                                {
                                    "crash_year": "2015",
                                    "reported_crashes": "20286"
                                },
                                {
                                    "crash_year": "2016",
                                    "reported_crashes": "21778"
                                },
                                {
                                    "crash_year": "2017",
                                    "reported_crashes": "21541"
                                },
                                {
                                    "crash_year": "2018",
                                    "reported_crashes": "21042"
                                },
                                {
                                    "crash_year": "2019",
                                    "reported_crashes": "20941"
                                },
                                {
                                    "crash_year": "2020",
                                    "reported_crashes": "13809"
                                },
                                {
                                    "crash_year": "2021",
                                    "reported_crashes": "16206"
                                },
                                {
                                    "crash_year": "2022",
                                    "reported_crashes": "17578"
                                },
                                {
                                    "crash_year": "2023",
                                    "reported_crashes": "18238"
                                }
                            ]
                        },
                        "text/html": "<table><tr><th>crash_year</th><th>reported_crashes</th></tr><tr><td>2015</td><td>20286</td></tr><tr><td>2016</td><td>21778</td></tr><tr><td>2017</td><td>21541</td></tr><tr><td>2018</td><td>21042</td></tr><tr><td>2019</td><td>20941</td></tr><tr><td>2020</td><td>13809</td></tr><tr><td>2021</td><td>16206</td></tr><tr><td>2022</td><td>17578</td></tr><tr><td>2023</td><td>18238</td></tr></table>"
                    },
                    "metadata": {}
                }
            ],
            "execution_count": 38
        },
        {
            "cell_type": "markdown",
            "source": [
                "**The table indicates that there were fewer crash reports in the year 2023, while the year 2016 witnessed a higher number of crash reports.**"
            ],
            "metadata": {
                "language": "sql",
                "azdata_cell_guid": "f47adc14-da6e-4b76-9527-8f51677e221c"
            },
            "attachments": {}
        },
        {
            "cell_type": "markdown",
            "source": [
                "**Find the counts of Accidents in each Municipality(**<span style=\"color: var(--vscode-foreground);\">The local government area or jurisdiction where the incident took place)</span> **?**"
            ],
            "metadata": {
                "azdata_cell_guid": "425afda7-d828-4611-a4ad-e71ddc0fef2b"
            },
            "attachments": {}
        },
        {
            "cell_type": "code",
            "source": [
                "Select Municipality,COUNT(*) as NumAccidents\r\n",
                "from Crash_Reporting\r\n",
                "GROUP by Municipality;"
            ],
            "metadata": {
                "azdata_cell_guid": "05521026-4a78-431c-8927-5903c6335359",
                "language": "sql"
            },
            "outputs": [
                {
                    "output_type": "display_data",
                    "data": {
                        "text/html": "(22 row(s) affected)"
                    },
                    "metadata": {}
                },
                {
                    "output_type": "display_data",
                    "data": {
                        "text/html": "Total execution time: 00:00:00.407"
                    },
                    "metadata": {}
                },
                {
                    "output_type": "execute_result",
                    "execution_count": 39,
                    "data": {
                        "application/vnd.dataresource+json": {
                            "schema": {
                                "fields": [
                                    {
                                        "name": "municipality"
                                    },
                                    {
                                        "name": "numaccidents"
                                    }
                                ]
                            },
                            "data": [
                                {
                                    "municipality": "BROOKEVILLE",
                                    "numaccidents": "16"
                                },
                                {
                                    "municipality": "CHEVY CHASE #3",
                                    "numaccidents": "156"
                                },
                                {
                                    "municipality": "CHEVY CHASE #4",
                                    "numaccidents": "325"
                                },
                                {
                                    "municipality": "CHEVY CHASE #5",
                                    "numaccidents": "74"
                                },
                                {
                                    "municipality": "CHEVY CHASE VIEW",
                                    "numaccidents": "93"
                                },
                                {
                                    "municipality": "CHEVY CHASE VILLAGE",
                                    "numaccidents": "87"
                                },
                                {
                                    "municipality": "DRUMMOND",
                                    "numaccidents": "12"
                                },
                                {
                                    "municipality": "FRIENDSHIP HEIGHTS",
                                    "numaccidents": "133"
                                },
                                {
                                    "municipality": "GAITHERSBURG",
                                    "numaccidents": "6402"
                                },
                                {
                                    "municipality": "GARRETT PARK",
                                    "numaccidents": "51"
                                },
                                {
                                    "municipality": "GLEN ECHO",
                                    "numaccidents": "33"
                                },
                                {
                                    "municipality": "KENSINGTON",
                                    "numaccidents": "411"
                                },
                                {
                                    "municipality": "LAYTONSVILLE",
                                    "numaccidents": "25"
                                },
                                {
                                    "municipality": "MATINS ADDITION",
                                    "numaccidents": "28"
                                },
                                {
                                    "municipality": "N/A",
                                    "numaccidents": "136501"
                                },
                                {
                                    "municipality": "NORTH CHEVY CHASE",
                                    "numaccidents": "34"
                                },
                                {
                                    "municipality": "POOLESVILLE",
                                    "numaccidents": "107"
                                },
                                {
                                    "municipality": "ROCKVILLE",
                                    "numaccidents": "9294"
                                },
                                {
                                    "municipality": "SOMERSET",
                                    "numaccidents": "53"
                                },
                                {
                                    "municipality": "TAKOMA PARK",
                                    "numaccidents": "1676"
                                },
                                {
                                    "municipality": "WASHINGTON GROVE",
                                    "numaccidents": "41"
                                },
                                {
                                    "municipality": "NULL",
                                    "numaccidents": "15867"
                                }
                            ]
                        },
                        "text/html": "<table><tr><th>municipality</th><th>numaccidents</th></tr><tr><td>BROOKEVILLE</td><td>16</td></tr><tr><td>CHEVY CHASE #3</td><td>156</td></tr><tr><td>CHEVY CHASE #4</td><td>325</td></tr><tr><td>CHEVY CHASE #5</td><td>74</td></tr><tr><td>CHEVY CHASE VIEW</td><td>93</td></tr><tr><td>CHEVY CHASE VILLAGE</td><td>87</td></tr><tr><td>DRUMMOND</td><td>12</td></tr><tr><td>FRIENDSHIP HEIGHTS</td><td>133</td></tr><tr><td>GAITHERSBURG</td><td>6402</td></tr><tr><td>GARRETT PARK</td><td>51</td></tr><tr><td>GLEN ECHO</td><td>33</td></tr><tr><td>KENSINGTON</td><td>411</td></tr><tr><td>LAYTONSVILLE</td><td>25</td></tr><tr><td>MATINS ADDITION</td><td>28</td></tr><tr><td>N/A</td><td>136501</td></tr><tr><td>NORTH CHEVY CHASE</td><td>34</td></tr><tr><td>POOLESVILLE</td><td>107</td></tr><tr><td>ROCKVILLE</td><td>9294</td></tr><tr><td>SOMERSET</td><td>53</td></tr><tr><td>TAKOMA PARK</td><td>1676</td></tr><tr><td>WASHINGTON GROVE</td><td>41</td></tr><tr><td>NULL</td><td>15867</td></tr></table>"
                    },
                    "metadata": {}
                }
            ],
            "execution_count": 39
        },
        {
            "cell_type": "markdown",
            "source": [
                "**\"Rockville, with 9294 accidents recorded, has the highest number of reported incidents, including cases with locations listed as null, which are not properly located.\"**"
            ],
            "metadata": {
                "azdata_cell_guid": "153c5dcf-dc64-4872-b296-f1562491309c"
            },
            "attachments": {}
        },
        {
            "cell_type": "markdown",
            "source": [
                "**Identify the most frequent collision Types in Accidents ?**"
            ],
            "metadata": {
                "azdata_cell_guid": "18df5f72-1f00-48ac-9b02-910c91c696d3"
            },
            "attachments": {}
        },
        {
            "cell_type": "code",
            "source": [
                "Select \"Collision Type\" ,COUNT(*) as CollisionCount\r\n",
                "From Crash_Reporting\r\n",
                "GROUP by \"Collision Type\"\r\n",
                "Order by CollisionCount;"
            ],
            "metadata": {
                "azdata_cell_guid": "2803292b-7c41-42da-b40c-4840714dfdb4",
                "language": "sql"
            },
            "outputs": [
                {
                    "output_type": "display_data",
                    "data": {
                        "text/html": "(19 row(s) affected)"
                    },
                    "metadata": {}
                },
                {
                    "output_type": "display_data",
                    "data": {
                        "text/html": "Total execution time: 00:00:00.511"
                    },
                    "metadata": {}
                },
                {
                    "output_type": "execute_result",
                    "execution_count": 40,
                    "data": {
                        "application/vnd.dataresource+json": {
                            "schema": {
                                "fields": [
                                    {
                                        "name": "Collision Type"
                                    },
                                    {
                                        "name": "collisioncount"
                                    }
                                ]
                            },
                            "data": [
                                {
                                    "Collision Type": "OPPOSITE DIR BOTH LEFT TURN",
                                    "collisioncount": "320"
                                },
                                {
                                    "Collision Type": "N/A",
                                    "collisioncount": "580"
                                },
                                {
                                    "Collision Type": "ANGLE MEETS LEFT HEAD ON",
                                    "collisioncount": "700"
                                },
                                {
                                    "Collision Type": "UNKNOWN",
                                    "collisioncount": "714"
                                },
                                {
                                    "Collision Type": "SAME DIR BOTH LEFT TURN",
                                    "collisioncount": "717"
                                },
                                {
                                    "Collision Type": "SAME DIR REND RIGHT TURN",
                                    "collisioncount": "720"
                                },
                                {
                                    "Collision Type": "SAME DIR REND LEFT TURN",
                                    "collisioncount": "739"
                                },
                                {
                                    "Collision Type": "ANGLE MEETS RIGHT TURN",
                                    "collisioncount": "1204"
                                },
                                {
                                    "Collision Type": "ANGLE MEETS LEFT TURN",
                                    "collisioncount": "2018"
                                },
                                {
                                    "Collision Type": "OPPOSITE DIRECTION SIDESWIPE",
                                    "collisioncount": "2867"
                                },
                                {
                                    "Collision Type": "SAME DIRECTION LEFT TURN",
                                    "collisioncount": "3701"
                                },
                                {
                                    "Collision Type": "HEAD ON",
                                    "collisioncount": "3766"
                                },
                                {
                                    "Collision Type": "SAME DIRECTION RIGHT TURN",
                                    "collisioncount": "3817"
                                },
                                {
                                    "Collision Type": "HEAD ON LEFT TURN",
                                    "collisioncount": "12883"
                                },
                                {
                                    "Collision Type": "SINGLE VEHICLE",
                                    "collisioncount": "15796"
                                },
                                {
                                    "Collision Type": "SAME DIRECTION SIDESWIPE",
                                    "collisioncount": "16161"
                                },
                                {
                                    "Collision Type": "OTHER",
                                    "collisioncount": "18947"
                                },
                                {
                                    "Collision Type": "STRAIGHT MOVEMENT ANGLE",
                                    "collisioncount": "30212"
                                },
                                {
                                    "Collision Type": "SAME DIR REAR END",
                                    "collisioncount": "55557"
                                }
                            ]
                        },
                        "text/html": "<table><tr><th>Collision Type</th><th>collisioncount</th></tr><tr><td>OPPOSITE DIR BOTH LEFT TURN</td><td>320</td></tr><tr><td>N/A</td><td>580</td></tr><tr><td>ANGLE MEETS LEFT HEAD ON</td><td>700</td></tr><tr><td>UNKNOWN</td><td>714</td></tr><tr><td>SAME DIR BOTH LEFT TURN</td><td>717</td></tr><tr><td>SAME DIR REND RIGHT TURN</td><td>720</td></tr><tr><td>SAME DIR REND LEFT TURN</td><td>739</td></tr><tr><td>ANGLE MEETS RIGHT TURN</td><td>1204</td></tr><tr><td>ANGLE MEETS LEFT TURN</td><td>2018</td></tr><tr><td>OPPOSITE DIRECTION SIDESWIPE</td><td>2867</td></tr><tr><td>SAME DIRECTION LEFT TURN</td><td>3701</td></tr><tr><td>HEAD ON</td><td>3766</td></tr><tr><td>SAME DIRECTION RIGHT TURN</td><td>3817</td></tr><tr><td>HEAD ON LEFT TURN</td><td>12883</td></tr><tr><td>SINGLE VEHICLE</td><td>15796</td></tr><tr><td>SAME DIRECTION SIDESWIPE</td><td>16161</td></tr><tr><td>OTHER</td><td>18947</td></tr><tr><td>STRAIGHT MOVEMENT ANGLE</td><td>30212</td></tr><tr><td>SAME DIR REAR END</td><td>55557</td></tr></table>"
                    },
                    "metadata": {}
                }
            ],
            "execution_count": 40
        },
        {
            "cell_type": "markdown",
            "source": [
                "**List the total amount of Fatal Crash, Injury Crash and Property Damage Crash reported between 2015 and 2023.**"
            ],
            "metadata": {
                "azdata_cell_guid": "2b668479-393f-4534-93d7-62edec05a76d"
            },
            "attachments": {}
        },
        {
            "cell_type": "code",
            "source": [
                "SELECT\r\n",
                "    \"ACRS Report Type\" as Crime_Type,\r\n",
                "    COUNT(*) as Number_crimes\r\n",
                "FROM \r\n",
                "    Crash_Reporting\r\n",
                "WHERE \r\n",
                "    \"ACRS Report Type\" IN('Fatal Crash','Injury Crash','Property Damage Crash')\r\n",
                "GROUP BY Crime_Type\r\n",
                "ORDER by Number_crimes;\r\n",
                ""
            ],
            "metadata": {
                "azdata_cell_guid": "88cb0c90-64d0-4260-b5fa-8a64eec71ee1",
                "language": "sql"
            },
            "outputs": [
                {
                    "output_type": "display_data",
                    "data": {
                        "text/html": "(3 row(s) affected)"
                    },
                    "metadata": {}
                },
                {
                    "output_type": "display_data",
                    "data": {
                        "text/html": "Total execution time: 00:00:00.406"
                    },
                    "metadata": {}
                },
                {
                    "output_type": "execute_result",
                    "execution_count": 46,
                    "data": {
                        "application/vnd.dataresource+json": {
                            "schema": {
                                "fields": [
                                    {
                                        "name": "crime_type"
                                    },
                                    {
                                        "name": "number_crimes"
                                    }
                                ]
                            },
                            "data": [
                                {
                                    "crime_type": "Fatal Crash",
                                    "number_crimes": "423"
                                },
                                {
                                    "crime_type": "Injury Crash",
                                    "number_crimes": "62013"
                                },
                                {
                                    "crime_type": "Property Damage Crash",
                                    "number_crimes": "108983"
                                }
                            ]
                        },
                        "text/html": "<table><tr><th>crime_type</th><th>number_crimes</th></tr><tr><td>Fatal Crash</td><td>423</td></tr><tr><td>Injury Crash</td><td>62013</td></tr><tr><td>Property Damage Crash</td><td>108983</td></tr></table>"
                    },
                    "metadata": {}
                }
            ],
            "execution_count": 46
        },
        {
            "cell_type": "markdown",
            "source": [
                " **Find incidents involving driver distraction and then analyze the distribution of distraction reasons.**"
            ],
            "metadata": {
                "language": "sql",
                "azdata_cell_guid": "b718c336-aa88-4382-a2f0-8940df006cc8"
            },
            "attachments": {}
        },
        {
            "cell_type": "code",
            "source": [
                "WITH DistractedIncidents AS(\r\n",
                "    SELECT *\r\n",
                "    FROM Crash_Reporting\r\n",
                "    WHERE \"Driver Distracted By\" is NOT NULL\r\n",
                ")\r\n",
                "SELECT \"Driver Distracted By\",Count(*) as Distraction_Count\r\n",
                "From DistractedIncidents\r\n",
                "GROUP BY \"Driver Distracted By\";"
            ],
            "metadata": {
                "language": "sql",
                "azdata_cell_guid": "07e001a9-5ca8-46d9-a7e0-2517411b497f"
            },
            "outputs": [
                {
                    "output_type": "display_data",
                    "data": {
                        "text/html": "(19 row(s) affected)"
                    },
                    "metadata": {}
                },
                {
                    "output_type": "display_data",
                    "data": {
                        "text/html": "Total execution time: 00:00:00.162"
                    },
                    "metadata": {}
                },
                {
                    "output_type": "execute_result",
                    "execution_count": 36,
                    "data": {
                        "application/vnd.dataresource+json": {
                            "schema": {
                                "fields": [
                                    {
                                        "name": "Driver Distracted By"
                                    },
                                    {
                                        "name": "distraction_count"
                                    }
                                ]
                            },
                            "data": [
                                {
                                    "Driver Distracted By": "ADJUSTING AUDIO AND OR CLIMATE CONTROLS",
                                    "distraction_count": "133"
                                },
                                {
                                    "Driver Distracted By": "BY MOVING OBJECT IN VEHICLE",
                                    "distraction_count": "212"
                                },
                                {
                                    "Driver Distracted By": "BY OTHER OCCUPANTS",
                                    "distraction_count": "418"
                                },
                                {
                                    "Driver Distracted By": "DIALING CELLULAR PHONE",
                                    "distraction_count": "48"
                                },
                                {
                                    "Driver Distracted By": "DISTRACTED BY OUTSIDE PERSON OBJECT OR EVENT",
                                    "distraction_count": "969"
                                },
                                {
                                    "Driver Distracted By": "EATING OR DRINKING",
                                    "distraction_count": "195"
                                },
                                {
                                    "Driver Distracted By": "INATTENTIVE OR LOST IN THOUGHT",
                                    "distraction_count": "4301"
                                },
                                {
                                    "Driver Distracted By": "LOOKED BUT DID NOT SEE",
                                    "distraction_count": "21438"
                                },
                                {
                                    "Driver Distracted By": "NO DRIVER PRESENT",
                                    "distraction_count": "280"
                                },
                                {
                                    "Driver Distracted By": "NOT DISTRACTED",
                                    "distraction_count": "106317"
                                },
                                {
                                    "Driver Distracted By": "OTHER CELLULAR PHONE RELATED",
                                    "distraction_count": "371"
                                },
                                {
                                    "Driver Distracted By": "OTHER DISTRACTION",
                                    "distraction_count": "3236"
                                },
                                {
                                    "Driver Distracted By": "OTHER ELECTRONIC DEVICE (NAVIGATIONAL PALM PILOT)",
                                    "distraction_count": "323"
                                },
                                {
                                    "Driver Distracted By": "SMOKING RELATED",
                                    "distraction_count": "26"
                                },
                                {
                                    "Driver Distracted By": "TALKING OR LISTENING TO CELLULAR PHONE",
                                    "distraction_count": "281"
                                },
                                {
                                    "Driver Distracted By": "TEXTING FROM A CELLULAR PHONE",
                                    "distraction_count": "66"
                                },
                                {
                                    "Driver Distracted By": "UNKNOWN",
                                    "distraction_count": "32650"
                                },
                                {
                                    "Driver Distracted By": "USING DEVICE OBJECT BROUGHT INTO VEHICLE",
                                    "distraction_count": "63"
                                },
                                {
                                    "Driver Distracted By": "USING OTHER DEVICE CONTROLS INTEGRAL TO VEHICLE",
                                    "distraction_count": "92"
                                }
                            ]
                        },
                        "text/html": "<table><tr><th>Driver Distracted By</th><th>distraction_count</th></tr><tr><td>ADJUSTING AUDIO AND OR CLIMATE CONTROLS</td><td>133</td></tr><tr><td>BY MOVING OBJECT IN VEHICLE</td><td>212</td></tr><tr><td>BY OTHER OCCUPANTS</td><td>418</td></tr><tr><td>DIALING CELLULAR PHONE</td><td>48</td></tr><tr><td>DISTRACTED BY OUTSIDE PERSON OBJECT OR EVENT</td><td>969</td></tr><tr><td>EATING OR DRINKING</td><td>195</td></tr><tr><td>INATTENTIVE OR LOST IN THOUGHT</td><td>4301</td></tr><tr><td>LOOKED BUT DID NOT SEE</td><td>21438</td></tr><tr><td>NO DRIVER PRESENT</td><td>280</td></tr><tr><td>NOT DISTRACTED</td><td>106317</td></tr><tr><td>OTHER CELLULAR PHONE RELATED</td><td>371</td></tr><tr><td>OTHER DISTRACTION</td><td>3236</td></tr><tr><td>OTHER ELECTRONIC DEVICE (NAVIGATIONAL PALM PILOT)</td><td>323</td></tr><tr><td>SMOKING RELATED</td><td>26</td></tr><tr><td>TALKING OR LISTENING TO CELLULAR PHONE</td><td>281</td></tr><tr><td>TEXTING FROM A CELLULAR PHONE</td><td>66</td></tr><tr><td>UNKNOWN</td><td>32650</td></tr><tr><td>USING DEVICE OBJECT BROUGHT INTO VEHICLE</td><td>63</td></tr><tr><td>USING OTHER DEVICE CONTROLS INTEGRAL TO VEHICLE</td><td>92</td></tr></table>"
                    },
                    "metadata": {}
                }
            ],
            "execution_count": 36
        },
        {
            "cell_type": "markdown",
            "source": [
                "**Calculate the average speed limit of incidents involving different collision types.**"
            ],
            "metadata": {
                "azdata_cell_guid": "8632d1c3-b7ad-43d9-9b43-5c3e043c8f7b"
            },
            "attachments": {}
        },
        {
            "cell_type": "code",
            "source": [
                "SELECT \"Collision Type\", \r\n",
                "       Round(AVG(\"Speed Limit\"),2) as Average_SpeedLimit\r\n",
                "FROM Crash_Reporting\r\n",
                "GROUP BY \"Collision Type\";\r\n",
                ""
            ],
            "metadata": {
                "azdata_cell_guid": "4e61111d-3c4e-4452-b848-eac033ac64c1",
                "language": "sql"
            },
            "outputs": [
                {
                    "output_type": "display_data",
                    "data": {
                        "text/html": "(19 row(s) affected)"
                    },
                    "metadata": {}
                },
                {
                    "output_type": "display_data",
                    "data": {
                        "text/html": "Total execution time: 00:00:00.166"
                    },
                    "metadata": {}
                },
                {
                    "output_type": "execute_result",
                    "execution_count": 46,
                    "data": {
                        "application/vnd.dataresource+json": {
                            "schema": {
                                "fields": [
                                    {
                                        "name": "Collision Type"
                                    },
                                    {
                                        "name": "average_speedlimit"
                                    }
                                ]
                            },
                            "data": [
                                {
                                    "Collision Type": "ANGLE MEETS LEFT HEAD ON",
                                    "average_speedlimit": "31.01"
                                },
                                {
                                    "Collision Type": "ANGLE MEETS LEFT TURN",
                                    "average_speedlimit": "34.11"
                                },
                                {
                                    "Collision Type": "ANGLE MEETS RIGHT TURN",
                                    "average_speedlimit": "33.35"
                                },
                                {
                                    "Collision Type": "HEAD ON",
                                    "average_speedlimit": "29.99"
                                },
                                {
                                    "Collision Type": "HEAD ON LEFT TURN",
                                    "average_speedlimit": "35.09"
                                },
                                {
                                    "Collision Type": "N/A",
                                    "average_speedlimit": "23.40"
                                },
                                {
                                    "Collision Type": "OPPOSITE DIR BOTH LEFT TURN",
                                    "average_speedlimit": "29.97"
                                },
                                {
                                    "Collision Type": "OPPOSITE DIRECTION SIDESWIPE",
                                    "average_speedlimit": "25.90"
                                },
                                {
                                    "Collision Type": "OTHER",
                                    "average_speedlimit": "23.30"
                                },
                                {
                                    "Collision Type": "SAME DIR BOTH LEFT TURN",
                                    "average_speedlimit": "33.09"
                                },
                                {
                                    "Collision Type": "SAME DIR REAR END",
                                    "average_speedlimit": "36.26"
                                },
                                {
                                    "Collision Type": "SAME DIR REND LEFT TURN",
                                    "average_speedlimit": "35.12"
                                },
                                {
                                    "Collision Type": "SAME DIR REND RIGHT TURN",
                                    "average_speedlimit": "33.93"
                                },
                                {
                                    "Collision Type": "SAME DIRECTION LEFT TURN",
                                    "average_speedlimit": "33.91"
                                },
                                {
                                    "Collision Type": "SAME DIRECTION RIGHT TURN",
                                    "average_speedlimit": "33.50"
                                },
                                {
                                    "Collision Type": "SAME DIRECTION SIDESWIPE",
                                    "average_speedlimit": "32.68"
                                },
                                {
                                    "Collision Type": "SINGLE VEHICLE",
                                    "average_speedlimit": "30.58"
                                },
                                {
                                    "Collision Type": "STRAIGHT MOVEMENT ANGLE",
                                    "average_speedlimit": "32.46"
                                },
                                {
                                    "Collision Type": "UNKNOWN",
                                    "average_speedlimit": "16.16"
                                }
                            ]
                        },
                        "text/html": "<table><tr><th>Collision Type</th><th>average_speedlimit</th></tr><tr><td>ANGLE MEETS LEFT HEAD ON</td><td>31.01</td></tr><tr><td>ANGLE MEETS LEFT TURN</td><td>34.11</td></tr><tr><td>ANGLE MEETS RIGHT TURN</td><td>33.35</td></tr><tr><td>HEAD ON</td><td>29.99</td></tr><tr><td>HEAD ON LEFT TURN</td><td>35.09</td></tr><tr><td>N/A</td><td>23.40</td></tr><tr><td>OPPOSITE DIR BOTH LEFT TURN</td><td>29.97</td></tr><tr><td>OPPOSITE DIRECTION SIDESWIPE</td><td>25.90</td></tr><tr><td>OTHER</td><td>23.30</td></tr><tr><td>SAME DIR BOTH LEFT TURN</td><td>33.09</td></tr><tr><td>SAME DIR REAR END</td><td>36.26</td></tr><tr><td>SAME DIR REND LEFT TURN</td><td>35.12</td></tr><tr><td>SAME DIR REND RIGHT TURN</td><td>33.93</td></tr><tr><td>SAME DIRECTION LEFT TURN</td><td>33.91</td></tr><tr><td>SAME DIRECTION RIGHT TURN</td><td>33.50</td></tr><tr><td>SAME DIRECTION SIDESWIPE</td><td>32.68</td></tr><tr><td>SINGLE VEHICLE</td><td>30.58</td></tr><tr><td>STRAIGHT MOVEMENT ANGLE</td><td>32.46</td></tr><tr><td>UNKNOWN</td><td>16.16</td></tr></table>"
                    },
                    "metadata": {}
                }
            ],
            "execution_count": 46
        },
        {
            "cell_type": "markdown",
            "source": [
                "**Count accidents associated with different weather conditions.**"
            ],
            "metadata": {
                "language": "sql",
                "azdata_cell_guid": "827b06e9-b6a2-4116-b970-b172e5847804"
            },
            "attachments": {}
        },
        {
            "cell_type": "code",
            "source": [
                "Select \r\n",
                "    Weather,\r\n",
                "    COUNT(*) as Accident_Count\r\n",
                "FROM \r\n",
                "    Crash_Reporting\r\n",
                "WHERE\r\n",
                "    Weather is NOT NULL\r\n",
                "GROUP by Weather\r\n",
                "ORDER by Accident_Count;"
            ],
            "metadata": {
                "language": "sql",
                "azdata_cell_guid": "e4c4d527-9ca1-4023-acb2-be6180b1d4b6"
            },
            "outputs": [
                {
                    "output_type": "display_data",
                    "data": {
                        "text/html": "(13 row(s) affected)"
                    },
                    "metadata": {}
                },
                {
                    "output_type": "display_data",
                    "data": {
                        "text/html": "Total execution time: 00:00:00.239"
                    },
                    "metadata": {}
                },
                {
                    "output_type": "execute_result",
                    "execution_count": 47,
                    "data": {
                        "application/vnd.dataresource+json": {
                            "schema": {
                                "fields": [
                                    {
                                        "name": "weather"
                                    },
                                    {
                                        "name": "accident_count"
                                    }
                                ]
                            },
                            "data": [
                                {
                                    "weather": "BLOWING SAND, SOIL, DIRT",
                                    "accident_count": "15"
                                },
                                {
                                    "weather": "BLOWING SNOW",
                                    "accident_count": "115"
                                },
                                {
                                    "weather": "SEVERE WINDS",
                                    "accident_count": "154"
                                },
                                {
                                    "weather": "SLEET",
                                    "accident_count": "218"
                                },
                                {
                                    "weather": "OTHER",
                                    "accident_count": "370"
                                },
                                {
                                    "weather": "WINTRY MIX",
                                    "accident_count": "389"
                                },
                                {
                                    "weather": "FOGGY",
                                    "accident_count": "668"
                                },
                                {
                                    "weather": "UNKNOWN",
                                    "accident_count": "684"
                                },
                                {
                                    "weather": "SNOW",
                                    "accident_count": "1443"
                                },
                                {
                                    "weather": "N/A",
                                    "accident_count": "13311"
                                },
                                {
                                    "weather": "CLOUDY",
                                    "accident_count": "17209"
                                },
                                {
                                    "weather": "RAINING",
                                    "accident_count": "20478"
                                },
                                {
                                    "weather": "CLEAR",
                                    "accident_count": "116365"
                                }
                            ]
                        },
                        "text/html": "<table><tr><th>weather</th><th>accident_count</th></tr><tr><td>BLOWING SAND, SOIL, DIRT</td><td>15</td></tr><tr><td>BLOWING SNOW</td><td>115</td></tr><tr><td>SEVERE WINDS</td><td>154</td></tr><tr><td>SLEET</td><td>218</td></tr><tr><td>OTHER</td><td>370</td></tr><tr><td>WINTRY MIX</td><td>389</td></tr><tr><td>FOGGY</td><td>668</td></tr><tr><td>UNKNOWN</td><td>684</td></tr><tr><td>SNOW</td><td>1443</td></tr><tr><td>N/A</td><td>13311</td></tr><tr><td>CLOUDY</td><td>17209</td></tr><tr><td>RAINING</td><td>20478</td></tr><tr><td>CLEAR</td><td>116365</td></tr></table>"
                    },
                    "metadata": {}
                }
            ],
            "execution_count": 47
        },
        {
            "cell_type": "markdown",
            "source": [
                "**Determine the top vehicle makes and models involved in accidents.**"
            ],
            "metadata": {
                "azdata_cell_guid": "9ffdcc65-7603-4101-88de-a57932b547a4"
            },
            "attachments": {}
        },
        {
            "cell_type": "code",
            "source": [
                "Select \r\n",
                "    \"Vehicle Make\",\r\n",
                "    \"Vehicle Model\",\r\n",
                "    COUNT(*) AS Vehicle_Count \r\n",
                "FROM \r\n",
                "    Crash_Reporting\r\n",
                "Where \r\n",
                "    \"Vehicle Make\" is NOT NULL\r\n",
                "    AND \"Vehicle Model\" is NOT NULL\r\n",
                "GROUP BY \r\n",
                "    \"Vehicle Make\",\r\n",
                "    \"Vehicle Model\"\r\n",
                "ORDER BY \r\n",
                "    Vehicle_Count DESC\r\n",
                "Limit 20;\r\n",
                "\r\n",
                "\r\n",
                "\r\n",
                "\r\n",
                "    "
            ],
            "metadata": {
                "azdata_cell_guid": "35e072a5-8217-48dd-8b2f-128b1de36134",
                "language": "sql"
            },
            "outputs": [
                {
                    "output_type": "display_data",
                    "data": {
                        "text/html": "(20 row(s) affected)"
                    },
                    "metadata": {}
                },
                {
                    "output_type": "display_data",
                    "data": {
                        "text/html": "Total execution time: 00:00:00.243"
                    },
                    "metadata": {}
                },
                {
                    "output_type": "execute_result",
                    "metadata": {},
                    "execution_count": 22,
                    "data": {
                        "application/vnd.dataresource+json": {
                            "schema": {
                                "fields": [
                                    {
                                        "name": "Vehicle Make"
                                    },
                                    {
                                        "name": "Vehicle Model"
                                    },
                                    {
                                        "name": "vehicle_count"
                                    }
                                ]
                            },
                            "data": [
                                {
                                    "Vehicle Make": "TOYOTA",
                                    "Vehicle Model": "CAMRY",
                                    "vehicle_count": "5123"
                                },
                                {
                                    "Vehicle Make": "HONDA",
                                    "Vehicle Model": "CIVIC",
                                    "vehicle_count": "4979"
                                },
                                {
                                    "Vehicle Make": "HONDA",
                                    "Vehicle Model": "ACCORD",
                                    "vehicle_count": "4895"
                                },
                                {
                                    "Vehicle Make": "TOYOTA",
                                    "Vehicle Model": "COROLLA",
                                    "vehicle_count": "4656"
                                },
                                {
                                    "Vehicle Make": "UNKNOWN",
                                    "Vehicle Model": "UNKNOWN",
                                    "vehicle_count": "3646"
                                },
                                {
                                    "Vehicle Make": "TOYT",
                                    "Vehicle Model": "4S",
                                    "vehicle_count": "2466"
                                },
                                {
                                    "Vehicle Make": "HONDA",
                                    "Vehicle Model": "CRV",
                                    "vehicle_count": "2379"
                                },
                                {
                                    "Vehicle Make": "NISSAN",
                                    "Vehicle Model": "ALTIMA",
                                    "vehicle_count": "2175"
                                },
                                {
                                    "Vehicle Make": "TOYOTA",
                                    "Vehicle Model": "RAV4",
                                    "vehicle_count": "2109"
                                },
                                {
                                    "Vehicle Make": "FORD",
                                    "Vehicle Model": "TK",
                                    "vehicle_count": "1912"
                                },
                                {
                                    "Vehicle Make": "HOND",
                                    "Vehicle Model": "4S",
                                    "vehicle_count": "1608"
                                },
                                {
                                    "Vehicle Make": "FORD",
                                    "Vehicle Model": "EXPLORER",
                                    "vehicle_count": "1427"
                                },
                                {
                                    "Vehicle Make": "DODGE",
                                    "Vehicle Model": "CHARGER",
                                    "vehicle_count": "1419"
                                },
                                {
                                    "Vehicle Make": "TOYOTA",
                                    "Vehicle Model": "PRIUS",
                                    "vehicle_count": "1314"
                                },
                                {
                                    "Vehicle Make": "TOYOTA",
                                    "Vehicle Model": "HIGHLANDER",
                                    "vehicle_count": "1260"
                                },
                                {
                                    "Vehicle Make": "HONDA",
                                    "Vehicle Model": "PILOT",
                                    "vehicle_count": "1240"
                                },
                                {
                                    "Vehicle Make": "FORD",
                                    "Vehicle Model": "F150",
                                    "vehicle_count": "1228"
                                },
                                {
                                    "Vehicle Make": "TOYOTA",
                                    "Vehicle Model": "SIENNA",
                                    "vehicle_count": "1203"
                                },
                                {
                                    "Vehicle Make": "NISSAN",
                                    "Vehicle Model": "SENTRA",
                                    "vehicle_count": "1147"
                                },
                                {
                                    "Vehicle Make": "HONDA",
                                    "Vehicle Model": "ODYSSEY",
                                    "vehicle_count": "1122"
                                }
                            ]
                        },
                        "text/html": [
                            "<table>",
                            "<tr><th>Vehicle Make</th><th>Vehicle Model</th><th>vehicle_count</th></tr>",
                            "<tr><td>TOYOTA</td><td>CAMRY</td><td>5123</td></tr>",
                            "<tr><td>HONDA</td><td>CIVIC</td><td>4979</td></tr>",
                            "<tr><td>HONDA</td><td>ACCORD</td><td>4895</td></tr>",
                            "<tr><td>TOYOTA</td><td>COROLLA</td><td>4656</td></tr>",
                            "<tr><td>UNKNOWN</td><td>UNKNOWN</td><td>3646</td></tr>",
                            "<tr><td>TOYT</td><td>4S</td><td>2466</td></tr>",
                            "<tr><td>HONDA</td><td>CRV</td><td>2379</td></tr>",
                            "<tr><td>NISSAN</td><td>ALTIMA</td><td>2175</td></tr>",
                            "<tr><td>TOYOTA</td><td>RAV4</td><td>2109</td></tr>",
                            "<tr><td>FORD</td><td>TK</td><td>1912</td></tr>",
                            "<tr><td>HOND</td><td>4S</td><td>1608</td></tr>",
                            "<tr><td>FORD</td><td>EXPLORER</td><td>1427</td></tr>",
                            "<tr><td>DODGE</td><td>CHARGER</td><td>1419</td></tr>",
                            "<tr><td>TOYOTA</td><td>PRIUS</td><td>1314</td></tr>",
                            "<tr><td>TOYOTA</td><td>HIGHLANDER</td><td>1260</td></tr>",
                            "<tr><td>HONDA</td><td>PILOT</td><td>1240</td></tr>",
                            "<tr><td>FORD</td><td>F150</td><td>1228</td></tr>",
                            "<tr><td>TOYOTA</td><td>SIENNA</td><td>1203</td></tr>",
                            "<tr><td>NISSAN</td><td>SENTRA</td><td>1147</td></tr>",
                            "<tr><td>HONDA</td><td>ODYSSEY</td><td>1122</td></tr>",
                            "</table>"
                        ]
                    }
                }
            ],
            "execution_count": 22
        },
        {
            "cell_type": "markdown",
            "source": [
                "**Analyze patterns in accidents based on crash date/time, e.g., high accident months or days.**"
            ],
            "metadata": {
                "azdata_cell_guid": "867c7ef8-e2b9-4af9-bda5-0630e3d14bea"
            },
            "attachments": {}
        },
        {
            "cell_type": "code",
            "source": [
                "SELECT EXTRACT(MONTH FROM TO_TIMESTAMP(\"Crash Date/Time\", 'MM-DD-YYYY HH24:MI:SS')) AS Accident_Month,\r\n",
                "       COUNT(*) AS NumAccidents\r\n",
                "FROM Crash_Reporting\r\n",
                "GROUP BY Accident_Month\r\n",
                "ORDER BY NumAccidents DESC;\r\n",
                ""
            ],
            "metadata": {
                "azdata_cell_guid": "f88ccdc3-2f22-48c4-a9c4-334c8b3ce784",
                "language": "sql"
            },
            "outputs": [
                {
                    "output_type": "display_data",
                    "data": {
                        "text/html": "(12 row(s) affected)"
                    },
                    "metadata": {}
                },
                {
                    "output_type": "display_data",
                    "data": {
                        "text/html": "Total execution time: 00:00:01.167"
                    },
                    "metadata": {}
                },
                {
                    "output_type": "execute_result",
                    "execution_count": 58,
                    "data": {
                        "application/vnd.dataresource+json": {
                            "schema": {
                                "fields": [
                                    {
                                        "name": "accident_month"
                                    },
                                    {
                                        "name": "numaccidents"
                                    }
                                ]
                            },
                            "data": [
                                {
                                    "accident_month": "10",
                                    "numaccidents": "16093"
                                },
                                {
                                    "accident_month": "9",
                                    "numaccidents": "15135"
                                },
                                {
                                    "accident_month": "11",
                                    "numaccidents": "14740"
                                },
                                {
                                    "accident_month": "12",
                                    "numaccidents": "14521"
                                },
                                {
                                    "accident_month": "5",
                                    "numaccidents": "14414"
                                },
                                {
                                    "accident_month": "7",
                                    "numaccidents": "14389"
                                },
                                {
                                    "accident_month": "8",
                                    "numaccidents": "14376"
                                },
                                {
                                    "accident_month": "1",
                                    "numaccidents": "14140"
                                },
                                {
                                    "accident_month": "6",
                                    "numaccidents": "13763"
                                },
                                {
                                    "accident_month": "3",
                                    "numaccidents": "13488"
                                },
                                {
                                    "accident_month": "4",
                                    "numaccidents": "13363"
                                },
                                {
                                    "accident_month": "2",
                                    "numaccidents": "12997"
                                }
                            ]
                        },
                        "text/html": "<table><tr><th>accident_month</th><th>numaccidents</th></tr><tr><td>10</td><td>16093</td></tr><tr><td>9</td><td>15135</td></tr><tr><td>11</td><td>14740</td></tr><tr><td>12</td><td>14521</td></tr><tr><td>5</td><td>14414</td></tr><tr><td>7</td><td>14389</td></tr><tr><td>8</td><td>14376</td></tr><tr><td>1</td><td>14140</td></tr><tr><td>6</td><td>13763</td></tr><tr><td>3</td><td>13488</td></tr><tr><td>4</td><td>13363</td></tr><tr><td>2</td><td>12997</td></tr></table>"
                    },
                    "metadata": {}
                }
            ],
            "execution_count": 58
        },
        {
            "cell_type": "markdown",
            "source": [
                "**Investigate relationships between injury severity and Driver Distracted by**"
            ],
            "metadata": {
                "azdata_cell_guid": "6cec7b27-c951-47d3-ab52-5f5e8a1730ad"
            },
            "attachments": {}
        },
        {
            "cell_type": "code",
            "source": [
                "Select \"Injury Severity\",\r\n",
                "    COUNT(*) as NumAccidents,\r\n",
                "    \"Driver Distracted By\" as Distraction_Type\r\n",
                "From \r\n",
                "    Crash_Reporting\r\n",
                "Where\r\n",
                "    \"Driver Distracted By\" is NOT NULL\r\n",
                "GROUP BY \"Injury Severity\",Distraction_Type\r\n",
                "ORDER by NumAccidents DESC\r\n",
                "Limit 15;"
            ],
            "metadata": {
                "azdata_cell_guid": "7c0128a9-6b10-4308-be48-495d5da374b1",
                "language": "sql"
            },
            "outputs": [
                {
                    "output_type": "display_data",
                    "data": {
                        "text/html": "(15 row(s) affected)"
                    },
                    "metadata": {}
                },
                {
                    "output_type": "display_data",
                    "data": {
                        "text/html": "Total execution time: 00:00:00.438"
                    },
                    "metadata": {}
                },
                {
                    "output_type": "execute_result",
                    "execution_count": 1,
                    "data": {
                        "application/vnd.dataresource+json": {
                            "schema": {
                                "fields": [
                                    {
                                        "name": "Injury Severity"
                                    },
                                    {
                                        "name": "numaccidents"
                                    },
                                    {
                                        "name": "distraction_type"
                                    }
                                ]
                            },
                            "data": [
                                {
                                    "Injury Severity": "NO APPARENT INJURY",
                                    "numaccidents": "84997",
                                    "distraction_type": "NOT DISTRACTED"
                                },
                                {
                                    "Injury Severity": "NO APPARENT INJURY",
                                    "numaccidents": "27601",
                                    "distraction_type": "UNKNOWN"
                                },
                                {
                                    "Injury Severity": "NO APPARENT INJURY",
                                    "numaccidents": "18764",
                                    "distraction_type": "LOOKED BUT DID NOT SEE"
                                },
                                {
                                    "Injury Severity": "POSSIBLE INJURY",
                                    "numaccidents": "12370",
                                    "distraction_type": "NOT DISTRACTED"
                                },
                                {
                                    "Injury Severity": "SUSPECTED MINOR INJURY",
                                    "numaccidents": "8116",
                                    "distraction_type": "NOT DISTRACTED"
                                },
                                {
                                    "Injury Severity": "NO APPARENT INJURY",
                                    "numaccidents": "3604",
                                    "distraction_type": "INATTENTIVE OR LOST IN THOUGHT"
                                },
                                {
                                    "Injury Severity": "NO APPARENT INJURY",
                                    "numaccidents": "2660",
                                    "distraction_type": "OTHER DISTRACTION"
                                },
                                {
                                    "Injury Severity": "POSSIBLE INJURY",
                                    "numaccidents": "2533",
                                    "distraction_type": "UNKNOWN"
                                },
                                {
                                    "Injury Severity": "SUSPECTED MINOR INJURY",
                                    "numaccidents": "1962",
                                    "distraction_type": "UNKNOWN"
                                },
                                {
                                    "Injury Severity": "POSSIBLE INJURY",
                                    "numaccidents": "1592",
                                    "distraction_type": "LOOKED BUT DID NOT SEE"
                                },
                                {
                                    "Injury Severity": "SUSPECTED MINOR INJURY",
                                    "numaccidents": "995",
                                    "distraction_type": "LOOKED BUT DID NOT SEE"
                                },
                                {
                                    "Injury Severity": "NO APPARENT INJURY",
                                    "numaccidents": "840",
                                    "distraction_type": "DISTRACTED BY OUTSIDE PERSON OBJECT OR EVENT"
                                },
                                {
                                    "Injury Severity": "SUSPECTED SERIOUS INJURY",
                                    "numaccidents": "820",
                                    "distraction_type": "NOT DISTRACTED"
                                },
                                {
                                    "Injury Severity": "SUSPECTED SERIOUS INJURY",
                                    "numaccidents": "417",
                                    "distraction_type": "UNKNOWN"
                                },
                                {
                                    "Injury Severity": "POSSIBLE INJURY",
                                    "numaccidents": "370",
                                    "distraction_type": "INATTENTIVE OR LOST IN THOUGHT"
                                }
                            ]
                        },
                        "text/html": "<table><tr><th>Injury Severity</th><th>numaccidents</th><th>distraction_type</th></tr><tr><td>NO APPARENT INJURY</td><td>84997</td><td>NOT DISTRACTED</td></tr><tr><td>NO APPARENT INJURY</td><td>27601</td><td>UNKNOWN</td></tr><tr><td>NO APPARENT INJURY</td><td>18764</td><td>LOOKED BUT DID NOT SEE</td></tr><tr><td>POSSIBLE INJURY</td><td>12370</td><td>NOT DISTRACTED</td></tr><tr><td>SUSPECTED MINOR INJURY</td><td>8116</td><td>NOT DISTRACTED</td></tr><tr><td>NO APPARENT INJURY</td><td>3604</td><td>INATTENTIVE OR LOST IN THOUGHT</td></tr><tr><td>NO APPARENT INJURY</td><td>2660</td><td>OTHER DISTRACTION</td></tr><tr><td>POSSIBLE INJURY</td><td>2533</td><td>UNKNOWN</td></tr><tr><td>SUSPECTED MINOR INJURY</td><td>1962</td><td>UNKNOWN</td></tr><tr><td>POSSIBLE INJURY</td><td>1592</td><td>LOOKED BUT DID NOT SEE</td></tr><tr><td>SUSPECTED MINOR INJURY</td><td>995</td><td>LOOKED BUT DID NOT SEE</td></tr><tr><td>NO APPARENT INJURY</td><td>840</td><td>DISTRACTED BY OUTSIDE PERSON OBJECT OR EVENT</td></tr><tr><td>SUSPECTED SERIOUS INJURY</td><td>820</td><td>NOT DISTRACTED</td></tr><tr><td>SUSPECTED SERIOUS INJURY</td><td>417</td><td>UNKNOWN</td></tr><tr><td>POSSIBLE INJURY</td><td>370</td><td>INATTENTIVE OR LOST IN THOUGHT</td></tr></table>"
                    },
                    "metadata": {}
                }
            ],
            "execution_count": 1
        },
        {
            "cell_type": "markdown",
            "source": [
                "**Most Common Cross-Street Types in Accidents with Parked Vehicles**"
            ],
            "metadata": {
                "azdata_cell_guid": "189536c5-279f-43e2-b748-804e25a70483"
            },
            "attachments": {}
        },
        {
            "cell_type": "code",
            "source": [
                "SELECT \"Cross-Street Type\",\r\n",
                "       COUNT(*) AS Num_Accidents\r\n",
                "FROM Crash_Reporting\r\n",
                "WHERE \"Parked Vehicle\" = 'Yes'\r\n",
                "GROUP BY \"Cross-Street Type\"\r\n",
                "ORDER BY Num_Accidents DESC;\r\n",
                ""
            ],
            "metadata": {
                "azdata_cell_guid": "3b4a48df-8f15-441c-8c13-11dc8f2e0e24",
                "language": "sql"
            },
            "outputs": [
                {
                    "output_type": "display_data",
                    "data": {
                        "text/html": "(11 row(s) affected)"
                    },
                    "metadata": {}
                },
                {
                    "output_type": "display_data",
                    "data": {
                        "text/html": "Total execution time: 00:00:00.261"
                    },
                    "metadata": {}
                },
                {
                    "output_type": "execute_result",
                    "execution_count": 12,
                    "data": {
                        "application/vnd.dataresource+json": {
                            "schema": {
                                "fields": [
                                    {
                                        "name": "Cross-Street Type"
                                    },
                                    {
                                        "name": "num_accidents"
                                    }
                                ]
                            },
                            "data": [
                                {
                                    "Cross-Street Type": "NULL",
                                    "num_accidents": "1482"
                                },
                                {
                                    "Cross-Street Type": "County",
                                    "num_accidents": "706"
                                },
                                {
                                    "Cross-Street Type": "Municipality",
                                    "num_accidents": "187"
                                },
                                {
                                    "Cross-Street Type": "Maryland (State)",
                                    "num_accidents": "136"
                                },
                                {
                                    "Cross-Street Type": "Unknown",
                                    "num_accidents": "89"
                                },
                                {
                                    "Cross-Street Type": "US (State)",
                                    "num_accidents": "25"
                                },
                                {
                                    "Cross-Street Type": "Other Public Roadway",
                                    "num_accidents": "22"
                                },
                                {
                                    "Cross-Street Type": "Ramp",
                                    "num_accidents": "13"
                                },
                                {
                                    "Cross-Street Type": "Government",
                                    "num_accidents": "8"
                                },
                                {
                                    "Cross-Street Type": "Interstate (State)",
                                    "num_accidents": "3"
                                },
                                {
                                    "Cross-Street Type": "Service Road",
                                    "num_accidents": "1"
                                }
                            ]
                        },
                        "text/html": "<table><tr><th>Cross-Street Type</th><th>num_accidents</th></tr><tr><td>NULL</td><td>1482</td></tr><tr><td>County</td><td>706</td></tr><tr><td>Municipality</td><td>187</td></tr><tr><td>Maryland (State)</td><td>136</td></tr><tr><td>Unknown</td><td>89</td></tr><tr><td>US (State)</td><td>25</td></tr><tr><td>Other Public Roadway</td><td>22</td></tr><tr><td>Ramp</td><td>13</td></tr><tr><td>Government</td><td>8</td></tr><tr><td>Interstate (State)</td><td>3</td></tr><tr><td>Service Road</td><td>1</td></tr></table>"
                    },
                    "metadata": {}
                }
            ],
            "execution_count": 12
        },
        {
            "cell_type": "markdown",
            "source": [
                "**What are the different types of lighting conditions and the number of crashes?**"
            ],
            "metadata": {
                "language": "sql",
                "azdata_cell_guid": "bf831ad5-3a93-484f-ac2b-e401e9a57bbd"
            },
            "attachments": {}
        },
        {
            "cell_type": "code",
            "source": [
                "Select \r\n",
                "    DISTINCT Light,\r\n",
                "    COUNT(*) as Num_Accidents\r\n",
                "FROM Crash_Reporting\r\n",
                "GROUP by Light\r\n",
                "ORDER by Num_Accidents;"
            ],
            "metadata": {
                "language": "sql",
                "azdata_cell_guid": "17a0b69e-beb6-4197-a69d-be0f649fe272"
            },
            "outputs": [
                {
                    "output_type": "display_data",
                    "data": {
                        "text/html": "(9 row(s) affected)"
                    },
                    "metadata": {}
                },
                {
                    "output_type": "display_data",
                    "data": {
                        "text/html": "Total execution time: 00:00:00.326"
                    },
                    "metadata": {}
                },
                {
                    "output_type": "execute_result",
                    "execution_count": 5,
                    "data": {
                        "application/vnd.dataresource+json": {
                            "schema": {
                                "fields": [
                                    {
                                        "name": "light"
                                    },
                                    {
                                        "name": "num_accidents"
                                    }
                                ]
                            },
                            "data": [
                                {
                                    "light": "OTHER",
                                    "num_accidents": "340"
                                },
                                {
                                    "light": "UNKNOWN",
                                    "num_accidents": "675"
                                },
                                {
                                    "light": "N/A",
                                    "num_accidents": "1441"
                                },
                                {
                                    "light": "DARK -- UNKNOWN LIGHTING",
                                    "num_accidents": "1565"
                                },
                                {
                                    "light": "DAWN",
                                    "num_accidents": "3439"
                                },
                                {
                                    "light": "DUSK",
                                    "num_accidents": "3916"
                                },
                                {
                                    "light": "DARK NO LIGHTS",
                                    "num_accidents": "4929"
                                },
                                {
                                    "light": "DARK LIGHTS ON",
                                    "num_accidents": "39287"
                                },
                                {
                                    "light": "DAYLIGHT",
                                    "num_accidents": "115827"
                                }
                            ]
                        },
                        "text/html": "<table><tr><th>light</th><th>num_accidents</th></tr><tr><td>OTHER</td><td>340</td></tr><tr><td>UNKNOWN</td><td>675</td></tr><tr><td>N/A</td><td>1441</td></tr><tr><td>DARK -- UNKNOWN LIGHTING</td><td>1565</td></tr><tr><td>DAWN</td><td>3439</td></tr><tr><td>DUSK</td><td>3916</td></tr><tr><td>DARK NO LIGHTS</td><td>4929</td></tr><tr><td>DARK LIGHTS ON</td><td>39287</td></tr><tr><td>DAYLIGHT</td><td>115827</td></tr></table>"
                    },
                    "metadata": {}
                }
            ],
            "execution_count": 5
        },
        {
            "cell_type": "markdown",
            "source": [
                "**What are the top 10 deadliest streets?**"
            ],
            "metadata": {
                "language": "sql",
                "azdata_cell_guid": "54e58d59-23d5-414c-bd21-409044f9c851"
            },
            "attachments": {}
        },
        {
            "cell_type": "code",
            "source": [
                "SELECT\r\n",
                "    \"Road Name\",\r\n",
                "    COUNT(\"Injury Severity\") AS TotalFatalities\r\n",
                "FROM\r\n",
                "    Crash_Reporting\r\n",
                "GROUP BY\r\n",
                "    \"Road Name\"\r\n",
                "ORDER BY\r\n",
                "    TotalFatalities DESC\r\n",
                "LIMIT 10;\r\n",
                ""
            ],
            "metadata": {
                "azdata_cell_guid": "615f9eff-7647-4611-80f1-4f3af3eb0e98",
                "language": "sql"
            },
            "outputs": [
                {
                    "output_type": "display_data",
                    "data": {
                        "text/html": "(10 row(s) affected)"
                    },
                    "metadata": {}
                },
                {
                    "output_type": "display_data",
                    "data": {
                        "text/html": "Total execution time: 00:00:00.159"
                    },
                    "metadata": {}
                },
                {
                    "output_type": "execute_result",
                    "execution_count": 23,
                    "data": {
                        "application/vnd.dataresource+json": {
                            "schema": {
                                "fields": [
                                    {
                                        "name": "Road Name"
                                    },
                                    {
                                        "name": "totalfatalities"
                                    }
                                ]
                            },
                            "data": [
                                {
                                    "Road Name": "NULL",
                                    "totalfatalities": "15867"
                                },
                                {
                                    "Road Name": "GEORGIA AVE",
                                    "totalfatalities": "10825"
                                },
                                {
                                    "Road Name": "NEW HAMPSHIRE AVE",
                                    "totalfatalities": "6797"
                                },
                                {
                                    "Road Name": "FREDERICK RD",
                                    "totalfatalities": "5744"
                                },
                                {
                                    "Road Name": "ROCKVILLE PIKE",
                                    "totalfatalities": "4825"
                                },
                                {
                                    "Road Name": "CONNECTICUT AVE",
                                    "totalfatalities": "4083"
                                },
                                {
                                    "Road Name": "VEIRS MILL RD",
                                    "totalfatalities": "3967"
                                },
                                {
                                    "Road Name": "COLUMBIA PIKE",
                                    "totalfatalities": "3790"
                                },
                                {
                                    "Road Name": "RANDOLPH RD",
                                    "totalfatalities": "3438"
                                },
                                {
                                    "Road Name": "COLESVILLE RD",
                                    "totalfatalities": "3373"
                                }
                            ]
                        },
                        "text/html": "<table><tr><th>Road Name</th><th>totalfatalities</th></tr><tr><td>NULL</td><td>15867</td></tr><tr><td>GEORGIA AVE</td><td>10825</td></tr><tr><td>NEW HAMPSHIRE AVE</td><td>6797</td></tr><tr><td>FREDERICK RD</td><td>5744</td></tr><tr><td>ROCKVILLE PIKE</td><td>4825</td></tr><tr><td>CONNECTICUT AVE</td><td>4083</td></tr><tr><td>VEIRS MILL RD</td><td>3967</td></tr><tr><td>COLUMBIA PIKE</td><td>3790</td></tr><tr><td>RANDOLPH RD</td><td>3438</td></tr><tr><td>COLESVILLE RD</td><td>3373</td></tr></table>"
                    },
                    "metadata": {}
                }
            ],
            "execution_count": 23
        },
        {
            "cell_type": "markdown",
            "source": [
                "**Find  top 10 incidents where the weather was 'Rain' and the speed limit was greater than 40 mph.**"
            ],
            "metadata": {
                "language": "sql",
                "azdata_cell_guid": "8b1ddff3-4263-4690-a590-02b4d97bc263"
            },
            "attachments": {}
        },
        {
            "cell_type": "code",
            "source": [
                "SELECT *\r\n",
                "FROM Crash_Reporting\r\n",
                "WHERE \"weather\" = 'RAINING'\r\n",
                "  AND \"Speed Limit\" > 40\r\n",
                "Limit 10;\r\n",
                ""
            ],
            "metadata": {
                "azdata_cell_guid": "3386eab9-b6cd-4c06-8dba-5971f4b11745",
                "language": "sql"
            },
            "outputs": [
                {
                    "output_type": "display_data",
                    "data": {
                        "text/html": "(10 row(s) affected)"
                    },
                    "metadata": {}
                },
                {
                    "output_type": "display_data",
                    "data": {
                        "text/html": "Total execution time: 00:00:00.005"
                    },
                    "metadata": {}
                },
                {
                    "output_type": "execute_result",
                    "execution_count": 54,
                    "data": {
                        "application/vnd.dataresource+json": {
                            "schema": {
                                "fields": [
                                    {
                                        "name": "Report Number"
                                    },
                                    {
                                        "name": "Local Case Number"
                                    },
                                    {
                                        "name": "Agency Name"
                                    },
                                    {
                                        "name": "ACRS Report Type"
                                    },
                                    {
                                        "name": "Crash Date/Time"
                                    },
                                    {
                                        "name": "Route Type"
                                    },
                                    {
                                        "name": "Road Name"
                                    },
                                    {
                                        "name": "Cross-Street Type"
                                    },
                                    {
                                        "name": "Cross-Street Name"
                                    },
                                    {
                                        "name": "Off-Road Description"
                                    },
                                    {
                                        "name": "municipality"
                                    },
                                    {
                                        "name": "Related Non-Motorist"
                                    },
                                    {
                                        "name": "Collision Type"
                                    },
                                    {
                                        "name": "weather"
                                    },
                                    {
                                        "name": "Surface Condition"
                                    },
                                    {
                                        "name": "light"
                                    },
                                    {
                                        "name": "Traffic Control"
                                    },
                                    {
                                        "name": "Driver Substance Abuse"
                                    },
                                    {
                                        "name": "Non-Motorist Substance Abuse"
                                    },
                                    {
                                        "name": "Person ID"
                                    },
                                    {
                                        "name": "Driver At Fault"
                                    },
                                    {
                                        "name": "Injury Severity"
                                    },
                                    {
                                        "name": "circumstance"
                                    },
                                    {
                                        "name": "Driver Distracted By"
                                    },
                                    {
                                        "name": "Drivers License State"
                                    },
                                    {
                                        "name": "Vehicle ID"
                                    },
                                    {
                                        "name": "Vehicle Damage Extent"
                                    },
                                    {
                                        "name": "Vehicle First Impact Location"
                                    },
                                    {
                                        "name": "Vehicle Second Impact Location"
                                    },
                                    {
                                        "name": "Vehicle Body Type"
                                    },
                                    {
                                        "name": "Vehicle Movement"
                                    },
                                    {
                                        "name": "Vehicle Continuing Dir"
                                    },
                                    {
                                        "name": "Vehicle Going Dir"
                                    },
                                    {
                                        "name": "Speed Limit"
                                    },
                                    {
                                        "name": "Driverless Vehicle"
                                    },
                                    {
                                        "name": "Parked Vehicle"
                                    },
                                    {
                                        "name": "Vehicle Year"
                                    },
                                    {
                                        "name": "Vehicle Make"
                                    },
                                    {
                                        "name": "Vehicle Model"
                                    },
                                    {
                                        "name": "Equipment Problems"
                                    }
                                ]
                            },
                            "data": [
                                {
                                    "Report Number": "MCP3280003P",
                                    "Local Case Number": "230035153",
                                    "Agency Name": "Montgomery County Police",
                                    "ACRS Report Type": "Property Damage Crash",
                                    "Crash Date/Time": "07/24/2023 05:50:00 AM",
                                    "Route Type": "US (State)",
                                    "Road Name": "COLUMBIA PIKE",
                                    "Cross-Street Type": "Unknown",
                                    "Cross-Street Name": "END BRIDGE",
                                    "Off-Road Description": "NULL",
                                    "municipality": "N/A",
                                    "Related Non-Motorist": "NULL",
                                    "Collision Type": "SAME DIR REAR END",
                                    "weather": "RAINING",
                                    "Surface Condition": "WET",
                                    "light": "DARK NO LIGHTS",
                                    "Traffic Control": "NO CONTROLS",
                                    "Driver Substance Abuse": "UNKNOWN",
                                    "Non-Motorist Substance Abuse": "NULL",
                                    "Person ID": "4D15D7FA-8D8D-4698-B68E-71B7AFBFA576",
                                    "Driver At Fault": "Yes",
                                    "Injury Severity": "NO APPARENT INJURY",
                                    "circumstance": "RAIN, SNOW, WET",
                                    "Driver Distracted By": "UNKNOWN",
                                    "Drivers License State": "NULL",
                                    "Vehicle ID": "CCAC88E1-FC89-46E4-BF88-D0ABBC6BB592",
                                    "Vehicle Damage Extent": "UNKNOWN",
                                    "Vehicle First Impact Location": "SIX OCLOCK",
                                    "Vehicle Second Impact Location": "SIX OCLOCK",
                                    "Vehicle Body Type": "UNKNOWN",
                                    "Vehicle Movement": "CHANGING LANES",
                                    "Vehicle Continuing Dir": "North",
                                    "Vehicle Going Dir": "North",
                                    "Speed Limit": "50",
                                    "Driverless Vehicle": "No",
                                    "Parked Vehicle": "No",
                                    "Vehicle Year": "0",
                                    "Vehicle Make": "UNKNOWN",
                                    "Vehicle Model": "UNKNOWN",
                                    "Equipment Problems": "UNKNOWN"
                                },
                                {
                                    "Report Number": "MCP3280003P",
                                    "Local Case Number": "230035153",
                                    "Agency Name": "Montgomery County Police",
                                    "ACRS Report Type": "Property Damage Crash",
                                    "Crash Date/Time": "07/24/2023 05:50:00 AM",
                                    "Route Type": "US (State)",
                                    "Road Name": "COLUMBIA PIKE",
                                    "Cross-Street Type": "Unknown",
                                    "Cross-Street Name": "END BRIDGE",
                                    "Off-Road Description": "NULL",
                                    "municipality": "N/A",
                                    "Related Non-Motorist": "NULL",
                                    "Collision Type": "SAME DIR REAR END",
                                    "weather": "RAINING",
                                    "Surface Condition": "WET",
                                    "light": "DARK NO LIGHTS",
                                    "Traffic Control": "NO CONTROLS",
                                    "Driver Substance Abuse": "NONE DETECTED",
                                    "Non-Motorist Substance Abuse": "NULL",
                                    "Person ID": "AC6C890E-4FEE-4CCF-BBC5-6E9ED17C7FB5",
                                    "Driver At Fault": "No",
                                    "Injury Severity": "NO APPARENT INJURY",
                                    "circumstance": "RAIN, SNOW, WET",
                                    "Driver Distracted By": "NOT DISTRACTED",
                                    "Drivers License State": "MD",
                                    "Vehicle ID": "3E473103-06A4-4230-8EEB-19CC4AAC46E0",
                                    "Vehicle Damage Extent": "FUNCTIONAL",
                                    "Vehicle First Impact Location": "TWELVE OCLOCK",
                                    "Vehicle Second Impact Location": "TWELVE OCLOCK",
                                    "Vehicle Body Type": "TRANSIT BUS",
                                    "Vehicle Movement": "MOVING CONSTANT SPEED",
                                    "Vehicle Continuing Dir": "North",
                                    "Vehicle Going Dir": "North",
                                    "Speed Limit": "50",
                                    "Driverless Vehicle": "No",
                                    "Parked Vehicle": "No",
                                    "Vehicle Year": "2010",
                                    "Vehicle Make": "NEW FLYER",
                                    "Vehicle Model": "LOW FLOOR",
                                    "Equipment Problems": "NO MISUSE"
                                },
                                {
                                    "Report Number": "MCP3129007H",
                                    "Local Case Number": "230047738",
                                    "Agency Name": "Montgomery County Police",
                                    "ACRS Report Type": "Property Damage Crash",
                                    "Crash Date/Time": "04/08/2023 06:24:00 AM",
                                    "Route Type": "Maryland (State)",
                                    "Road Name": "VEIRS MILL RD",
                                    "Cross-Street Type": "County",
                                    "Cross-Street Name": "ASPEN HILL RD",
                                    "Off-Road Description": "NULL",
                                    "municipality": "N/A",
                                    "Related Non-Motorist": "NULL",
                                    "Collision Type": "SINGLE VEHICLE",
                                    "weather": "RAINING",
                                    "Surface Condition": "WET",
                                    "light": "DAWN",
                                    "Traffic Control": "NO CONTROLS",
                                    "Driver Substance Abuse": "NONE DETECTED",
                                    "Non-Motorist Substance Abuse": "NULL",
                                    "Person ID": "A894F676-BDBB-46B5-88D8-399169158F4E",
                                    "Driver At Fault": "Unknown",
                                    "Injury Severity": "NO APPARENT INJURY",
                                    "circumstance": "RAIN, SNOW, WET",
                                    "Driver Distracted By": "NOT DISTRACTED",
                                    "Drivers License State": "MD",
                                    "Vehicle ID": "ED83145D-B209-469D-AA1D-E83FFF7793EF",
                                    "Vehicle Damage Extent": "FUNCTIONAL",
                                    "Vehicle First Impact Location": "FOUR OCLOCK",
                                    "Vehicle Second Impact Location": "FOUR OCLOCK",
                                    "Vehicle Body Type": "PASSENGER CAR",
                                    "Vehicle Movement": "MAKING RIGHT TURN",
                                    "Vehicle Continuing Dir": "West",
                                    "Vehicle Going Dir": "West",
                                    "Speed Limit": "45",
                                    "Driverless Vehicle": "No",
                                    "Parked Vehicle": "No",
                                    "Vehicle Year": "2004",
                                    "Vehicle Make": "LINCOLN",
                                    "Vehicle Model": "TOWN CAR",
                                    "Equipment Problems": "NO MISUSE"
                                },
                                {
                                    "Report Number": "MCP2966006R",
                                    "Local Case Number": "230046514",
                                    "Agency Name": "Montgomery County Police",
                                    "ACRS Report Type": "Property Damage Crash",
                                    "Crash Date/Time": "07/27/2023 06:23:00 PM",
                                    "Route Type": "Interstate (State)",
                                    "Road Name": "EISENHOWER MEMORIAL HWY",
                                    "Cross-Street Type": "Unknown",
                                    "Cross-Street Name": "MILE MARKER 20.0",
                                    "Off-Road Description": "NULL",
                                    "municipality": "N/A",
                                    "Related Non-Motorist": "NULL",
                                    "Collision Type": "SAME DIR REAR END",
                                    "weather": "RAINING",
                                    "Surface Condition": "N/A",
                                    "light": "N/A",
                                    "Traffic Control": "NO CONTROLS",
                                    "Driver Substance Abuse": "NONE DETECTED",
                                    "Non-Motorist Substance Abuse": "NULL",
                                    "Person ID": "3AE279B3-FEDB-4365-B5B3-B5780C2411E8",
                                    "Driver At Fault": "Yes",
                                    "Injury Severity": "NO APPARENT INJURY",
                                    "circumstance": "N/A, RAIN, SNOW",
                                    "Driver Distracted By": "NOT DISTRACTED",
                                    "Drivers License State": "VA",
                                    "Vehicle ID": "A96F06FA-DB2E-410A-AEB8-72720906C787",
                                    "Vehicle Damage Extent": "FUNCTIONAL",
                                    "Vehicle First Impact Location": "TWELVE OCLOCK",
                                    "Vehicle Second Impact Location": "TWELVE OCLOCK",
                                    "Vehicle Body Type": "PASSENGER CAR",
                                    "Vehicle Movement": "MOVING CONSTANT SPEED",
                                    "Vehicle Continuing Dir": "North",
                                    "Vehicle Going Dir": "North",
                                    "Speed Limit": "65",
                                    "Driverless Vehicle": "No",
                                    "Parked Vehicle": "No",
                                    "Vehicle Year": "2023",
                                    "Vehicle Make": "CHRYSLER",
                                    "Vehicle Model": "PACIFICA",
                                    "Equipment Problems": "N/A"
                                },
                                {
                                    "Report Number": "MCP2966006R",
                                    "Local Case Number": "230046514",
                                    "Agency Name": "Montgomery County Police",
                                    "ACRS Report Type": "Property Damage Crash",
                                    "Crash Date/Time": "07/27/2023 06:23:00 PM",
                                    "Route Type": "Interstate (State)",
                                    "Road Name": "EISENHOWER MEMORIAL HWY",
                                    "Cross-Street Type": "Unknown",
                                    "Cross-Street Name": "MILE MARKER 20.0",
                                    "Off-Road Description": "NULL",
                                    "municipality": "N/A",
                                    "Related Non-Motorist": "NULL",
                                    "Collision Type": "SAME DIR REAR END",
                                    "weather": "RAINING",
                                    "Surface Condition": "N/A",
                                    "light": "N/A",
                                    "Traffic Control": "NO CONTROLS",
                                    "Driver Substance Abuse": "NONE DETECTED",
                                    "Non-Motorist Substance Abuse": "NULL",
                                    "Person ID": "4C5C5B00-4C95-4590-9588-7C2B8289EBB1",
                                    "Driver At Fault": "No",
                                    "Injury Severity": "NO APPARENT INJURY",
                                    "circumstance": "N/A, RAIN, SNOW",
                                    "Driver Distracted By": "NOT DISTRACTED",
                                    "Drivers License State": "MD",
                                    "Vehicle ID": "57192CD6-B841-45D6-8D5F-DB031BBFC6FE",
                                    "Vehicle Damage Extent": "SUPERFICIAL",
                                    "Vehicle First Impact Location": "SIX OCLOCK",
                                    "Vehicle Second Impact Location": "SIX OCLOCK",
                                    "Vehicle Body Type": "POLICE VEHICLE/NON EMERGENCY",
                                    "Vehicle Movement": "SLOWING OR STOPPING",
                                    "Vehicle Continuing Dir": "North",
                                    "Vehicle Going Dir": "North",
                                    "Speed Limit": "65",
                                    "Driverless Vehicle": "No",
                                    "Parked Vehicle": "No",
                                    "Vehicle Year": "2018",
                                    "Vehicle Make": "CHEVROLET",
                                    "Vehicle Model": "SUBURBAN",
                                    "Equipment Problems": "N/A"
                                },
                                {
                                    "Report Number": "MCP3301001S",
                                    "Local Case Number": "230048145",
                                    "Agency Name": "Montgomery County Police",
                                    "ACRS Report Type": "Injury Crash",
                                    "Crash Date/Time": "06/08/2023 10:21:00 PM",
                                    "Route Type": "Maryland (State)",
                                    "Road Name": "SANDY SPRING RD",
                                    "Cross-Street Type": "County",
                                    "Cross-Street Name": "BIRMINGHAM DR",
                                    "Off-Road Description": "NULL",
                                    "municipality": "N/A",
                                    "Related Non-Motorist": "NULL",
                                    "Collision Type": "ANGLE MEETS LEFT TURN",
                                    "weather": "RAINING",
                                    "Surface Condition": "WET",
                                    "light": "DARK LIGHTS ON",
                                    "Traffic Control": "NO CONTROLS",
                                    "Driver Substance Abuse": "NONE DETECTED",
                                    "Non-Motorist Substance Abuse": "NULL",
                                    "Person ID": "E263A8B7-5614-4252-8EF0-F4F812D141FD",
                                    "Driver At Fault": "Yes",
                                    "Injury Severity": "SUSPECTED MINOR INJURY",
                                    "circumstance": "RAIN, SNOW, WET",
                                    "Driver Distracted By": "UNKNOWN",
                                    "Drivers License State": "MD",
                                    "Vehicle ID": "A5B22CDB-65F6-4D62-BA95-9D880E2BC219",
                                    "Vehicle Damage Extent": "DISABLING",
                                    "Vehicle First Impact Location": "TWO OCLOCK",
                                    "Vehicle Second Impact Location": "TWO OCLOCK",
                                    "Vehicle Body Type": "PASSENGER CAR",
                                    "Vehicle Movement": "MAKING U TURN",
                                    "Vehicle Continuing Dir": "West",
                                    "Vehicle Going Dir": "West",
                                    "Speed Limit": "45",
                                    "Driverless Vehicle": "No",
                                    "Parked Vehicle": "No",
                                    "Vehicle Year": "2015",
                                    "Vehicle Make": "CHEV",
                                    "Vehicle Model": "4D",
                                    "Equipment Problems": "NO MISUSE"
                                },
                                {
                                    "Report Number": "MCP3301001S",
                                    "Local Case Number": "230048145",
                                    "Agency Name": "Montgomery County Police",
                                    "ACRS Report Type": "Injury Crash",
                                    "Crash Date/Time": "06/08/2023 10:21:00 PM",
                                    "Route Type": "Maryland (State)",
                                    "Road Name": "SANDY SPRING RD",
                                    "Cross-Street Type": "County",
                                    "Cross-Street Name": "BIRMINGHAM DR",
                                    "Off-Road Description": "NULL",
                                    "municipality": "N/A",
                                    "Related Non-Motorist": "NULL",
                                    "Collision Type": "ANGLE MEETS LEFT TURN",
                                    "weather": "RAINING",
                                    "Surface Condition": "WET",
                                    "light": "DARK LIGHTS ON",
                                    "Traffic Control": "NO CONTROLS",
                                    "Driver Substance Abuse": "NONE DETECTED",
                                    "Non-Motorist Substance Abuse": "NULL",
                                    "Person ID": "30800813-340C-4A1A-BEB8-A86BBB4B650B",
                                    "Driver At Fault": "No",
                                    "Injury Severity": "SUSPECTED MINOR INJURY",
                                    "circumstance": "RAIN, SNOW, WET",
                                    "Driver Distracted By": "NOT DISTRACTED",
                                    "Drivers License State": "MD",
                                    "Vehicle ID": "C6B6C0F9-4513-4881-B04A-A796EA0E835A",
                                    "Vehicle Damage Extent": "DESTROYED",
                                    "Vehicle First Impact Location": "TWELVE OCLOCK",
                                    "Vehicle Second Impact Location": "TWELVE OCLOCK",
                                    "Vehicle Body Type": "PASSENGER CAR",
                                    "Vehicle Movement": "MOVING CONSTANT SPEED",
                                    "Vehicle Continuing Dir": "West",
                                    "Vehicle Going Dir": "West",
                                    "Speed Limit": "45",
                                    "Driverless Vehicle": "No",
                                    "Parked Vehicle": "No",
                                    "Vehicle Year": "2016",
                                    "Vehicle Make": "TOYOTA",
                                    "Vehicle Model": "RAV4",
                                    "Equipment Problems": "NO MISUSE"
                                },
                                {
                                    "Report Number": "MCP3263003L",
                                    "Local Case Number": "230051340",
                                    "Agency Name": "Montgomery County Police",
                                    "ACRS Report Type": "Injury Crash",
                                    "Crash Date/Time": "08/25/2023 05:25:00 PM",
                                    "Route Type": "County",
                                    "Road Name": "DEMOCRACY BLVD",
                                    "Cross-Street Type": "County",
                                    "Cross-Street Name": "SEVEN LOCKS RD",
                                    "Off-Road Description": "NULL",
                                    "municipality": "N/A",
                                    "Related Non-Motorist": "NULL",
                                    "Collision Type": "SAME DIR REAR END",
                                    "weather": "RAINING",
                                    "Surface Condition": "WET",
                                    "light": "DAYLIGHT",
                                    "Traffic Control": "TRAFFIC SIGNAL",
                                    "Driver Substance Abuse": "NONE DETECTED",
                                    "Non-Motorist Substance Abuse": "NULL",
                                    "Person ID": "B2AA9F3A-A58E-4BBE-8989-5DFDF1ACCA55",
                                    "Driver At Fault": "No",
                                    "Injury Severity": "SUSPECTED MINOR INJURY",
                                    "circumstance": "SLEET, HAIL, FREEZ. RAIN, WET",
                                    "Driver Distracted By": "NOT DISTRACTED",
                                    "Drivers License State": "MD",
                                    "Vehicle ID": "81BA9225-F901-4936-9E68-989BCE8AB930",
                                    "Vehicle Damage Extent": "FUNCTIONAL",
                                    "Vehicle First Impact Location": "SIX OCLOCK",
                                    "Vehicle Second Impact Location": "SIX OCLOCK",
                                    "Vehicle Body Type": "PASSENGER CAR",
                                    "Vehicle Movement": "STOPPED IN TRAFFIC LANE",
                                    "Vehicle Continuing Dir": "West",
                                    "Vehicle Going Dir": "West",
                                    "Speed Limit": "45",
                                    "Driverless Vehicle": "No",
                                    "Parked Vehicle": "No",
                                    "Vehicle Year": "2015",
                                    "Vehicle Make": "JEEP",
                                    "Vehicle Model": "CHEROKEE",
                                    "Equipment Problems": "NO MISUSE"
                                },
                                {
                                    "Report Number": "MCP3263003L",
                                    "Local Case Number": "230051340",
                                    "Agency Name": "Montgomery County Police",
                                    "ACRS Report Type": "Injury Crash",
                                    "Crash Date/Time": "08/25/2023 05:25:00 PM",
                                    "Route Type": "County",
                                    "Road Name": "DEMOCRACY BLVD",
                                    "Cross-Street Type": "County",
                                    "Cross-Street Name": "SEVEN LOCKS RD",
                                    "Off-Road Description": "NULL",
                                    "municipality": "N/A",
                                    "Related Non-Motorist": "NULL",
                                    "Collision Type": "SAME DIR REAR END",
                                    "weather": "RAINING",
                                    "Surface Condition": "WET",
                                    "light": "DAYLIGHT",
                                    "Traffic Control": "TRAFFIC SIGNAL",
                                    "Driver Substance Abuse": "NONE DETECTED",
                                    "Non-Motorist Substance Abuse": "NULL",
                                    "Person ID": "6BA62DAD-54EE-45D1-A9FB-F71954FB3D1C",
                                    "Driver At Fault": "Yes",
                                    "Injury Severity": "NO APPARENT INJURY",
                                    "circumstance": "SLEET, HAIL, FREEZ. RAIN, WET",
                                    "Driver Distracted By": "NOT DISTRACTED",
                                    "Drivers License State": "MD",
                                    "Vehicle ID": "9FDF5707-7444-469A-BC62-45235253365E",
                                    "Vehicle Damage Extent": "DISABLING",
                                    "Vehicle First Impact Location": "TWELVE OCLOCK",
                                    "Vehicle Second Impact Location": "TWELVE OCLOCK",
                                    "Vehicle Body Type": "PASSENGER CAR",
                                    "Vehicle Movement": "SLOWING OR STOPPING",
                                    "Vehicle Continuing Dir": "West",
                                    "Vehicle Going Dir": "West",
                                    "Speed Limit": "45",
                                    "Driverless Vehicle": "No",
                                    "Parked Vehicle": "No",
                                    "Vehicle Year": "2022",
                                    "Vehicle Make": "MASERATI",
                                    "Vehicle Model": "LEVANTE",
                                    "Equipment Problems": "NO MISUSE"
                                },
                                {
                                    "Report Number": "EJ7888004Z",
                                    "Local Case Number": "230053864",
                                    "Agency Name": "Gaithersburg Police Depar",
                                    "ACRS Report Type": "Injury Crash",
                                    "Crash Date/Time": "08/09/2023 07:45:00 PM",
                                    "Route Type": "Maryland (State)",
                                    "Road Name": "GREAT SENECA HWY",
                                    "Cross-Street Type": "Municipality",
                                    "Cross-Street Name": "LAKELANDS DR",
                                    "Off-Road Description": "NULL",
                                    "municipality": "GAITHERSBURG",
                                    "Related Non-Motorist": "NULL",
                                    "Collision Type": "HEAD ON LEFT TURN",
                                    "weather": "RAINING",
                                    "Surface Condition": "WET",
                                    "light": "DARK LIGHTS ON",
                                    "Traffic Control": "TRAFFIC SIGNAL",
                                    "Driver Substance Abuse": "NONE DETECTED",
                                    "Non-Motorist Substance Abuse": "NULL",
                                    "Person ID": "A488F8E3-0D59-4D8B-A67D-47020D5BED8D",
                                    "Driver At Fault": "No",
                                    "Injury Severity": "NO APPARENT INJURY",
                                    "circumstance": "RAIN, SNOW, WET",
                                    "Driver Distracted By": "NOT DISTRACTED",
                                    "Drivers License State": "MD",
                                    "Vehicle ID": "A9ADEADB-B54D-471F-A0D1-7725763343AA",
                                    "Vehicle Damage Extent": "DISABLING",
                                    "Vehicle First Impact Location": "TWELVE OCLOCK",
                                    "Vehicle Second Impact Location": "TWELVE OCLOCK",
                                    "Vehicle Body Type": "(SPORT) UTILITY VEHICLE",
                                    "Vehicle Movement": "MOVING CONSTANT SPEED",
                                    "Vehicle Continuing Dir": "South",
                                    "Vehicle Going Dir": "South",
                                    "Speed Limit": "50",
                                    "Driverless Vehicle": "No",
                                    "Parked Vehicle": "No",
                                    "Vehicle Year": "2013",
                                    "Vehicle Make": "FORD",
                                    "Vehicle Model": "UT",
                                    "Equipment Problems": "NO MISUSE"
                                }
                            ]
                        },
                        "text/html": "<table><tr><th>Report Number</th><th>Local Case Number</th><th>Agency Name</th><th>ACRS Report Type</th><th>Crash Date/Time</th><th>Route Type</th><th>Road Name</th><th>Cross-Street Type</th><th>Cross-Street Name</th><th>Off-Road Description</th><th>municipality</th><th>Related Non-Motorist</th><th>Collision Type</th><th>weather</th><th>Surface Condition</th><th>light</th><th>Traffic Control</th><th>Driver Substance Abuse</th><th>Non-Motorist Substance Abuse</th><th>Person ID</th><th>Driver At Fault</th><th>Injury Severity</th><th>circumstance</th><th>Driver Distracted By</th><th>Drivers License State</th><th>Vehicle ID</th><th>Vehicle Damage Extent</th><th>Vehicle First Impact Location</th><th>Vehicle Second Impact Location</th><th>Vehicle Body Type</th><th>Vehicle Movement</th><th>Vehicle Continuing Dir</th><th>Vehicle Going Dir</th><th>Speed Limit</th><th>Driverless Vehicle</th><th>Parked Vehicle</th><th>Vehicle Year</th><th>Vehicle Make</th><th>Vehicle Model</th><th>Equipment Problems</th></tr><tr><td>MCP3280003P</td><td>230035153</td><td>Montgomery County Police</td><td>Property Damage Crash</td><td>07/24/2023 05:50:00 AM</td><td>US (State)</td><td>COLUMBIA PIKE</td><td>Unknown</td><td>END BRIDGE</td><td>NULL</td><td>N/A</td><td>NULL</td><td>SAME DIR REAR END</td><td>RAINING</td><td>WET</td><td>DARK NO LIGHTS</td><td>NO CONTROLS</td><td>UNKNOWN</td><td>NULL</td><td>4D15D7FA-8D8D-4698-B68E-71B7AFBFA576</td><td>Yes</td><td>NO APPARENT INJURY</td><td>RAIN, SNOW, WET</td><td>UNKNOWN</td><td>NULL</td><td>CCAC88E1-FC89-46E4-BF88-D0ABBC6BB592</td><td>UNKNOWN</td><td>SIX OCLOCK</td><td>SIX OCLOCK</td><td>UNKNOWN</td><td>CHANGING LANES</td><td>North</td><td>North</td><td>50</td><td>No</td><td>No</td><td>0</td><td>UNKNOWN</td><td>UNKNOWN</td><td>UNKNOWN</td></tr><tr><td>MCP3280003P</td><td>230035153</td><td>Montgomery County Police</td><td>Property Damage Crash</td><td>07/24/2023 05:50:00 AM</td><td>US (State)</td><td>COLUMBIA PIKE</td><td>Unknown</td><td>END BRIDGE</td><td>NULL</td><td>N/A</td><td>NULL</td><td>SAME DIR REAR END</td><td>RAINING</td><td>WET</td><td>DARK NO LIGHTS</td><td>NO CONTROLS</td><td>NONE DETECTED</td><td>NULL</td><td>AC6C890E-4FEE-4CCF-BBC5-6E9ED17C7FB5</td><td>No</td><td>NO APPARENT INJURY</td><td>RAIN, SNOW, WET</td><td>NOT DISTRACTED</td><td>MD</td><td>3E473103-06A4-4230-8EEB-19CC4AAC46E0</td><td>FUNCTIONAL</td><td>TWELVE OCLOCK</td><td>TWELVE OCLOCK</td><td>TRANSIT BUS</td><td>MOVING CONSTANT SPEED</td><td>North</td><td>North</td><td>50</td><td>No</td><td>No</td><td>2010</td><td>NEW FLYER</td><td>LOW FLOOR</td><td>NO MISUSE</td></tr><tr><td>MCP3129007H</td><td>230047738</td><td>Montgomery County Police</td><td>Property Damage Crash</td><td>04/08/2023 06:24:00 AM</td><td>Maryland (State)</td><td>VEIRS MILL RD</td><td>County</td><td>ASPEN HILL RD</td><td>NULL</td><td>N/A</td><td>NULL</td><td>SINGLE VEHICLE</td><td>RAINING</td><td>WET</td><td>DAWN</td><td>NO CONTROLS</td><td>NONE DETECTED</td><td>NULL</td><td>A894F676-BDBB-46B5-88D8-399169158F4E</td><td>Unknown</td><td>NO APPARENT INJURY</td><td>RAIN, SNOW, WET</td><td>NOT DISTRACTED</td><td>MD</td><td>ED83145D-B209-469D-AA1D-E83FFF7793EF</td><td>FUNCTIONAL</td><td>FOUR OCLOCK</td><td>FOUR OCLOCK</td><td>PASSENGER CAR</td><td>MAKING RIGHT TURN</td><td>West</td><td>West</td><td>45</td><td>No</td><td>No</td><td>2004</td><td>LINCOLN</td><td>TOWN CAR</td><td>NO MISUSE</td></tr><tr><td>MCP2966006R</td><td>230046514</td><td>Montgomery County Police</td><td>Property Damage Crash</td><td>07/27/2023 06:23:00 PM</td><td>Interstate (State)</td><td>EISENHOWER MEMORIAL HWY</td><td>Unknown</td><td>MILE MARKER 20.0</td><td>NULL</td><td>N/A</td><td>NULL</td><td>SAME DIR REAR END</td><td>RAINING</td><td>N/A</td><td>N/A</td><td>NO CONTROLS</td><td>NONE DETECTED</td><td>NULL</td><td>3AE279B3-FEDB-4365-B5B3-B5780C2411E8</td><td>Yes</td><td>NO APPARENT INJURY</td><td>N/A, RAIN, SNOW</td><td>NOT DISTRACTED</td><td>VA</td><td>A96F06FA-DB2E-410A-AEB8-72720906C787</td><td>FUNCTIONAL</td><td>TWELVE OCLOCK</td><td>TWELVE OCLOCK</td><td>PASSENGER CAR</td><td>MOVING CONSTANT SPEED</td><td>North</td><td>North</td><td>65</td><td>No</td><td>No</td><td>2023</td><td>CHRYSLER</td><td>PACIFICA</td><td>N/A</td></tr><tr><td>MCP2966006R</td><td>230046514</td><td>Montgomery County Police</td><td>Property Damage Crash</td><td>07/27/2023 06:23:00 PM</td><td>Interstate (State)</td><td>EISENHOWER MEMORIAL HWY</td><td>Unknown</td><td>MILE MARKER 20.0</td><td>NULL</td><td>N/A</td><td>NULL</td><td>SAME DIR REAR END</td><td>RAINING</td><td>N/A</td><td>N/A</td><td>NO CONTROLS</td><td>NONE DETECTED</td><td>NULL</td><td>4C5C5B00-4C95-4590-9588-7C2B8289EBB1</td><td>No</td><td>NO APPARENT INJURY</td><td>N/A, RAIN, SNOW</td><td>NOT DISTRACTED</td><td>MD</td><td>57192CD6-B841-45D6-8D5F-DB031BBFC6FE</td><td>SUPERFICIAL</td><td>SIX OCLOCK</td><td>SIX OCLOCK</td><td>POLICE VEHICLE/NON EMERGENCY</td><td>SLOWING OR STOPPING</td><td>North</td><td>North</td><td>65</td><td>No</td><td>No</td><td>2018</td><td>CHEVROLET</td><td>SUBURBAN</td><td>N/A</td></tr><tr><td>MCP3301001S</td><td>230048145</td><td>Montgomery County Police</td><td>Injury Crash</td><td>06/08/2023 10:21:00 PM</td><td>Maryland (State)</td><td>SANDY SPRING RD</td><td>County</td><td>BIRMINGHAM DR</td><td>NULL</td><td>N/A</td><td>NULL</td><td>ANGLE MEETS LEFT TURN</td><td>RAINING</td><td>WET</td><td>DARK LIGHTS ON</td><td>NO CONTROLS</td><td>NONE DETECTED</td><td>NULL</td><td>E263A8B7-5614-4252-8EF0-F4F812D141FD</td><td>Yes</td><td>SUSPECTED MINOR INJURY</td><td>RAIN, SNOW, WET</td><td>UNKNOWN</td><td>MD</td><td>A5B22CDB-65F6-4D62-BA95-9D880E2BC219</td><td>DISABLING</td><td>TWO OCLOCK</td><td>TWO OCLOCK</td><td>PASSENGER CAR</td><td>MAKING U TURN</td><td>West</td><td>West</td><td>45</td><td>No</td><td>No</td><td>2015</td><td>CHEV</td><td>4D</td><td>NO MISUSE</td></tr><tr><td>MCP3301001S</td><td>230048145</td><td>Montgomery County Police</td><td>Injury Crash</td><td>06/08/2023 10:21:00 PM</td><td>Maryland (State)</td><td>SANDY SPRING RD</td><td>County</td><td>BIRMINGHAM DR</td><td>NULL</td><td>N/A</td><td>NULL</td><td>ANGLE MEETS LEFT TURN</td><td>RAINING</td><td>WET</td><td>DARK LIGHTS ON</td><td>NO CONTROLS</td><td>NONE DETECTED</td><td>NULL</td><td>30800813-340C-4A1A-BEB8-A86BBB4B650B</td><td>No</td><td>SUSPECTED MINOR INJURY</td><td>RAIN, SNOW, WET</td><td>NOT DISTRACTED</td><td>MD</td><td>C6B6C0F9-4513-4881-B04A-A796EA0E835A</td><td>DESTROYED</td><td>TWELVE OCLOCK</td><td>TWELVE OCLOCK</td><td>PASSENGER CAR</td><td>MOVING CONSTANT SPEED</td><td>West</td><td>West</td><td>45</td><td>No</td><td>No</td><td>2016</td><td>TOYOTA</td><td>RAV4</td><td>NO MISUSE</td></tr><tr><td>MCP3263003L</td><td>230051340</td><td>Montgomery County Police</td><td>Injury Crash</td><td>08/25/2023 05:25:00 PM</td><td>County</td><td>DEMOCRACY BLVD</td><td>County</td><td>SEVEN LOCKS RD</td><td>NULL</td><td>N/A</td><td>NULL</td><td>SAME DIR REAR END</td><td>RAINING</td><td>WET</td><td>DAYLIGHT</td><td>TRAFFIC SIGNAL</td><td>NONE DETECTED</td><td>NULL</td><td>B2AA9F3A-A58E-4BBE-8989-5DFDF1ACCA55</td><td>No</td><td>SUSPECTED MINOR INJURY</td><td>SLEET, HAIL, FREEZ. RAIN, WET</td><td>NOT DISTRACTED</td><td>MD</td><td>81BA9225-F901-4936-9E68-989BCE8AB930</td><td>FUNCTIONAL</td><td>SIX OCLOCK</td><td>SIX OCLOCK</td><td>PASSENGER CAR</td><td>STOPPED IN TRAFFIC LANE</td><td>West</td><td>West</td><td>45</td><td>No</td><td>No</td><td>2015</td><td>JEEP</td><td>CHEROKEE</td><td>NO MISUSE</td></tr><tr><td>MCP3263003L</td><td>230051340</td><td>Montgomery County Police</td><td>Injury Crash</td><td>08/25/2023 05:25:00 PM</td><td>County</td><td>DEMOCRACY BLVD</td><td>County</td><td>SEVEN LOCKS RD</td><td>NULL</td><td>N/A</td><td>NULL</td><td>SAME DIR REAR END</td><td>RAINING</td><td>WET</td><td>DAYLIGHT</td><td>TRAFFIC SIGNAL</td><td>NONE DETECTED</td><td>NULL</td><td>6BA62DAD-54EE-45D1-A9FB-F71954FB3D1C</td><td>Yes</td><td>NO APPARENT INJURY</td><td>SLEET, HAIL, FREEZ. RAIN, WET</td><td>NOT DISTRACTED</td><td>MD</td><td>9FDF5707-7444-469A-BC62-45235253365E</td><td>DISABLING</td><td>TWELVE OCLOCK</td><td>TWELVE OCLOCK</td><td>PASSENGER CAR</td><td>SLOWING OR STOPPING</td><td>West</td><td>West</td><td>45</td><td>No</td><td>No</td><td>2022</td><td>MASERATI</td><td>LEVANTE</td><td>NO MISUSE</td></tr><tr><td>EJ7888004Z</td><td>230053864</td><td>Gaithersburg Police Depar</td><td>Injury Crash</td><td>08/09/2023 07:45:00 PM</td><td>Maryland (State)</td><td>GREAT SENECA HWY</td><td>Municipality</td><td>LAKELANDS DR</td><td>NULL</td><td>GAITHERSBURG</td><td>NULL</td><td>HEAD ON LEFT TURN</td><td>RAINING</td><td>WET</td><td>DARK LIGHTS ON</td><td>TRAFFIC SIGNAL</td><td>NONE DETECTED</td><td>NULL</td><td>A488F8E3-0D59-4D8B-A67D-47020D5BED8D</td><td>No</td><td>NO APPARENT INJURY</td><td>RAIN, SNOW, WET</td><td>NOT DISTRACTED</td><td>MD</td><td>A9ADEADB-B54D-471F-A0D1-7725763343AA</td><td>DISABLING</td><td>TWELVE OCLOCK</td><td>TWELVE OCLOCK</td><td>(SPORT) UTILITY VEHICLE</td><td>MOVING CONSTANT SPEED</td><td>South</td><td>South</td><td>50</td><td>No</td><td>No</td><td>2013</td><td>FORD</td><td>UT</td><td>NO MISUSE</td></tr></table>"
                    },
                    "metadata": {}
                }
            ],
            "execution_count": 54
        },
        {
            "cell_type": "markdown",
            "source": [
                "**Classify incidents by the severity level ('Low', 'Medium', 'High') based on the speed limit.**"
            ],
            "metadata": {
                "azdata_cell_guid": "eb254317-3f9e-4835-8829-6b618e8bbaa7"
            },
            "attachments": {}
        },
        {
            "cell_type": "code",
            "source": [
                "Select \"Speed Limit\",\r\n",
                "    CASE\r\n",
                "        WHEN \"Speed Limit\"<30 THEN 'Low'\r\n",
                "        WHEN \"Speed Limit\" BETWEEN 30 and 50 THEN 'Medium'\r\n",
                "        ELSE 'High'\r\n",
                "    End as Severity_Level\r\n",
                "From Crash_Reporting\r\n",
                "LIMIT 20;\r\n",
                ""
            ],
            "metadata": {
                "language": "sql",
                "azdata_cell_guid": "727d5abd-324b-40d6-b65a-7eb0959d6801"
            },
            "outputs": [
                {
                    "output_type": "display_data",
                    "data": {
                        "text/html": "(20 row(s) affected)"
                    },
                    "metadata": {}
                },
                {
                    "output_type": "display_data",
                    "data": {
                        "text/html": "Total execution time: 00:00:00.004"
                    },
                    "metadata": {}
                },
                {
                    "output_type": "execute_result",
                    "execution_count": 63,
                    "data": {
                        "application/vnd.dataresource+json": {
                            "schema": {
                                "fields": [
                                    {
                                        "name": "Speed Limit"
                                    },
                                    {
                                        "name": "severity_level"
                                    }
                                ]
                            },
                            "data": [
                                {
                                    "Speed Limit": "25",
                                    "severity_level": "Low"
                                },
                                {
                                    "Speed Limit": "40",
                                    "severity_level": "Medium"
                                },
                                {
                                    "Speed Limit": "35",
                                    "severity_level": "Medium"
                                },
                                {
                                    "Speed Limit": "40",
                                    "severity_level": "Medium"
                                },
                                {
                                    "Speed Limit": "45",
                                    "severity_level": "Medium"
                                },
                                {
                                    "Speed Limit": "30",
                                    "severity_level": "Medium"
                                },
                                {
                                    "Speed Limit": "35",
                                    "severity_level": "Medium"
                                },
                                {
                                    "Speed Limit": "50",
                                    "severity_level": "Medium"
                                },
                                {
                                    "Speed Limit": "40",
                                    "severity_level": "Medium"
                                },
                                {
                                    "Speed Limit": "50",
                                    "severity_level": "Medium"
                                },
                                {
                                    "Speed Limit": "35",
                                    "severity_level": "Medium"
                                },
                                {
                                    "Speed Limit": "30",
                                    "severity_level": "Medium"
                                },
                                {
                                    "Speed Limit": "35",
                                    "severity_level": "Medium"
                                },
                                {
                                    "Speed Limit": "15",
                                    "severity_level": "Low"
                                },
                                {
                                    "Speed Limit": "35",
                                    "severity_level": "Medium"
                                },
                                {
                                    "Speed Limit": "35",
                                    "severity_level": "Medium"
                                },
                                {
                                    "Speed Limit": "15",
                                    "severity_level": "Low"
                                },
                                {
                                    "Speed Limit": "40",
                                    "severity_level": "Medium"
                                },
                                {
                                    "Speed Limit": "40",
                                    "severity_level": "Medium"
                                },
                                {
                                    "Speed Limit": "5",
                                    "severity_level": "Low"
                                }
                            ]
                        },
                        "text/html": "<table><tr><th>Speed Limit</th><th>severity_level</th></tr><tr><td>25</td><td>Low</td></tr><tr><td>40</td><td>Medium</td></tr><tr><td>35</td><td>Medium</td></tr><tr><td>40</td><td>Medium</td></tr><tr><td>45</td><td>Medium</td></tr><tr><td>30</td><td>Medium</td></tr><tr><td>35</td><td>Medium</td></tr><tr><td>50</td><td>Medium</td></tr><tr><td>40</td><td>Medium</td></tr><tr><td>50</td><td>Medium</td></tr><tr><td>35</td><td>Medium</td></tr><tr><td>30</td><td>Medium</td></tr><tr><td>35</td><td>Medium</td></tr><tr><td>15</td><td>Low</td></tr><tr><td>35</td><td>Medium</td></tr><tr><td>35</td><td>Medium</td></tr><tr><td>15</td><td>Low</td></tr><tr><td>40</td><td>Medium</td></tr><tr><td>40</td><td>Medium</td></tr><tr><td>5</td><td>Low</td></tr></table>"
                    },
                    "metadata": {}
                }
            ],
            "execution_count": 63
        },
        {
            "cell_type": "markdown",
            "source": [
                "**Calculate the average and maximum speed limit by hour of the day.**"
            ],
            "metadata": {
                "azdata_cell_guid": "47519cb4-1418-4c05-a50b-7e11a330b852"
            },
            "attachments": {}
        },
        {
            "cell_type": "code",
            "source": [
                "SELECT EXTRACT(HOUR FROM TO_TIMESTAMP(\"Crash Date/Time\",'MM-DD-YYYY HH24:MI:SS')) AS Hourofday,\r\n",
                "    AVG(\"Speed Limit\") as Average_SpeedLimit,\r\n",
                "    MAX(\"Speed Limit\") as Max_SpeedLimit\r\n",
                "FROM Crash_Reporting\r\n",
                "GROUP BY Hourofday\r\n",
                "ORDER by Hourofday;"
            ],
            "metadata": {
                "azdata_cell_guid": "99da7cdf-2d12-4a7c-9d73-9e871dca74eb",
                "language": "sql"
            },
            "outputs": [
                {
                    "output_type": "display_data",
                    "data": {
                        "text/html": "(12 row(s) affected)"
                    },
                    "metadata": {}
                },
                {
                    "output_type": "display_data",
                    "data": {
                        "text/html": "Total execution time: 00:00:01.043"
                    },
                    "metadata": {}
                },
                {
                    "output_type": "execute_result",
                    "metadata": {},
                    "execution_count": 29,
                    "data": {
                        "application/vnd.dataresource+json": {
                            "schema": {
                                "fields": [
                                    {
                                        "name": "hourofday"
                                    },
                                    {
                                        "name": "average_speedlimit"
                                    },
                                    {
                                        "name": "max_speedlimit"
                                    }
                                ]
                            },
                            "data": [
                                {
                                    "hourofday": "1",
                                    "average_speedlimit": "31.5173590875031221",
                                    "max_speedlimit": "65"
                                },
                                {
                                    "hourofday": "2",
                                    "average_speedlimit": "31.6261629772216875",
                                    "max_speedlimit": "65"
                                },
                                {
                                    "hourofday": "3",
                                    "average_speedlimit": "32.1199864038069341",
                                    "max_speedlimit": "75"
                                },
                                {
                                    "hourofday": "4",
                                    "average_speedlimit": "32.4483875320469572",
                                    "max_speedlimit": "70"
                                },
                                {
                                    "hourofday": "5",
                                    "average_speedlimit": "33.4185530130142478",
                                    "max_speedlimit": "70"
                                },
                                {
                                    "hourofday": "6",
                                    "average_speedlimit": "33.6311961371554306",
                                    "max_speedlimit": "65"
                                },
                                {
                                    "hourofday": "7",
                                    "average_speedlimit": "33.3405762590784617",
                                    "max_speedlimit": "70"
                                },
                                {
                                    "hourofday": "8",
                                    "average_speedlimit": "33.1997023809523810",
                                    "max_speedlimit": "70"
                                },
                                {
                                    "hourofday": "9",
                                    "average_speedlimit": "32.8962239063954261",
                                    "max_speedlimit": "70"
                                },
                                {
                                    "hourofday": "10",
                                    "average_speedlimit": "32.3006767910201387",
                                    "max_speedlimit": "65"
                                },
                                {
                                    "hourofday": "11",
                                    "average_speedlimit": "31.5103547784756408",
                                    "max_speedlimit": "65"
                                },
                                {
                                    "hourofday": "12",
                                    "average_speedlimit": "31.4346128822381262",
                                    "max_speedlimit": "65"
                                }
                            ]
                        },
                        "text/html": [
                            "<table>",
                            "<tr><th>hourofday</th><th>average_speedlimit</th><th>max_speedlimit</th></tr>",
                            "<tr><td>1</td><td>31.5173590875031221</td><td>65</td></tr>",
                            "<tr><td>2</td><td>31.6261629772216875</td><td>65</td></tr>",
                            "<tr><td>3</td><td>32.1199864038069341</td><td>75</td></tr>",
                            "<tr><td>4</td><td>32.4483875320469572</td><td>70</td></tr>",
                            "<tr><td>5</td><td>33.4185530130142478</td><td>70</td></tr>",
                            "<tr><td>6</td><td>33.6311961371554306</td><td>65</td></tr>",
                            "<tr><td>7</td><td>33.3405762590784617</td><td>70</td></tr>",
                            "<tr><td>8</td><td>33.1997023809523810</td><td>70</td></tr>",
                            "<tr><td>9</td><td>32.8962239063954261</td><td>70</td></tr>",
                            "<tr><td>10</td><td>32.3006767910201387</td><td>65</td></tr>",
                            "<tr><td>11</td><td>31.5103547784756408</td><td>65</td></tr>",
                            "<tr><td>12</td><td>31.4346128822381262</td><td>65</td></tr>",
                            "</table>"
                        ]
                    }
                }
            ],
            "execution_count": 29
        },
        {
            "cell_type": "markdown",
            "source": [
                "**Calculate Vehicle Make and the model with there Frequency ?**"
            ],
            "metadata": {
                "language": "sql",
                "azdata_cell_guid": "0f731203-66ba-47ae-b7be-18fa2de7e431"
            },
            "attachments": {}
        },
        {
            "cell_type": "code",
            "source": [
                "SELECT \"Vehicle Make\", \"Vehicle Model\", COUNT(*) AS Frequency\r\n",
                "FROM Crash_Reporting\r\n",
                "GROUP BY \"Vehicle Make\", \"Vehicle Model\"\r\n",
                "ORDER BY Frequency DESC\r\n",
                "Limit 15;\r\n",
                ""
            ],
            "metadata": {
                "azdata_cell_guid": "0e80d083-4413-4ee0-b5eb-6b7b3248bcb8",
                "language": "sql"
            },
            "outputs": [
                {
                    "output_type": "display_data",
                    "data": {
                        "text/html": "(15 row(s) affected)"
                    },
                    "metadata": {}
                },
                {
                    "output_type": "display_data",
                    "data": {
                        "text/html": "Total execution time: 00:00:00.225"
                    },
                    "metadata": {}
                },
                {
                    "output_type": "execute_result",
                    "metadata": {},
                    "execution_count": 12,
                    "data": {
                        "application/vnd.dataresource+json": {
                            "schema": {
                                "fields": [
                                    {
                                        "name": "Vehicle Make"
                                    },
                                    {
                                        "name": "Vehicle Model"
                                    },
                                    {
                                        "name": "frequency"
                                    }
                                ]
                            },
                            "data": [
                                {
                                    "Vehicle Make": "TOYOTA",
                                    "Vehicle Model": "CAMRY",
                                    "frequency": "5123"
                                },
                                {
                                    "Vehicle Make": "HONDA",
                                    "Vehicle Model": "CIVIC",
                                    "frequency": "4979"
                                },
                                {
                                    "Vehicle Make": "HONDA",
                                    "Vehicle Model": "ACCORD",
                                    "frequency": "4895"
                                },
                                {
                                    "Vehicle Make": "TOYOTA",
                                    "Vehicle Model": "COROLLA",
                                    "frequency": "4656"
                                },
                                {
                                    "Vehicle Make": "UNKNOWN",
                                    "Vehicle Model": "UNKNOWN",
                                    "frequency": "3646"
                                },
                                {
                                    "Vehicle Make": "TOYT",
                                    "Vehicle Model": "4S",
                                    "frequency": "2466"
                                },
                                {
                                    "Vehicle Make": "HONDA",
                                    "Vehicle Model": "CRV",
                                    "frequency": "2379"
                                },
                                {
                                    "Vehicle Make": "NISSAN",
                                    "Vehicle Model": "ALTIMA",
                                    "frequency": "2175"
                                },
                                {
                                    "Vehicle Make": "TOYOTA",
                                    "Vehicle Model": "RAV4",
                                    "frequency": "2109"
                                },
                                {
                                    "Vehicle Make": "FORD",
                                    "Vehicle Model": "TK",
                                    "frequency": "1912"
                                },
                                {
                                    "Vehicle Make": "HOND",
                                    "Vehicle Model": "4S",
                                    "frequency": "1608"
                                },
                                {
                                    "Vehicle Make": "FORD",
                                    "Vehicle Model": "EXPLORER",
                                    "frequency": "1427"
                                },
                                {
                                    "Vehicle Make": "DODGE",
                                    "Vehicle Model": "CHARGER",
                                    "frequency": "1419"
                                },
                                {
                                    "Vehicle Make": "TOYOTA",
                                    "Vehicle Model": "PRIUS",
                                    "frequency": "1314"
                                },
                                {
                                    "Vehicle Make": "TOYOTA",
                                    "Vehicle Model": "HIGHLANDER",
                                    "frequency": "1260"
                                }
                            ]
                        },
                        "text/html": [
                            "<table>",
                            "<tr><th>Vehicle Make</th><th>Vehicle Model</th><th>frequency</th></tr>",
                            "<tr><td>TOYOTA</td><td>CAMRY</td><td>5123</td></tr>",
                            "<tr><td>HONDA</td><td>CIVIC</td><td>4979</td></tr>",
                            "<tr><td>HONDA</td><td>ACCORD</td><td>4895</td></tr>",
                            "<tr><td>TOYOTA</td><td>COROLLA</td><td>4656</td></tr>",
                            "<tr><td>UNKNOWN</td><td>UNKNOWN</td><td>3646</td></tr>",
                            "<tr><td>TOYT</td><td>4S</td><td>2466</td></tr>",
                            "<tr><td>HONDA</td><td>CRV</td><td>2379</td></tr>",
                            "<tr><td>NISSAN</td><td>ALTIMA</td><td>2175</td></tr>",
                            "<tr><td>TOYOTA</td><td>RAV4</td><td>2109</td></tr>",
                            "<tr><td>FORD</td><td>TK</td><td>1912</td></tr>",
                            "<tr><td>HOND</td><td>4S</td><td>1608</td></tr>",
                            "<tr><td>FORD</td><td>EXPLORER</td><td>1427</td></tr>",
                            "<tr><td>DODGE</td><td>CHARGER</td><td>1419</td></tr>",
                            "<tr><td>TOYOTA</td><td>PRIUS</td><td>1314</td></tr>",
                            "<tr><td>TOYOTA</td><td>HIGHLANDER</td><td>1260</td></tr>",
                            "</table>"
                        ]
                    }
                }
            ],
            "execution_count": 12
        },
        {
            "cell_type": "markdown",
            "source": [
                "## **Insights** \n",
                "\n",
                "**Data Span and Volume:**\n",
                "\n",
                "**Dataset contains 171,420 entries spanning January 1, 2015, to December 20, 2023.**\n",
                "\n",
                "**Peak recorded crashes were in 2016, whereas 2020 noted significantly fewer incidents.**\n",
                "\n",
                "**Municipalities Analysis:**\n",
                "\n",
                "**15,867 null entries in municipality records.**\n",
                "\n",
                "**Brookeville municipality had the lowest crash incidence from 2015 to 2023.**\n",
                "\n",
                "**Collision Types and Crime Categories:**\n",
                "\n",
                "**Rear-end collisions accounted for 55,557 crashes, the most frequent type.**\n",
                "\n",
                "**'Property Damage Crash' dominated at 108,983 instances, contrasting with 423 'Fatal Crash' records.**\n",
                "\n",
                "**Driver Distraction and Weather Impact:**\n",
                "\n",
                "**Driver distraction noted in 106,317 records, ranging from external factors to cellphone use.**\n",
                "\n",
                "**Weather-wise, rainy conditions contributed to 20,478 incidents, while clear weather was dominant at 116,365 crashes. Foggy conditions recorded 668 crashes.**\n",
                "\n",
                "**Vehicle Models and Month-wise Analysis:**\n",
                "\n",
                "**Specific vehicles like Toyota Camry (5,123) and Toyota Corolla (4,656) were highly involved in crashes.**\n",
                "\n",
                "**October experienced the highest crash frequency (16,093), followed closely by December (14,521).**\n",
                "\n",
                "**Incomplete Records and Lighting Conditions:**\n",
                "\n",
                "**1,482 null entries in records, potentially indicating data gaps.**\n",
                "\n",
                "**706 crashes were unassigned to specific counties.**\n",
                "\n",
                "**Majority of crashes occurred in daylight (115,827) compared to low-light conditions (39,287).**"
            ],
            "metadata": {
                "azdata_cell_guid": "1bc9240d-12ec-4ea1-a00d-b8c1dad66d90"
            },
            "attachments": {}
        }
    ]
}