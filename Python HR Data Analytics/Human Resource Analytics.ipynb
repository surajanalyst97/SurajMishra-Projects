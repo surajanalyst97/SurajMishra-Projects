{
 "cells": [
  {
   "cell_type": "code",
   "execution_count": 33,
   "id": "799f894e",
   "metadata": {},
   "outputs": [],
   "source": [
    "import pandas as pd\n",
    "import numpy as np"
   ]
  },
  {
   "cell_type": "code",
   "execution_count": 34,
   "id": "2e384162",
   "metadata": {},
   "outputs": [],
   "source": [
    "df = pd.read_csv(\"HR Data - Capstone Project - Distributions.csv\")"
   ]
  },
  {
   "cell_type": "code",
   "execution_count": 35,
   "id": "e1e045fd",
   "metadata": {},
   "outputs": [
    {
     "data": {
      "text/html": [
       "<div>\n",
       "<style scoped>\n",
       "    .dataframe tbody tr th:only-of-type {\n",
       "        vertical-align: middle;\n",
       "    }\n",
       "\n",
       "    .dataframe tbody tr th {\n",
       "        vertical-align: top;\n",
       "    }\n",
       "\n",
       "    .dataframe thead th {\n",
       "        text-align: right;\n",
       "    }\n",
       "</style>\n",
       "<table border=\"1\" class=\"dataframe\">\n",
       "  <thead>\n",
       "    <tr style=\"text-align: right;\">\n",
       "      <th></th>\n",
       "      <th>EmployeeId</th>\n",
       "      <th>Hrs</th>\n",
       "      <th>Rating</th>\n",
       "      <th>EmployeeSatisfaction</th>\n",
       "    </tr>\n",
       "  </thead>\n",
       "  <tbody>\n",
       "    <tr>\n",
       "      <th>0</th>\n",
       "      <td>E01</td>\n",
       "      <td>12.118051</td>\n",
       "      <td>Excellent</td>\n",
       "      <td>6</td>\n",
       "    </tr>\n",
       "    <tr>\n",
       "      <th>1</th>\n",
       "      <td>E02</td>\n",
       "      <td>13.298281</td>\n",
       "      <td>Excellent</td>\n",
       "      <td>8</td>\n",
       "    </tr>\n",
       "    <tr>\n",
       "      <th>2</th>\n",
       "      <td>E03</td>\n",
       "      <td>13.276334</td>\n",
       "      <td>Excellent</td>\n",
       "      <td>7</td>\n",
       "    </tr>\n",
       "    <tr>\n",
       "      <th>3</th>\n",
       "      <td>E04</td>\n",
       "      <td>10.798173</td>\n",
       "      <td>Excellent</td>\n",
       "      <td>9</td>\n",
       "    </tr>\n",
       "    <tr>\n",
       "      <th>4</th>\n",
       "      <td>E05</td>\n",
       "      <td>11.579172</td>\n",
       "      <td>Excellent</td>\n",
       "      <td>8</td>\n",
       "    </tr>\n",
       "  </tbody>\n",
       "</table>\n",
       "</div>"
      ],
      "text/plain": [
       "  EmployeeId        Hrs     Rating  EmployeeSatisfaction\n",
       "0        E01  12.118051  Excellent                     6\n",
       "1        E02  13.298281  Excellent                     8\n",
       "2        E03  13.276334  Excellent                     7\n",
       "3        E04  10.798173  Excellent                     9\n",
       "4        E05  11.579172  Excellent                     8"
      ]
     },
     "execution_count": 35,
     "metadata": {},
     "output_type": "execute_result"
    }
   ],
   "source": [
    "df.head()"
   ]
  },
  {
   "cell_type": "code",
   "execution_count": 36,
   "id": "20615cdb",
   "metadata": {},
   "outputs": [
    {
     "data": {
      "text/html": [
       "<div>\n",
       "<style scoped>\n",
       "    .dataframe tbody tr th:only-of-type {\n",
       "        vertical-align: middle;\n",
       "    }\n",
       "\n",
       "    .dataframe tbody tr th {\n",
       "        vertical-align: top;\n",
       "    }\n",
       "\n",
       "    .dataframe thead th {\n",
       "        text-align: right;\n",
       "    }\n",
       "</style>\n",
       "<table border=\"1\" class=\"dataframe\">\n",
       "  <thead>\n",
       "    <tr style=\"text-align: right;\">\n",
       "      <th></th>\n",
       "      <th>EmployeeId</th>\n",
       "      <th>Hrs</th>\n",
       "      <th>Rating</th>\n",
       "      <th>EmployeeSatisfaction</th>\n",
       "    </tr>\n",
       "  </thead>\n",
       "  <tbody>\n",
       "    <tr>\n",
       "      <th>0</th>\n",
       "      <td>E01</td>\n",
       "      <td>12.118051</td>\n",
       "      <td>Excellent</td>\n",
       "      <td>6</td>\n",
       "    </tr>\n",
       "    <tr>\n",
       "      <th>1</th>\n",
       "      <td>E02</td>\n",
       "      <td>13.298281</td>\n",
       "      <td>Excellent</td>\n",
       "      <td>8</td>\n",
       "    </tr>\n",
       "    <tr>\n",
       "      <th>2</th>\n",
       "      <td>E03</td>\n",
       "      <td>13.276334</td>\n",
       "      <td>Excellent</td>\n",
       "      <td>7</td>\n",
       "    </tr>\n",
       "    <tr>\n",
       "      <th>3</th>\n",
       "      <td>E04</td>\n",
       "      <td>10.798173</td>\n",
       "      <td>Excellent</td>\n",
       "      <td>9</td>\n",
       "    </tr>\n",
       "    <tr>\n",
       "      <th>4</th>\n",
       "      <td>E05</td>\n",
       "      <td>11.579172</td>\n",
       "      <td>Excellent</td>\n",
       "      <td>8</td>\n",
       "    </tr>\n",
       "    <tr>\n",
       "      <th>5</th>\n",
       "      <td>E06</td>\n",
       "      <td>13.835646</td>\n",
       "      <td>Outstanding</td>\n",
       "      <td>7</td>\n",
       "    </tr>\n",
       "    <tr>\n",
       "      <th>6</th>\n",
       "      <td>E07</td>\n",
       "      <td>13.673691</td>\n",
       "      <td>Outstanding</td>\n",
       "      <td>7</td>\n",
       "    </tr>\n",
       "    <tr>\n",
       "      <th>7</th>\n",
       "      <td>E08</td>\n",
       "      <td>8.031467</td>\n",
       "      <td>Unsatisfactory</td>\n",
       "      <td>6</td>\n",
       "    </tr>\n",
       "    <tr>\n",
       "      <th>8</th>\n",
       "      <td>E09</td>\n",
       "      <td>9.304839</td>\n",
       "      <td>Excellent</td>\n",
       "      <td>7</td>\n",
       "    </tr>\n",
       "    <tr>\n",
       "      <th>9</th>\n",
       "      <td>E10</td>\n",
       "      <td>13.429567</td>\n",
       "      <td>Excellent</td>\n",
       "      <td>6</td>\n",
       "    </tr>\n",
       "  </tbody>\n",
       "</table>\n",
       "</div>"
      ],
      "text/plain": [
       "  EmployeeId        Hrs          Rating  EmployeeSatisfaction\n",
       "0        E01  12.118051       Excellent                     6\n",
       "1        E02  13.298281       Excellent                     8\n",
       "2        E03  13.276334       Excellent                     7\n",
       "3        E04  10.798173       Excellent                     9\n",
       "4        E05  11.579172       Excellent                     8\n",
       "5        E06  13.835646     Outstanding                     7\n",
       "6        E07  13.673691     Outstanding                     7\n",
       "7        E08   8.031467  Unsatisfactory                     6\n",
       "8        E09   9.304839       Excellent                     7\n",
       "9        E10  13.429567       Excellent                     6"
      ]
     },
     "execution_count": 36,
     "metadata": {},
     "output_type": "execute_result"
    }
   ],
   "source": [
    "df.head(10)"
   ]
  },
  {
   "cell_type": "code",
   "execution_count": 37,
   "id": "67fce578",
   "metadata": {},
   "outputs": [
    {
     "data": {
      "text/plain": [
       "(500, 4)"
      ]
     },
     "execution_count": 37,
     "metadata": {},
     "output_type": "execute_result"
    }
   ],
   "source": [
    "#How many observations are there in the dataset?\n",
    "# 0 will show number of rows and 1 will show columns:\n",
    "df.shape"
   ]
  },
  {
   "cell_type": "code",
   "execution_count": 38,
   "id": "d27805b7",
   "metadata": {},
   "outputs": [
    {
     "data": {
      "text/plain": [
       "EmployeeId              0\n",
       "Hrs                     8\n",
       "Rating                  0\n",
       "EmployeeSatisfaction    0\n",
       "dtype: int64"
      ]
     },
     "execution_count": 38,
     "metadata": {},
     "output_type": "execute_result"
    }
   ],
   "source": [
    "#How many variables have missing values?\n",
    "df.isnull().sum()"
   ]
  },
  {
   "cell_type": "code",
   "execution_count": 39,
   "id": "0f1f2a56",
   "metadata": {},
   "outputs": [
    {
     "data": {
      "text/plain": [
       "11.309992252833334"
      ]
     },
     "execution_count": 39,
     "metadata": {},
     "output_type": "execute_result"
    }
   ],
   "source": [
    "#What is the average value for the Hrs variable? Round it off to 2 decimal places.\n",
    "df['Hrs'].mean()"
   ]
  },
  {
   "cell_type": "code",
   "execution_count": 40,
   "id": "7110270d",
   "metadata": {},
   "outputs": [
    {
     "data": {
      "text/plain": [
       "EmployeeId              500\n",
       "Hrs                     492\n",
       "Rating                    6\n",
       "EmployeeSatisfaction      4\n",
       "dtype: int64"
      ]
     },
     "execution_count": 40,
     "metadata": {},
     "output_type": "execute_result"
    }
   ],
   "source": [
    "#What is the cardinality of the Rating variable in the dataset?\n",
    "df.nunique()"
   ]
  },
  {
   "cell_type": "code",
   "execution_count": 41,
   "id": "7e3e35c0",
   "metadata": {},
   "outputs": [
    {
     "data": {
      "text/plain": [
       "0    Excellent\n",
       "Name: Rating, dtype: object"
      ]
     },
     "execution_count": 41,
     "metadata": {},
     "output_type": "execute_result"
    }
   ],
   "source": [
    "#Calculate the mode of the employee performance in the rating column\n",
    "df['Rating'].mode()"
   ]
  },
  {
   "cell_type": "code",
   "execution_count": 42,
   "id": "b03c390d",
   "metadata": {},
   "outputs": [],
   "source": [
    "df['Rating'] = df['Rating'].replace({'Un satisfactory': 'Unsatisfactory', 'satisfactory': 'Satisfactory'})"
   ]
  },
  {
   "cell_type": "code",
   "execution_count": 43,
   "id": "ed89ec4d",
   "metadata": {},
   "outputs": [
    {
     "name": "stdout",
     "output_type": "stream",
     "text": [
      "Min_hrs: 0.091720323\n",
      "Max_hrs: 8.489765491\n",
      "Range: 8.398045168\n"
     ]
    }
   ],
   "source": [
    "#Calculate the range of hours the employee is working for in case of unsatisfactory rating.\n",
    "unsatisfactory_data = df[df['Rating'] == 'Unsatisfactory']\n",
    "min_hrs = unsatisfactory_data['Hrs'].min()\n",
    "max_hrs = unsatisfactory_data['Hrs'].max()\n",
    "\n",
    "print(\"Min_hrs:\",min_hrs)\n",
    "print(\"Max_hrs:\",max_hrs)\n",
    "\n",
    "# Calculate the range\n",
    "hours_range = max_hrs - min_hrs\n",
    "\n",
    "print(\"Range:\",hours_range)"
   ]
  },
  {
   "cell_type": "code",
   "execution_count": 56,
   "id": "30d0f783",
   "metadata": {},
   "outputs": [
    {
     "data": {
      "text/html": [
       "<div>\n",
       "<style scoped>\n",
       "    .dataframe tbody tr th:only-of-type {\n",
       "        vertical-align: middle;\n",
       "    }\n",
       "\n",
       "    .dataframe tbody tr th {\n",
       "        vertical-align: top;\n",
       "    }\n",
       "\n",
       "    .dataframe thead th {\n",
       "        text-align: right;\n",
       "    }\n",
       "</style>\n",
       "<table border=\"1\" class=\"dataframe\">\n",
       "  <thead>\n",
       "    <tr style=\"text-align: right;\">\n",
       "      <th></th>\n",
       "      <th>Hrs</th>\n",
       "      <th>EmployeeSatisfaction</th>\n",
       "    </tr>\n",
       "  </thead>\n",
       "  <tbody>\n",
       "    <tr>\n",
       "      <th>count</th>\n",
       "      <td>492.000000</td>\n",
       "      <td>500.000000</td>\n",
       "    </tr>\n",
       "    <tr>\n",
       "      <th>mean</th>\n",
       "      <td>11.309992</td>\n",
       "      <td>7.240000</td>\n",
       "    </tr>\n",
       "    <tr>\n",
       "      <th>std</th>\n",
       "      <td>5.266512</td>\n",
       "      <td>1.006193</td>\n",
       "    </tr>\n",
       "    <tr>\n",
       "      <th>min</th>\n",
       "      <td>0.091720</td>\n",
       "      <td>6.000000</td>\n",
       "    </tr>\n",
       "    <tr>\n",
       "      <th>25%</th>\n",
       "      <td>9.711867</td>\n",
       "      <td>6.000000</td>\n",
       "    </tr>\n",
       "    <tr>\n",
       "      <th>50%</th>\n",
       "      <td>11.204755</td>\n",
       "      <td>7.000000</td>\n",
       "    </tr>\n",
       "    <tr>\n",
       "      <th>75%</th>\n",
       "      <td>12.617792</td>\n",
       "      <td>8.000000</td>\n",
       "    </tr>\n",
       "    <tr>\n",
       "      <th>max</th>\n",
       "      <td>120.398464</td>\n",
       "      <td>9.000000</td>\n",
       "    </tr>\n",
       "  </tbody>\n",
       "</table>\n",
       "</div>"
      ],
      "text/plain": [
       "              Hrs  EmployeeSatisfaction\n",
       "count  492.000000            500.000000\n",
       "mean    11.309992              7.240000\n",
       "std      5.266512              1.006193\n",
       "min      0.091720              6.000000\n",
       "25%      9.711867              6.000000\n",
       "50%     11.204755              7.000000\n",
       "75%     12.617792              8.000000\n",
       "max    120.398464              9.000000"
      ]
     },
     "execution_count": 56,
     "metadata": {},
     "output_type": "execute_result"
    }
   ],
   "source": [
    "df.describe()"
   ]
  },
  {
   "cell_type": "code",
   "execution_count": 44,
   "id": "51b57543",
   "metadata": {},
   "outputs": [
    {
     "data": {
      "image/png": "[encoded data removed]",
      "text/plain": [
       "<Figure size 600x500 with 1 Axes>"
      ]
     },
     "metadata": {},
     "output_type": "display_data"
    }
   ],
   "source": [
    "#Here's how you can create a histogram and a boxplot to visualize the distribution of the 'Hrs' variable and identify outliers\n",
    "\n",
    "import matplotlib.pyplot as plt\n",
    "import seaborn as sns\n",
    "\n",
    "#plotting histogram\n",
    "\n",
    "plt.figure(figsize=(6,5))\n",
    "sns.histplot(df[\"Hrs\"],bins=30,kde = \"True\" , color = \"skyblue\")\n",
    "plt.title(\"Distribution of hours worked\")\n",
    "plt.xlabel(\"Hours\")\n",
    "plt.ylabel(\"Distribution\")\n",
    "plt.show()\n"
   ]
  },
  {
   "cell_type": "code",
   "execution_count": 45,
   "id": "97ea79eb",
   "metadata": {},
   "outputs": [
    {
     "data": {
      "image/png": "[encoded data removed]",
      "text/plain": [
       "<Figure size 600x500 with 1 Axes>"
      ]
     },
     "metadata": {},
     "output_type": "display_data"
    }
   ],
   "source": [
    "#plotting boxplot\n",
    "plt.figure(figsize=(6,5))\n",
    "sns.boxplot(x=df['Hrs'] , color = \"skyblue\")\n",
    "plt.title('Boxplot of Hrs')\n",
    "plt.xlabel('Hrs')\n",
    "plt.show()\n",
    "\n",
    "\n",
    "#charts shows outlier on both the side"
   ]
  },
  {
   "cell_type": "code",
   "execution_count": 46,
   "id": "f9595183",
   "metadata": {},
   "outputs": [
    {
     "data": {
      "image/png": "[encoded data removed]",
      "text/plain": [
       "<Figure size 1000x500 with 1 Axes>"
      ]
     },
     "metadata": {},
     "output_type": "display_data"
    }
   ],
   "source": [
    "#Creat a frequency plot of rating\n",
    "plt.figure(figsize=(10,5))\n",
    "sns.countplot(x=\"Rating\", data=df , palette = \"viridis\")\n",
    "plt.title('Frequency Plot of Rating')\n",
    "plt.ylabel('Count')\n",
    "plt.xlabel(\"Rating\")\n",
    "plt.show()"
   ]
  },
  {
   "cell_type": "code",
   "execution_count": 47,
   "id": "dfac8fdc",
   "metadata": {},
   "outputs": [],
   "source": [
    "\n",
    "#Also, we can see that the majority of employees are giving 6 or 7 satisfaction scores which means that the majority of employees aren’t that happy due to lower work life balance. \n",
    "#Therefore, our major focus should be towards increasing the work life balance of the employees rather than rewarding the higher number of work hours from the employees."
   ]
  },
  {
   "cell_type": "code",
   "execution_count": 48,
   "id": "efeec115",
   "metadata": {},
   "outputs": [
    {
     "data": {
      "image/png": "[encoded data removed]",
      "text/plain": [
       "<Figure size 800x600 with 1 Axes>"
      ]
     },
     "metadata": {},
     "output_type": "display_data"
    }
   ],
   "source": [
    "#calculate the average number of hours an employee is dedicating with respect to their satisfaction score and see if you can confirm the work life balance theory by this analysis.\n",
    "\n",
    "# Bivariate analysis: Average number of hours vs Satisfaction score\n",
    "average_hours_by_rating = df.groupby('Rating')['Hrs'].mean().reset_index()\n",
    "\n",
    "#Plotting\n",
    "plt.figure(figsize=(8,6))\n",
    "sns.barplot(x='Rating',y='Hrs',data=average_hours_by_rating,palette = \"muted\")\n",
    "plt.title('Average hrs vs Satisfaction Score')\n",
    "plt.xlabel('Satisfaction Score')\n",
    "plt.ylabel('Average Hours')\n",
    "plt.show()\n",
    "\n",
    "\n"
   ]
  },
  {
   "cell_type": "code",
   "execution_count": 49,
   "id": "4cba716c",
   "metadata": {},
   "outputs": [
    {
     "name": "stdout",
     "output_type": "stream",
     "text": [
      "Rating\n",
      "Outstanding       13.739970\n",
      "Excellent         11.664907\n",
      "Satisfactory       8.786688\n",
      "Unsatisfactory     7.895444\n",
      "Name: Hrs, dtype: float64\n"
     ]
    }
   ],
   "source": [
    "#Which rating has the highest number of average working hours?\n",
    "\n",
    "#mean hours for each rating \n",
    "average_hours_by_Rating = df.groupby('Rating')['Hrs'].mean().sort_values(ascending= False)\n",
    "\n",
    "print(average_hours_by_Rating)"
   ]
  },
  {
   "cell_type": "code",
   "execution_count": 50,
   "id": "4d36fedc",
   "metadata": {},
   "outputs": [
    {
     "name": "stdout",
     "output_type": "stream",
     "text": [
      "Lower Cutoff :5.35 , Upper Cutoff:16.98\n"
     ]
    }
   ],
   "source": [
    "#Identify the correct upper and lower cut off within Hrs using IQR rule to exclude the outliers\n",
    "import numpy as np\n",
    "\n",
    "#calculate the first quartile(Q1) and third quartile(Q3)\n",
    "Q1 = df['Hrs'].quantile(0.25)\n",
    "Q3 = df['Hrs'].quantile(0.75)\n",
    "\n",
    "#calculate the Interquantile Range(IQR)\n",
    "IQR = Q3 - Q1\n",
    "\n",
    "#Define lower and upper cutoff\n",
    "lower_cutoff = Q1 - 1.5 * IQR\n",
    "upper_cutoff = Q3 + 1.5 * IQR\n",
    "\n",
    "#Round of 2 decimal places \n",
    "lower_cutoff = round(lower_cutoff,2)\n",
    "upper_cutoff = round(upper_cutoff,2)\n",
    "\n",
    "print(f'Lower Cutoff :{lower_cutoff} , Upper Cutoff:{upper_cutoff}')"
   ]
  },
  {
   "cell_type": "code",
   "execution_count": 51,
   "id": "2cd8f05b",
   "metadata": {},
   "outputs": [
    {
     "name": "stdout",
     "output_type": "stream",
     "text": [
      "Mean value after treating outliers: 11.130160642118609\n"
     ]
    }
   ],
   "source": [
    "# Filter the DataFrame to exclude outliers\n",
    "filtered_df = df[(df['Hrs'] >= lower_cutoff) & (df['Hrs'] <= upper_cutoff)]\n",
    "\n",
    "# Calculate the mean value after treatment\n",
    "mean_after_treatment = filtered_df['Hrs'].mean()\n",
    "\n",
    "# Display the result\n",
    "print(f'Mean value after treating outliers: {mean_after_treatment}')"
   ]
  },
  {
   "cell_type": "code",
   "execution_count": 52,
   "id": "fa33e086",
   "metadata": {},
   "outputs": [
    {
     "name": "stdout",
     "output_type": "stream",
     "text": [
      "Rating_probabilities\n",
      "Excellent         74.2\n",
      "Outstanding        9.4\n",
      "Unsatisfactory     9.4\n",
      "Satisfactory       7.0\n",
      "Name: Rating, dtype: float64\n"
     ]
    }
   ],
   "source": [
    "#To identify the probabilities for each rating within the \"Rating\" variable\n",
    "\n",
    "rating_probabilities = df['Rating'].value_counts(normalize = True)*100\n",
    "\n",
    "print(\"Rating_probabilities\")\n",
    "print(rating_probabilities)"
   ]
  },
  {
   "cell_type": "code",
   "execution_count": 54,
   "id": "ea335f87",
   "metadata": {},
   "outputs": [
    {
     "name": "stdout",
     "output_type": "stream",
     "text": [
      "Binomial Distribution is: 0.18\n"
     ]
    }
   ],
   "source": [
    "#Please calculate the probability that 2 out of a sample of 10 employees are rated as outstanding. Round it off to 2 decimal places. \n",
    "\n",
    "# Probability of getting an outstanding rating\n",
    "p_outstanding = rating_probabilities['Outstanding'] / 100\n",
    "\n",
    "from scipy.special import comb\n",
    "\n",
    "#Binomial Distribution \n",
    "\n",
    "n_trials = 10\n",
    "k_success = 2\n",
    "\n",
    "#Binomial Coeffecient \n",
    "binomial_coeffecient = comb(n_trials,k_success)\n",
    "\n",
    "#Binomial Probability\n",
    "binomial_probability = binomial_coeffecient * (p_outstanding ** k_success) * ((1 - p_outstanding)**(n_trials - k_success))\n",
    "\n",
    "Binomial_probability_round = round(binomial_probability,2)\n",
    "\n",
    "print(\"Binomial Distribution is:\",Binomial_probability_round)"
   ]
  },
  {
   "cell_type": "code",
   "execution_count": 32,
   "id": "578449e8",
   "metadata": {},
   "outputs": [
    {
     "name": "stdout",
     "output_type": "stream",
     "text": [
      "Probability that at least 3 out of sample of 10 employees is : 0.06\n"
     ]
    }
   ],
   "source": [
    "#calculate the probability that at least 3 out of a sample of 10 employees are rated as outstanding. Round it off to 2 decimal places.\n",
    "from scipy.stats import binom\n",
    "\n",
    "#at least 3 samples out of 10 using the binomial probability mass function (PMF) for this calculation\n",
    "\n",
    "n_trials2 = 10\n",
    "k_atleast = 3\n",
    "\n",
    "#probability of at least 3 outstanding ratings\n",
    "probability_of_rating3 = 1 - binom.cdf(k_atleast - 1,n_trials2,p_outstanding)\n",
    "\n",
    "Probability_round=round(probability_of_rating3,2)\n",
    "\n",
    "print(\"Probability that at least 3 out of sample of 10 employees is :\",Probability_round)"
   ]
  },
  {
   "cell_type": "code",
   "execution_count": 55,
   "id": "642f3c29",
   "metadata": {},
   "outputs": [
    {
     "name": "stdout",
     "output_type": "stream",
     "text": [
      "0.76\n"
     ]
    }
   ],
   "source": [
    "#at least 7 out of a sample of 10 employees are rated as outstanding or Excellent\n",
    "\n",
    "p_excellent = rating_probabilities['Excellent'] / 100\n",
    "\n",
    "n_trials3 = 10\n",
    "k_atleast = 7\n",
    "\n",
    "#Calculate distribution using binomial distribution \n",
    "probability_outstanding = 1 - binom.cdf(k_atleast - 1,n_trials3,p_outstanding)\n",
    "probability_excellent = 1 - binom.cdf(k_atleast - 1,n_trials3,p_excellent)\n",
    "\n",
    "#Add up the probability of both the ratings]\n",
    "\n",
    "probability_rating7 = probability_outstanding + probability_excellent\n",
    "\n",
    "probability_round2 = round(probability_rating7,2)\n",
    "print(probability_round2)\n"
   ]
  },
  {
   "cell_type": "code",
   "execution_count": 30,
   "id": "3f5c7d50",
   "metadata": {},
   "outputs": [
    {
     "name": "stdout",
     "output_type": "stream",
     "text": [
      "Probability that None of the trainees are rated as Unsatisfactory: 0.37\n"
     ]
    }
   ],
   "source": [
    "#calculate the probability that None of the trainees are rated as Unsatisfactory\n",
    "\n",
    "n_trainees = 10\n",
    "p_unsatisfactory = rating_probabilities['Unsatisfactory'] / 100\n",
    "\n",
    "#probability using the complement rule\n",
    "\n",
    "probability_none_unsatisfactory = (1-p_unsatisfactory) ** n_trainees\n",
    "\n",
    "probability_none_unsatisfactory_round = round(probability_none_unsatisfactory,2)\n",
    "\n",
    "print(\"Probability that None of the trainees are rated as Unsatisfactory:\",probability_none_unsatisfactory_round)"
   ]
  },
  {
   "cell_type": "code",
   "execution_count": 29,
   "id": "dc0a9dfe",
   "metadata": {},
   "outputs": [
    {
     "name": "stdout",
     "output_type": "stream",
     "text": [
      "0.33096054563600164\n"
     ]
    }
   ],
   "source": [
    "from scipy.stats import norm\n",
    "\n",
    "# what’s the probability that an employee will provide less than 9 hrs of service?\n",
    "mean_hrs = 11.30\n",
    "std_dev_hrs = 5.26\n",
    "\n",
    "x = 9\n",
    "\n",
    "# Calculate the probability using the normal distribution CDF\n",
    "probability_less_than_9_hrs = norm.cdf(x, loc=mean_hrs, scale=std_dev_hrs)\n",
    "\n",
    "print(probability_less_than_9_hrs)"
   ]
  },
  {
   "cell_type": "code",
   "execution_count": null,
   "id": "ef6b3114",
   "metadata": {},
   "outputs": [],
   "source": []
  }
 ],
 "metadata": {
  "kernelspec": {
   "display_name": "Python 3 (ipykernel)",
   "language": "python",
   "name": "python3"
  },
  "language_info": {
   "codemirror_mode": {
    "name": "ipython",
    "version": 3
   },
   "file_extension": ".py",
   "mimetype": "text/x-python",
   "name": "python",
   "nbconvert_exporter": "python",
   "pygments_lexer": "ipython3",
   "version": "3.11.4"
  }
 },
 "nbformat": 4,
 "nbformat_minor": 5
}
