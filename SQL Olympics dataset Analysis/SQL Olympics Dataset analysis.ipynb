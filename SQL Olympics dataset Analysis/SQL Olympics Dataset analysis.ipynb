{
    "metadata": {
        "kernelspec": {
            "name": "SQL",
            "display_name": "SQL",
            "language": "sql"
        },
        "language_info": {
            "name": "sql",
            "version": ""
        }
    },
    "nbformat_minor": 2,
    "nbformat": 4,
    "cells": [
        {
            "cell_type": "markdown",
            "source": [
                "**Olympics Dataset**\n",
                "\n",
                "Winter and Summer Games were held in the same year up until 1992. After that, they staggered them such that Winter Games occur on a four year cycle starting with 1994, then Summer in 1996, then Winter in 1998, and so on. A common mistake people make when analyzing this data is to assume that the Summer and Winter Games have always been staggered.\n",
                "\n",
                "### Content\n",
                "\n",
                "The file athlete\\_events.csv contains 271116 rows and 15 columns. Each row corresponds to an individual athlete competing in an individual Olympic event (athlete-events). The columns are:\n",
                "\n",
                "1. <span style=\"border: 0px; font-family: inherit; font-style: inherit; font-variant: inherit; font-weight: 700; margin: 0px; padding: 0px; vertical-align: baseline;\">ID</span> - Unique number for each athlete\n",
                "2. <span style=\"border: 0px; font-family: inherit; font-style: inherit; font-variant: inherit; font-weight: 700; margin: 0px; padding: 0px; vertical-align: baseline;\">Name</span> - Athlete's name\n",
                "3. <span style=\"border: 0px; font-family: inherit; font-style: inherit; font-variant: inherit; font-weight: 700; margin: 0px; padding: 0px; vertical-align: baseline;\">Sex</span> - M or F\n",
                "4. <span style=\"border: 0px; font-family: inherit; font-style: inherit; font-variant: inherit; font-weight: 700; margin: 0px; padding: 0px; vertical-align: baseline;\">Age</span> - Integer\n",
                "5. <span style=\"border: 0px; font-family: inherit; font-style: inherit; font-variant: inherit; font-weight: 700; margin: 0px; padding: 0px; vertical-align: baseline;\">Height</span> - In centimeters\n",
                "6. <span style=\"border: 0px; font-family: inherit; font-style: inherit; font-variant: inherit; font-weight: 700; margin: 0px; padding: 0px; vertical-align: baseline;\">Weight</span> - In kilograms\n",
                "7. <span style=\"border: 0px; font-family: inherit; font-style: inherit; font-variant: inherit; font-weight: 700; margin: 0px; padding: 0px; vertical-align: baseline;\">Team</span> - Team name\n",
                "8. <span style=\"border: 0px; font-family: inherit; font-style: inherit; font-variant: inherit; font-weight: 700; margin: 0px; padding: 0px; vertical-align: baseline;\">NOC</span> - National Olympic Committee 3-letter code\n",
                "9. <span style=\"border: 0px; font-family: inherit; font-style: inherit; font-variant: inherit; font-weight: 700; margin: 0px; padding: 0px; vertical-align: baseline;\">Games</span> - Year and season\n",
                "10. <span style=\"border: 0px; font-family: inherit; font-style: inherit; font-variant: inherit; font-weight: 700; margin: 0px; padding: 0px; vertical-align: baseline;\">Year</span> - Integer\n",
                "11. <span style=\"border: 0px; font-family: inherit; font-style: inherit; font-variant: inherit; font-weight: 700; margin: 0px; padding: 0px; vertical-align: baseline;\">Season</span> - Summer or Winter\n",
                "12. <span style=\"border: 0px; font-family: inherit; font-style: inherit; font-variant: inherit; font-weight: 700; margin: 0px; padding: 0px; vertical-align: baseline;\">City</span> - Host city\n",
                "13. <span style=\"border: 0px; font-family: inherit; font-style: inherit; font-variant: inherit; font-weight: 700; margin: 0px; padding: 0px; vertical-align: baseline;\">Sport</span> - Sport\n",
                "14. <span style=\"border: 0px; font-family: inherit; font-style: inherit; font-variant: inherit; font-weight: 700; margin: 0px; padding: 0px; vertical-align: baseline;\">Event</span> - Event\n",
                "15. <span style=\"border: 0px; font-family: inherit; font-style: inherit; font-variant: inherit; font-weight: 700; margin: 0px; padding: 0px; vertical-align: baseline;\">Medal</span> - Gold, Silver, Bronze, or NA"
            ],
            "metadata": {
                "azdata_cell_guid": "7fcfac1b-7092-4f2d-bd07-ce6b52c3692d"
            },
            "attachments": {}
        },
        {
            "cell_type": "markdown",
            "source": [
                "**Importing the Data into PostgreSQL**"
            ],
            "metadata": {
                "azdata_cell_guid": "914c34d4-09eb-496d-a2ec-23e99b44c520"
            },
            "attachments": {}
        },
        {
            "cell_type": "code",
            "source": [
                "CREATE TABLE IF NOT EXISTS OLYMPIC_HISTORY\r\n",
                "(\r\n",
                "\tid INT,\r\n",
                "\tname VARCHAR,\r\n",
                "\tsex VARCHAR,\r\n",
                "\tage VARCHAR,\r\n",
                "\theight VARCHAR,\r\n",
                "\tweight VARCHAR,\r\n",
                "\tteam VARCHAR,\r\n",
                "\tnoc VARCHAR,\r\n",
                "\tgames VARCHAR,\r\n",
                "\tyear VARCHAR,\r\n",
                "\tseason VARCHAR,\r\n",
                "\tcity VARCHAR,\r\n",
                "\tsport VARCHAR,\r\n",
                "\tevent VARCHAR,\r\n",
                "\tmedal VARCHAR\r\n",
                ");\r\n",
                "\r\n",
                "CREATE TABLE IF NOT EXISTS OLYMPIC_HISTORY_NOC_REGIONS\r\n",
                "(\r\n",
                "\tnoc VARCHAR,\r\n",
                "\tregion VARCHAR,\r\n",
                "\tnotes VARCHAR\r\n",
                ");\r\n",
                "\r\n",
                "----Although I have created table as Olympics_History and Olympics_History_noc_Regions ,so further I am using this only"
            ],
            "metadata": {
                "azdata_cell_guid": "056deeb9-0c7b-4dbe-bc98-abd417989592",
                "language": "sql"
            },
            "outputs": [],
            "execution_count": null
        },
        {
            "cell_type": "markdown",
            "source": [
                "1. #### How many olympics games have been held?"
            ],
            "metadata": {
                "language": "sql",
                "azdata_cell_guid": "03d1e398-a8f8-4441-8560-2459e2ccbc3a"
            },
            "attachments": {}
        },
        {
            "cell_type": "code",
            "source": [
                "Select COUNT(DISTINCT(games)) as Total_Olympic_Games\r\n",
                "FROM olympic_history;"
            ],
            "metadata": {
                "language": "sql",
                "azdata_cell_guid": "e28074c6-ba1a-4c94-8201-151859fa6a2d"
            },
            "outputs": [
                {
                    "output_type": "display_data",
                    "data": {
                        "text/html": "(1 row(s) affected)"
                    },
                    "metadata": {}
                },
                {
                    "output_type": "display_data",
                    "data": {
                        "text/html": "Total execution time: 00:00:00.488"
                    },
                    "metadata": {}
                },
                {
                    "output_type": "execute_result",
                    "execution_count": 9,
                    "data": {
                        "application/vnd.dataresource+json": {
                            "schema": {
                                "fields": [
                                    {
                                        "name": "total_olympic_games"
                                    }
                                ]
                            },
                            "data": [
                                {
                                    "total_olympic_games": "51"
                                }
                            ]
                        },
                        "text/html": "<table><tr><th>total_olympic_games</th></tr><tr><td>51</td></tr></table>"
                    },
                    "metadata": {}
                }
            ],
            "execution_count": 9
        },
        {
            "cell_type": "markdown",
            "source": [
                "**2.List down all Olympics games held so far.**"
            ],
            "metadata": {
                "azdata_cell_guid": "31aafe87-dcb4-41a1-85d8-5fa71cd4a088"
            },
            "attachments": {}
        },
        {
            "cell_type": "code",
            "source": [
                "SELECT DISTINCT(YEAR),season,city\r\n",
                "FROM OLYMPIC_HISTORY\r\n",
                "Order by year;"
            ],
            "metadata": {
                "azdata_cell_guid": "a4af53e9-7a60-47f5-aa68-002bd80d0635",
                "language": "sql"
            },
            "outputs": [
                {
                    "output_type": "display_data",
                    "data": {
                        "text/html": "(52 row(s) affected)"
                    },
                    "metadata": {}
                },
                {
                    "output_type": "display_data",
                    "data": {
                        "text/html": "Total execution time: 00:00:00.253"
                    },
                    "metadata": {}
                },
                {
                    "output_type": "execute_result",
                    "execution_count": 13,
                    "data": {
                        "application/vnd.dataresource+json": {
                            "schema": {
                                "fields": [
                                    {
                                        "name": "year"
                                    },
                                    {
                                        "name": "season"
                                    },
                                    {
                                        "name": "city"
                                    }
                                ]
                            },
                            "data": [
                                {
                                    "year": "1896",
                                    "season": "Summer",
                                    "city": "Athina"
                                },
                                {
                                    "year": "1900",
                                    "season": "Summer",
                                    "city": "Paris"
                                },
                                {
                                    "year": "1904",
                                    "season": "Summer",
                                    "city": "St. Louis"
                                },
                                {
                                    "year": "1906",
                                    "season": "Summer",
                                    "city": "Athina"
                                },
                                {
                                    "year": "1908",
                                    "season": "Summer",
                                    "city": "London"
                                },
                                {
                                    "year": "1912",
                                    "season": "Summer",
                                    "city": "Stockholm"
                                },
                                {
                                    "year": "1920",
                                    "season": "Summer",
                                    "city": "Antwerpen"
                                },
                                {
                                    "year": "1924",
                                    "season": "Summer",
                                    "city": "Paris"
                                },
                                {
                                    "year": "1924",
                                    "season": "Winter",
                                    "city": "Chamonix"
                                },
                                {
                                    "year": "1928",
                                    "season": "Summer",
                                    "city": "Amsterdam"
                                },
                                {
                                    "year": "1928",
                                    "season": "Winter",
                                    "city": "Sankt Moritz"
                                },
                                {
                                    "year": "1932",
                                    "season": "Winter",
                                    "city": "Lake Placid"
                                },
                                {
                                    "year": "1932",
                                    "season": "Summer",
                                    "city": "Los Angeles"
                                },
                                {
                                    "year": "1936",
                                    "season": "Summer",
                                    "city": "Berlin"
                                },
                                {
                                    "year": "1936",
                                    "season": "Winter",
                                    "city": "Garmisch-Partenkirchen"
                                },
                                {
                                    "year": "1948",
                                    "season": "Summer",
                                    "city": "London"
                                },
                                {
                                    "year": "1948",
                                    "season": "Winter",
                                    "city": "Sankt Moritz"
                                },
                                {
                                    "year": "1952",
                                    "season": "Summer",
                                    "city": "Helsinki"
                                },
                                {
                                    "year": "1952",
                                    "season": "Winter",
                                    "city": "Oslo"
                                },
                                {
                                    "year": "1956",
                                    "season": "Summer",
                                    "city": "Stockholm"
                                },
                                {
                                    "year": "1956",
                                    "season": "Summer",
                                    "city": "Melbourne"
                                },
                                {
                                    "year": "1956",
                                    "season": "Winter",
                                    "city": "Cortina d'Ampezzo"
                                },
                                {
                                    "year": "1960",
                                    "season": "Winter",
                                    "city": "Squaw Valley"
                                },
                                {
                                    "year": "1960",
                                    "season": "Summer",
                                    "city": "Roma"
                                },
                                {
                                    "year": "1964",
                                    "season": "Winter",
                                    "city": "Innsbruck"
                                },
                                {
                                    "year": "1964",
                                    "season": "Summer",
                                    "city": "Tokyo"
                                },
                                {
                                    "year": "1968",
                                    "season": "Winter",
                                    "city": "Grenoble"
                                },
                                {
                                    "year": "1968",
                                    "season": "Summer",
                                    "city": "Mexico City"
                                },
                                {
                                    "year": "1972",
                                    "season": "Winter",
                                    "city": "Sapporo"
                                },
                                {
                                    "year": "1972",
                                    "season": "Summer",
                                    "city": "Munich"
                                },
                                {
                                    "year": "1976",
                                    "season": "Summer",
                                    "city": "Montreal"
                                },
                                {
                                    "year": "1976",
                                    "season": "Winter",
                                    "city": "Innsbruck"
                                },
                                {
                                    "year": "1980",
                                    "season": "Winter",
                                    "city": "Lake Placid"
                                },
                                {
                                    "year": "1980",
                                    "season": "Summer",
                                    "city": "Moskva"
                                },
                                {
                                    "year": "1984",
                                    "season": "Winter",
                                    "city": "Sarajevo"
                                },
                                {
                                    "year": "1984",
                                    "season": "Summer",
                                    "city": "Los Angeles"
                                },
                                {
                                    "year": "1988",
                                    "season": "Summer",
                                    "city": "Seoul"
                                },
                                {
                                    "year": "1988",
                                    "season": "Winter",
                                    "city": "Calgary"
                                },
                                {
                                    "year": "1992",
                                    "season": "Summer",
                                    "city": "Barcelona"
                                },
                                {
                                    "year": "1992",
                                    "season": "Winter",
                                    "city": "Albertville"
                                },
                                {
                                    "year": "1994",
                                    "season": "Winter",
                                    "city": "Lillehammer"
                                },
                                {
                                    "year": "1996",
                                    "season": "Summer",
                                    "city": "Atlanta"
                                },
                                {
                                    "year": "1998",
                                    "season": "Winter",
                                    "city": "Nagano"
                                },
                                {
                                    "year": "2000",
                                    "season": "Summer",
                                    "city": "Sydney"
                                },
                                {
                                    "year": "2002",
                                    "season": "Winter",
                                    "city": "Salt Lake City"
                                },
                                {
                                    "year": "2004",
                                    "season": "Summer",
                                    "city": "Athina"
                                },
                                {
                                    "year": "2006",
                                    "season": "Winter",
                                    "city": "Torino"
                                },
                                {
                                    "year": "2008",
                                    "season": "Summer",
                                    "city": "Beijing"
                                },
                                {
                                    "year": "2010",
                                    "season": "Winter",
                                    "city": "Vancouver"
                                },
                                {
                                    "year": "2012",
                                    "season": "Summer",
                                    "city": "London"
                                },
                                {
                                    "year": "2014",
                                    "season": "Winter",
                                    "city": "Sochi"
                                },
                                {
                                    "year": "2016",
                                    "season": "Summer",
                                    "city": "Rio de Janeiro"
                                }
                            ]
                        },
                        "text/html": "<table><tr><th>year</th><th>season</th><th>city</th></tr><tr><td>1896</td><td>Summer</td><td>Athina</td></tr><tr><td>1900</td><td>Summer</td><td>Paris</td></tr><tr><td>1904</td><td>Summer</td><td>St. Louis</td></tr><tr><td>1906</td><td>Summer</td><td>Athina</td></tr><tr><td>1908</td><td>Summer</td><td>London</td></tr><tr><td>1912</td><td>Summer</td><td>Stockholm</td></tr><tr><td>1920</td><td>Summer</td><td>Antwerpen</td></tr><tr><td>1924</td><td>Summer</td><td>Paris</td></tr><tr><td>1924</td><td>Winter</td><td>Chamonix</td></tr><tr><td>1928</td><td>Summer</td><td>Amsterdam</td></tr><tr><td>1928</td><td>Winter</td><td>Sankt Moritz</td></tr><tr><td>1932</td><td>Winter</td><td>Lake Placid</td></tr><tr><td>1932</td><td>Summer</td><td>Los Angeles</td></tr><tr><td>1936</td><td>Summer</td><td>Berlin</td></tr><tr><td>1936</td><td>Winter</td><td>Garmisch-Partenkirchen</td></tr><tr><td>1948</td><td>Summer</td><td>London</td></tr><tr><td>1948</td><td>Winter</td><td>Sankt Moritz</td></tr><tr><td>1952</td><td>Summer</td><td>Helsinki</td></tr><tr><td>1952</td><td>Winter</td><td>Oslo</td></tr><tr><td>1956</td><td>Summer</td><td>Stockholm</td></tr><tr><td>1956</td><td>Summer</td><td>Melbourne</td></tr><tr><td>1956</td><td>Winter</td><td>Cortina d&#39;Ampezzo</td></tr><tr><td>1960</td><td>Winter</td><td>Squaw Valley</td></tr><tr><td>1960</td><td>Summer</td><td>Roma</td></tr><tr><td>1964</td><td>Winter</td><td>Innsbruck</td></tr><tr><td>1964</td><td>Summer</td><td>Tokyo</td></tr><tr><td>1968</td><td>Winter</td><td>Grenoble</td></tr><tr><td>1968</td><td>Summer</td><td>Mexico City</td></tr><tr><td>1972</td><td>Winter</td><td>Sapporo</td></tr><tr><td>1972</td><td>Summer</td><td>Munich</td></tr><tr><td>1976</td><td>Summer</td><td>Montreal</td></tr><tr><td>1976</td><td>Winter</td><td>Innsbruck</td></tr><tr><td>1980</td><td>Winter</td><td>Lake Placid</td></tr><tr><td>1980</td><td>Summer</td><td>Moskva</td></tr><tr><td>1984</td><td>Winter</td><td>Sarajevo</td></tr><tr><td>1984</td><td>Summer</td><td>Los Angeles</td></tr><tr><td>1988</td><td>Summer</td><td>Seoul</td></tr><tr><td>1988</td><td>Winter</td><td>Calgary</td></tr><tr><td>1992</td><td>Summer</td><td>Barcelona</td></tr><tr><td>1992</td><td>Winter</td><td>Albertville</td></tr><tr><td>1994</td><td>Winter</td><td>Lillehammer</td></tr><tr><td>1996</td><td>Summer</td><td>Atlanta</td></tr><tr><td>1998</td><td>Winter</td><td>Nagano</td></tr><tr><td>2000</td><td>Summer</td><td>Sydney</td></tr><tr><td>2002</td><td>Winter</td><td>Salt Lake City</td></tr><tr><td>2004</td><td>Summer</td><td>Athina</td></tr><tr><td>2006</td><td>Winter</td><td>Torino</td></tr><tr><td>2008</td><td>Summer</td><td>Beijing</td></tr><tr><td>2010</td><td>Winter</td><td>Vancouver</td></tr><tr><td>2012</td><td>Summer</td><td>London</td></tr><tr><td>2014</td><td>Winter</td><td>Sochi</td></tr><tr><td>2016</td><td>Summer</td><td>Rio de Janeiro</td></tr></table>"
                    },
                    "metadata": {}
                }
            ],
            "execution_count": 13
        },
        {
            "cell_type": "markdown",
            "source": [
                "**3\\. Mention the total no of nations who participated in each olympics game ?**"
            ],
            "metadata": {
                "azdata_cell_guid": "ea867fc0-5819-4730-ae23-5953b567bd0c"
            },
            "attachments": {}
        },
        {
            "cell_type": "code",
            "source": [
                "SELECT GAMES,Count(DISTINCT NR.REGION) Participated_Nations\r\n",
                "from olympic_history OH\r\n",
                "JOIN OLYMPIC_HISTORY_NOC_REGIONS AS NR USING (NOC)\r\n",
                "GROUP BY GAMES\r\n",
                "ORDER BY GAMES;\r\n",
                ""
            ],
            "metadata": {
                "azdata_cell_guid": "4da2f3ba-ad31-470c-a5b0-88b11290dc20",
                "language": "sql",
                "tags": []
            },
            "outputs": [
                {
                    "output_type": "display_data",
                    "data": {
                        "text/html": "(51 row(s) affected)"
                    },
                    "metadata": {}
                },
                {
                    "output_type": "display_data",
                    "data": {
                        "text/html": "Total execution time: 00:00:01.720"
                    },
                    "metadata": {}
                },
                {
                    "output_type": "execute_result",
                    "execution_count": 2,
                    "data": {
                        "application/vnd.dataresource+json": {
                            "schema": {
                                "fields": [
                                    {
                                        "name": "games"
                                    },
                                    {
                                        "name": "participated_nations"
                                    }
                                ]
                            },
                            "data": [
                                {
                                    "games": "1896 Summer",
                                    "participated_nations": "12"
                                },
                                {
                                    "games": "1900 Summer",
                                    "participated_nations": "31"
                                },
                                {
                                    "games": "1904 Summer",
                                    "participated_nations": "14"
                                },
                                {
                                    "games": "1906 Summer",
                                    "participated_nations": "20"
                                },
                                {
                                    "games": "1908 Summer",
                                    "participated_nations": "22"
                                },
                                {
                                    "games": "1912 Summer",
                                    "participated_nations": "29"
                                },
                                {
                                    "games": "1920 Summer",
                                    "participated_nations": "29"
                                },
                                {
                                    "games": "1924 Summer",
                                    "participated_nations": "45"
                                },
                                {
                                    "games": "1924 Winter",
                                    "participated_nations": "19"
                                },
                                {
                                    "games": "1928 Summer",
                                    "participated_nations": "46"
                                },
                                {
                                    "games": "1928 Winter",
                                    "participated_nations": "25"
                                },
                                {
                                    "games": "1932 Summer",
                                    "participated_nations": "47"
                                },
                                {
                                    "games": "1932 Winter",
                                    "participated_nations": "17"
                                },
                                {
                                    "games": "1936 Summer",
                                    "participated_nations": "49"
                                },
                                {
                                    "games": "1936 Winter",
                                    "participated_nations": "28"
                                },
                                {
                                    "games": "1948 Summer",
                                    "participated_nations": "58"
                                },
                                {
                                    "games": "1948 Winter",
                                    "participated_nations": "28"
                                },
                                {
                                    "games": "1952 Summer",
                                    "participated_nations": "66"
                                },
                                {
                                    "games": "1952 Winter",
                                    "participated_nations": "30"
                                },
                                {
                                    "games": "1956 Summer",
                                    "participated_nations": "70"
                                },
                                {
                                    "games": "1956 Winter",
                                    "participated_nations": "32"
                                },
                                {
                                    "games": "1960 Summer",
                                    "participated_nations": "82"
                                },
                                {
                                    "games": "1960 Winter",
                                    "participated_nations": "30"
                                },
                                {
                                    "games": "1964 Summer",
                                    "participated_nations": "93"
                                },
                                {
                                    "games": "1964 Winter",
                                    "participated_nations": "36"
                                },
                                {
                                    "games": "1968 Summer",
                                    "participated_nations": "110"
                                },
                                {
                                    "games": "1968 Winter",
                                    "participated_nations": "36"
                                },
                                {
                                    "games": "1972 Summer",
                                    "participated_nations": "119"
                                },
                                {
                                    "games": "1972 Winter",
                                    "participated_nations": "34"
                                },
                                {
                                    "games": "1976 Summer",
                                    "participated_nations": "90"
                                },
                                {
                                    "games": "1976 Winter",
                                    "participated_nations": "36"
                                },
                                {
                                    "games": "1980 Summer",
                                    "participated_nations": "80"
                                },
                                {
                                    "games": "1980 Winter",
                                    "participated_nations": "36"
                                },
                                {
                                    "games": "1984 Summer",
                                    "participated_nations": "138"
                                },
                                {
                                    "games": "1984 Winter",
                                    "participated_nations": "48"
                                },
                                {
                                    "games": "1988 Summer",
                                    "participated_nations": "155"
                                },
                                {
                                    "games": "1988 Winter",
                                    "participated_nations": "56"
                                },
                                {
                                    "games": "1992 Summer",
                                    "participated_nations": "167"
                                },
                                {
                                    "games": "1992 Winter",
                                    "participated_nations": "64"
                                },
                                {
                                    "games": "1994 Winter",
                                    "participated_nations": "67"
                                },
                                {
                                    "games": "1996 Summer",
                                    "participated_nations": "195"
                                },
                                {
                                    "games": "1998 Winter",
                                    "participated_nations": "72"
                                },
                                {
                                    "games": "2000 Summer",
                                    "participated_nations": "198"
                                },
                                {
                                    "games": "2002 Winter",
                                    "participated_nations": "76"
                                },
                                {
                                    "games": "2004 Summer",
                                    "participated_nations": "199"
                                },
                                {
                                    "games": "2006 Winter",
                                    "participated_nations": "78"
                                },
                                {
                                    "games": "2008 Summer",
                                    "participated_nations": "202"
                                },
                                {
                                    "games": "2010 Winter",
                                    "participated_nations": "81"
                                },
                                {
                                    "games": "2012 Summer",
                                    "participated_nations": "203"
                                },
                                {
                                    "games": "2014 Winter",
                                    "participated_nations": "88"
                                },
                                {
                                    "games": "2016 Summer",
                                    "participated_nations": "204"
                                }
                            ]
                        },
                        "text/html": "<table><tr><th>games</th><th>participated_nations</th></tr><tr><td>1896 Summer</td><td>12</td></tr><tr><td>1900 Summer</td><td>31</td></tr><tr><td>1904 Summer</td><td>14</td></tr><tr><td>1906 Summer</td><td>20</td></tr><tr><td>1908 Summer</td><td>22</td></tr><tr><td>1912 Summer</td><td>29</td></tr><tr><td>1920 Summer</td><td>29</td></tr><tr><td>1924 Summer</td><td>45</td></tr><tr><td>1924 Winter</td><td>19</td></tr><tr><td>1928 Summer</td><td>46</td></tr><tr><td>1928 Winter</td><td>25</td></tr><tr><td>1932 Summer</td><td>47</td></tr><tr><td>1932 Winter</td><td>17</td></tr><tr><td>1936 Summer</td><td>49</td></tr><tr><td>1936 Winter</td><td>28</td></tr><tr><td>1948 Summer</td><td>58</td></tr><tr><td>1948 Winter</td><td>28</td></tr><tr><td>1952 Summer</td><td>66</td></tr><tr><td>1952 Winter</td><td>30</td></tr><tr><td>1956 Summer</td><td>70</td></tr><tr><td>1956 Winter</td><td>32</td></tr><tr><td>1960 Summer</td><td>82</td></tr><tr><td>1960 Winter</td><td>30</td></tr><tr><td>1964 Summer</td><td>93</td></tr><tr><td>1964 Winter</td><td>36</td></tr><tr><td>1968 Summer</td><td>110</td></tr><tr><td>1968 Winter</td><td>36</td></tr><tr><td>1972 Summer</td><td>119</td></tr><tr><td>1972 Winter</td><td>34</td></tr><tr><td>1976 Summer</td><td>90</td></tr><tr><td>1976 Winter</td><td>36</td></tr><tr><td>1980 Summer</td><td>80</td></tr><tr><td>1980 Winter</td><td>36</td></tr><tr><td>1984 Summer</td><td>138</td></tr><tr><td>1984 Winter</td><td>48</td></tr><tr><td>1988 Summer</td><td>155</td></tr><tr><td>1988 Winter</td><td>56</td></tr><tr><td>1992 Summer</td><td>167</td></tr><tr><td>1992 Winter</td><td>64</td></tr><tr><td>1994 Winter</td><td>67</td></tr><tr><td>1996 Summer</td><td>195</td></tr><tr><td>1998 Winter</td><td>72</td></tr><tr><td>2000 Summer</td><td>198</td></tr><tr><td>2002 Winter</td><td>76</td></tr><tr><td>2004 Summer</td><td>199</td></tr><tr><td>2006 Winter</td><td>78</td></tr><tr><td>2008 Summer</td><td>202</td></tr><tr><td>2010 Winter</td><td>81</td></tr><tr><td>2012 Summer</td><td>203</td></tr><tr><td>2014 Winter</td><td>88</td></tr><tr><td>2016 Summer</td><td>204</td></tr></table>"
                    },
                    "metadata": {}
                }
            ],
            "execution_count": 2
        },
        {
            "cell_type": "markdown",
            "source": [
                "**4\\. Which year saw the highest and lowest no of countries participating in olympics ?**"
            ],
            "metadata": {
                "azdata_cell_guid": "82dbd135-57e0-4152-a1b2-516d71233e68"
            },
            "attachments": {}
        },
        {
            "cell_type": "code",
            "source": [
                "\r\n",
                "\r\n",
                "WITH cteasMinMaxCountries as(\r\n",
                "SELECT games,Count(DISTINCT(noc)) as CountriesCount\r\n",
                "FROM Olympic_History\r\n",
                "GROUP by games)\r\n",
                "Select DISTINCT CONCAT(\r\n",
                "FIRST_VALUE(games) OVER (ORDER BY CountriesCount),'-',\r\n",
                "FIRST_VALUE(CountriesCount) OVER (ORDER BY CountriesCount)) AS LowestCountries,\r\n",
                "CONCAT(\r\n",
                "FIRST_VALUE(games) OVER (ORDER by CountriesCount DESC),'-',\r\n",
                "FIRST_VALUE(CountriesCount) OVER (Order by CountriesCount DESC)) as HighestCountries\r\n",
                "FROM cteasMinMaxCountries;\r\n",
                ""
            ],
            "metadata": {
                "azdata_cell_guid": "03456537-62f2-4374-ad95-ef5d071f33a3",
                "language": "sql"
            },
            "outputs": [
                {
                    "output_type": "display_data",
                    "data": {
                        "text/html": "(1 row(s) affected)"
                    },
                    "metadata": {}
                },
                {
                    "output_type": "display_data",
                    "data": {
                        "text/html": "Total execution time: 00:00:01.300"
                    },
                    "metadata": {}
                },
                {
                    "output_type": "execute_result",
                    "execution_count": 23,
                    "data": {
                        "application/vnd.dataresource+json": {
                            "schema": {
                                "fields": [
                                    {
                                        "name": "lowestcountries"
                                    },
                                    {
                                        "name": "highestcountries"
                                    }
                                ]
                            },
                            "data": [
                                {
                                    "lowestcountries": "1896 Summer-12",
                                    "highestcountries": "2016 Summer-207"
                                }
                            ]
                        },
                        "text/html": "<table><tr><th>lowestcountries</th><th>highestcountries</th></tr><tr><td>1896 Summer-12</td><td>2016 Summer-207</td></tr></table>"
                    },
                    "metadata": {}
                }
            ],
            "execution_count": 23
        },
        {
            "cell_type": "markdown",
            "source": [
                "**5\\. Which nation has participated in all of the olympic games**"
            ],
            "metadata": {
                "azdata_cell_guid": "044b93ab-6b48-4232-ac98-d57b200d684f"
            },
            "attachments": {}
        },
        {
            "cell_type": "code",
            "source": [
                "Select noc.region as Countries,Count(distinct games) as Total_Countries\r\n",
                "from olympic_history oh\r\n",
                "JOIN OLYMPIC_HISTORY_NOC_REGIONS as noc \r\n",
                "ON oh.noc = noc.noc\r\n",
                "GROUP by region\r\n",
                "Having COUNT(distinct games) = (SELECT Count(distinct games) from Olympic_History) \r\n",
                ""
            ],
            "metadata": {
                "azdata_cell_guid": "0854e351-1996-4afa-a094-3e61ec0d50c8",
                "language": "sql",
                "tags": []
            },
            "outputs": [
                {
                    "output_type": "display_data",
                    "data": {
                        "text/html": "(4 row(s) affected)"
                    },
                    "metadata": {}
                },
                {
                    "output_type": "display_data",
                    "data": {
                        "text/html": "Total execution time: 00:00:01.690"
                    },
                    "metadata": {}
                },
                {
                    "output_type": "execute_result",
                    "execution_count": 36,
                    "data": {
                        "application/vnd.dataresource+json": {
                            "schema": {
                                "fields": [
                                    {
                                        "name": "countries"
                                    },
                                    {
                                        "name": "total_countries"
                                    }
                                ]
                            },
                            "data": [
                                {
                                    "countries": "France",
                                    "total_countries": "51"
                                },
                                {
                                    "countries": "Italy",
                                    "total_countries": "51"
                                },
                                {
                                    "countries": "Switzerland",
                                    "total_countries": "51"
                                },
                                {
                                    "countries": "UK",
                                    "total_countries": "51"
                                }
                            ]
                        },
                        "text/html": "<table><tr><th>countries</th><th>total_countries</th></tr><tr><td>France</td><td>51</td></tr><tr><td>Italy</td><td>51</td></tr><tr><td>Switzerland</td><td>51</td></tr><tr><td>UK</td><td>51</td></tr></table>"
                    },
                    "metadata": {}
                }
            ],
            "execution_count": 36
        },
        {
            "cell_type": "markdown",
            "source": [
                "**6\\. Identify the sport which was played in all summer olympics.**"
            ],
            "metadata": {
                "language": "sql",
                "azdata_cell_guid": "33e836b3-06eb-4642-a49c-e9bc41847451"
            },
            "attachments": {}
        },
        {
            "cell_type": "code",
            "source": [
                " with t1 as\r\n",
                "          \t(select distinct games, sport\r\n",
                "          \tfrom olympic_history),\r\n",
                "          t2 as\r\n",
                "          \t(select sport, count(1) as no_of_games\r\n",
                "          \tfrom t1\r\n",
                "          \tgroup by sport)\r\n",
                "      select t2.*, t1.games\r\n",
                "      from t2\r\n",
                "      join t1 on t1.sport = t2.sport\r\n",
                "      where t2.no_of_games = 1\r\n",
                "      order by t1.sport;"
            ],
            "metadata": {
                "language": "sql",
                "azdata_cell_guid": "b623598c-615d-421d-a071-9cd2c293a1c6"
            },
            "outputs": [
                {
                    "output_type": "display_data",
                    "data": {
                        "text/html": "(10 row(s) affected)"
                    },
                    "metadata": {}
                },
                {
                    "output_type": "display_data",
                    "data": {
                        "text/html": "Total execution time: 00:00:00.147"
                    },
                    "metadata": {}
                },
                {
                    "output_type": "execute_result",
                    "execution_count": 75,
                    "data": {
                        "application/vnd.dataresource+json": {
                            "schema": {
                                "fields": [
                                    {
                                        "name": "sport"
                                    },
                                    {
                                        "name": "no_of_games"
                                    },
                                    {
                                        "name": "games"
                                    }
                                ]
                            },
                            "data": [
                                {
                                    "sport": "Aeronautics",
                                    "no_of_games": "1",
                                    "games": "1936 Summer"
                                },
                                {
                                    "sport": "Basque Pelota",
                                    "no_of_games": "1",
                                    "games": "1900 Summer"
                                },
                                {
                                    "sport": "Cricket",
                                    "no_of_games": "1",
                                    "games": "1900 Summer"
                                },
                                {
                                    "sport": "Croquet",
                                    "no_of_games": "1",
                                    "games": "1900 Summer"
                                },
                                {
                                    "sport": "Jeu De Paume",
                                    "no_of_games": "1",
                                    "games": "1908 Summer"
                                },
                                {
                                    "sport": "Military Ski Patrol",
                                    "no_of_games": "1",
                                    "games": "1924 Winter"
                                },
                                {
                                    "sport": "Motorboating",
                                    "no_of_games": "1",
                                    "games": "1908 Summer"
                                },
                                {
                                    "sport": "Racquets",
                                    "no_of_games": "1",
                                    "games": "1908 Summer"
                                },
                                {
                                    "sport": "Roque",
                                    "no_of_games": "1",
                                    "games": "1904 Summer"
                                },
                                {
                                    "sport": "Rugby Sevens",
                                    "no_of_games": "1",
                                    "games": "2016 Summer"
                                }
                            ]
                        },
                        "text/html": "<table><tr><th>sport</th><th>no_of_games</th><th>games</th></tr><tr><td>Aeronautics</td><td>1</td><td>1936 Summer</td></tr><tr><td>Basque Pelota</td><td>1</td><td>1900 Summer</td></tr><tr><td>Cricket</td><td>1</td><td>1900 Summer</td></tr><tr><td>Croquet</td><td>1</td><td>1900 Summer</td></tr><tr><td>Jeu De Paume</td><td>1</td><td>1908 Summer</td></tr><tr><td>Military Ski Patrol</td><td>1</td><td>1924 Winter</td></tr><tr><td>Motorboating</td><td>1</td><td>1908 Summer</td></tr><tr><td>Racquets</td><td>1</td><td>1908 Summer</td></tr><tr><td>Roque</td><td>1</td><td>1904 Summer</td></tr><tr><td>Rugby Sevens</td><td>1</td><td>2016 Summer</td></tr></table>"
                    },
                    "metadata": {}
                }
            ],
            "execution_count": 75
        },
        {
            "cell_type": "markdown",
            "source": [
                "**Rank athletes based on the count of medals they've won.**"
            ],
            "metadata": {
                "azdata_cell_guid": "97c5448e-f221-4250-8ca2-b4b15ab5f882"
            },
            "attachments": {}
        },
        {
            "cell_type": "code",
            "source": [
                "SELECT ID,name,COUNT(Medal) as Medal_Count,\r\n",
                "    Rank() OVER(order by Count(medal)desc) as Medal_Rank\r\n",
                "FROM olympic_history\r\n",
                "WHERE Medal IN('Gold','Silver','Bronze')\r\n",
                "GROUP by ID,name \r\n",
                "ORDER by Medal_Count Desc\r\n",
                "Limit 10;\r\n",
                "\r\n",
                ""
            ],
            "metadata": {
                "azdata_cell_guid": "975af3a0-cd61-4cdb-bca2-8ea15320b110",
                "language": "sql"
            },
            "outputs": [
                {
                    "output_type": "display_data",
                    "data": {
                        "text/html": "(10 row(s) affected)"
                    },
                    "metadata": {}
                },
                {
                    "output_type": "display_data",
                    "data": {
                        "text/html": "Total execution time: 00:00:00.144"
                    },
                    "metadata": {}
                },
                {
                    "output_type": "execute_result",
                    "metadata": {},
                    "execution_count": 37,
                    "data": {
                        "application/vnd.dataresource+json": {
                            "schema": {
                                "fields": [
                                    {
                                        "name": "id"
                                    },
                                    {
                                        "name": "name"
                                    },
                                    {
                                        "name": "medal_count"
                                    },
                                    {
                                        "name": "medal_rank"
                                    }
                                ]
                            },
                            "data": [
                                {
                                    "id": "94406",
                                    "name": "Michael Fred Phelps, II",
                                    "medal_count": "28",
                                    "medal_rank": "1"
                                },
                                {
                                    "id": "67046",
                                    "name": "Larysa Semenivna Latynina (Diriy-)",
                                    "medal_count": "18",
                                    "medal_rank": "2"
                                },
                                {
                                    "id": "4198",
                                    "name": "Nikolay Yefimovich Andrianov",
                                    "medal_count": "15",
                                    "medal_rank": "3"
                                },
                                {
                                    "id": "11951",
                                    "name": "Ole Einar Bjrndalen",
                                    "medal_count": "13",
                                    "medal_rank": "4"
                                },
                                {
                                    "id": "74420",
                                    "name": "Edoardo Mangiarotti",
                                    "medal_count": "13",
                                    "medal_rank": "4"
                                },
                                {
                                    "id": "109161",
                                    "name": "Borys Anfiyanovych Shakhlin",
                                    "medal_count": "13",
                                    "medal_rank": "4"
                                },
                                {
                                    "id": "89187",
                                    "name": "Takashi Ono",
                                    "medal_count": "13",
                                    "medal_rank": "4"
                                },
                                {
                                    "id": "23426",
                                    "name": "Natalie Anne Coughlin (-Hall)",
                                    "medal_count": "12",
                                    "medal_rank": "8"
                                },
                                {
                                    "id": "121258",
                                    "name": "Dara Grace Torres (-Hoffman, -Minas)",
                                    "medal_count": "12",
                                    "medal_rank": "8"
                                },
                                {
                                    "id": "87390",
                                    "name": "Paavo Johannes Nurmi",
                                    "medal_count": "12",
                                    "medal_rank": "8"
                                }
                            ]
                        },
                        "text/html": [
                            "<table>",
                            "<tr><th>id</th><th>name</th><th>medal_count</th><th>medal_rank</th></tr>",
                            "<tr><td>94406</td><td>Michael Fred Phelps, II</td><td>28</td><td>1</td></tr>",
                            "<tr><td>67046</td><td>Larysa Semenivna Latynina (Diriy-)</td><td>18</td><td>2</td></tr>",
                            "<tr><td>4198</td><td>Nikolay Yefimovich Andrianov</td><td>15</td><td>3</td></tr>",
                            "<tr><td>11951</td><td>Ole Einar Bjrndalen</td><td>13</td><td>4</td></tr>",
                            "<tr><td>74420</td><td>Edoardo Mangiarotti</td><td>13</td><td>4</td></tr>",
                            "<tr><td>109161</td><td>Borys Anfiyanovych Shakhlin</td><td>13</td><td>4</td></tr>",
                            "<tr><td>89187</td><td>Takashi Ono</td><td>13</td><td>4</td></tr>",
                            "<tr><td>23426</td><td>Natalie Anne Coughlin (-Hall)</td><td>12</td><td>8</td></tr>",
                            "<tr><td>121258</td><td>Dara Grace Torres (-Hoffman, -Minas)</td><td>12</td><td>8</td></tr>",
                            "<tr><td>87390</td><td>Paavo Johannes Nurmi</td><td>12</td><td>8</td></tr>",
                            "</table>"
                        ]
                    }
                }
            ],
            "execution_count": 37
        },
        {
            "cell_type": "markdown",
            "source": [
                "**8\\. Fetch the total no of sports played in each olympic games.**"
            ],
            "metadata": {
                "azdata_cell_guid": "4c5acd48-f09c-46d0-aa92-2af1a4c4cf72"
            },
            "attachments": {}
        },
        {
            "cell_type": "code",
            "source": [
                "with t1 AS(\r\n",
                "        Select DISTINCT games,sport\r\n",
                "        from olympic_history),\r\n",
                "t2 AS (\r\n",
                "    Select games,COUNT(*) as no_of_Sports\r\n",
                "    from t1\r\n",
                "    GROUP by GAMES)\r\n",
                "    SELECT * FROM t2\r\n",
                "    ORDER by no_of_Sports DESC;\r\n",
                "\r\n",
                ""
            ],
            "metadata": {
                "azdata_cell_guid": "df1d0dfe-72e2-4956-86ce-2405cffd609e",
                "language": "sql"
            },
            "outputs": [
                {
                    "output_type": "display_data",
                    "data": {
                        "text/html": "(51 row(s) affected)"
                    },
                    "metadata": {}
                },
                {
                    "output_type": "display_data",
                    "data": {
                        "text/html": "Total execution time: 00:00:00.194"
                    },
                    "metadata": {}
                },
                {
                    "output_type": "execute_result",
                    "execution_count": 96,
                    "data": {
                        "application/vnd.dataresource+json": {
                            "schema": {
                                "fields": [
                                    {
                                        "name": "games"
                                    },
                                    {
                                        "name": "no_of_sports"
                                    }
                                ]
                            },
                            "data": [
                                {
                                    "games": "2000 Summer",
                                    "no_of_sports": "34"
                                },
                                {
                                    "games": "2004 Summer",
                                    "no_of_sports": "34"
                                },
                                {
                                    "games": "2016 Summer",
                                    "no_of_sports": "34"
                                },
                                {
                                    "games": "2008 Summer",
                                    "no_of_sports": "34"
                                },
                                {
                                    "games": "2012 Summer",
                                    "no_of_sports": "32"
                                },
                                {
                                    "games": "1996 Summer",
                                    "no_of_sports": "31"
                                },
                                {
                                    "games": "1992 Summer",
                                    "no_of_sports": "29"
                                },
                                {
                                    "games": "1988 Summer",
                                    "no_of_sports": "27"
                                },
                                {
                                    "games": "1920 Summer",
                                    "no_of_sports": "25"
                                },
                                {
                                    "games": "1984 Summer",
                                    "no_of_sports": "25"
                                },
                                {
                                    "games": "1908 Summer",
                                    "no_of_sports": "24"
                                },
                                {
                                    "games": "1936 Summer",
                                    "no_of_sports": "24"
                                },
                                {
                                    "games": "1972 Summer",
                                    "no_of_sports": "23"
                                },
                                {
                                    "games": "1980 Summer",
                                    "no_of_sports": "23"
                                },
                                {
                                    "games": "1976 Summer",
                                    "no_of_sports": "23"
                                },
                                {
                                    "games": "1964 Summer",
                                    "no_of_sports": "21"
                                },
                                {
                                    "games": "1924 Summer",
                                    "no_of_sports": "20"
                                },
                                {
                                    "games": "1948 Summer",
                                    "no_of_sports": "20"
                                },
                                {
                                    "games": "1900 Summer",
                                    "no_of_sports": "20"
                                },
                                {
                                    "games": "1968 Summer",
                                    "no_of_sports": "20"
                                },
                                {
                                    "games": "1952 Summer",
                                    "no_of_sports": "19"
                                },
                                {
                                    "games": "1960 Summer",
                                    "no_of_sports": "19"
                                },
                                {
                                    "games": "1956 Summer",
                                    "no_of_sports": "19"
                                },
                                {
                                    "games": "1932 Summer",
                                    "no_of_sports": "18"
                                },
                                {
                                    "games": "1904 Summer",
                                    "no_of_sports": "18"
                                },
                                {
                                    "games": "1912 Summer",
                                    "no_of_sports": "17"
                                },
                                {
                                    "games": "1928 Summer",
                                    "no_of_sports": "17"
                                },
                                {
                                    "games": "2014 Winter",
                                    "no_of_sports": "15"
                                },
                                {
                                    "games": "2006 Winter",
                                    "no_of_sports": "15"
                                },
                                {
                                    "games": "2010 Winter",
                                    "no_of_sports": "15"
                                },
                                {
                                    "games": "2002 Winter",
                                    "no_of_sports": "15"
                                },
                                {
                                    "games": "1998 Winter",
                                    "no_of_sports": "14"
                                },
                                {
                                    "games": "1906 Summer",
                                    "no_of_sports": "13"
                                },
                                {
                                    "games": "1994 Winter",
                                    "no_of_sports": "12"
                                },
                                {
                                    "games": "1992 Winter",
                                    "no_of_sports": "12"
                                },
                                {
                                    "games": "1968 Winter",
                                    "no_of_sports": "10"
                                },
                                {
                                    "games": "1984 Winter",
                                    "no_of_sports": "10"
                                },
                                {
                                    "games": "1980 Winter",
                                    "no_of_sports": "10"
                                },
                                {
                                    "games": "1988 Winter",
                                    "no_of_sports": "10"
                                },
                                {
                                    "games": "1924 Winter",
                                    "no_of_sports": "10"
                                },
                                {
                                    "games": "1964 Winter",
                                    "no_of_sports": "10"
                                },
                                {
                                    "games": "1972 Winter",
                                    "no_of_sports": "10"
                                },
                                {
                                    "games": "1976 Winter",
                                    "no_of_sports": "10"
                                },
                                {
                                    "games": "1948 Winter",
                                    "no_of_sports": "9"
                                },
                                {
                                    "games": "1896 Summer",
                                    "no_of_sports": "9"
                                },
                                {
                                    "games": "1936 Winter",
                                    "no_of_sports": "8"
                                },
                                {
                                    "games": "1960 Winter",
                                    "no_of_sports": "8"
                                },
                                {
                                    "games": "1952 Winter",
                                    "no_of_sports": "8"
                                },
                                {
                                    "games": "1928 Winter",
                                    "no_of_sports": "8"
                                },
                                {
                                    "games": "1956 Winter",
                                    "no_of_sports": "8"
                                },
                                {
                                    "games": "1932 Winter",
                                    "no_of_sports": "7"
                                }
                            ]
                        },
                        "text/html": "<table><tr><th>games</th><th>no_of_sports</th></tr><tr><td>2000 Summer</td><td>34</td></tr><tr><td>2004 Summer</td><td>34</td></tr><tr><td>2016 Summer</td><td>34</td></tr><tr><td>2008 Summer</td><td>34</td></tr><tr><td>2012 Summer</td><td>32</td></tr><tr><td>1996 Summer</td><td>31</td></tr><tr><td>1992 Summer</td><td>29</td></tr><tr><td>1988 Summer</td><td>27</td></tr><tr><td>1920 Summer</td><td>25</td></tr><tr><td>1984 Summer</td><td>25</td></tr><tr><td>1908 Summer</td><td>24</td></tr><tr><td>1936 Summer</td><td>24</td></tr><tr><td>1972 Summer</td><td>23</td></tr><tr><td>1980 Summer</td><td>23</td></tr><tr><td>1976 Summer</td><td>23</td></tr><tr><td>1964 Summer</td><td>21</td></tr><tr><td>1924 Summer</td><td>20</td></tr><tr><td>1948 Summer</td><td>20</td></tr><tr><td>1900 Summer</td><td>20</td></tr><tr><td>1968 Summer</td><td>20</td></tr><tr><td>1952 Summer</td><td>19</td></tr><tr><td>1960 Summer</td><td>19</td></tr><tr><td>1956 Summer</td><td>19</td></tr><tr><td>1932 Summer</td><td>18</td></tr><tr><td>1904 Summer</td><td>18</td></tr><tr><td>1912 Summer</td><td>17</td></tr><tr><td>1928 Summer</td><td>17</td></tr><tr><td>2014 Winter</td><td>15</td></tr><tr><td>2006 Winter</td><td>15</td></tr><tr><td>2010 Winter</td><td>15</td></tr><tr><td>2002 Winter</td><td>15</td></tr><tr><td>1998 Winter</td><td>14</td></tr><tr><td>1906 Summer</td><td>13</td></tr><tr><td>1994 Winter</td><td>12</td></tr><tr><td>1992 Winter</td><td>12</td></tr><tr><td>1968 Winter</td><td>10</td></tr><tr><td>1984 Winter</td><td>10</td></tr><tr><td>1980 Winter</td><td>10</td></tr><tr><td>1988 Winter</td><td>10</td></tr><tr><td>1924 Winter</td><td>10</td></tr><tr><td>1964 Winter</td><td>10</td></tr><tr><td>1972 Winter</td><td>10</td></tr><tr><td>1976 Winter</td><td>10</td></tr><tr><td>1948 Winter</td><td>9</td></tr><tr><td>1896 Summer</td><td>9</td></tr><tr><td>1936 Winter</td><td>8</td></tr><tr><td>1960 Winter</td><td>8</td></tr><tr><td>1952 Winter</td><td>8</td></tr><tr><td>1928 Winter</td><td>8</td></tr><tr><td>1956 Winter</td><td>8</td></tr><tr><td>1932 Winter</td><td>7</td></tr></table>"
                    },
                    "metadata": {}
                }
            ],
            "execution_count": 96
        },
        {
            "cell_type": "markdown",
            "source": [
                "**9\\. Fetch oldest athletes to win a gold medal ?**"
            ],
            "metadata": {
                "azdata_cell_guid": "4df205ec-ce76-4075-b856-b472e1474974"
            },
            "attachments": {}
        },
        {
            "cell_type": "code",
            "source": [
                "with temp AS\r\n",
                "            (SELECT name,sex,CAST(case when age ='NA' THEN '0' ELSE age end as int) as age,\r\n",
                "            team,games,city,sport,event,medal\r\n",
                "            from olympic_history),\r\n",
                "        ranking as\r\n",
                "            (select *,rank() over(ORDER by age desc) as rnk\r\n",
                "            from temp\r\n",
                "            where medal = 'Gold')\r\n",
                "    SELECT *\r\n",
                "    from ranking\r\n",
                "    where rnk = 1 ;\r\n",
                ""
            ],
            "metadata": {
                "azdata_cell_guid": "ab68a36c-ab60-431d-a57f-6a672d1bf2ad",
                "language": "sql"
            },
            "outputs": [
                {
                    "output_type": "display_data",
                    "data": {
                        "text/html": "(2 row(s) affected)"
                    },
                    "metadata": {}
                },
                {
                    "output_type": "display_data",
                    "data": {
                        "text/html": "Total execution time: 00:00:00.160"
                    },
                    "metadata": {}
                },
                {
                    "output_type": "execute_result",
                    "execution_count": 107,
                    "data": {
                        "application/vnd.dataresource+json": {
                            "schema": {
                                "fields": [
                                    {
                                        "name": "name"
                                    },
                                    {
                                        "name": "sex"
                                    },
                                    {
                                        "name": "age"
                                    },
                                    {
                                        "name": "team"
                                    },
                                    {
                                        "name": "games"
                                    },
                                    {
                                        "name": "city"
                                    },
                                    {
                                        "name": "sport"
                                    },
                                    {
                                        "name": "event"
                                    },
                                    {
                                        "name": "medal"
                                    },
                                    {
                                        "name": "rnk"
                                    }
                                ]
                            },
                            "data": [
                                {
                                    "name": "Charles Jacobus",
                                    "sex": "M",
                                    "age": "64",
                                    "team": "United States",
                                    "games": "1904 Summer",
                                    "city": "St. Louis",
                                    "sport": "Roque",
                                    "event": "Roque Men's Singles",
                                    "medal": "Gold",
                                    "rnk": "1"
                                },
                                {
                                    "name": "Oscar Gomer Swahn",
                                    "sex": "M",
                                    "age": "64",
                                    "team": "Sweden",
                                    "games": "1912 Summer",
                                    "city": "Stockholm",
                                    "sport": "Shooting",
                                    "event": "Shooting Men's Running Target, Single Shot, Team",
                                    "medal": "Gold",
                                    "rnk": "1"
                                }
                            ]
                        },
                        "text/html": "<table><tr><th>name</th><th>sex</th><th>age</th><th>team</th><th>games</th><th>city</th><th>sport</th><th>event</th><th>medal</th><th>rnk</th></tr><tr><td>Charles Jacobus</td><td>M</td><td>64</td><td>United States</td><td>1904 Summer</td><td>St. Louis</td><td>Roque</td><td>Roque Men&#39;s Singles</td><td>Gold</td><td>1</td></tr><tr><td>Oscar Gomer Swahn</td><td>M</td><td>64</td><td>Sweden</td><td>1912 Summer</td><td>Stockholm</td><td>Shooting</td><td>Shooting Men&#39;s Running Target, Single Shot, Team</td><td>Gold</td><td>1</td></tr></table>"
                    },
                    "metadata": {}
                }
            ],
            "execution_count": 107
        },
        {
            "cell_type": "markdown",
            "source": [
                "**10\\. Find the Ratio of male and female athletes participated in all olympic games.**"
            ],
            "metadata": {
                "azdata_cell_guid": "7aa2e359-b389-4e9e-8b67-fe4f7951ae1a"
            },
            "attachments": {}
        },
        {
            "cell_type": "code",
            "source": [
                "with t1 as (\r\n",
                "    SELECT SEX,COUNT(*) AS CNT \r\n",
                "    FROM OLYMPIC_HISTORY\r\n",
                "    GROUP BY SEX),\r\n",
                "\r\n",
                "t2 as (\r\n",
                "    SELECT *, row_number() OVER(order by cnt) as rn\r\n",
                "    from t1),\r\n",
                "min_cnt as \r\n",
                "        (select cnt from t2 where rn = 1),\r\n",
                "max_cnt as \r\n",
                "        (select cnt from t2 where rn = 2)\r\n",
                "select concat('1 : ', round(max_cnt.cnt::decimal/min_cnt.cnt, 2)) as ratio\r\n",
                "    from min_cnt, max_cnt;"
            ],
            "metadata": {
                "azdata_cell_guid": "4c5e08ac-21b0-4d48-b3ff-02d5cfee14b4",
                "language": "sql"
            },
            "outputs": [
                {
                    "output_type": "display_data",
                    "data": {
                        "text/html": "(1 row(s) affected)"
                    },
                    "metadata": {}
                },
                {
                    "output_type": "display_data",
                    "data": {
                        "text/html": "Total execution time: 00:00:00.114"
                    },
                    "metadata": {}
                },
                {
                    "output_type": "execute_result",
                    "execution_count": 109,
                    "data": {
                        "application/vnd.dataresource+json": {
                            "schema": {
                                "fields": [
                                    {
                                        "name": "ratio"
                                    }
                                ]
                            },
                            "data": [
                                {
                                    "ratio": "1 : 2.64"
                                }
                            ]
                        },
                        "text/html": "<table><tr><th>ratio</th></tr><tr><td>1 : 2.64</td></tr></table>"
                    },
                    "metadata": {}
                }
            ],
            "execution_count": 109
        },
        {
            "cell_type": "markdown",
            "source": [
                "**11\\. Fetch the top 5 athletes who have won the most gold medals ?**"
            ],
            "metadata": {
                "azdata_cell_guid": "75d5e8bf-e559-4f30-8fce-f0740abc7c33"
            },
            "attachments": {}
        },
        {
            "cell_type": "code",
            "source": [
                "with t1 as\r\n",
                "            (select name, team, count(1) as total_gold_medals\r\n",
                "            from olympic_history\r\n",
                "            where medal = 'Gold'\r\n",
                "            group by name, team\r\n",
                "            order by total_gold_medals desc),\r\n",
                "        t2 as\r\n",
                "            (select *, dense_rank() over (order by total_gold_medals desc) as rnk\r\n",
                "            from t1)\r\n",
                "    select name, team, total_gold_medals\r\n",
                "    from t2\r\n",
                "    Limit 5;"
            ],
            "metadata": {
                "azdata_cell_guid": "94723d10-a645-4d08-a44d-822c189bd8b1",
                "language": "sql"
            },
            "outputs": [
                {
                    "output_type": "display_data",
                    "data": {
                        "text/html": "(5 row(s) affected)"
                    },
                    "metadata": {}
                },
                {
                    "output_type": "display_data",
                    "data": {
                        "text/html": "Total execution time: 00:00:00.120"
                    },
                    "metadata": {}
                },
                {
                    "output_type": "execute_result",
                    "execution_count": 124,
                    "data": {
                        "application/vnd.dataresource+json": {
                            "schema": {
                                "fields": [
                                    {
                                        "name": "name"
                                    },
                                    {
                                        "name": "team"
                                    },
                                    {
                                        "name": "total_gold_medals"
                                    }
                                ]
                            },
                            "data": [
                                {
                                    "name": "Michael Fred Phelps, II",
                                    "team": "United States",
                                    "total_gold_medals": "23"
                                },
                                {
                                    "name": "Raymond Clarence \"Ray\" Ewry",
                                    "team": "United States",
                                    "total_gold_medals": "10"
                                },
                                {
                                    "name": "Paavo Johannes Nurmi",
                                    "team": "Finland",
                                    "total_gold_medals": "9"
                                },
                                {
                                    "name": "Frederick Carlton \"Carl\" Lewis",
                                    "team": "United States",
                                    "total_gold_medals": "9"
                                },
                                {
                                    "name": "Larysa Semenivna Latynina (Diriy-)",
                                    "team": "Soviet Union",
                                    "total_gold_medals": "9"
                                }
                            ]
                        },
                        "text/html": "<table><tr><th>name</th><th>team</th><th>total_gold_medals</th></tr><tr><td>Michael Fred Phelps, II</td><td>United States</td><td>23</td></tr><tr><td>Raymond Clarence &quot;Ray&quot; Ewry</td><td>United States</td><td>10</td></tr><tr><td>Paavo Johannes Nurmi</td><td>Finland</td><td>9</td></tr><tr><td>Frederick Carlton &quot;Carl&quot; Lewis</td><td>United States</td><td>9</td></tr><tr><td>Larysa Semenivna Latynina (Diriy-)</td><td>Soviet Union</td><td>9</td></tr></table>"
                    },
                    "metadata": {}
                }
            ],
            "execution_count": 124
        },
        {
            "cell_type": "markdown",
            "source": [
                "**Fetch the top 5 athletes who have won the most medals (gold/silver/bronze).**"
            ],
            "metadata": {
                "azdata_cell_guid": "385daa0e-f75c-4bf0-84ab-027aced60f04"
            },
            "attachments": {}
        },
        {
            "cell_type": "code",
            "source": [
                " with t1 as\r\n",
                "            (select name, team, count(1) as total_medals\r\n",
                "            from olympic_history\r\n",
                "            where medal in ('Gold', 'Silver', 'Bronze')\r\n",
                "            group by name, team\r\n",
                "            order by total_medals desc),\r\n",
                "        t2 as\r\n",
                "            (select *, dense_rank() over (order by total_medals desc) as rnk\r\n",
                "            from t1)\r\n",
                "    select name, team, total_medals\r\n",
                "    from t2\r\n",
                "    where rnk <= 5;"
            ],
            "metadata": {
                "azdata_cell_guid": "e6e3caa9-ec9f-4741-83f3-30344948d95a",
                "language": "sql",
                "tags": []
            },
            "outputs": [
                {
                    "output_type": "display_data",
                    "data": {
                        "text/html": "(14 row(s) affected)"
                    },
                    "metadata": {}
                },
                {
                    "output_type": "display_data",
                    "data": {
                        "text/html": "Total execution time: 00:00:00.165"
                    },
                    "metadata": {}
                },
                {
                    "output_type": "execute_result",
                    "execution_count": 126,
                    "data": {
                        "application/vnd.dataresource+json": {
                            "schema": {
                                "fields": [
                                    {
                                        "name": "name"
                                    },
                                    {
                                        "name": "team"
                                    },
                                    {
                                        "name": "total_medals"
                                    }
                                ]
                            },
                            "data": [
                                {
                                    "name": "Michael Fred Phelps, II",
                                    "team": "United States",
                                    "total_medals": "28"
                                },
                                {
                                    "name": "Larysa Semenivna Latynina (Diriy-)",
                                    "team": "Soviet Union",
                                    "total_medals": "18"
                                },
                                {
                                    "name": "Nikolay Yefimovich Andrianov",
                                    "team": "Soviet Union",
                                    "total_medals": "15"
                                },
                                {
                                    "name": "Ole Einar Bjrndalen",
                                    "team": "Norway",
                                    "total_medals": "13"
                                },
                                {
                                    "name": "Borys Anfiyanovych Shakhlin",
                                    "team": "Soviet Union",
                                    "total_medals": "13"
                                },
                                {
                                    "name": "Takashi Ono",
                                    "team": "Japan",
                                    "total_medals": "13"
                                },
                                {
                                    "name": "Edoardo Mangiarotti",
                                    "team": "Italy",
                                    "total_medals": "13"
                                },
                                {
                                    "name": "Sawao Kato",
                                    "team": "Japan",
                                    "total_medals": "12"
                                },
                                {
                                    "name": "Dara Grace Torres (-Hoffman, -Minas)",
                                    "team": "United States",
                                    "total_medals": "12"
                                },
                                {
                                    "name": "Aleksey Yuryevich Nemov",
                                    "team": "Russia",
                                    "total_medals": "12"
                                },
                                {
                                    "name": "Natalie Anne Coughlin (-Hall)",
                                    "team": "United States",
                                    "total_medals": "12"
                                },
                                {
                                    "name": "Paavo Johannes Nurmi",
                                    "team": "Finland",
                                    "total_medals": "12"
                                },
                                {
                                    "name": "Ryan Steven Lochte",
                                    "team": "United States",
                                    "total_medals": "12"
                                },
                                {
                                    "name": "Jennifer Elisabeth \"Jenny\" Thompson (-Cumpelik)",
                                    "team": "United States",
                                    "total_medals": "12"
                                }
                            ]
                        },
                        "text/html": "<table><tr><th>name</th><th>team</th><th>total_medals</th></tr><tr><td>Michael Fred Phelps, II</td><td>United States</td><td>28</td></tr><tr><td>Larysa Semenivna Latynina (Diriy-)</td><td>Soviet Union</td><td>18</td></tr><tr><td>Nikolay Yefimovich Andrianov</td><td>Soviet Union</td><td>15</td></tr><tr><td>Ole Einar Bjrndalen</td><td>Norway</td><td>13</td></tr><tr><td>Borys Anfiyanovych Shakhlin</td><td>Soviet Union</td><td>13</td></tr><tr><td>Takashi Ono</td><td>Japan</td><td>13</td></tr><tr><td>Edoardo Mangiarotti</td><td>Italy</td><td>13</td></tr><tr><td>Sawao Kato</td><td>Japan</td><td>12</td></tr><tr><td>Dara Grace Torres (-Hoffman, -Minas)</td><td>United States</td><td>12</td></tr><tr><td>Aleksey Yuryevich Nemov</td><td>Russia</td><td>12</td></tr><tr><td>Natalie Anne Coughlin (-Hall)</td><td>United States</td><td>12</td></tr><tr><td>Paavo Johannes Nurmi</td><td>Finland</td><td>12</td></tr><tr><td>Ryan Steven Lochte</td><td>United States</td><td>12</td></tr><tr><td>Jennifer Elisabeth &quot;Jenny&quot; Thompson (-Cumpelik)</td><td>United States</td><td>12</td></tr></table>"
                    },
                    "metadata": {}
                }
            ],
            "execution_count": 126
        },
        {
            "cell_type": "markdown",
            "source": [
                "**Create categories based on the count of medals won by athletes.**"
            ],
            "metadata": {
                "azdata_cell_guid": "1a9b5e4f-20a5-4ec8-877f-294773206a3e"
            },
            "attachments": {}
        },
        {
            "cell_type": "code",
            "source": [
                "SELECT ID, Name, COUNT(Medal) AS Medal_Count,\r\n",
                "    CASE\r\n",
                "        WHEN COUNT(Medal) >= 10 THEN 'Superstar'\r\n",
                "        WHEN COUNT(Medal) >= 5 THEN 'Star'\r\n",
                "        WHEN COUNT(Medal) >= 1 THEN 'Participant'\r\n",
                "        ELSE 'No Medals'\r\n",
                "    END AS Medal_Category\r\n",
                "FROM OLYMPIC_HISTORY\r\n",
                "WHERE Medal IN ('Gold', 'Silver', 'Bronze')\r\n",
                "GROUP BY ID, Name\r\n",
                "ORDER by medal_count DESC\r\n",
                "Limit 50;\r\n",
                ""
            ],
            "metadata": {
                "azdata_cell_guid": "831b891c-11cf-4710-b080-c400c7689533",
                "language": "sql"
            },
            "outputs": [
                {
                    "output_type": "display_data",
                    "data": {
                        "text/html": "(50 row(s) affected)"
                    },
                    "metadata": {}
                },
                {
                    "output_type": "display_data",
                    "data": {
                        "text/html": "Total execution time: 00:00:00.237"
                    },
                    "metadata": {}
                },
                {
                    "output_type": "execute_result",
                    "metadata": {},
                    "execution_count": 19,
                    "data": {
                        "application/vnd.dataresource+json": {
                            "schema": {
                                "fields": [
                                    {
                                        "name": "id"
                                    },
                                    {
                                        "name": "name"
                                    },
                                    {
                                        "name": "medal_count"
                                    },
                                    {
                                        "name": "medal_category"
                                    }
                                ]
                            },
                            "data": [
                                {
                                    "id": "94406",
                                    "name": "Michael Fred Phelps, II",
                                    "medal_count": "28",
                                    "medal_category": "Superstar"
                                },
                                {
                                    "id": "67046",
                                    "name": "Larysa Semenivna Latynina (Diriy-)",
                                    "medal_count": "18",
                                    "medal_category": "Superstar"
                                },
                                {
                                    "id": "4198",
                                    "name": "Nikolay Yefimovich Andrianov",
                                    "medal_count": "15",
                                    "medal_category": "Superstar"
                                },
                                {
                                    "id": "89187",
                                    "name": "Takashi Ono",
                                    "medal_count": "13",
                                    "medal_category": "Superstar"
                                },
                                {
                                    "id": "109161",
                                    "name": "Borys Anfiyanovych Shakhlin",
                                    "medal_count": "13",
                                    "medal_category": "Superstar"
                                },
                                {
                                    "id": "11951",
                                    "name": "Ole Einar Bjrndalen",
                                    "medal_count": "13",
                                    "medal_category": "Superstar"
                                },
                                {
                                    "id": "74420",
                                    "name": "Edoardo Mangiarotti",
                                    "medal_count": "13",
                                    "medal_category": "Superstar"
                                },
                                {
                                    "id": "35550",
                                    "name": "Birgit Fischer-Schmidt",
                                    "medal_count": "12",
                                    "medal_category": "Superstar"
                                },
                                {
                                    "id": "87390",
                                    "name": "Paavo Johannes Nurmi",
                                    "medal_count": "12",
                                    "medal_category": "Superstar"
                                },
                                {
                                    "id": "57998",
                                    "name": "Sawao Kato",
                                    "medal_count": "12",
                                    "medal_category": "Superstar"
                                },
                                {
                                    "id": "70965",
                                    "name": "Ryan Steven Lochte",
                                    "medal_count": "12",
                                    "medal_category": "Superstar"
                                },
                                {
                                    "id": "23426",
                                    "name": "Natalie Anne Coughlin (-Hall)",
                                    "medal_count": "12",
                                    "medal_category": "Superstar"
                                },
                                {
                                    "id": "85286",
                                    "name": "Aleksey Yuryevich Nemov",
                                    "medal_count": "12",
                                    "medal_category": "Superstar"
                                },
                                {
                                    "id": "121258",
                                    "name": "Dara Grace Torres (-Hoffman, -Minas)",
                                    "medal_count": "12",
                                    "medal_category": "Superstar"
                                },
                                {
                                    "id": "119922",
                                    "name": "Jennifer Elisabeth \"Jenny\" Thompson (-Cumpelik)",
                                    "medal_count": "12",
                                    "medal_category": "Superstar"
                                },
                                {
                                    "id": "21402",
                                    "name": "Viktor Ivanovych Chukarin",
                                    "medal_count": "11",
                                    "medal_category": "Superstar"
                                },
                                {
                                    "id": "89706",
                                    "name": "Carl Townsend Osburn",
                                    "medal_count": "11",
                                    "medal_category": "Superstar"
                                },
                                {
                                    "id": "11642",
                                    "name": "Matthew Nicholas \"Matt\" Biondi",
                                    "medal_count": "11",
                                    "medal_category": "Superstar"
                                },
                                {
                                    "id": "18826",
                                    "name": "Vra slavsk (-Odloilov)",
                                    "medal_count": "11",
                                    "medal_category": "Superstar"
                                },
                                {
                                    "id": "113912",
                                    "name": "Mark Andrew Spitz",
                                    "medal_count": "11",
                                    "medal_category": "Superstar"
                                },
                                {
                                    "id": "124146",
                                    "name": "Franziska van Almsick",
                                    "medal_count": "10",
                                    "medal_category": "Superstar"
                                },
                                {
                                    "id": "39726",
                                    "name": "Aladr Gerevich (-Gerei)",
                                    "medal_count": "10",
                                    "medal_category": "Superstar"
                                },
                                {
                                    "id": "129726",
                                    "name": "Isabelle Regina Werth",
                                    "medal_count": "10",
                                    "medal_category": "Superstar"
                                },
                                {
                                    "id": "11943",
                                    "name": "Marit Bjrgen",
                                    "medal_count": "10",
                                    "medal_category": "Superstar"
                                },
                                {
                                    "id": "28790",
                                    "name": "Aleksandr Nikolayevich Dityatin",
                                    "medal_count": "10",
                                    "medal_category": "Superstar"
                                },
                                {
                                    "id": "33557",
                                    "name": "Raymond Clarence \"Ray\" Ewry",
                                    "medal_count": "10",
                                    "medal_category": "Superstar"
                                },
                                {
                                    "id": "58489",
                                    "name": "gnes Keleti-Srkny (Klein)",
                                    "medal_count": "10",
                                    "medal_category": "Superstar"
                                },
                                {
                                    "id": "69210",
                                    "name": "Frederick Carlton \"Carl\" Lewis",
                                    "medal_count": "10",
                                    "medal_category": "Superstar"
                                },
                                {
                                    "id": "9747",
                                    "name": "Stefania Belmondo",
                                    "medal_count": "10",
                                    "medal_category": "Superstar"
                                },
                                {
                                    "id": "84381",
                                    "name": "Akinori Nakayama",
                                    "medal_count": "10",
                                    "medal_category": "Superstar"
                                },
                                {
                                    "id": "45039",
                                    "name": "Gary Wayne Hall, Jr.",
                                    "medal_count": "10",
                                    "medal_category": "Superstar"
                                },
                                {
                                    "id": "5700",
                                    "name": "Polina Hryhorivna Astakhova",
                                    "medal_count": "10",
                                    "medal_category": "Superstar"
                                },
                                {
                                    "id": "124694",
                                    "name": "Gerard Theodor Hubert Van Innis",
                                    "medal_count": "10",
                                    "medal_category": "Superstar"
                                },
                                {
                                    "id": "109416",
                                    "name": "Vitaly Venediktovich Shcherbo",
                                    "medal_count": "10",
                                    "medal_category": "Superstar"
                                },
                                {
                                    "id": "112111",
                                    "name": "Raisa Petrovna Smetanina",
                                    "medal_count": "10",
                                    "medal_category": "Superstar"
                                },
                                {
                                    "id": "96173",
                                    "name": "Aleksandr Vladimirovich Popov",
                                    "medal_count": "9",
                                    "medal_category": "Star"
                                },
                                {
                                    "id": "120087",
                                    "name": "Ian James Thorpe",
                                    "medal_count": "9",
                                    "medal_category": "Star"
                                },
                                {
                                    "id": "127501",
                                    "name": "Mikhail Yakovlevich Voronin",
                                    "medal_count": "9",
                                    "medal_category": "Star"
                                },
                                {
                                    "id": "109597",
                                    "name": "Martin Joseph Sheridan",
                                    "medal_count": "9",
                                    "medal_category": "Star"
                                },
                                {
                                    "id": "126257",
                                    "name": "Maria Valentina Vezzali",
                                    "medal_count": "9",
                                    "medal_category": "Star"
                                },
                                {
                                    "id": "106296",
                                    "name": "Heikki Ilmari Savolainen",
                                    "medal_count": "9",
                                    "medal_category": "Star"
                                },
                                {
                                    "id": "90007",
                                    "name": "Merlene Joyce Ottey-Page",
                                    "medal_count": "9",
                                    "medal_category": "Star"
                                },
                                {
                                    "id": "132791",
                                    "name": "Lyubov Ivanovna Yegorova",
                                    "medal_count": "9",
                                    "medal_category": "Star"
                                },
                                {
                                    "id": "122726",
                                    "name": "Lyudmila Ivanovna Turishcheva (-Borzova)",
                                    "medal_count": "9",
                                    "medal_category": "Star"
                                },
                                {
                                    "id": "28751",
                                    "name": "Ursula \"Uschi\" Disl",
                                    "medal_count": "9",
                                    "medal_category": "Star"
                                },
                                {
                                    "id": "117045",
                                    "name": "Alfred Gomer Albert \"Alf\" Swahn",
                                    "medal_count": "9",
                                    "medal_category": "Star"
                                },
                                {
                                    "id": "58702",
                                    "name": "Eizo Kenmotsu",
                                    "medal_count": "9",
                                    "medal_category": "Star"
                                },
                                {
                                    "id": "34551",
                                    "name": "Allyson Michelle Felix",
                                    "medal_count": "9",
                                    "medal_category": "Star"
                                },
                                {
                                    "id": "55692",
                                    "name": "Leisel Marie Jones",
                                    "medal_count": "9",
                                    "medal_category": "Star"
                                },
                                {
                                    "id": "92566",
                                    "name": "Claudia Pechstein",
                                    "medal_count": "9",
                                    "medal_category": "Star"
                                }
                            ]
                        },
                        "text/html": [
                            "<table>",
                            "<tr><th>id</th><th>name</th><th>medal_count</th><th>medal_category</th></tr>",
                            "<tr><td>94406</td><td>Michael Fred Phelps, II</td><td>28</td><td>Superstar</td></tr>",
                            "<tr><td>67046</td><td>Larysa Semenivna Latynina (Diriy-)</td><td>18</td><td>Superstar</td></tr>",
                            "<tr><td>4198</td><td>Nikolay Yefimovich Andrianov</td><td>15</td><td>Superstar</td></tr>",
                            "<tr><td>89187</td><td>Takashi Ono</td><td>13</td><td>Superstar</td></tr>",
                            "<tr><td>109161</td><td>Borys Anfiyanovych Shakhlin</td><td>13</td><td>Superstar</td></tr>",
                            "<tr><td>11951</td><td>Ole Einar Bjrndalen</td><td>13</td><td>Superstar</td></tr>",
                            "<tr><td>74420</td><td>Edoardo Mangiarotti</td><td>13</td><td>Superstar</td></tr>",
                            "<tr><td>35550</td><td>Birgit Fischer-Schmidt</td><td>12</td><td>Superstar</td></tr>",
                            "<tr><td>87390</td><td>Paavo Johannes Nurmi</td><td>12</td><td>Superstar</td></tr>",
                            "<tr><td>57998</td><td>Sawao Kato</td><td>12</td><td>Superstar</td></tr>",
                            "<tr><td>70965</td><td>Ryan Steven Lochte</td><td>12</td><td>Superstar</td></tr>",
                            "<tr><td>23426</td><td>Natalie Anne Coughlin (-Hall)</td><td>12</td><td>Superstar</td></tr>",
                            "<tr><td>85286</td><td>Aleksey Yuryevich Nemov</td><td>12</td><td>Superstar</td></tr>",
                            "<tr><td>121258</td><td>Dara Grace Torres (-Hoffman, -Minas)</td><td>12</td><td>Superstar</td></tr>",
                            "<tr><td>119922</td><td>Jennifer Elisabeth &quot;Jenny&quot; Thompson (-Cumpelik)</td><td>12</td><td>Superstar</td></tr>",
                            "<tr><td>21402</td><td>Viktor Ivanovych Chukarin</td><td>11</td><td>Superstar</td></tr>",
                            "<tr><td>89706</td><td>Carl Townsend Osburn</td><td>11</td><td>Superstar</td></tr>",
                            "<tr><td>11642</td><td>Matthew Nicholas &quot;Matt&quot; Biondi</td><td>11</td><td>Superstar</td></tr>",
                            "<tr><td>18826</td><td>Vra slavsk (-Odloilov)</td><td>11</td><td>Superstar</td></tr>",
                            "<tr><td>113912</td><td>Mark Andrew Spitz</td><td>11</td><td>Superstar</td></tr>",
                            "<tr><td>124146</td><td>Franziska van Almsick</td><td>10</td><td>Superstar</td></tr>",
                            "<tr><td>39726</td><td>Aladr Gerevich (-Gerei)</td><td>10</td><td>Superstar</td></tr>",
                            "<tr><td>129726</td><td>Isabelle Regina Werth</td><td>10</td><td>Superstar</td></tr>",
                            "<tr><td>11943</td><td>Marit Bjrgen</td><td>10</td><td>Superstar</td></tr>",
                            "<tr><td>28790</td><td>Aleksandr Nikolayevich Dityatin</td><td>10</td><td>Superstar</td></tr>",
                            "<tr><td>33557</td><td>Raymond Clarence &quot;Ray&quot; Ewry</td><td>10</td><td>Superstar</td></tr>",
                            "<tr><td>58489</td><td>gnes Keleti-Srkny (Klein)</td><td>10</td><td>Superstar</td></tr>",
                            "<tr><td>69210</td><td>Frederick Carlton &quot;Carl&quot; Lewis</td><td>10</td><td>Superstar</td></tr>",
                            "<tr><td>9747</td><td>Stefania Belmondo</td><td>10</td><td>Superstar</td></tr>",
                            "<tr><td>84381</td><td>Akinori Nakayama</td><td>10</td><td>Superstar</td></tr>",
                            "<tr><td>45039</td><td>Gary Wayne Hall, Jr.</td><td>10</td><td>Superstar</td></tr>",
                            "<tr><td>5700</td><td>Polina Hryhorivna Astakhova</td><td>10</td><td>Superstar</td></tr>",
                            "<tr><td>124694</td><td>Gerard Theodor Hubert Van Innis</td><td>10</td><td>Superstar</td></tr>",
                            "<tr><td>109416</td><td>Vitaly Venediktovich Shcherbo</td><td>10</td><td>Superstar</td></tr>",
                            "<tr><td>112111</td><td>Raisa Petrovna Smetanina</td><td>10</td><td>Superstar</td></tr>",
                            "<tr><td>96173</td><td>Aleksandr Vladimirovich Popov</td><td>9</td><td>Star</td></tr>",
                            "<tr><td>120087</td><td>Ian James Thorpe</td><td>9</td><td>Star</td></tr>",
                            "<tr><td>127501</td><td>Mikhail Yakovlevich Voronin</td><td>9</td><td>Star</td></tr>",
                            "<tr><td>109597</td><td>Martin Joseph Sheridan</td><td>9</td><td>Star</td></tr>",
                            "<tr><td>126257</td><td>Maria Valentina Vezzali</td><td>9</td><td>Star</td></tr>",
                            "<tr><td>106296</td><td>Heikki Ilmari Savolainen</td><td>9</td><td>Star</td></tr>",
                            "<tr><td>90007</td><td>Merlene Joyce Ottey-Page</td><td>9</td><td>Star</td></tr>",
                            "<tr><td>132791</td><td>Lyubov Ivanovna Yegorova</td><td>9</td><td>Star</td></tr>",
                            "<tr><td>122726</td><td>Lyudmila Ivanovna Turishcheva (-Borzova)</td><td>9</td><td>Star</td></tr>",
                            "<tr><td>28751</td><td>Ursula &quot;Uschi&quot; Disl</td><td>9</td><td>Star</td></tr>",
                            "<tr><td>117045</td><td>Alfred Gomer Albert &quot;Alf&quot; Swahn</td><td>9</td><td>Star</td></tr>",
                            "<tr><td>58702</td><td>Eizo Kenmotsu</td><td>9</td><td>Star</td></tr>",
                            "<tr><td>34551</td><td>Allyson Michelle Felix</td><td>9</td><td>Star</td></tr>",
                            "<tr><td>55692</td><td>Leisel Marie Jones</td><td>9</td><td>Star</td></tr>",
                            "<tr><td>92566</td><td>Claudia Pechstein</td><td>9</td><td>Star</td></tr>",
                            "</table>"
                        ]
                    }
                }
            ],
            "execution_count": 19
        },
        {
            "cell_type": "markdown",
            "source": [
                "**How does the distribution of medals differ between male and female athletes?**"
            ],
            "metadata": {
                "azdata_cell_guid": "c612fd5b-9bc9-4abf-b730-fa7645fafc4e"
            },
            "attachments": {}
        },
        {
            "cell_type": "code",
            "source": [
                "SELECT Sex,Medal,COUNT(*) AS Medal_Count\r\n",
                "FROM OLYMPIC_HISTORY\r\n",
                "WHERE Medal IN('Gold','Silver','Bronze')\r\n",
                "GROUP BY Sex,Medal\r\n",
                ""
            ],
            "metadata": {
                "azdata_cell_guid": "094728a5-a3a4-4fcd-a6fd-1c2d6ef70933",
                "language": "sql"
            },
            "outputs": [
                {
                    "output_type": "display_data",
                    "data": {
                        "text/html": "(6 row(s) affected)"
                    },
                    "metadata": {}
                },
                {
                    "output_type": "display_data",
                    "data": {
                        "text/html": "Total execution time: 00:00:00.202"
                    },
                    "metadata": {}
                },
                {
                    "output_type": "execute_result",
                    "metadata": {},
                    "execution_count": 34,
                    "data": {
                        "application/vnd.dataresource+json": {
                            "schema": {
                                "fields": [
                                    {
                                        "name": "sex"
                                    },
                                    {
                                        "name": "medal"
                                    },
                                    {
                                        "name": "medal_count"
                                    }
                                ]
                            },
                            "data": [
                                {
                                    "sex": "F",
                                    "medal": "Bronze",
                                    "medal_count": "3771"
                                },
                                {
                                    "sex": "F",
                                    "medal": "Gold",
                                    "medal_count": "3747"
                                },
                                {
                                    "sex": "F",
                                    "medal": "Silver",
                                    "medal_count": "3735"
                                },
                                {
                                    "sex": "M",
                                    "medal": "Bronze",
                                    "medal_count": "9524"
                                },
                                {
                                    "sex": "M",
                                    "medal": "Gold",
                                    "medal_count": "9625"
                                },
                                {
                                    "sex": "M",
                                    "medal": "Silver",
                                    "medal_count": "9381"
                                }
                            ]
                        },
                        "text/html": [
                            "<table>",
                            "<tr><th>sex</th><th>medal</th><th>medal_count</th></tr>",
                            "<tr><td>F</td><td>Bronze</td><td>3771</td></tr>",
                            "<tr><td>F</td><td>Gold</td><td>3747</td></tr>",
                            "<tr><td>F</td><td>Silver</td><td>3735</td></tr>",
                            "<tr><td>M</td><td>Bronze</td><td>9524</td></tr>",
                            "<tr><td>M</td><td>Gold</td><td>9625</td></tr>",
                            "<tr><td>M</td><td>Silver</td><td>9381</td></tr>",
                            "</table>"
                        ]
                    }
                }
            ],
            "execution_count": 34
        },
        {
            "cell_type": "markdown",
            "source": [
                "**Certainly! Let's refine these insights using the given information about the Olympics dataset:**\n",
                "\n",
                "**\\-Total Olympic Games Held:**\n",
                "\n",
                "<span style=\"color: var(--vscode-foreground);\">There have been a total of 51 Olympic Games held from 1896 to 2016.</span>  \n",
                "\n",
                "**\\-Nations' Participation:**\n",
                "\n",
                "The highest participation of nations in a single Olympic event was 199 in the 2004 Summer Olympics, while the lowest was 12 in the 1896 Summer Olympics.\n",
                "\n",
                "Specifically, France, Italy, Switzerland, and the UK were among the consistent participating countries across various Olympic events.\n",
                "\n",
                "**\\-Most Decorated Athletes:**\n",
                "\n",
                "Michael Fred Phelps II holds the record for the most Olympic medals, winning 28 medals.\n",
                "\n",
                "Larysa Semenivna Latynina follows closely with 18 medals, while Urszula Kielan won one medal and ranked 6997 among athletes.\n",
                "\n",
                "**\\-Sports in Specific Olympic Games:**\n",
                "\n",
                "The number of sports was consistent at 34 in the 2000, 2004, 2016, and 2008 Summer Olympics.\n",
                "\n",
                "**\\-Oldest Gold Medalists:**\n",
                "\n",
                "Charles Jacobus and Oscar Gomer Swahn were the oldest athletes to win a gold medal. Charles won in the 1904 Summer Olympics, while Oscar achieved this feat in the 1912 Summer Olympics.\n",
                "\n",
                "**\\-Gender Participation Ratio:**\n",
                "\n",
                "The overall ratio of male to female participation across all Olympic Games stands at approximately 1:2.64.\n",
                "\n",
                "**\\-Top 5 Athletes by Gold Medals:**\n",
                "\n",
                "The top five athletes with the most gold medals are Michael Fred Phelps, Raymond Clarence, Paavo Johannes Nurmi, Frederick Carlton, and Larysa Semenivna Latynina.\n",
                "\n",
                "**These insights summarize various aspects of the Olympics dataset, including historical participation, outstanding athletes, nations' involvement, gender representation, and exceptional achievements in sports.**"
            ],
            "metadata": {
                "language": "sql",
                "azdata_cell_guid": "ca61d37a-5a72-4ad6-814f-629606f0baed"
            },
            "attachments": {}
        }
    ]
}