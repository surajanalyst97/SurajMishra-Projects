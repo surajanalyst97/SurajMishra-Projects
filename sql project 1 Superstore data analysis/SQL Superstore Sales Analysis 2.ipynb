{
    "metadata": {
        "kernelspec": {
            "name": "SQL",
            "display_name": "SQL",
            "language": "sql"
        },
        "language_info": {
            "name": "sql",
            "version": ""
        }
    },
    "nbformat_minor": 2,
    "nbformat": 4,
    "cells": [
        {
            "cell_type": "markdown",
            "source": [
                "## **Superstore-Sales Analysis**\n",
                "\n",
                "<span style=\"color: rgb(60, 64, 67); font-family: Inter, sans-serif; background-color: rgb(255, 255, 255);\">The&nbsp;</span> <span style=\"border: 0px; font-family: Inter, sans-serif; font-variant-alternates: inherit; font-variant-numeric: inherit; font-variant-east-asian: inherit; font-weight: 700; margin: 0px; padding: 0px; vertical-align: baseline; color: rgb(60, 64, 67); background-color: rgb(255, 255, 255);\">\"Superstore Sales\"</span> <span style=\"color: rgb(60, 64, 67); font-family: Inter, sans-serif; background-color: rgb(255, 255, 255);\">&nbsp;dataset is a comprehensive and versatile collection of data that provides valuable insights into sales, customer behavior, and product performance.&nbsp;</span> \n",
                "\n",
                "**This notebook has created through Azure Data Studio and provides a Sales Analysis using PostgreSql**\n",
                "\n",
                " <span style=\"color: rgba(0, 0, 0, 0.7); font-family: Inter, sans-serif; background-color: rgb(255, 255, 255);\">&nbsp;The analysis aims to uncover valuable patterns, trends, and insights that can help the company better understand its sales dynamics, customer behavior, and profitability.</span>  \n",
                "\n",
                "### Content\n",
                "\n",
                "The dataset contains records of successful orders. It also contains features such as the `Order Date`, `Ship Date`, `Country` and `Region` from where the customer lives/resides, product `Category`,`Quantity`, `Sales` and `Profit`.\n",
                "\n",
                "Below are variable descriptions for each of the columns:\n",
                "\n",
                "- `row_id`: unique row identifier\n",
                "- `order_id`: unique order identifier\n",
                "- `order_date`: date the order was placed\n",
                "- `ship_date`: date the order was shipped\n",
                "- `ship_mode`: how the order was shipped\n",
                "- `customer_id`: unique customer identifier\n",
                "- `customer_name`: customer name\n",
                "- `segment`: segment of product\n",
                "- `country`: country of customer\n",
                "- `city`: city of customer\n",
                "- `state`: state of customer\n",
                "- `postal_code`: postal code of customer\n",
                "- `region`: Superstore region represented\n",
                "- `product_id`: unique product identifier\n",
                "- `category`: category of product\n",
                "- `sub_category`: subcategory of product\n",
                "- `product_name`: name of product\n",
                "- `sales`: total sales of that product in the order\n",
                "- `quantity`: total units sold of that product in the order\n",
                "- `discount`: percent discount applied for that product in the order\n",
                "- `profit`: total profit for that product in the order (net profit, all expenses including discount)\n",
                "\n",
                "Although SQL is used to retrieve data which is then formatted for presentations using other tools ,but my aim is to make this notebook self contained ,for the purpose of which I have formatted table columns for example as currency provided data visualization of the queries"
            ],
            "metadata": {
                "azdata_cell_guid": "b3f87e71-112d-49df-ae5e-579e6af4446a"
            },
            "attachments": {}
        },
        {
            "cell_type": "markdown",
            "source": [
                "## **Importing the data into PostgreSQL**"
            ],
            "metadata": {
                "azdata_cell_guid": "4fc0c8c3-f2e8-436d-8f67-0fb280ebd297"
            },
            "attachments": {}
        },
        {
            "cell_type": "code",
            "source": [
                "DROP TABLE IF EXISTS Superstore_sales;\r\n",
                "\r\n",
                "CREATE TABLE Superstore_sales (\r\n",
                "    Row_ID INT,\r\n",
                "    Order_ID VARCHAR,\r\n",
                "    Order_Date DATE,\r\n",
                "    Ship_Date DATE,\r\n",
                "    Ship_Mode VARCHAR,\r\n",
                "    Customer_ID VARCHAR,\r\n",
                "    Customer_Name VARCHAR,\r\n",
                "    Segment VARCHAR,\r\n",
                "    Country VARCHAR,\r\n",
                "    City VARCHAR,\r\n",
                "    State VARCHAR,\r\n",
                "    Postal_Code INT,\r\n",
                "    Region VARCHAR,\r\n",
                "    Product_ID VARCHAR,\r\n",
                "    Category VARCHAR,\r\n",
                "    Sub_Category VARCHAR,\r\n",
                "    Product_Name VARCHAR,\r\n",
                "    Sales DECIMAL,\r\n",
                "    Quantity INT,\r\n",
                "    Discount DECIMAL,\r\n",
                "    Profit DECIMAL\r\n",
                ");\r\n",
                "\r\n",
                "\r\n",
                "--Although I have created table as ecommerce_Dat Superstore_sales in PostgreSQL and import it here ,so further I am using Superstore_sales Only"
            ],
            "metadata": {
                "azdata_cell_guid": "abe03ed6-c181-4964-8126-89ab6e5e3fb4",
                "language": "sql"
            },
            "outputs": [
                {
                    "output_type": "display_data",
                    "data": {
                        "text/html": "Commands completed successfully"
                    },
                    "metadata": {}
                },
                {
                    "output_type": "display_data",
                    "data": {
                        "text/html": "Total execution time: 00:00:01.212"
                    },
                    "metadata": {}
                }
            ],
            "execution_count": 3
        },
        {
            "cell_type": "code",
            "source": [
                "--Look at first few records only\r\n",
                "\r\n",
                "Select * \r\n",
                "from superstore_sales\r\n",
                "limit 10;"
            ],
            "metadata": {
                "azdata_cell_guid": "6dc05bc4-300a-43ff-a467-da32134e9f98",
                "language": "sql",
                "tags": []
            },
            "outputs": [
                {
                    "output_type": "display_data",
                    "data": {
                        "text/html": "(10 row(s) affected)"
                    },
                    "metadata": {}
                },
                {
                    "output_type": "display_data",
                    "data": {
                        "text/html": "Total execution time: 00:00:00.010"
                    },
                    "metadata": {}
                },
                {
                    "output_type": "execute_result",
                    "execution_count": 1,
                    "data": {
                        "application/vnd.dataresource+json": {
                            "schema": {
                                "fields": [
                                    {
                                        "name": "row_id"
                                    },
                                    {
                                        "name": "order_id"
                                    },
                                    {
                                        "name": "order_date"
                                    },
                                    {
                                        "name": "ship_date"
                                    },
                                    {
                                        "name": "ship_mode"
                                    },
                                    {
                                        "name": "customer_id"
                                    },
                                    {
                                        "name": "customer_name"
                                    },
                                    {
                                        "name": "segment"
                                    },
                                    {
                                        "name": "country"
                                    },
                                    {
                                        "name": "city"
                                    },
                                    {
                                        "name": "state"
                                    },
                                    {
                                        "name": "postal_code"
                                    },
                                    {
                                        "name": "region"
                                    },
                                    {
                                        "name": "product_id"
                                    },
                                    {
                                        "name": "category"
                                    },
                                    {
                                        "name": "sub_category"
                                    },
                                    {
                                        "name": "product_name"
                                    },
                                    {
                                        "name": "sales"
                                    },
                                    {
                                        "name": "quantity"
                                    },
                                    {
                                        "name": "discount"
                                    },
                                    {
                                        "name": "profit"
                                    }
                                ]
                            },
                            "data": [
                                {
                                    "row_id": "1",
                                    "order_id": "CA-2013-152156",
                                    "order_date": "2013-11-09",
                                    "ship_date": "2013-11-12",
                                    "ship_mode": "Second Class",
                                    "customer_id": "CG-12520",
                                    "customer_name": "Claire Gute",
                                    "segment": "Consumer",
                                    "country": "United States",
                                    "city": "Henderson",
                                    "state": "Kentucky",
                                    "postal_code": "42420",
                                    "region": "South",
                                    "product_id": "FUR-BO-10001798",
                                    "category": "Furniture",
                                    "sub_category": "Bookcases",
                                    "product_name": "Bush Somerset Collection Bookcase",
                                    "sales": "261.96",
                                    "quantity": "2",
                                    "discount": "0",
                                    "profit": "41.9136"
                                },
                                {
                                    "row_id": "2",
                                    "order_id": "CA-2013-152156",
                                    "order_date": "2013-11-09",
                                    "ship_date": "2013-11-12",
                                    "ship_mode": "Second Class",
                                    "customer_id": "CG-12520",
                                    "customer_name": "Claire Gute",
                                    "segment": "Consumer",
                                    "country": "United States",
                                    "city": "Henderson",
                                    "state": "Kentucky",
                                    "postal_code": "42420",
                                    "region": "South",
                                    "product_id": "FUR-CH-10000454",
                                    "category": "Furniture",
                                    "sub_category": "Chairs",
                                    "product_name": "Hon Deluxe Fabric Upholstered Stacking Chairs, Rounded Back",
                                    "sales": "731.94",
                                    "quantity": "3",
                                    "discount": "0",
                                    "profit": "219.582"
                                },
                                {
                                    "row_id": "3",
                                    "order_id": "CA-2013-138688",
                                    "order_date": "2013-06-13",
                                    "ship_date": "2013-06-17",
                                    "ship_mode": "Second Class",
                                    "customer_id": "DV-13045",
                                    "customer_name": "Darrin Van Huff",
                                    "segment": "Corporate",
                                    "country": "United States",
                                    "city": "Los Angeles",
                                    "state": "California",
                                    "postal_code": "90036",
                                    "region": "West",
                                    "product_id": "OFF-LA-10000240",
                                    "category": "Office Supplies",
                                    "sub_category": "Labels",
                                    "product_name": "Self-Adhesive Address Labels for Typewriters by Universal",
                                    "sales": "14.62",
                                    "quantity": "2",
                                    "discount": "0",
                                    "profit": "6.8714"
                                },
                                {
                                    "row_id": "4",
                                    "order_id": "US-2012-108966",
                                    "order_date": "2012-10-11",
                                    "ship_date": "2012-10-18",
                                    "ship_mode": "Standard Class",
                                    "customer_id": "SO-20335",
                                    "customer_name": "Sean O'Donnell",
                                    "segment": "Consumer",
                                    "country": "United States",
                                    "city": "Fort Lauderdale",
                                    "state": "Florida",
                                    "postal_code": "33311",
                                    "region": "South",
                                    "product_id": "FUR-TA-10000577",
                                    "category": "Furniture",
                                    "sub_category": "Tables",
                                    "product_name": "Bretford CR4500 Series Slim Rectangular Table",
                                    "sales": "957.5775",
                                    "quantity": "5",
                                    "discount": "0.45",
                                    "profit": "-383.031"
                                },
                                {
                                    "row_id": "5",
                                    "order_id": "US-2012-108966",
                                    "order_date": "2012-10-11",
                                    "ship_date": "2012-10-18",
                                    "ship_mode": "Standard Class",
                                    "customer_id": "SO-20335",
                                    "customer_name": "Sean O'Donnell",
                                    "segment": "Consumer",
                                    "country": "United States",
                                    "city": "Fort Lauderdale",
                                    "state": "Florida",
                                    "postal_code": "33311",
                                    "region": "South",
                                    "product_id": "OFF-ST-10000760",
                                    "category": "Office Supplies",
                                    "sub_category": "Storage",
                                    "product_name": "Eldon Fold 'N Roll Cart System",
                                    "sales": "22.368",
                                    "quantity": "2",
                                    "discount": "0.2",
                                    "profit": "2.5164"
                                },
                                {
                                    "row_id": "6",
                                    "order_id": "CA-2011-115812",
                                    "order_date": "2011-06-09",
                                    "ship_date": "2011-06-14",
                                    "ship_mode": "Standard Class",
                                    "customer_id": "BH-11710",
                                    "customer_name": "Brosina Hoffman",
                                    "segment": "Consumer",
                                    "country": "United States",
                                    "city": "Los Angeles",
                                    "state": "California",
                                    "postal_code": "90032",
                                    "region": "West",
                                    "product_id": "FUR-FU-10001487",
                                    "category": "Furniture",
                                    "sub_category": "Furnishings",
                                    "product_name": "Eldon Expressions Wood and Plastic Desk Accessories, Cherry Wood",
                                    "sales": "48.86",
                                    "quantity": "7",
                                    "discount": "0",
                                    "profit": "14.1694"
                                },
                                {
                                    "row_id": "7",
                                    "order_id": "CA-2011-115812",
                                    "order_date": "2011-06-09",
                                    "ship_date": "2011-06-14",
                                    "ship_mode": "Standard Class",
                                    "customer_id": "BH-11710",
                                    "customer_name": "Brosina Hoffman",
                                    "segment": "Consumer",
                                    "country": "United States",
                                    "city": "Los Angeles",
                                    "state": "California",
                                    "postal_code": "90032",
                                    "region": "West",
                                    "product_id": "OFF-AR-10002833",
                                    "category": "Office Supplies",
                                    "sub_category": "Art",
                                    "product_name": "Newell 322",
                                    "sales": "7.28",
                                    "quantity": "4",
                                    "discount": "0",
                                    "profit": "1.9656"
                                },
                                {
                                    "row_id": "8",
                                    "order_id": "CA-2011-115812",
                                    "order_date": "2011-06-09",
                                    "ship_date": "2011-06-14",
                                    "ship_mode": "Standard Class",
                                    "customer_id": "BH-11710",
                                    "customer_name": "Brosina Hoffman",
                                    "segment": "Consumer",
                                    "country": "United States",
                                    "city": "Los Angeles",
                                    "state": "California",
                                    "postal_code": "90032",
                                    "region": "West",
                                    "product_id": "TEC-PH-10002275",
                                    "category": "Technology",
                                    "sub_category": "Phones",
                                    "product_name": "Mitel 5320 IP Phone VoIP phone",
                                    "sales": "907.152",
                                    "quantity": "6",
                                    "discount": "0.2",
                                    "profit": "90.7152"
                                },
                                {
                                    "row_id": "9",
                                    "order_id": "CA-2011-115812",
                                    "order_date": "2011-06-09",
                                    "ship_date": "2011-06-14",
                                    "ship_mode": "Standard Class",
                                    "customer_id": "BH-11710",
                                    "customer_name": "Brosina Hoffman",
                                    "segment": "Consumer",
                                    "country": "United States",
                                    "city": "Los Angeles",
                                    "state": "California",
                                    "postal_code": "90032",
                                    "region": "West",
                                    "product_id": "OFF-BI-10003910",
                                    "category": "Office Supplies",
                                    "sub_category": "Binders",
                                    "product_name": "DXL Angle-View Binders with Locking Rings by Samsill",
                                    "sales": "18.504",
                                    "quantity": "3",
                                    "discount": "0.2",
                                    "profit": "5.7825"
                                },
                                {
                                    "row_id": "10",
                                    "order_id": "CA-2011-115812",
                                    "order_date": "2011-06-09",
                                    "ship_date": "2011-06-14",
                                    "ship_mode": "Standard Class",
                                    "customer_id": "BH-11710",
                                    "customer_name": "Brosina Hoffman",
                                    "segment": "Consumer",
                                    "country": "United States",
                                    "city": "Los Angeles",
                                    "state": "California",
                                    "postal_code": "90032",
                                    "region": "West",
                                    "product_id": "OFF-AP-10002892",
                                    "category": "Office Supplies",
                                    "sub_category": "Appliances",
                                    "product_name": "Belkin F5C206VTEL 6 Outlet Surge",
                                    "sales": "114.9",
                                    "quantity": "5",
                                    "discount": "0",
                                    "profit": "34.47"
                                }
                            ]
                        },
                        "text/html": "<table><tr><th>row_id</th><th>order_id</th><th>order_date</th><th>ship_date</th><th>ship_mode</th><th>customer_id</th><th>customer_name</th><th>segment</th><th>country</th><th>city</th><th>state</th><th>postal_code</th><th>region</th><th>product_id</th><th>category</th><th>sub_category</th><th>product_name</th><th>sales</th><th>quantity</th><th>discount</th><th>profit</th></tr><tr><td>1</td><td>CA-2013-152156</td><td>2013-11-09</td><td>2013-11-12</td><td>Second Class</td><td>CG-12520</td><td>Claire Gute</td><td>Consumer</td><td>United States</td><td>Henderson</td><td>Kentucky</td><td>42420</td><td>South</td><td>FUR-BO-10001798</td><td>Furniture</td><td>Bookcases</td><td>Bush Somerset Collection Bookcase</td><td>261.96</td><td>2</td><td>0</td><td>41.9136</td></tr><tr><td>2</td><td>CA-2013-152156</td><td>2013-11-09</td><td>2013-11-12</td><td>Second Class</td><td>CG-12520</td><td>Claire Gute</td><td>Consumer</td><td>United States</td><td>Henderson</td><td>Kentucky</td><td>42420</td><td>South</td><td>FUR-CH-10000454</td><td>Furniture</td><td>Chairs</td><td>Hon Deluxe Fabric Upholstered Stacking Chairs, Rounded Back</td><td>731.94</td><td>3</td><td>0</td><td>219.582</td></tr><tr><td>3</td><td>CA-2013-138688</td><td>2013-06-13</td><td>2013-06-17</td><td>Second Class</td><td>DV-13045</td><td>Darrin Van Huff</td><td>Corporate</td><td>United States</td><td>Los Angeles</td><td>California</td><td>90036</td><td>West</td><td>OFF-LA-10000240</td><td>Office Supplies</td><td>Labels</td><td>Self-Adhesive Address Labels for Typewriters by Universal</td><td>14.62</td><td>2</td><td>0</td><td>6.8714</td></tr><tr><td>4</td><td>US-2012-108966</td><td>2012-10-11</td><td>2012-10-18</td><td>Standard Class</td><td>SO-20335</td><td>Sean O&#39;Donnell</td><td>Consumer</td><td>United States</td><td>Fort Lauderdale</td><td>Florida</td><td>33311</td><td>South</td><td>FUR-TA-10000577</td><td>Furniture</td><td>Tables</td><td>Bretford CR4500 Series Slim Rectangular Table</td><td>957.5775</td><td>5</td><td>0.45</td><td>-383.031</td></tr><tr><td>5</td><td>US-2012-108966</td><td>2012-10-11</td><td>2012-10-18</td><td>Standard Class</td><td>SO-20335</td><td>Sean O&#39;Donnell</td><td>Consumer</td><td>United States</td><td>Fort Lauderdale</td><td>Florida</td><td>33311</td><td>South</td><td>OFF-ST-10000760</td><td>Office Supplies</td><td>Storage</td><td>Eldon Fold &#39;N Roll Cart System</td><td>22.368</td><td>2</td><td>0.2</td><td>2.5164</td></tr><tr><td>6</td><td>CA-2011-115812</td><td>2011-06-09</td><td>2011-06-14</td><td>Standard Class</td><td>BH-11710</td><td>Brosina Hoffman</td><td>Consumer</td><td>United States</td><td>Los Angeles</td><td>California</td><td>90032</td><td>West</td><td>FUR-FU-10001487</td><td>Furniture</td><td>Furnishings</td><td>Eldon Expressions Wood and Plastic Desk Accessories, Cherry Wood</td><td>48.86</td><td>7</td><td>0</td><td>14.1694</td></tr><tr><td>7</td><td>CA-2011-115812</td><td>2011-06-09</td><td>2011-06-14</td><td>Standard Class</td><td>BH-11710</td><td>Brosina Hoffman</td><td>Consumer</td><td>United States</td><td>Los Angeles</td><td>California</td><td>90032</td><td>West</td><td>OFF-AR-10002833</td><td>Office Supplies</td><td>Art</td><td>Newell 322</td><td>7.28</td><td>4</td><td>0</td><td>1.9656</td></tr><tr><td>8</td><td>CA-2011-115812</td><td>2011-06-09</td><td>2011-06-14</td><td>Standard Class</td><td>BH-11710</td><td>Brosina Hoffman</td><td>Consumer</td><td>United States</td><td>Los Angeles</td><td>California</td><td>90032</td><td>West</td><td>TEC-PH-10002275</td><td>Technology</td><td>Phones</td><td>Mitel 5320 IP Phone VoIP phone</td><td>907.152</td><td>6</td><td>0.2</td><td>90.7152</td></tr><tr><td>9</td><td>CA-2011-115812</td><td>2011-06-09</td><td>2011-06-14</td><td>Standard Class</td><td>BH-11710</td><td>Brosina Hoffman</td><td>Consumer</td><td>United States</td><td>Los Angeles</td><td>California</td><td>90032</td><td>West</td><td>OFF-BI-10003910</td><td>Office Supplies</td><td>Binders</td><td>DXL Angle-View Binders with Locking Rings by Samsill</td><td>18.504</td><td>3</td><td>0.2</td><td>5.7825</td></tr><tr><td>10</td><td>CA-2011-115812</td><td>2011-06-09</td><td>2011-06-14</td><td>Standard Class</td><td>BH-11710</td><td>Brosina Hoffman</td><td>Consumer</td><td>United States</td><td>Los Angeles</td><td>California</td><td>90032</td><td>West</td><td>OFF-AP-10002892</td><td>Office Supplies</td><td>Appliances</td><td>Belkin F5C206VTEL 6 Outlet Surge</td><td>114.9</td><td>5</td><td>0</td><td>34.47</td></tr></table>"
                    },
                    "metadata": {}
                }
            ],
            "execution_count": 1
        },
        {
            "cell_type": "markdown",
            "source": [
                "<span style=\"color: rgba(0, 0, 0, 0.7); font-family: Inter, sans-serif; background-color: rgb(255, 255, 255);\">The dataset contains 9994 records (rows) and 21 features (columns). Among the features, 2 have datetime data type (date), 3 are floating point (decimals), 3 are integers (whole numbers), and 13 are object (strings) data types. It also has no missing values.</span>"
            ],
            "metadata": {
                "language": "sql",
                "azdata_cell_guid": "d194b89a-e4c0-47a1-9f1e-5a55dfb8df71"
            },
            "attachments": {}
        },
        {
            "cell_type": "markdown",
            "source": [
                "**Total Sales Analysis**"
            ],
            "metadata": {
                "azdata_cell_guid": "61359624-5866-4078-9959-cb0ad1443dab"
            },
            "attachments": {}
        },
        {
            "cell_type": "code",
            "source": [
                "--What is the total sales revenue ?\r\n",
                "\r\n",
                "Select SUM(sales) as Total_Sales\r\n",
                "from superstore_sales;"
            ],
            "metadata": {
                "azdata_cell_guid": "dd57025e-2789-47fa-8fd6-5375852bfe42",
                "language": "sql"
            },
            "outputs": [
                {
                    "output_type": "display_data",
                    "data": {
                        "text/html": "(1 row(s) affected)"
                    },
                    "metadata": {}
                },
                {
                    "output_type": "display_data",
                    "data": {
                        "text/html": "Total execution time: 00:00:00.019"
                    },
                    "metadata": {}
                },
                {
                    "output_type": "execute_result",
                    "execution_count": 4,
                    "data": {
                        "application/vnd.dataresource+json": {
                            "schema": {
                                "fields": [
                                    {
                                        "name": "total_sales"
                                    }
                                ]
                            },
                            "data": [
                                {
                                    "total_sales": "2297200.8603"
                                }
                            ]
                        },
                        "text/html": "<table><tr><th>total_sales</th></tr><tr><td>2297200.8603</td></tr></table>"
                    },
                    "metadata": {}
                }
            ],
            "execution_count": 4
        },
        {
            "cell_type": "code",
            "source": [
                "--Total Orders Placed \r\n",
                "\r\n",
                "Select COUNT(Distinct Order_ID) as Total_OrdersPlaced\r\n",
                "from superstore_sales;"
            ],
            "metadata": {
                "language": "sql",
                "azdata_cell_guid": "2bf76be1-e828-4756-9870-8804871db3c9"
            },
            "outputs": [
                {
                    "output_type": "display_data",
                    "data": {
                        "text/html": "(1 row(s) affected)"
                    },
                    "metadata": {}
                },
                {
                    "output_type": "display_data",
                    "data": {
                        "text/html": "Total execution time: 00:00:00.094"
                    },
                    "metadata": {}
                },
                {
                    "output_type": "execute_result",
                    "execution_count": 1,
                    "data": {
                        "application/vnd.dataresource+json": {
                            "schema": {
                                "fields": [
                                    {
                                        "name": "total_ordersplaced"
                                    }
                                ]
                            },
                            "data": [
                                {
                                    "total_ordersplaced": "5009"
                                }
                            ]
                        },
                        "text/html": "<table><tr><th>total_ordersplaced</th></tr><tr><td>5009</td></tr></table>"
                    },
                    "metadata": {}
                }
            ],
            "execution_count": 1
        },
        {
            "cell_type": "code",
            "source": [
                "--Orders Placed Each Month \r\n",
                "\r\n",
                "Select Extract(Month from Order_Date) as Month, COUNT (*) as OrdersPlaced \r\n",
                "from superstore_sales\r\n",
                "Group by Extract(Month from Order_Date)\r\n",
                "Order by Month;\r\n",
                "\r\n",
                "\r\n",
                "--In the month of Nov most of the sales has been placed "
            ],
            "metadata": {
                "language": "sql",
                "azdata_cell_guid": "24bd7cdd-dcf5-4581-8998-2ea4e9faa63b"
            },
            "outputs": [
                {
                    "output_type": "display_data",
                    "data": {
                        "text/html": "(12 row(s) affected)"
                    },
                    "metadata": {}
                },
                {
                    "output_type": "display_data",
                    "data": {
                        "text/html": "Total execution time: 00:00:00.053"
                    },
                    "metadata": {}
                },
                {
                    "output_type": "execute_result",
                    "execution_count": 2,
                    "data": {
                        "application/vnd.dataresource+json": {
                            "schema": {
                                "fields": [
                                    {
                                        "name": "month"
                                    },
                                    {
                                        "name": "ordersplaced"
                                    }
                                ]
                            },
                            "data": [
                                {
                                    "month": "1",
                                    "ordersplaced": "387"
                                },
                                {
                                    "month": "2",
                                    "ordersplaced": "301"
                                },
                                {
                                    "month": "3",
                                    "ordersplaced": "680"
                                },
                                {
                                    "month": "4",
                                    "ordersplaced": "663"
                                },
                                {
                                    "month": "5",
                                    "ordersplaced": "750"
                                },
                                {
                                    "month": "6",
                                    "ordersplaced": "709"
                                },
                                {
                                    "month": "7",
                                    "ordersplaced": "708"
                                },
                                {
                                    "month": "8",
                                    "ordersplaced": "710"
                                },
                                {
                                    "month": "9",
                                    "ordersplaced": "1386"
                                },
                                {
                                    "month": "10",
                                    "ordersplaced": "817"
                                },
                                {
                                    "month": "11",
                                    "ordersplaced": "1462"
                                },
                                {
                                    "month": "12",
                                    "ordersplaced": "1421"
                                }
                            ]
                        },
                        "text/html": "<table><tr><th>month</th><th>ordersplaced</th></tr><tr><td>1</td><td>387</td></tr><tr><td>2</td><td>301</td></tr><tr><td>3</td><td>680</td></tr><tr><td>4</td><td>663</td></tr><tr><td>5</td><td>750</td></tr><tr><td>6</td><td>709</td></tr><tr><td>7</td><td>708</td></tr><tr><td>8</td><td>710</td></tr><tr><td>9</td><td>1386</td></tr><tr><td>10</td><td>817</td></tr><tr><td>11</td><td>1462</td></tr><tr><td>12</td><td>1421</td></tr></table>"
                    },
                    "metadata": {}
                }
            ],
            "execution_count": 2
        },
        {
            "cell_type": "code",
            "source": [
                "--Avg Shipping Duration (Ship date - Order Date)\r\n",
                "\r\n",
                "Select AVG(Ship_Date - Order_Date)\r\n",
                "from Superstore_sales;"
            ],
            "metadata": {
                "azdata_cell_guid": "5cda6624-aec4-4b7c-9cd4-84d2b19dc8aa",
                "language": "sql"
            },
            "outputs": [
                {
                    "output_type": "display_data",
                    "data": {
                        "text/html": "(1 row(s) affected)"
                    },
                    "metadata": {}
                },
                {
                    "output_type": "display_data",
                    "data": {
                        "text/html": "Total execution time: 00:00:00.013"
                    },
                    "metadata": {}
                },
                {
                    "output_type": "execute_result",
                    "execution_count": 3,
                    "data": {
                        "application/vnd.dataresource+json": {
                            "schema": {
                                "fields": [
                                    {
                                        "name": "avg"
                                    }
                                ]
                            },
                            "data": [
                                {
                                    "avg": "3.9588753251951171"
                                }
                            ]
                        },
                        "text/html": "<table><tr><th>avg</th></tr><tr><td>3.9588753251951171</td></tr></table>"
                    },
                    "metadata": {}
                }
            ],
            "execution_count": 3
        },
        {
            "cell_type": "code",
            "source": [
                "--Customer Insights \r\n",
                "\r\n",
                "--Top 10 Customers by Total Purchase Amount\r\n",
                "\r\n",
                "Select Customer_Name,Sum(Sales) as Total_Purchase\r\n",
                "from superstore_sales\r\n",
                "Group by Customer_Name\r\n",
                "Order by Total_Purchase\r\n",
                "Limit 10;"
            ],
            "metadata": {
                "language": "sql",
                "azdata_cell_guid": "e8e98f57-3e73-4f88-86fe-bc03c81859ae"
            },
            "outputs": [
                {
                    "output_type": "display_data",
                    "data": {
                        "text/html": "(10 row(s) affected)"
                    },
                    "metadata": {}
                },
                {
                    "output_type": "display_data",
                    "data": {
                        "text/html": "Total execution time: 00:00:00.049"
                    },
                    "metadata": {}
                },
                {
                    "output_type": "execute_result",
                    "execution_count": 2,
                    "data": {
                        "application/vnd.dataresource+json": {
                            "schema": {
                                "fields": [
                                    {
                                        "name": "customer_name"
                                    },
                                    {
                                        "name": "total_purchase"
                                    }
                                ]
                            },
                            "data": [
                                {
                                    "customer_name": "Thais Sissman",
                                    "total_purchase": "4.833"
                                },
                                {
                                    "customer_name": "Lela Donovan",
                                    "total_purchase": "5.304"
                                },
                                {
                                    "customer_name": "Carl Jackson",
                                    "total_purchase": "16.52"
                                },
                                {
                                    "customer_name": "Mitch Gastineau",
                                    "total_purchase": "16.739"
                                },
                                {
                                    "customer_name": "Roy Skaria",
                                    "total_purchase": "22.328"
                                },
                                {
                                    "customer_name": "Sean O Donnell",
                                    "total_purchase": "30.352"
                                },
                                {
                                    "customer_name": "Susan Gilcrest",
                                    "total_purchase": "47.946"
                                },
                                {
                                    "customer_name": "Ricardo Emerson",
                                    "total_purchase": "48.36"
                                },
                                {
                                    "customer_name": "Larry Blacks",
                                    "total_purchase": "50.188"
                                },
                                {
                                    "customer_name": "Adrian Shami",
                                    "total_purchase": "58.82"
                                }
                            ]
                        },
                        "text/html": "<table><tr><th>customer_name</th><th>total_purchase</th></tr><tr><td>Thais Sissman</td><td>4.833</td></tr><tr><td>Lela Donovan</td><td>5.304</td></tr><tr><td>Carl Jackson</td><td>16.52</td></tr><tr><td>Mitch Gastineau</td><td>16.739</td></tr><tr><td>Roy Skaria</td><td>22.328</td></tr><tr><td>Sean O Donnell</td><td>30.352</td></tr><tr><td>Susan Gilcrest</td><td>47.946</td></tr><tr><td>Ricardo Emerson</td><td>48.36</td></tr><tr><td>Larry Blacks</td><td>50.188</td></tr><tr><td>Adrian Shami</td><td>58.82</td></tr></table>"
                    },
                    "metadata": {}
                }
            ],
            "execution_count": 2
        },
        {
            "cell_type": "code",
            "source": [
                "--Top 10 Customers \r\n",
                "\r\n",
                "--this Pie Charts helps me \r\n",
                "\r\n",
                "Select Customer_Name,Sum(Sales) as Total_Purchase\r\n",
                "from superstore_sales\r\n",
                "Group by Customer_Name\r\n",
                "Order by Total_Purchase\r\n",
                "Limit 10;\r\n",
                "\r\n",
                "--The pie chart illustrates the division of total purchases among various individuals, providing insights into their respective contributions to overall purchases.\r\n",
                "\r\n",
                "--Adrian stands out with the highest total purchase amount, indicating a significant contribution to the total.\r\n",
                "--On the other hand, Thais exhibits the lowest total purchase, representing a comparatively smaller share of the overall purchases."
            ],
            "metadata": {
                "azdata_cell_guid": "6dce93b5-6aee-4623-b86c-12210de6ed80",
                "language": "sql",
                "tags": []
            },
            "outputs": [
                {
                    "output_type": "display_data",
                    "data": {
                        "text/html": "(10 row(s) affected)"
                    },
                    "metadata": {}
                },
                {
                    "output_type": "display_data",
                    "data": {
                        "text/html": "Total execution time: 00:00:00.054"
                    },
                    "metadata": {}
                },
                {
                    "output_type": "execute_result",
                    "execution_count": 1,
                    "data": {
                        "application/vnd.dataresource+json": {
                            "schema": {
                                "fields": [
                                    {
                                        "name": "customer_name"
                                    },
                                    {
                                        "name": "total_purchase"
                                    }
                                ]
                            },
                            "data": [
                                {
                                    "customer_name": "Thais Sissman",
                                    "total_purchase": "4.833"
                                },
                                {
                                    "customer_name": "Lela Donovan",
                                    "total_purchase": "5.304"
                                },
                                {
                                    "customer_name": "Carl Jackson",
                                    "total_purchase": "16.52"
                                },
                                {
                                    "customer_name": "Mitch Gastineau",
                                    "total_purchase": "16.739"
                                },
                                {
                                    "customer_name": "Roy Skaria",
                                    "total_purchase": "22.328"
                                },
                                {
                                    "customer_name": "Sean O Donnell",
                                    "total_purchase": "30.352"
                                },
                                {
                                    "customer_name": "Susan Gilcrest",
                                    "total_purchase": "47.946"
                                },
                                {
                                    "customer_name": "Ricardo Emerson",
                                    "total_purchase": "48.36"
                                },
                                {
                                    "customer_name": "Larry Blacks",
                                    "total_purchase": "50.188"
                                },
                                {
                                    "customer_name": "Adrian Shami",
                                    "total_purchase": "58.82"
                                }
                            ]
                        },
                        "text/html": "<table><tr><th>customer_name</th><th>total_purchase</th></tr><tr><td>Thais Sissman</td><td>4.833</td></tr><tr><td>Lela Donovan</td><td>5.304</td></tr><tr><td>Carl Jackson</td><td>16.52</td></tr><tr><td>Mitch Gastineau</td><td>16.739</td></tr><tr><td>Roy Skaria</td><td>22.328</td></tr><tr><td>Sean O Donnell</td><td>30.352</td></tr><tr><td>Susan Gilcrest</td><td>47.946</td></tr><tr><td>Ricardo Emerson</td><td>48.36</td></tr><tr><td>Larry Blacks</td><td>50.188</td></tr><tr><td>Adrian Shami</td><td>58.82</td></tr></table>"
                    },
                    "metadata": {
                        "azdata_chartOptions": {
                            "type": "pie",
                            "dataDirection": "vertical",
                            "columnsAsLabels": true,
                            "labelFirstColumn": false,
                            "legendPosition": "left"
                        }
                    }
                }
            ],
            "execution_count": 1
        },
        {
            "cell_type": "code",
            "source": [
                "--Average Order Value per Customer \r\n",
                "\r\n",
                "Select Customer_Name , AVG(Sales) as AvgOrderValue\r\n",
                "from superstore_sales\r\n",
                "Group by Customer_Name \r\n",
                "ORDER BY AvgOrderValue DESC\r\n",
                "limit 10;\r\n",
                "\r\n",
                "\r\n",
                "\r\n",
                "--If I have to find the Max value\r\n",
                "Select * from (Select Customer_Name , AVG(Sales) as AvgOrderValue\r\n",
                "from superstore_sales\r\n",
                "Group by Customer_Name ) as CustomerAvgOrder\r\n",
                "ORDER BY AvgOrderValue Desc\r\n",
                "limit 1;\r\n",
                "\r\n",
                "--Mitch Willingham is the highest Avgordervalue\r\n",
                "\r\n",
                "\r\n",
                "--Min Value \r\n",
                "\r\n",
                "Select * from (Select Customer_Name , AVG(Sales) as AvgOrderValue\r\n",
                "from superstore_sales\r\n",
                "Group by Customer_Name ) as CustomerAvgOrder\r\n",
                "ORDER BY AvgOrderValue\r\n",
                "limit 1;\r\n",
                ""
            ],
            "metadata": {
                "azdata_cell_guid": "e86d0fee-490b-45e1-877d-06702c4fddf6",
                "language": "sql",
                "tags": []
            },
            "outputs": [
                {
                    "output_type": "display_data",
                    "data": {
                        "text/html": "(10 row(s) affected)"
                    },
                    "metadata": {}
                },
                {
                    "output_type": "display_data",
                    "data": {
                        "text/html": "(1 row(s) affected)"
                    },
                    "metadata": {}
                },
                {
                    "output_type": "display_data",
                    "data": {
                        "text/html": "(1 row(s) affected)"
                    },
                    "metadata": {}
                },
                {
                    "output_type": "display_data",
                    "data": {
                        "text/html": "Total execution time: 00:00:00.079"
                    },
                    "metadata": {}
                },
                {
                    "output_type": "execute_result",
                    "execution_count": 29,
                    "data": {
                        "application/vnd.dataresource+json": {
                            "schema": {
                                "fields": [
                                    {
                                        "name": "customer_name"
                                    },
                                    {
                                        "name": "avgordervalue"
                                    }
                                ]
                            },
                            "data": [
                                {
                                    "customer_name": "Mitch Willingham",
                                    "avgordervalue": "1751.2920000000000000"
                                },
                                {
                                    "customer_name": "Sean Miller",
                                    "avgordervalue": "1669.5366666666666667"
                                },
                                {
                                    "customer_name": "Tamara Chand",
                                    "avgordervalue": "1587.6848333333333333"
                                },
                                {
                                    "customer_name": "Grant Thornton",
                                    "avgordervalue": "1558.5353333333333333"
                                },
                                {
                                    "customer_name": "Tom Ashbrook",
                                    "avgordervalue": "1459.5620000000000000"
                                },
                                {
                                    "customer_name": "Hunter Lopez",
                                    "avgordervalue": "1170.2998181818181818"
                                },
                                {
                                    "customer_name": "Bill Shonely",
                                    "avgordervalue": "1166.8503333333333333"
                                },
                                {
                                    "customer_name": "Christopher Conant",
                                    "avgordervalue": "1102.6429090909090909"
                                },
                                {
                                    "customer_name": "Stefanie Holloman",
                                    "avgordervalue": "1048.1960000000000000"
                                },
                                {
                                    "customer_name": "Christopher Martinez",
                                    "avgordervalue": "895.4020000000000000"
                                }
                            ]
                        },
                        "text/html": "<table><tr><th>customer_name</th><th>avgordervalue</th></tr><tr><td>Mitch Willingham</td><td>1751.2920000000000000</td></tr><tr><td>Sean Miller</td><td>1669.5366666666666667</td></tr><tr><td>Tamara Chand</td><td>1587.6848333333333333</td></tr><tr><td>Grant Thornton</td><td>1558.5353333333333333</td></tr><tr><td>Tom Ashbrook</td><td>1459.5620000000000000</td></tr><tr><td>Hunter Lopez</td><td>1170.2998181818181818</td></tr><tr><td>Bill Shonely</td><td>1166.8503333333333333</td></tr><tr><td>Christopher Conant</td><td>1102.6429090909090909</td></tr><tr><td>Stefanie Holloman</td><td>1048.1960000000000000</td></tr><tr><td>Christopher Martinez</td><td>895.4020000000000000</td></tr></table>"
                    },
                    "metadata": {}
                },
                {
                    "output_type": "execute_result",
                    "execution_count": 29,
                    "data": {
                        "application/vnd.dataresource+json": {
                            "schema": {
                                "fields": [
                                    {
                                        "name": "customer_name"
                                    },
                                    {
                                        "name": "avgordervalue"
                                    }
                                ]
                            },
                            "data": [
                                {
                                    "customer_name": "Mitch Willingham",
                                    "avgordervalue": "1751.2920000000000000"
                                }
                            ]
                        },
                        "text/html": "<table><tr><th>customer_name</th><th>avgordervalue</th></tr><tr><td>Mitch Willingham</td><td>1751.2920000000000000</td></tr></table>"
                    },
                    "metadata": {}
                },
                {
                    "output_type": "execute_result",
                    "execution_count": 29,
                    "data": {
                        "application/vnd.dataresource+json": {
                            "schema": {
                                "fields": [
                                    {
                                        "name": "customer_name"
                                    },
                                    {
                                        "name": "avgordervalue"
                                    }
                                ]
                            },
                            "data": [
                                {
                                    "customer_name": "Thais Sissman",
                                    "avgordervalue": "2.4165000000000000"
                                }
                            ]
                        },
                        "text/html": "<table><tr><th>customer_name</th><th>avgordervalue</th></tr><tr><td>Thais Sissman</td><td>2.4165000000000000</td></tr></table>"
                    },
                    "metadata": {}
                }
            ],
            "execution_count": 29
        },
        {
            "cell_type": "code",
            "source": [
                "--Top Selling Products by Category Sold \r\n",
                "\r\n",
                "Select Category,Product_Name,Sum(Quantity) as TotalQuantitySold\r\n",
                "from Superstore_sales\r\n",
                "GROUP by Category,Product_Name\r\n",
                "Order by TotalQuantitySold Desc\r\n",
                "Limit 10;\r\n",
                "\r\n",
                "\r\n",
                ""
            ],
            "metadata": {
                "azdata_cell_guid": "eb053b00-ba42-40e5-a8cf-d1314d72d0b3",
                "language": "sql"
            },
            "outputs": [
                {
                    "output_type": "display_data",
                    "data": {
                        "text/html": "(10 row(s) affected)"
                    },
                    "metadata": {}
                },
                {
                    "output_type": "display_data",
                    "data": {
                        "text/html": "Total execution time: 00:00:00.106"
                    },
                    "metadata": {}
                },
                {
                    "output_type": "execute_result",
                    "execution_count": 34,
                    "data": {
                        "application/vnd.dataresource+json": {
                            "schema": {
                                "fields": [
                                    {
                                        "name": "category"
                                    },
                                    {
                                        "name": "product_name"
                                    },
                                    {
                                        "name": "totalquantitysold"
                                    }
                                ]
                            },
                            "data": [
                                {
                                    "category": "Office Supplies",
                                    "product_name": "Staples",
                                    "totalquantitysold": "814"
                                },
                                {
                                    "category": "Furniture",
                                    "product_name": "KI Adjustable-Height Table",
                                    "totalquantitysold": "74"
                                },
                                {
                                    "category": "Office Supplies",
                                    "product_name": "Storex Dura Pro Binders",
                                    "totalquantitysold": "71"
                                },
                                {
                                    "category": "Office Supplies",
                                    "product_name": "Avery Non-Stick Binders",
                                    "totalquantitysold": "71"
                                },
                                {
                                    "category": "Office Supplies",
                                    "product_name": "GBC Premium Transparent Covers with Diagonal Lined Pattern",
                                    "totalquantitysold": "67"
                                },
                                {
                                    "category": "Furniture",
                                    "product_name": "Situations Contoured Folding Chairs, 4/Set",
                                    "totalquantitysold": "64"
                                },
                                {
                                    "category": "Furniture",
                                    "product_name": "Staples",
                                    "totalquantitysold": "62"
                                },
                                {
                                    "category": "Furniture",
                                    "product_name": "Eldon Wave Desk Accessories",
                                    "totalquantitysold": "61"
                                },
                                {
                                    "category": "Furniture",
                                    "product_name": "Chromcraft Round Conference Tables",
                                    "totalquantitysold": "61"
                                },
                                {
                                    "category": "Furniture",
                                    "product_name": "Global Wood Trimmed Manager's Task Chair, Khaki",
                                    "totalquantitysold": "59"
                                }
                            ]
                        },
                        "text/html": "<table><tr><th>category</th><th>product_name</th><th>totalquantitysold</th></tr><tr><td>Office Supplies</td><td>Staples</td><td>814</td></tr><tr><td>Furniture</td><td>KI Adjustable-Height Table</td><td>74</td></tr><tr><td>Office Supplies</td><td>Storex Dura Pro Binders</td><td>71</td></tr><tr><td>Office Supplies</td><td>Avery Non-Stick Binders</td><td>71</td></tr><tr><td>Office Supplies</td><td>GBC Premium Transparent Covers with Diagonal Lined Pattern</td><td>67</td></tr><tr><td>Furniture</td><td>Situations Contoured Folding Chairs, 4/Set</td><td>64</td></tr><tr><td>Furniture</td><td>Staples</td><td>62</td></tr><tr><td>Furniture</td><td>Eldon Wave Desk Accessories</td><td>61</td></tr><tr><td>Furniture</td><td>Chromcraft Round Conference Tables</td><td>61</td></tr><tr><td>Furniture</td><td>Global Wood Trimmed Manager&#39;s Task Chair, Khaki</td><td>59</td></tr></table>"
                    },
                    "metadata": {}
                }
            ],
            "execution_count": 34
        },
        {
            "cell_type": "code",
            "source": [
                "--Sales and Profit VS Discount Rate ANalysis \r\n",
                "\r\n",
                "Select Discount, Avg(Sales) as Avgsales,AVG(Profit) as AVGProfit\r\n",
                "from superstore_sales\r\n",
                "GROUP by Discount;"
            ],
            "metadata": {
                "azdata_cell_guid": "ff310c19-8348-4519-b2cc-d56b6b72eca7",
                "language": "sql"
            },
            "outputs": [
                {
                    "output_type": "display_data",
                    "data": {
                        "text/html": "(12 row(s) affected)"
                    },
                    "metadata": {}
                },
                {
                    "output_type": "display_data",
                    "data": {
                        "text/html": "Total execution time: 00:00:00.036"
                    },
                    "metadata": {}
                },
                {
                    "output_type": "execute_result",
                    "execution_count": 35,
                    "data": {
                        "application/vnd.dataresource+json": {
                            "schema": {
                                "fields": [
                                    {
                                        "name": "discount"
                                    },
                                    {
                                        "name": "avgsales"
                                    },
                                    {
                                        "name": "avgprofit"
                                    }
                                ]
                            },
                            "data": [
                                {
                                    "discount": "0.3",
                                    "avgsales": "454.7429735682819383",
                                    "avgprofit": "-45.6796361233480176"
                                },
                                {
                                    "discount": "0.15",
                                    "avgsales": "529.9715673076923077",
                                    "avgprofit": "27.2882980769230769"
                                },
                                {
                                    "discount": "0.8",
                                    "avgsales": "56.5458533333333333",
                                    "avgprofit": "-101.7967973333333333"
                                },
                                {
                                    "discount": "0.2",
                                    "avgsales": "209.0769395679518731",
                                    "avgprofit": "24.7025720535958436"
                                },
                                {
                                    "discount": "0.5",
                                    "avgsales": "892.7051515151515152",
                                    "avgprofit": "-310.7034560606060606"
                                },
                                {
                                    "discount": "0.45",
                                    "avgsales": "498.6340000000000000",
                                    "avgprofit": "-226.6464636363636364"
                                },
                                {
                                    "discount": "0.32",
                                    "avgsales": "536.7947703703703704",
                                    "avgprofit": "-88.5606555555555556"
                                },
                                {
                                    "discount": "0.6",
                                    "avgsales": "48.1500000000000000",
                                    "avgprofit": "-43.0772115942028986"
                                },
                                {
                                    "discount": "0",
                                    "avgsales": "226.7420737807419758",
                                    "avgprofit": "66.9002924551896624"
                                },
                                {
                                    "discount": "0.7",
                                    "avgsales": "97.1777081339712919",
                                    "avgprofit": "-95.8740595693779904"
                                },
                                {
                                    "discount": "0.1",
                                    "avgsales": "578.3973510638297872",
                                    "avgprofit": "96.0550744680851064"
                                },
                                {
                                    "discount": "0.4",
                                    "avgsales": "565.1348737864077670",
                                    "avgprofit": "-111.9274291262135922"
                                }
                            ]
                        },
                        "text/html": "<table><tr><th>discount</th><th>avgsales</th><th>avgprofit</th></tr><tr><td>0.3</td><td>454.7429735682819383</td><td>-45.6796361233480176</td></tr><tr><td>0.15</td><td>529.9715673076923077</td><td>27.2882980769230769</td></tr><tr><td>0.8</td><td>56.5458533333333333</td><td>-101.7967973333333333</td></tr><tr><td>0.2</td><td>209.0769395679518731</td><td>24.7025720535958436</td></tr><tr><td>0.5</td><td>892.7051515151515152</td><td>-310.7034560606060606</td></tr><tr><td>0.45</td><td>498.6340000000000000</td><td>-226.6464636363636364</td></tr><tr><td>0.32</td><td>536.7947703703703704</td><td>-88.5606555555555556</td></tr><tr><td>0.6</td><td>48.1500000000000000</td><td>-43.0772115942028986</td></tr><tr><td>0</td><td>226.7420737807419758</td><td>66.9002924551896624</td></tr><tr><td>0.7</td><td>97.1777081339712919</td><td>-95.8740595693779904</td></tr><tr><td>0.1</td><td>578.3973510638297872</td><td>96.0550744680851064</td></tr><tr><td>0.4</td><td>565.1348737864077670</td><td>-111.9274291262135922</td></tr></table>"
                    },
                    "metadata": {}
                }
            ],
            "execution_count": 35
        },
        {
            "cell_type": "code",
            "source": [
                "--What are the sales figures for each State in United States ?\r\n",
                "\r\n",
                "Select State,Sum(Sales) as Total_Sales\r\n",
                "from superstore_sales\r\n",
                "Group BY State\r\n",
                "Limit 10;"
            ],
            "metadata": {
                "azdata_cell_guid": "4ae999d6-8dfd-412d-82b8-e6aef4a75994",
                "language": "sql"
            },
            "outputs": [
                {
                    "output_type": "display_data",
                    "data": {
                        "text/html": "(10 row(s) affected)"
                    },
                    "metadata": {}
                },
                {
                    "output_type": "display_data",
                    "data": {
                        "text/html": "Total execution time: 00:00:00.008"
                    },
                    "metadata": {}
                },
                {
                    "output_type": "execute_result",
                    "execution_count": 42,
                    "data": {
                        "application/vnd.dataresource+json": {
                            "schema": {
                                "fields": [
                                    {
                                        "name": "state"
                                    },
                                    {
                                        "name": "total_sales"
                                    }
                                ]
                            },
                            "data": [
                                {
                                    "state": "Oklahoma",
                                    "total_sales": "19683.39"
                                },
                                {
                                    "state": "Colorado",
                                    "total_sales": "32108.118"
                                },
                                {
                                    "state": "North Carolina",
                                    "total_sales": "55603.164"
                                },
                                {
                                    "state": "Mississippi",
                                    "total_sales": "10771.34"
                                },
                                {
                                    "state": "Florida",
                                    "total_sales": "89473.7080"
                                },
                                {
                                    "state": "Vermont",
                                    "total_sales": "8929.37"
                                },
                                {
                                    "state": "Delaware",
                                    "total_sales": "27451.069"
                                },
                                {
                                    "state": "Nevada",
                                    "total_sales": "16729.102"
                                },
                                {
                                    "state": "Louisiana",
                                    "total_sales": "9217.03"
                                },
                                {
                                    "state": "New York",
                                    "total_sales": "310876.271"
                                }
                            ]
                        },
                        "text/html": "<table><tr><th>state</th><th>total_sales</th></tr><tr><td>Oklahoma</td><td>19683.39</td></tr><tr><td>Colorado</td><td>32108.118</td></tr><tr><td>North Carolina</td><td>55603.164</td></tr><tr><td>Mississippi</td><td>10771.34</td></tr><tr><td>Florida</td><td>89473.7080</td></tr><tr><td>Vermont</td><td>8929.37</td></tr><tr><td>Delaware</td><td>27451.069</td></tr><tr><td>Nevada</td><td>16729.102</td></tr><tr><td>Louisiana</td><td>9217.03</td></tr><tr><td>New York</td><td>310876.271</td></tr></table>"
                    },
                    "metadata": {}
                }
            ],
            "execution_count": 42
        },
        {
            "cell_type": "markdown",
            "source": [
                "**This bar chart visually represents the total sales figures for different states, highlighting California with the highest sales and North Dakota with the lowest sales.**\n",
                "\n",
                "**California: Highest Sales**\n",
                "\n",
                "**California stands out with the maximum sales figures among all states in the dataset, indicating robust sales performance.**\n",
                "\n",
                "**North Dakota: Lowest Sales**\n",
                "\n",
                "**North Dakota represents the state with the minimum sales figures, reflecting comparatively lower sales compared to other states.**\n",
                "\n",
                "**The bar chart provides a clear visual comparison of total sales across states, emphasizing the contrast between the highest and lowest sales performers among the represented states.**"
            ],
            "metadata": {
                "azdata_cell_guid": "134c219e-a18f-43c1-9708-842fb7478fed"
            },
            "attachments": {}
        },
        {
            "cell_type": "code",
            "source": [
                "\r\n",
                "\r\n",
                "Select State,Sum(Sales) as Total_Sales\r\n",
                "from superstore_sales\r\n",
                "Group BY State;"
            ],
            "metadata": {
                "azdata_cell_guid": "1cf3cdbc-c4cb-43fa-873a-313a0ea4f0bc",
                "language": "sql",
                "tags": [
                    "hide_input"
                ]
            },
            "outputs": [
                {
                    "output_type": "display_data",
                    "data": {
                        "text/html": "(49 row(s) affected)"
                    },
                    "metadata": {}
                },
                {
                    "output_type": "display_data",
                    "data": {
                        "text/html": "Total execution time: 00:00:00.011"
                    },
                    "metadata": {}
                },
                {
                    "output_type": "execute_result",
                    "execution_count": 45,
                    "data": {
                        "application/vnd.dataresource+json": {
                            "schema": {
                                "fields": [
                                    {
                                        "name": "state"
                                    },
                                    {
                                        "name": "total_sales"
                                    }
                                ]
                            },
                            "data": [
                                {
                                    "state": "Oklahoma",
                                    "total_sales": "19683.39"
                                },
                                {
                                    "state": "Colorado",
                                    "total_sales": "32108.118"
                                },
                                {
                                    "state": "North Carolina",
                                    "total_sales": "55603.164"
                                },
                                {
                                    "state": "Mississippi",
                                    "total_sales": "10771.34"
                                },
                                {
                                    "state": "Florida",
                                    "total_sales": "89473.7080"
                                },
                                {
                                    "state": "Vermont",
                                    "total_sales": "8929.37"
                                },
                                {
                                    "state": "Delaware",
                                    "total_sales": "27451.069"
                                },
                                {
                                    "state": "Nevada",
                                    "total_sales": "16729.102"
                                },
                                {
                                    "state": "Louisiana",
                                    "total_sales": "9217.03"
                                },
                                {
                                    "state": "New York",
                                    "total_sales": "310876.271"
                                },
                                {
                                    "state": "West Virginia",
                                    "total_sales": "1209.824"
                                },
                                {
                                    "state": "New Jersey",
                                    "total_sales": "35764.312"
                                },
                                {
                                    "state": "South Carolina",
                                    "total_sales": "8481.71"
                                },
                                {
                                    "state": "Arkansas",
                                    "total_sales": "11678.13"
                                },
                                {
                                    "state": "New Mexico",
                                    "total_sales": "4783.522"
                                },
                                {
                                    "state": "Missouri",
                                    "total_sales": "22205.15"
                                },
                                {
                                    "state": "Connecticut",
                                    "total_sales": "13384.357"
                                },
                                {
                                    "state": "South Dakota",
                                    "total_sales": "1315.56"
                                },
                                {
                                    "state": "District of Columbia",
                                    "total_sales": "2865.02"
                                },
                                {
                                    "state": "Iowa",
                                    "total_sales": "4579.76"
                                },
                                {
                                    "state": "Indiana",
                                    "total_sales": "53555.36"
                                },
                                {
                                    "state": "Massachusetts",
                                    "total_sales": "28634.434"
                                },
                                {
                                    "state": "Rhode Island",
                                    "total_sales": "22627.956"
                                },
                                {
                                    "state": "Ohio",
                                    "total_sales": "78258.136"
                                },
                                {
                                    "state": "Michigan",
                                    "total_sales": "76269.614"
                                },
                                {
                                    "state": "Minnesota",
                                    "total_sales": "29863.15"
                                },
                                {
                                    "state": "Pennsylvania",
                                    "total_sales": "116511.914"
                                },
                                {
                                    "state": "Washington",
                                    "total_sales": "138641.270"
                                },
                                {
                                    "state": "Montana",
                                    "total_sales": "5589.352"
                                },
                                {
                                    "state": "Wisconsin",
                                    "total_sales": "32114.61"
                                },
                                {
                                    "state": "Kentucky",
                                    "total_sales": "36591.75"
                                },
                                {
                                    "state": "Arizona",
                                    "total_sales": "35282.001"
                                },
                                {
                                    "state": "Illinois",
                                    "total_sales": "80166.101"
                                },
                                {
                                    "state": "Virginia",
                                    "total_sales": "70636.72"
                                },
                                {
                                    "state": "Maryland",
                                    "total_sales": "23705.523"
                                },
                                {
                                    "state": "Georgia",
                                    "total_sales": "49095.84"
                                },
                                {
                                    "state": "Wyoming",
                                    "total_sales": "1603.136"
                                },
                                {
                                    "state": "Utah",
                                    "total_sales": "11220.056"
                                },
                                {
                                    "state": "New Hampshire",
                                    "total_sales": "7292.524"
                                },
                                {
                                    "state": "North Dakota",
                                    "total_sales": "919.91"
                                },
                                {
                                    "state": "Maine",
                                    "total_sales": "1270.53"
                                },
                                {
                                    "state": "Nebraska",
                                    "total_sales": "7464.93"
                                },
                                {
                                    "state": "California",
                                    "total_sales": "457687.6315"
                                },
                                {
                                    "state": "Tennessee",
                                    "total_sales": "30661.873"
                                },
                                {
                                    "state": "Kansas",
                                    "total_sales": "2914.31"
                                },
                                {
                                    "state": "Oregon",
                                    "total_sales": "17431.150"
                                },
                                {
                                    "state": "Texas",
                                    "total_sales": "170188.0458"
                                },
                                {
                                    "state": "Idaho",
                                    "total_sales": "4382.486"
                                },
                                {
                                    "state": "Alabama",
                                    "total_sales": "19510.64"
                                }
                            ]
                        },
                        "text/html": "<table><tr><th>state</th><th>total_sales</th></tr><tr><td>Oklahoma</td><td>19683.39</td></tr><tr><td>Colorado</td><td>32108.118</td></tr><tr><td>North Carolina</td><td>55603.164</td></tr><tr><td>Mississippi</td><td>10771.34</td></tr><tr><td>Florida</td><td>89473.7080</td></tr><tr><td>Vermont</td><td>8929.37</td></tr><tr><td>Delaware</td><td>27451.069</td></tr><tr><td>Nevada</td><td>16729.102</td></tr><tr><td>Louisiana</td><td>9217.03</td></tr><tr><td>New York</td><td>310876.271</td></tr><tr><td>West Virginia</td><td>1209.824</td></tr><tr><td>New Jersey</td><td>35764.312</td></tr><tr><td>South Carolina</td><td>8481.71</td></tr><tr><td>Arkansas</td><td>11678.13</td></tr><tr><td>New Mexico</td><td>4783.522</td></tr><tr><td>Missouri</td><td>22205.15</td></tr><tr><td>Connecticut</td><td>13384.357</td></tr><tr><td>South Dakota</td><td>1315.56</td></tr><tr><td>District of Columbia</td><td>2865.02</td></tr><tr><td>Iowa</td><td>4579.76</td></tr><tr><td>Indiana</td><td>53555.36</td></tr><tr><td>Massachusetts</td><td>28634.434</td></tr><tr><td>Rhode Island</td><td>22627.956</td></tr><tr><td>Ohio</td><td>78258.136</td></tr><tr><td>Michigan</td><td>76269.614</td></tr><tr><td>Minnesota</td><td>29863.15</td></tr><tr><td>Pennsylvania</td><td>116511.914</td></tr><tr><td>Washington</td><td>138641.270</td></tr><tr><td>Montana</td><td>5589.352</td></tr><tr><td>Wisconsin</td><td>32114.61</td></tr><tr><td>Kentucky</td><td>36591.75</td></tr><tr><td>Arizona</td><td>35282.001</td></tr><tr><td>Illinois</td><td>80166.101</td></tr><tr><td>Virginia</td><td>70636.72</td></tr><tr><td>Maryland</td><td>23705.523</td></tr><tr><td>Georgia</td><td>49095.84</td></tr><tr><td>Wyoming</td><td>1603.136</td></tr><tr><td>Utah</td><td>11220.056</td></tr><tr><td>New Hampshire</td><td>7292.524</td></tr><tr><td>North Dakota</td><td>919.91</td></tr><tr><td>Maine</td><td>1270.53</td></tr><tr><td>Nebraska</td><td>7464.93</td></tr><tr><td>California</td><td>457687.6315</td></tr><tr><td>Tennessee</td><td>30661.873</td></tr><tr><td>Kansas</td><td>2914.31</td></tr><tr><td>Oregon</td><td>17431.150</td></tr><tr><td>Texas</td><td>170188.0458</td></tr><tr><td>Idaho</td><td>4382.486</td></tr><tr><td>Alabama</td><td>19510.64</td></tr></table>"
                    },
                    "metadata": {
                        "azdata_chartOptions": {
                            "type": "bar",
                            "dataDirection": "vertical",
                            "columnsAsLabels": true,
                            "labelFirstColumn": false,
                            "legendPosition": "top"
                        }
                    }
                }
            ],
            "execution_count": 45
        },
        {
            "cell_type": "code",
            "source": [
                "--How Many Customers Purchased product each Month ?\r\n",
                "\r\n",
                "With MonthlyCustomersCounts as (\r\n",
                "    Select Extract (Month from Order_Date) as Month,\r\n",
                "    COUNT(Distinct Customer_ID) as UniqueCustomers\r\n",
                "    from superstore_sales\r\n",
                "    GROUP by Extract(Month from Order_Date)\r\n",
                ")\r\n",
                "Select * from MonthlyCustomersCounts ORDER by MONTH ;"
            ],
            "metadata": {
                "azdata_cell_guid": "acc3cce5-42ac-4310-b6a6-fce0f05b150f",
                "language": "sql"
            },
            "outputs": [
                {
                    "output_type": "display_data",
                    "data": {
                        "text/html": "(12 row(s) affected)"
                    },
                    "metadata": {}
                },
                {
                    "output_type": "display_data",
                    "data": {
                        "text/html": "Total execution time: 00:00:00.162"
                    },
                    "metadata": {}
                },
                {
                    "output_type": "execute_result",
                    "execution_count": 47,
                    "data": {
                        "application/vnd.dataresource+json": {
                            "schema": {
                                "fields": [
                                    {
                                        "name": "month"
                                    },
                                    {
                                        "name": "uniquecustomers"
                                    }
                                ]
                            },
                            "data": [
                                {
                                    "month": "1",
                                    "uniquecustomers": "163"
                                },
                                {
                                    "month": "2",
                                    "uniquecustomers": "145"
                                },
                                {
                                    "month": "3",
                                    "uniquecustomers": "283"
                                },
                                {
                                    "month": "4",
                                    "uniquecustomers": "277"
                                },
                                {
                                    "month": "5",
                                    "uniquecustomers": "309"
                                },
                                {
                                    "month": "6",
                                    "uniquecustomers": "287"
                                },
                                {
                                    "month": "7",
                                    "uniquecustomers": "278"
                                },
                                {
                                    "month": "8",
                                    "uniquecustomers": "277"
                                },
                                {
                                    "month": "9",
                                    "uniquecustomers": "460"
                                },
                                {
                                    "month": "10",
                                    "uniquecustomers": "323"
                                },
                                {
                                    "month": "11",
                                    "uniquecustomers": "481"
                                },
                                {
                                    "month": "12",
                                    "uniquecustomers": "457"
                                }
                            ]
                        },
                        "text/html": "<table><tr><th>month</th><th>uniquecustomers</th></tr><tr><td>1</td><td>163</td></tr><tr><td>2</td><td>145</td></tr><tr><td>3</td><td>283</td></tr><tr><td>4</td><td>277</td></tr><tr><td>5</td><td>309</td></tr><tr><td>6</td><td>287</td></tr><tr><td>7</td><td>278</td></tr><tr><td>8</td><td>277</td></tr><tr><td>9</td><td>460</td></tr><tr><td>10</td><td>323</td></tr><tr><td>11</td><td>481</td></tr><tr><td>12</td><td>457</td></tr></table>"
                    },
                    "metadata": {}
                }
            ],
            "execution_count": 47
        },
        {
            "cell_type": "code",
            "source": [
                "--Overall Sales Trend per Year \r\n",
                "\r\n",
                "Select EXTRACT(Year from Order_Date) as SalesYear ,Sum(Sales) as TotalSales\r\n",
                "from superstore_sales\r\n",
                "Group by EXTRACT(Year from Order_Date)\r\n",
                "Order by SalesYear;"
            ],
            "metadata": {
                "azdata_cell_guid": "7625857e-3b63-48dc-a24b-41d7bc46be03",
                "language": "sql"
            },
            "outputs": [
                {
                    "output_type": "display_data",
                    "data": {
                        "text/html": "(4 row(s) affected)"
                    },
                    "metadata": {}
                },
                {
                    "output_type": "display_data",
                    "data": {
                        "text/html": "Total execution time: 00:00:00.012"
                    },
                    "metadata": {}
                },
                {
                    "output_type": "execute_result",
                    "execution_count": 58,
                    "data": {
                        "application/vnd.dataresource+json": {
                            "schema": {
                                "fields": [
                                    {
                                        "name": "salesyear"
                                    },
                                    {
                                        "name": "totalsales"
                                    }
                                ]
                            },
                            "data": [
                                {
                                    "salesyear": "2011",
                                    "totalsales": "484247.4981"
                                },
                                {
                                    "salesyear": "2012",
                                    "totalsales": "470532.5090"
                                },
                                {
                                    "salesyear": "2013",
                                    "totalsales": "608473.8300"
                                },
                                {
                                    "salesyear": "2014",
                                    "totalsales": "733947.0232"
                                }
                            ]
                        },
                        "text/html": "<table><tr><th>salesyear</th><th>totalsales</th></tr><tr><td>2011</td><td>484247.4981</td></tr><tr><td>2012</td><td>470532.5090</td></tr><tr><td>2013</td><td>608473.8300</td></tr><tr><td>2014</td><td>733947.0232</td></tr></table>"
                    },
                    "metadata": {}
                }
            ],
            "execution_count": 58
        },
        {
            "cell_type": "code",
            "source": [
                ""
            ],
            "metadata": {
                "language": "sql",
                "azdata_cell_guid": "61a1e3f6-1a1a-4dbb-a020-7359182929c4",
                "tags": []
            },
            "outputs": [
                {
                    "output_type": "display_data",
                    "data": {
                        "text/html": "(4 row(s) affected)"
                    },
                    "metadata": {}
                },
                {
                    "output_type": "display_data",
                    "data": {
                        "text/html": "Total execution time: 00:00:00.021"
                    },
                    "metadata": {}
                },
                {
                    "output_type": "execute_result",
                    "execution_count": 57,
                    "data": {
                        "application/vnd.dataresource+json": {
                            "schema": {
                                "fields": [
                                    {
                                        "name": "salesyear"
                                    },
                                    {
                                        "name": "totalsales"
                                    }
                                ]
                            },
                            "data": [
                                {
                                    "salesyear": "2011",
                                    "totalsales": "484247.4981"
                                },
                                {
                                    "salesyear": "2012",
                                    "totalsales": "470532.5090"
                                },
                                {
                                    "salesyear": "2013",
                                    "totalsales": "608473.8300"
                                },
                                {
                                    "salesyear": "2014",
                                    "totalsales": "733947.0232"
                                }
                            ]
                        },
                        "text/html": "<table><tr><th>salesyear</th><th>totalsales</th></tr><tr><td>2011</td><td>484247.4981</td></tr><tr><td>2012</td><td>470532.5090</td></tr><tr><td>2013</td><td>608473.8300</td></tr><tr><td>2014</td><td>733947.0232</td></tr></table>"
                    },
                    "metadata": {
                        "azdata_chartOptions": {
                            "type": "pie",
                            "dataDirection": "vertical",
                            "columnsAsLabels": true,
                            "labelFirstColumn": false,
                            "legendPosition": "left",
                            "dataType": "number"
                        }
                    }
                }
            ],
            "execution_count": 57
        },
        {
            "cell_type": "markdown",
            "source": [
                "<span style=\"color: rgba(0, 0, 0, 0.7); font-family: Inter, sans-serif; background-color: rgb(255, 255, 255);\">Over time, orders had increased and so are sales. However, a slight dip in sales can be obsered in 2012. From 484,247 dollars total sales in 2011, Superstore sales slightly dipped to 470,532 dollars in the following year, which is a 2.83% difference or 13,715 dollars.</span>"
            ],
            "metadata": {
                "azdata_cell_guid": "87b18168-4f47-4af6-b0a7-706faa8f2c90"
            },
            "attachments": {}
        },
        {
            "cell_type": "code",
            "source": [
                "-- Total Sales Per Sub Category \r\n",
                "\r\n",
                "Select Sub_Category,Sum(Sales) as TotalSales\r\n",
                "from superstore_sales\r\n",
                "Group by Sub_Category\r\n",
                "Order by TotalSales ;"
            ],
            "metadata": {
                "azdata_cell_guid": "51098f7e-94d8-43ee-80e6-33cb8f9ebd5a",
                "language": "sql"
            },
            "outputs": [
                {
                    "output_type": "display_data",
                    "data": {
                        "text/html": "(17 row(s) affected)"
                    },
                    "metadata": {}
                },
                {
                    "output_type": "display_data",
                    "data": {
                        "text/html": "Total execution time: 00:00:00.017"
                    },
                    "metadata": {}
                },
                {
                    "output_type": "execute_result",
                    "execution_count": 59,
                    "data": {
                        "application/vnd.dataresource+json": {
                            "schema": {
                                "fields": [
                                    {
                                        "name": "sub_category"
                                    },
                                    {
                                        "name": "totalsales"
                                    }
                                ]
                            },
                            "data": [
                                {
                                    "sub_category": "Fasteners",
                                    "totalsales": "3024.280"
                                },
                                {
                                    "sub_category": "Labels",
                                    "totalsales": "12486.312"
                                },
                                {
                                    "sub_category": "Envelopes",
                                    "totalsales": "16476.402"
                                },
                                {
                                    "sub_category": "Art",
                                    "totalsales": "27118.792"
                                },
                                {
                                    "sub_category": "Supplies",
                                    "totalsales": "46673.538"
                                },
                                {
                                    "sub_category": "Paper",
                                    "totalsales": "78479.206"
                                },
                                {
                                    "sub_category": "Furnishings",
                                    "totalsales": "91705.164"
                                },
                                {
                                    "sub_category": "Appliances",
                                    "totalsales": "107532.161"
                                },
                                {
                                    "sub_category": "Bookcases",
                                    "totalsales": "114879.9963"
                                },
                                {
                                    "sub_category": "Copiers",
                                    "totalsales": "149528.030"
                                },
                                {
                                    "sub_category": "Accessories",
                                    "totalsales": "167380.318"
                                },
                                {
                                    "sub_category": "Machines",
                                    "totalsales": "189238.631"
                                },
                                {
                                    "sub_category": "Binders",
                                    "totalsales": "203412.733"
                                },
                                {
                                    "sub_category": "Tables",
                                    "totalsales": "206965.5320"
                                },
                                {
                                    "sub_category": "Storage",
                                    "totalsales": "223843.608"
                                },
                                {
                                    "sub_category": "Chairs",
                                    "totalsales": "328449.103"
                                },
                                {
                                    "sub_category": "Phones",
                                    "totalsales": "330007.054"
                                }
                            ]
                        },
                        "text/html": "<table><tr><th>sub_category</th><th>totalsales</th></tr><tr><td>Fasteners</td><td>3024.280</td></tr><tr><td>Labels</td><td>12486.312</td></tr><tr><td>Envelopes</td><td>16476.402</td></tr><tr><td>Art</td><td>27118.792</td></tr><tr><td>Supplies</td><td>46673.538</td></tr><tr><td>Paper</td><td>78479.206</td></tr><tr><td>Furnishings</td><td>91705.164</td></tr><tr><td>Appliances</td><td>107532.161</td></tr><tr><td>Bookcases</td><td>114879.9963</td></tr><tr><td>Copiers</td><td>149528.030</td></tr><tr><td>Accessories</td><td>167380.318</td></tr><tr><td>Machines</td><td>189238.631</td></tr><tr><td>Binders</td><td>203412.733</td></tr><tr><td>Tables</td><td>206965.5320</td></tr><tr><td>Storage</td><td>223843.608</td></tr><tr><td>Chairs</td><td>328449.103</td></tr><tr><td>Phones</td><td>330007.054</td></tr></table>"
                    },
                    "metadata": {}
                }
            ],
            "execution_count": 59
        },
        {
            "cell_type": "code",
            "source": [
                ""
            ],
            "metadata": {
                "azdata_cell_guid": "01ffe501-f126-45a5-a6dc-9f93372e4544",
                "language": "sql"
            },
            "outputs": [
                {
                    "output_type": "display_data",
                    "data": {
                        "text/html": "(17 row(s) affected)"
                    },
                    "metadata": {}
                },
                {
                    "output_type": "display_data",
                    "data": {
                        "text/html": "Total execution time: 00:00:00.012"
                    },
                    "metadata": {}
                },
                {
                    "output_type": "execute_result",
                    "execution_count": 60,
                    "data": {
                        "application/vnd.dataresource+json": {
                            "schema": {
                                "fields": [
                                    {
                                        "name": "sub_category"
                                    },
                                    {
                                        "name": "totalsales"
                                    }
                                ]
                            },
                            "data": [
                                {
                                    "sub_category": "Fasteners",
                                    "totalsales": "3024.280"
                                },
                                {
                                    "sub_category": "Labels",
                                    "totalsales": "12486.312"
                                },
                                {
                                    "sub_category": "Envelopes",
                                    "totalsales": "16476.402"
                                },
                                {
                                    "sub_category": "Art",
                                    "totalsales": "27118.792"
                                },
                                {
                                    "sub_category": "Supplies",
                                    "totalsales": "46673.538"
                                },
                                {
                                    "sub_category": "Paper",
                                    "totalsales": "78479.206"
                                },
                                {
                                    "sub_category": "Furnishings",
                                    "totalsales": "91705.164"
                                },
                                {
                                    "sub_category": "Appliances",
                                    "totalsales": "107532.161"
                                },
                                {
                                    "sub_category": "Bookcases",
                                    "totalsales": "114879.9963"
                                },
                                {
                                    "sub_category": "Copiers",
                                    "totalsales": "149528.030"
                                },
                                {
                                    "sub_category": "Accessories",
                                    "totalsales": "167380.318"
                                },
                                {
                                    "sub_category": "Machines",
                                    "totalsales": "189238.631"
                                },
                                {
                                    "sub_category": "Binders",
                                    "totalsales": "203412.733"
                                },
                                {
                                    "sub_category": "Tables",
                                    "totalsales": "206965.5320"
                                },
                                {
                                    "sub_category": "Storage",
                                    "totalsales": "223843.608"
                                },
                                {
                                    "sub_category": "Chairs",
                                    "totalsales": "328449.103"
                                },
                                {
                                    "sub_category": "Phones",
                                    "totalsales": "330007.054"
                                }
                            ]
                        },
                        "text/html": "<table><tr><th>sub_category</th><th>totalsales</th></tr><tr><td>Fasteners</td><td>3024.280</td></tr><tr><td>Labels</td><td>12486.312</td></tr><tr><td>Envelopes</td><td>16476.402</td></tr><tr><td>Art</td><td>27118.792</td></tr><tr><td>Supplies</td><td>46673.538</td></tr><tr><td>Paper</td><td>78479.206</td></tr><tr><td>Furnishings</td><td>91705.164</td></tr><tr><td>Appliances</td><td>107532.161</td></tr><tr><td>Bookcases</td><td>114879.9963</td></tr><tr><td>Copiers</td><td>149528.030</td></tr><tr><td>Accessories</td><td>167380.318</td></tr><tr><td>Machines</td><td>189238.631</td></tr><tr><td>Binders</td><td>203412.733</td></tr><tr><td>Tables</td><td>206965.5320</td></tr><tr><td>Storage</td><td>223843.608</td></tr><tr><td>Chairs</td><td>328449.103</td></tr><tr><td>Phones</td><td>330007.054</td></tr></table>"
                    },
                    "metadata": {
                        "azdata_chartOptions": {
                            "type": "bar",
                            "dataDirection": "vertical",
                            "columnsAsLabels": true,
                            "labelFirstColumn": false,
                            "legendPosition": "top"
                        }
                    }
                }
            ],
            "execution_count": 60
        },
        {
            "cell_type": "markdown",
            "source": [
                "The visualization above shows a general overview of the magnitude of sales for each product sub-category. For technology category, phones are the top sales-generating products. Chairs products for furnitures category, and storage products for office supplies category. \n",
                "\n",
                "Throughout the 4-year period from 2011 - 2014, phones, chairs, and storage products are the three most sales-generating products. Along with them are tables, binders, and machine products.\n",
                "\n",
                "Under the technology category, copier products are the least performing. For the furniture and office supplies category, furnishings and fasteners are the least performing."
            ],
            "metadata": {
                "azdata_cell_guid": "635e04fe-674a-4acd-b2b4-1b6c80c6d50e"
            },
            "attachments": {}
        },
        {
            "cell_type": "code",
            "source": [
                "--Total Sales Yearly in each Region \r\n",
                "\r\n",
                "Select EXTRACT(Year from Order_Date) as SalesYear,Region ,Sum(Sales) AS TotalSales\r\n",
                "FROM superstore_sales\r\n",
                "Group By EXTRACT(Year from Order_Date),Region\r\n",
                "Order By SalesYear;"
            ],
            "metadata": {
                "azdata_cell_guid": "9ff96760-48f7-4d2f-82e4-e1615fad059b",
                "language": "sql"
            },
            "outputs": [
                {
                    "output_type": "display_data",
                    "data": {
                        "text/html": "(16 row(s) affected)"
                    },
                    "metadata": {}
                },
                {
                    "output_type": "display_data",
                    "data": {
                        "text/html": "Total execution time: 00:00:00.020"
                    },
                    "metadata": {}
                },
                {
                    "output_type": "execute_result",
                    "execution_count": 63,
                    "data": {
                        "application/vnd.dataresource+json": {
                            "schema": {
                                "fields": [
                                    {
                                        "name": "salesyear"
                                    },
                                    {
                                        "name": "region"
                                    },
                                    {
                                        "name": "totalsales"
                                    }
                                ]
                            },
                            "data": [
                                {
                                    "salesyear": "2011",
                                    "region": "South",
                                    "totalsales": "103845.8435"
                                },
                                {
                                    "salesyear": "2011",
                                    "region": "West",
                                    "totalsales": "147883.0330"
                                },
                                {
                                    "salesyear": "2011",
                                    "region": "East",
                                    "totalsales": "128680.457"
                                },
                                {
                                    "salesyear": "2011",
                                    "region": "Central",
                                    "totalsales": "103838.1646"
                                },
                                {
                                    "salesyear": "2012",
                                    "region": "West",
                                    "totalsales": "139966.2495"
                                },
                                {
                                    "salesyear": "2012",
                                    "region": "East",
                                    "totalsales": "156332.057"
                                },
                                {
                                    "salesyear": "2012",
                                    "region": "Central",
                                    "totalsales": "102874.2220"
                                },
                                {
                                    "salesyear": "2012",
                                    "region": "South",
                                    "totalsales": "71359.9805"
                                },
                                {
                                    "salesyear": "2013",
                                    "region": "Central",
                                    "totalsales": "147429.3760"
                                },
                                {
                                    "salesyear": "2013",
                                    "region": "West",
                                    "totalsales": "186976.0165"
                                },
                                {
                                    "salesyear": "2013",
                                    "region": "South",
                                    "totalsales": "93539.1275"
                                },
                                {
                                    "salesyear": "2013",
                                    "region": "East",
                                    "totalsales": "180529.310"
                                },
                                {
                                    "salesyear": "2014",
                                    "region": "Central",
                                    "totalsales": "147098.1282"
                                },
                                {
                                    "salesyear": "2014",
                                    "region": "South",
                                    "totalsales": "122976.9535"
                                },
                                {
                                    "salesyear": "2014",
                                    "region": "West",
                                    "totalsales": "250632.5255"
                                },
                                {
                                    "salesyear": "2014",
                                    "region": "East",
                                    "totalsales": "213239.416"
                                }
                            ]
                        },
                        "text/html": "<table><tr><th>salesyear</th><th>region</th><th>totalsales</th></tr><tr><td>2011</td><td>South</td><td>103845.8435</td></tr><tr><td>2011</td><td>West</td><td>147883.0330</td></tr><tr><td>2011</td><td>East</td><td>128680.457</td></tr><tr><td>2011</td><td>Central</td><td>103838.1646</td></tr><tr><td>2012</td><td>West</td><td>139966.2495</td></tr><tr><td>2012</td><td>East</td><td>156332.057</td></tr><tr><td>2012</td><td>Central</td><td>102874.2220</td></tr><tr><td>2012</td><td>South</td><td>71359.9805</td></tr><tr><td>2013</td><td>Central</td><td>147429.3760</td></tr><tr><td>2013</td><td>West</td><td>186976.0165</td></tr><tr><td>2013</td><td>South</td><td>93539.1275</td></tr><tr><td>2013</td><td>East</td><td>180529.310</td></tr><tr><td>2014</td><td>Central</td><td>147098.1282</td></tr><tr><td>2014</td><td>South</td><td>122976.9535</td></tr><tr><td>2014</td><td>West</td><td>250632.5255</td></tr><tr><td>2014</td><td>East</td><td>213239.416</td></tr></table>"
                    },
                    "metadata": {}
                }
            ],
            "execution_count": 63
        },
        {
            "cell_type": "markdown",
            "source": [
                "Shown is how sales for each region changed over time. In the Central region, a sharp positive growth was observed from 2013, while yearly positive growth was consistent in the East. For the South region, a negative growth was observed in 2012, but the region rebounded thereafter. Simililarly for the West, negative growth was observed in 2012, but rebounded and sustained positive growth thereafter.\n",
                "\n",
                "It was observed that there was a slight dip in total sales in 2012. From the visualization above, it can be inferred that South had contributed the most to that dip, followed by the West and then the Central. Interestingly, the East region still grew positively in 2012."
            ],
            "metadata": {
                "azdata_cell_guid": "f594c698-0a2f-439b-a9cb-3793db0f2e2e"
            },
            "attachments": {}
        },
        {
            "cell_type": "code",
            "source": [
                "--Calculate Profit Margin of each Year \r\n",
                "\r\n",
                "Select EXTRACT (Year from Order_Date) AS SalesYear,\r\n",
                "SUM(Profit) as TotalProfit,\r\n",
                "Sum(sales) as TotalSales,\r\n",
                "SUM(Profit) / Sum(sales) * 100 as ProfitMargin\r\n",
                "from superstore_sales\r\n",
                "Group by Extract(Year from Order_Date);\r\n",
                "\r\n",
                ""
            ],
            "metadata": {
                "azdata_cell_guid": "aaa44dc5-cdea-4d56-942c-9cf46380a91c",
                "language": "sql"
            },
            "outputs": [
                {
                    "output_type": "display_data",
                    "data": {
                        "text/html": "(4 row(s) affected)"
                    },
                    "metadata": {}
                },
                {
                    "output_type": "display_data",
                    "data": {
                        "text/html": "Total execution time: 00:00:00.016"
                    },
                    "metadata": {}
                },
                {
                    "output_type": "execute_result",
                    "execution_count": 15,
                    "data": {
                        "application/vnd.dataresource+json": {
                            "schema": {
                                "fields": [
                                    {
                                        "name": "salesyear"
                                    },
                                    {
                                        "name": "totalprofit"
                                    },
                                    {
                                        "name": "totalsales"
                                    },
                                    {
                                        "name": "profitmargin"
                                    }
                                ]
                            },
                            "data": [
                                {
                                    "salesyear": "2011",
                                    "totalprofit": "49543.9741",
                                    "totalsales": "484247.4981",
                                    "profitmargin": "10.23112649923673400200"
                                },
                                {
                                    "salesyear": "2012",
                                    "totalprofit": "61618.6037",
                                    "totalsales": "470532.5090",
                                    "profitmargin": "13.09550403455757825200"
                                },
                                {
                                    "salesyear": "2013",
                                    "totalprofit": "81726.9308",
                                    "totalsales": "608473.8300",
                                    "profitmargin": "13.43146192499355313300"
                                },
                                {
                                    "salesyear": "2014",
                                    "totalprofit": "93507.5131",
                                    "totalsales": "733947.0232",
                                    "profitmargin": "12.74036274339098647900"
                                }
                            ]
                        },
                        "text/html": "<table><tr><th>salesyear</th><th>totalprofit</th><th>totalsales</th><th>profitmargin</th></tr><tr><td>2011</td><td>49543.9741</td><td>484247.4981</td><td>10.23112649923673400200</td></tr><tr><td>2012</td><td>61618.6037</td><td>470532.5090</td><td>13.09550403455757825200</td></tr><tr><td>2013</td><td>81726.9308</td><td>608473.8300</td><td>13.43146192499355313300</td></tr><tr><td>2014</td><td>93507.5131</td><td>733947.0232</td><td>12.74036274339098647900</td></tr></table>"
                    },
                    "metadata": {}
                }
            ],
            "execution_count": 15
        },
        {
            "cell_type": "markdown",
            "source": [
                "<span style=\"color: rgba(0, 0, 0, 0.7); font-family: Inter, sans-serif; background-color: rgb(255, 255, 255);\">Using profit margin, the company had generated the least profit in 2011 at 10.2311%. After a year, 2012, the company generated relatively higher profit at 13.0955% margin. This continued and the company registered a higher profit margin in 2013 at 13.4315%. The trend, however, slowed down and the company generated a lower profit margin at 12.7404%, even lower than that of 2012.</span>"
            ],
            "metadata": {
                "language": "sql",
                "azdata_cell_guid": "b5147a4b-969a-40e7-8c2c-a0e6ab815ded"
            },
            "attachments": {}
        },
        {
            "cell_type": "code",
            "source": [
                "--Calculate Profit Margin of Category and Sub category \r\n",
                "\r\n",
                "Select Category,Sub_Category,\r\n",
                "Sum(Profit) as TotalProfit,\r\n",
                "Sum(Sales) as TotalSales,\r\n",
                "Sum(Profit) / Sum(Sales) * 100 as ProfitMargin\r\n",
                "from superstore_sales\r\n",
                "Group by Category,Sub_Category\r\n",
                "Order by Category;"
            ],
            "metadata": {
                "azdata_cell_guid": "2844443a-1f01-4ed5-a30a-2b6c6cfc5ae5",
                "language": "sql"
            },
            "outputs": [
                {
                    "output_type": "display_data",
                    "data": {
                        "text/html": "(17 row(s) affected)"
                    },
                    "metadata": {}
                },
                {
                    "output_type": "display_data",
                    "data": {
                        "text/html": "Total execution time: 00:00:00.015"
                    },
                    "metadata": {}
                },
                {
                    "output_type": "execute_result",
                    "execution_count": 20,
                    "data": {
                        "application/vnd.dataresource+json": {
                            "schema": {
                                "fields": [
                                    {
                                        "name": "category"
                                    },
                                    {
                                        "name": "sub_category"
                                    },
                                    {
                                        "name": "totalprofit"
                                    },
                                    {
                                        "name": "totalsales"
                                    },
                                    {
                                        "name": "profitmargin"
                                    }
                                ]
                            },
                            "data": [
                                {
                                    "category": "Furniture",
                                    "sub_category": "Chairs",
                                    "totalprofit": "26590.1663",
                                    "totalsales": "328449.103",
                                    "profitmargin": "8.09567328914276255500"
                                },
                                {
                                    "category": "Furniture",
                                    "sub_category": "Bookcases",
                                    "totalprofit": "-3472.5560",
                                    "totalsales": "114879.9963",
                                    "profitmargin": "-3.02276820320545222700"
                                },
                                {
                                    "category": "Furniture",
                                    "sub_category": "Furnishings",
                                    "totalprofit": "13059.1436",
                                    "totalsales": "91705.164",
                                    "profitmargin": "14.24035793665883417400"
                                },
                                {
                                    "category": "Furniture",
                                    "sub_category": "Tables",
                                    "totalprofit": "-17725.4811",
                                    "totalsales": "206965.5320",
                                    "profitmargin": "-8.56446043392384776400"
                                },
                                {
                                    "category": "Office Supplies",
                                    "sub_category": "Binders",
                                    "totalprofit": "30221.7633",
                                    "totalsales": "203412.733",
                                    "profitmargin": "14.85736062550223933100"
                                },
                                {
                                    "category": "Office Supplies",
                                    "sub_category": "Art",
                                    "totalprofit": "6527.7870",
                                    "totalsales": "27118.792",
                                    "profitmargin": "24.07108325474084538900"
                                },
                                {
                                    "category": "Office Supplies",
                                    "sub_category": "Supplies",
                                    "totalprofit": "-1189.0995",
                                    "totalsales": "46673.538",
                                    "profitmargin": "-2.54769522721847227400"
                                },
                                {
                                    "category": "Office Supplies",
                                    "sub_category": "Storage",
                                    "totalprofit": "21278.8264",
                                    "totalsales": "223843.608",
                                    "profitmargin": "9.50611303584777815100"
                                },
                                {
                                    "category": "Office Supplies",
                                    "sub_category": "Envelopes",
                                    "totalprofit": "6964.1767",
                                    "totalsales": "16476.402",
                                    "profitmargin": "42.26758184220074261400"
                                },
                                {
                                    "category": "Office Supplies",
                                    "sub_category": "Paper",
                                    "totalprofit": "34053.5693",
                                    "totalsales": "78479.206",
                                    "profitmargin": "43.39183719570251513500"
                                },
                                {
                                    "category": "Office Supplies",
                                    "sub_category": "Fasteners",
                                    "totalprofit": "949.5182",
                                    "totalsales": "3024.280",
                                    "profitmargin": "31.39650429193064134300"
                                },
                                {
                                    "category": "Office Supplies",
                                    "sub_category": "Appliances",
                                    "totalprofit": "18138.0054",
                                    "totalsales": "107532.161",
                                    "profitmargin": "16.86751687246385758000"
                                },
                                {
                                    "category": "Office Supplies",
                                    "sub_category": "Labels",
                                    "totalprofit": "5546.2540",
                                    "totalsales": "12486.312",
                                    "profitmargin": "44.41867222283088873600"
                                },
                                {
                                    "category": "Technology",
                                    "sub_category": "Machines",
                                    "totalprofit": "3384.7569",
                                    "totalsales": "189238.631",
                                    "profitmargin": "1.78861836090961786800"
                                },
                                {
                                    "category": "Technology",
                                    "sub_category": "Copiers",
                                    "totalprofit": "55617.8249",
                                    "totalsales": "149528.030",
                                    "profitmargin": "37.19558460042575295100"
                                },
                                {
                                    "category": "Technology",
                                    "sub_category": "Accessories",
                                    "totalprofit": "41936.6357",
                                    "totalsales": "167380.318",
                                    "profitmargin": "25.05469950176579303700"
                                },
                                {
                                    "category": "Technology",
                                    "sub_category": "Phones",
                                    "totalprofit": "44515.7306",
                                    "totalsales": "330007.054",
                                    "profitmargin": "13.48932698874976169400"
                                }
                            ]
                        },
                        "text/html": "<table><tr><th>category</th><th>sub_category</th><th>totalprofit</th><th>totalsales</th><th>profitmargin</th></tr><tr><td>Furniture</td><td>Chairs</td><td>26590.1663</td><td>328449.103</td><td>8.09567328914276255500</td></tr><tr><td>Furniture</td><td>Bookcases</td><td>-3472.5560</td><td>114879.9963</td><td>-3.02276820320545222700</td></tr><tr><td>Furniture</td><td>Furnishings</td><td>13059.1436</td><td>91705.164</td><td>14.24035793665883417400</td></tr><tr><td>Furniture</td><td>Tables</td><td>-17725.4811</td><td>206965.5320</td><td>-8.56446043392384776400</td></tr><tr><td>Office Supplies</td><td>Binders</td><td>30221.7633</td><td>203412.733</td><td>14.85736062550223933100</td></tr><tr><td>Office Supplies</td><td>Art</td><td>6527.7870</td><td>27118.792</td><td>24.07108325474084538900</td></tr><tr><td>Office Supplies</td><td>Supplies</td><td>-1189.0995</td><td>46673.538</td><td>-2.54769522721847227400</td></tr><tr><td>Office Supplies</td><td>Storage</td><td>21278.8264</td><td>223843.608</td><td>9.50611303584777815100</td></tr><tr><td>Office Supplies</td><td>Envelopes</td><td>6964.1767</td><td>16476.402</td><td>42.26758184220074261400</td></tr><tr><td>Office Supplies</td><td>Paper</td><td>34053.5693</td><td>78479.206</td><td>43.39183719570251513500</td></tr><tr><td>Office Supplies</td><td>Fasteners</td><td>949.5182</td><td>3024.280</td><td>31.39650429193064134300</td></tr><tr><td>Office Supplies</td><td>Appliances</td><td>18138.0054</td><td>107532.161</td><td>16.86751687246385758000</td></tr><tr><td>Office Supplies</td><td>Labels</td><td>5546.2540</td><td>12486.312</td><td>44.41867222283088873600</td></tr><tr><td>Technology</td><td>Machines</td><td>3384.7569</td><td>189238.631</td><td>1.78861836090961786800</td></tr><tr><td>Technology</td><td>Copiers</td><td>55617.8249</td><td>149528.030</td><td>37.19558460042575295100</td></tr><tr><td>Technology</td><td>Accessories</td><td>41936.6357</td><td>167380.318</td><td>25.05469950176579303700</td></tr><tr><td>Technology</td><td>Phones</td><td>44515.7306</td><td>330007.054</td><td>13.48932698874976169400</td></tr></table>"
                    },
                    "metadata": {}
                }
            ],
            "execution_count": 20
        },
        {
            "cell_type": "markdown",
            "source": [
                "<span style=\"color: rgba(0, 0, 0, 0.7); font-family: Inter, sans-serif; background-color: rgb(255, 255, 255);\">For furnitures products, furnishings products, on average, are the most profitable followed by chairs products. On the other hand, the company was operating at a loss on tables and bookcases products. Assuming similar sales, loss on tables are higher than gains on furnishings.</span>\n",
                "\n",
                "<span style=\"color: rgba(0, 0, 0, 0.7); font-family: Inter, sans-serif; background-color: rgb(255, 255, 255);\"><br></span>\n",
                "\n",
                "<span style=\"color: rgba(0, 0, 0, 0.7); font-family: Inter, sans-serif; background-color: rgb(255, 255, 255);\">On technology products, the company, on average, was profiting more compared to furniture ones. Three of its product sub-categories were generating profit at much higher margin profit: 13% for phones, 25% for tech accesories, and 37% profit margin for copiers products. The company, on the other hand, Machines products, was operating at a loss with machine products.</span><span style=\"color: rgba(0, 0, 0, 0.7); font-family: Inter, sans-serif; background-color: rgb(255, 255, 255);\"><br></span>\n",
                "\n",
                "<span style=\"color: rgba(0, 0, 0, 0.7); font-family: Inter, sans-serif; background-color: rgb(255, 255, 255);\"><br></span>\n",
                "\n",
                "<span style=\"color: rgba(0, 0, 0, 0.7); font-family: Inter, sans-serif; background-color: rgb(255, 255, 255);\">Not only do five product sub-categories under office supplies had over 20% profit margin, three of which had over 40% discount, two of the remaining four sub-categories had also positive profit margin of 9% and 11%. The company, on the other hand, were operating at a loss : Supplies products during the 4 year period.</span><span style=\"color: rgba(0, 0, 0, 0.7); font-family: Inter, sans-serif; background-color: rgb(255, 255, 255);\"><br></span>"
            ],
            "metadata": {
                "azdata_cell_guid": "9e46fb71-cd45-490c-934e-70d516d0d715"
            },
            "attachments": {}
        },
        {
            "cell_type": "code",
            "source": [
                "--What Portion of the orders Shipped through each mode ?\r\n",
                "\r\n",
                "Select Ship_Mode,\r\n",
                "COUNT(*) as NumberOfOrders,\r\n",
                "COUNT(*) * 100.0 / (SELECT COUNT(*) from Superstore_sales) as OrderPercentage\r\n",
                "from Superstore_sales\r\n",
                "Group by Ship_Mode;\r\n",
                ""
            ],
            "metadata": {
                "azdata_cell_guid": "3838354f-9adb-4513-bf03-9cc8e12c1141",
                "language": "sql"
            },
            "outputs": [
                {
                    "output_type": "display_data",
                    "data": {
                        "text/html": "(4 row(s) affected)"
                    },
                    "metadata": {}
                },
                {
                    "output_type": "display_data",
                    "data": {
                        "text/html": "Total execution time: 00:00:00.009"
                    },
                    "metadata": {}
                },
                {
                    "output_type": "execute_result",
                    "execution_count": 29,
                    "data": {
                        "application/vnd.dataresource+json": {
                            "schema": {
                                "fields": [
                                    {
                                        "name": "ship_mode"
                                    },
                                    {
                                        "name": "numberoforders"
                                    },
                                    {
                                        "name": "orderpercentage"
                                    }
                                ]
                            },
                            "data": [
                                {
                                    "ship_mode": "Standard Class",
                                    "numberoforders": "5968",
                                    "orderpercentage": "59.7158294976986192"
                                },
                                {
                                    "ship_mode": "Second Class",
                                    "numberoforders": "1945",
                                    "orderpercentage": "19.4616770062037222"
                                },
                                {
                                    "ship_mode": "Same Day",
                                    "numberoforders": "543",
                                    "orderpercentage": "5.4332599559735842"
                                },
                                {
                                    "ship_mode": "First Class",
                                    "numberoforders": "1538",
                                    "orderpercentage": "15.3892335401240744"
                                }
                            ]
                        },
                        "text/html": "<table><tr><th>ship_mode</th><th>numberoforders</th><th>orderpercentage</th></tr><tr><td>Standard Class</td><td>5968</td><td>59.7158294976986192</td></tr><tr><td>Second Class</td><td>1945</td><td>19.4616770062037222</td></tr><tr><td>Same Day</td><td>543</td><td>5.4332599559735842</td></tr><tr><td>First Class</td><td>1538</td><td>15.3892335401240744</td></tr></table>"
                    },
                    "metadata": {}
                }
            ],
            "execution_count": 29
        },
        {
            "cell_type": "code",
            "source": [
                ""
            ],
            "metadata": {
                "language": "sql",
                "azdata_cell_guid": "8d4111a5-7b28-46a8-96bc-d0e4d7e939aa"
            },
            "outputs": [
                {
                    "output_type": "display_data",
                    "data": {
                        "text/html": "(4 row(s) affected)"
                    },
                    "metadata": {}
                },
                {
                    "output_type": "display_data",
                    "data": {
                        "text/html": "Total execution time: 00:00:00.004"
                    },
                    "metadata": {}
                },
                {
                    "output_type": "execute_result",
                    "execution_count": 30,
                    "data": {
                        "application/vnd.dataresource+json": {
                            "schema": {
                                "fields": [
                                    {
                                        "name": "ship_mode"
                                    },
                                    {
                                        "name": "numberoforders"
                                    },
                                    {
                                        "name": "orderpercentage"
                                    }
                                ]
                            },
                            "data": [
                                {
                                    "ship_mode": "Standard Class",
                                    "numberoforders": "5968",
                                    "orderpercentage": "59.7158294976986192"
                                },
                                {
                                    "ship_mode": "Second Class",
                                    "numberoforders": "1945",
                                    "orderpercentage": "19.4616770062037222"
                                },
                                {
                                    "ship_mode": "Same Day",
                                    "numberoforders": "543",
                                    "orderpercentage": "5.4332599559735842"
                                },
                                {
                                    "ship_mode": "First Class",
                                    "numberoforders": "1538",
                                    "orderpercentage": "15.3892335401240744"
                                }
                            ]
                        },
                        "text/html": "<table><tr><th>ship_mode</th><th>numberoforders</th><th>orderpercentage</th></tr><tr><td>Standard Class</td><td>5968</td><td>59.7158294976986192</td></tr><tr><td>Second Class</td><td>1945</td><td>19.4616770062037222</td></tr><tr><td>Same Day</td><td>543</td><td>5.4332599559735842</td></tr><tr><td>First Class</td><td>1538</td><td>15.3892335401240744</td></tr></table>"
                    },
                    "metadata": {
                        "azdata_chartOptions": {
                            "type": "pie",
                            "dataDirection": "vertical",
                            "columnsAsLabels": true,
                            "labelFirstColumn": false,
                            "legendPosition": "right"
                        }
                    }
                }
            ],
            "execution_count": 30
        },
        {
            "cell_type": "markdown",
            "source": [
                "<span style=\"color: rgba(0, 0, 0, 0.7); font-family: Inter, sans-serif; background-color: rgb(255, 255, 255);\">60% of all orders had been shipped through standard class mode. 20% was shipped through second class , and 15% was shipped through first class mode. 5% of all orders was shippied through same day mode.</span>"
            ],
            "metadata": {
                "azdata_cell_guid": "8e583038-732c-4863-a5bd-d1a9770a372e"
            },
            "attachments": {}
        },
        {
            "cell_type": "markdown",
            "source": [
                "# Conclusion\n",
                "\n",
                "**Sales Performance:**\n",
                "\n",
                "The company witnessed consistent year-over-year sales growth, notably in 2013, showcasing the highest increase and 2012 displaying the slowest.\n",
                "\n",
                "Seasonal trends were noticeable, with sales peaks observed in November, December, and September. Variability was pronounced in March, September, and October.\n",
                "\n",
                "  \n",
                "\n",
                "**Top Selling Categories:**\n",
                "\n",
                "Phones, chairs, and storage items emerged as the leading products within their respective categories.\n",
                "\n",
                "Conversely, copiers, furnishings, and fasteners displayed lower sales figures.\n",
                "\n",
                "  \n",
                "\n",
                "**Regional Sales Analysis:**\n",
                "\n",
                "The West and East regions exhibited higher sales volumes across most categories, while the South consistently reported lower sales.\n",
                "\n",
                "In 2012, the Central region showed notable growth, setting it apart from other regions during that year. The West region notably displayed the fastest average annual sales growth.\n",
                "\n",
                "  \n",
                "\n",
                "**Profitability Insights:**\n",
                "\n",
                "Despite fluctuating profitability, the company maintained a consistent profit margin of 10% or higher between 2011 and 2014.\n",
                "\n",
                "Sub-categories such as chairs, phones, and storage products showed relatively lower profitability.\n",
                "\n",
                "Conversely, furnishings, copiers, and labels stood out as the most profitable sub-categories.\n",
                "\n",
                "Discounts offered significantly impacted profit margins, especially affecting tables and office supplies.\n",
                "\n",
                "  \n",
                "\n",
                "**Concluding Remarks:**\n",
                "\n",
                "**While the company exhibited commendable sales growth and sustained profitability, variations in sales due to seasonality and regional disparities played pivotal roles in its overall performance.**\n",
                "\n",
                "**Profit margins were notably affected by the strategic use of discounts, underscoring their influence on overall profitability.**"
            ],
            "metadata": {
                "azdata_cell_guid": "627b4dd7-60ac-4543-a41b-25c041416e06"
            },
            "attachments": {}
        }
    ]
}